{
 "cells": [
  {
   "cell_type": "markdown",
   "metadata": {},
   "source": [
    "# CityBikes"
   ]
  },
  {
   "cell_type": "markdown",
   "metadata": {},
   "source": [
    "Send a request to CityBikes for the city of your choice. "
   ]
  },
  {
   "cell_type": "code",
   "execution_count": 2,
   "metadata": {},
   "outputs": [],
   "source": [
    "## Import required libraries\n",
    "import requests\n",
    "import pandas as pd\n",
    "from IPython.display import JSON"
   ]
  },
  {
   "cell_type": "code",
   "execution_count": 3,
   "metadata": {},
   "outputs": [
    {
     "data": {
      "application/json": {
       "networks": [
        {
         "company": [
          "ЗАО «СитиБайк»"
         ],
         "href": "/v2/networks/velobike-moscow",
         "id": "velobike-moscow",
         "location": {
          "city": "Moscow",
          "country": "RU",
          "latitude": 55.75,
          "longitude": 37.616667
         },
         "name": "Velobike"
        },
        {
         "company": [
          "Urban Infrastructure Partner"
         ],
         "href": "/v2/networks/baerum-bysykkel",
         "id": "baerum-bysykkel",
         "location": {
          "city": "Bærum",
          "country": "NO",
          "latitude": 59.89455,
          "longitude": 10.546343
         },
         "name": "Bysykkel"
        },
        {
         "company": [
          "Comunicare S.r.l."
         ],
         "href": "/v2/networks/bicincitta-siena",
         "id": "bicincitta-siena",
         "location": {
          "city": "Siena",
          "country": "IT",
          "latitude": 43.3186,
          "longitude": 11.3306
         },
         "name": "Bicincittà",
         "source": "https://www.bicincitta.com/frmLeStazioni.aspx?ID=202"
        },
        {
         "company": [
          "Cyclopolis Systems"
         ],
         "href": "/v2/networks/cyclopolis-maroussi",
         "id": "cyclopolis-maroussi",
         "location": {
          "city": "Maroussi",
          "country": "GR",
          "latitude": 38.0568722388,
          "longitude": 23.8083299536
         },
         "name": "Cyclopolis"
        },
        {
         "company": [
          "Groundwork",
          "Slough Borough Council",
          "ITS"
         ],
         "href": "/v2/networks/cycle-hire-slough",
         "id": "cycle-hire-slough",
         "location": {
          "city": "Slough",
          "country": "GB",
          "latitude": 51.51135,
          "longitude": -0.591562
         },
         "name": "Cycle Hire"
        },
        {
         "company": [
          "Cyclopolis Systems"
         ],
         "href": "/v2/networks/cyclopolis-nafplio",
         "id": "cyclopolis-nafplio",
         "location": {
          "city": "Nafplio",
          "country": "GR",
          "latitude": 37.5639397319,
          "longitude": 22.8093402872
         },
         "name": "Cyclopolis"
        },
        {
         "company": [
          "Comunicare S.r.l."
         ],
         "href": "/v2/networks/bicincitta-parco-dei-colli-di-bergamo",
         "id": "bicincitta-parco-dei-colli-di-bergamo",
         "location": {
          "city": "Parco dei Colli di Bergamo",
          "country": "IT",
          "latitude": 45.72295637032245,
          "longitude": 9.649230073016383
         },
         "name": "Bicincittà",
         "source": "https://www.bicincitta.com/frmLeStazioni.aspx?ID=203"
        },
        {
         "company": [
          "Cyclopolis Systems"
         ],
         "href": "/v2/networks/cyclopolis-aigialeia",
         "id": "cyclopolis-aigialeia",
         "location": {
          "city": "Aigialeia",
          "country": "GR",
          "latitude": 38.2511101325,
          "longitude": 22.0821570196
         },
         "name": "Cyclopolis"
        },
        {
         "company": [
          "Cyclopolis Systems"
         ],
         "href": "/v2/networks/cyclopolis-marathon",
         "id": "cyclopolis-marathon",
         "location": {
          "city": "Marathon",
          "country": "GR",
          "latitude": 38.0855680022,
          "longitude": 23.9776389963
         },
         "name": "Cyclopolis"
        },
        {
         "company": [
          "Comunicare S.r.l."
         ],
         "href": "/v2/networks/bicincitta-mantova",
         "id": "bicincitta-mantova",
         "location": {
          "city": "Mantova",
          "country": "IT",
          "latitude": 45.15866370764634,
          "longitude": 10.783718973016335
         },
         "name": "Bicincittà",
         "source": "https://www.bicincitta.com/frmLeStazioni.aspx?ID=204"
        },
        {
         "company": [
          "Cyclopolis Systems"
         ],
         "href": "/v2/networks/cyclopolis-neasmyrni",
         "id": "cyclopolis-neasmyrni",
         "location": {
          "city": "Νea Smyrni",
          "country": "GR",
          "latitude": 37.9381,
          "longitude": 23.7126
         },
         "name": "Cyclopolis"
        },
        {
         "company": [
          "Cyclopolis Systems"
         ],
         "href": "/v2/networks/cyclopolis-moschatotavros",
         "id": "cyclopolis-moschatotavros",
         "location": {
          "city": "Μoschato-Tavros",
          "country": "GR",
          "latitude": 37.9538991434,
          "longitude": 23.6824746661
         },
         "name": "Cyclopolis"
        },
        {
         "company": [
          "Cyclopolis Systems"
         ],
         "href": "/v2/networks/cyclopolis-arxaiaolympia",
         "id": "cyclopolis-arxaiaolympia",
         "location": {
          "city": "Αrxaia Olympia",
          "country": "GR",
          "latitude": 37.6419700934,
          "longitude": 21.6247265179
         },
         "name": "Cyclopolis"
        },
        {
         "company": [
          "Cyclopolis Systems"
         ],
         "href": "/v2/networks/cyclopolis-kiato",
         "id": "cyclopolis-kiato",
         "location": {
          "city": "Kιato",
          "country": "GR",
          "latitude": 38.0132674508,
          "longitude": 22.7493819902
         },
         "name": "Cyclopolis"
        },
        {
         "company": [
          "Comunicare S.r.l."
         ],
         "href": "/v2/networks/bicincitta-assemini",
         "id": "bicincitta-assemini",
         "location": {
          "city": "Assemini",
          "country": "IT",
          "latitude": 39.28956306007679,
          "longitude": 9.006601555294765
         },
         "name": "Bicincittà",
         "source": "https://www.bicincitta.com/frmLeStazioni.aspx?ID=205"
        },
        {
         "company": [
          "Cyclopolis Systems"
         ],
         "href": "/v2/networks/cyclopolis-rhodes",
         "id": "cyclopolis-rhodes",
         "location": {
          "city": "Rhodes",
          "country": "GR",
          "latitude": 36.4509118,
          "longitude": 28.2246966
         },
         "name": "Cyclopolis"
        },
        {
         "company": [
          "Cyclopolis Systems"
         ],
         "href": "/v2/networks/cyclopolis-florina",
         "id": "cyclopolis-florina",
         "location": {
          "city": "Florina",
          "country": "GR",
          "latitude": 40.8016111,
          "longitude": 21.4245222
         },
         "name": "Cyclopolis"
        },
        {
         "company": [
          "Comunicare S.r.l."
         ],
         "href": "/v2/networks/bicincitta-tortoli",
         "id": "bicincitta-tortoli",
         "location": {
          "city": "Tortolì",
          "country": "IT",
          "latitude": 39.92664489852196,
          "longitude": 9.654953570777934
         },
         "name": "Bicincittà",
         "source": "https://www.bicincitta.com/frmLeStazioni.aspx?ID=206"
        },
        {
         "company": [
          "Cyclopolis Systems"
         ],
         "href": "/v2/networks/cyclopolis-limnos",
         "id": "cyclopolis-limnos",
         "location": {
          "city": "Limnos",
          "country": "GR",
          "latitude": 39.8747861,
          "longitude": 25.0586722
         },
         "name": "Cyclopolis"
        },
        {
         "company": [
          "Comunicare S.r.l."
         ],
         "href": "/v2/networks/bicincitta-gaeta",
         "id": "bicincitta-gaeta",
         "location": {
          "city": "Gaeta",
          "country": "IT",
          "latitude": 41.209620965538036,
          "longitude": 13.584335125656139
         },
         "name": "Bicincittà",
         "source": "https://www.bicincitta.com/frmLeStazioni.aspx?ID=207"
        },
        {
         "company": [
          "Comunicare S.r.l."
         ],
         "href": "/v2/networks/bicincitta-borgarello",
         "id": "bicincitta-borgarello",
         "location": {
          "city": "Borgarello",
          "country": "IT",
          "latitude": 45.23963753440171,
          "longitude": 9.136150475640875
         },
         "name": "Bicincittà",
         "source": "https://www.bicincitta.com/frmLeStazioni.aspx?ID=208"
        },
        {
         "company": [
          "Comunicare S.r.l."
         ],
         "href": "/v2/networks/bicincitta-pizzighettone-formigara",
         "id": "bicincitta-pizzighettone-formigara",
         "location": {
          "city": "Pizzighettone e Formigara",
          "country": "IT",
          "latitude": 45.186748819167434,
          "longitude": 9.778087948479424
         },
         "name": "Bicincittà",
         "source": "https://www.bicincitta.com/frmLeStazioni.aspx?ID=209"
        },
        {
         "company": [
          "The National Transport Authority"
         ],
         "href": "/v2/networks/cork",
         "id": "cork",
         "location": {
          "city": "Cork",
          "country": "IE",
          "latitude": 51.893604,
          "longitude": -8.494174
         },
         "name": "Coca-Cola Zero® Bikes"
        },
        {
         "company": [
          "The National Transport Authority"
         ],
         "href": "/v2/networks/limerick",
         "id": "limerick",
         "location": {
          "city": "Limerick",
          "country": "IE",
          "latitude": 52.668746,
          "longitude": -8.627809
         },
         "name": "Coca-Cola Zero® Bikes"
        },
        {
         "company": [
          "BTS Group Holdings"
         ],
         "href": "/v2/networks/punpunbikeshare",
         "id": "punpunbikeshare",
         "location": {
          "city": "Bangkok",
          "country": "TH",
          "latitude": 13.75,
          "longitude": 100.516667
         },
         "name": "Pun Pun Bike Share"
        },
        {
         "company": [
          "The National Transport Authority"
         ],
         "href": "/v2/networks/galway",
         "id": "galway",
         "location": {
          "city": "Galway",
          "country": "IE",
          "latitude": 53.2783491544,
          "longitude": -9.05069143207
         },
         "name": "Coca-Cola Zero® Bikes"
        },
        {
         "company": [
          "Bike U Sp. z o.o."
         ],
         "href": "/v2/networks/bbbike",
         "id": "bbbike",
         "location": {
          "city": "Bielsko-Biała",
          "country": "PL",
          "latitude": 49.8225,
          "longitude": 19.044444
         },
         "name": "BBBike"
        },
        {
         "company": [
          "Comunicare S.r.l."
         ],
         "href": "/v2/networks/bicincitta-montecatini-terme",
         "id": "bicincitta-montecatini-terme",
         "location": {
          "city": "Montecatini Terme",
          "country": "IT",
          "latitude": 43.88362791665083,
          "longitude": 10.764385656591799
         },
         "name": "Bicincittà",
         "source": "https://www.bicincitta.com/frmLeStazioni.aspx?ID=210"
        },
        {
         "company": [
          "Bike U Sp. z o.o."
         ],
         "href": "/v2/networks/bikeu-bra",
         "id": "bikeu-bra",
         "location": {
          "city": "Bydgoszcz",
          "country": "PL",
          "latitude": 53.12193,
          "longitude": 18.00038
         },
         "name": "Bydgoski rower aglomeracyjny"
        },
        {
         "company": [
          "PBSC",
          "Serco Group plc"
         ],
         "href": "/v2/networks/santander-cycles",
         "id": "santander-cycles",
         "location": {
          "city": "London",
          "country": "GB",
          "latitude": 51.51121389999999,
          "longitude": -0.1198244
         },
         "name": "Santander Cycles"
        },
        {
         "company": [
          "PBSC",
          "Alta Bicycle Share, Inc"
         ],
         "gbfs_href": "https://asp.publicbikesystem.net/ube/gbfs/v1/gbfs.json",
         "href": "/v2/networks/we-cycle",
         "id": "we-cycle",
         "location": {
          "city": "Aspen, CO",
          "country": "US",
          "latitude": 39.194951,
          "longitude": -106.837002
         },
         "name": "WE-cycle"
        },
        {
         "company": [
          "Comunicare S.r.l."
         ],
         "href": "/v2/networks/bicincitta-carrara",
         "id": "bicincitta-carrara",
         "location": {
          "city": "Carrara",
          "country": "IT",
          "latitude": 44.07731805550891,
          "longitude": 10.097172450401331
         },
         "name": "Bicincittà",
         "source": "https://www.bicincitta.com/frmLeStazioni.aspx?ID=211"
        },
        {
         "company": [
          "PBSC",
          "Alta Bicycle Share, Inc"
         ],
         "href": "/v2/networks/wowcycle-reykjavik",
         "id": "wowcycle-reykjavik",
         "location": {
          "city": "Reykjavík",
          "country": "IS",
          "latitude": 64.128288,
          "longitude": -21.827774
         },
         "name": "WOW Citybike"
        },
        {
         "company": [
          "Transparenzportal Hamburg"
         ],
         "href": "/v2/networks/stadtrad-hamburg",
         "id": "stadtrad-hamburg",
         "license": {
          "name": "Data licence Germany – attribution – version 2.0",
          "url": "https://www.govdata.de/dl-de/by-2-0"
         },
         "location": {
          "city": "Hamburg",
          "country": "DE",
          "latitude": 53.57532,
          "longitude": 10.01534
         },
         "name": "StadtRAD Hamburg'"
        },
        {
         "company": [
          "Comunicare S.r.l."
         ],
         "href": "/v2/networks/tigullionbike",
         "id": "tigullionbike",
         "location": {
          "city": "Sestri Levante - Lavagna",
          "country": "IT",
          "latitude": 44.272554,
          "longitude": 9.395714
         },
         "name": "Tigullionbike",
         "source": "https://www.bicincitta.com/frmLeStazioni.aspx?ID=80"
        },
        {
         "company": [
          "Comunicare S.r.l."
         ],
         "href": "/v2/networks/arbike",
         "id": "arbike",
         "location": {
          "city": "Arezzo",
          "country": "IT",
          "latitude": 43.473333,
          "longitude": 11.87
         },
         "name": "ARbike",
         "source": "https://www.bicincitta.com/frmLeStazioni.aspx?ID=84"
        },
        {
         "company": [
          "Velobike.kz, LLP",
          "Smoove"
         ],
         "href": "/v2/networks/velobike",
         "id": "velobike",
         "location": {
          "city": "Astana",
          "country": "KZ",
          "latitude": 51.166667,
          "longitude": 71.416667
         },
         "name": "Velobike"
        },
        {
         "company": null,
         "ebikes": true,
         "gbfs_href": "https://velib-metropole-opendata.smoove.pro/opendata/Velib_Metropole/gbfs.json",
         "href": "/v2/networks/velib",
         "id": "velib",
         "license": {
          "name": "OPEN LICENCE 2.0",
          "url": "etalab.gouv.fr/wp-content/uploads/2018/11/open-licence.pdf"
         },
         "location": {
          "city": "Paris",
          "country": "FR",
          "latitude": 48.856614,
          "longitude": 2.3522219
         },
         "name": "Vélib' Métropole"
        },
        {
         "company": [
          "Comunicare S.r.l."
         ],
         "href": "/v2/networks/ascoli-piceno",
         "id": "ascoli-piceno",
         "location": {
          "city": "Ascoli Piceno",
          "country": "IT",
          "latitude": 42.85,
          "longitude": 13.583333
         },
         "name": "Ascoli Piceno",
         "source": "https://www.bicincitta.com/frmLeStazioni.aspx?ID=73"
        },
        {
         "company": [
          "Comunicare S.r.l."
         ],
         "href": "/v2/networks/bigi",
         "id": "bigi",
         "location": {
          "city": "Bergamo",
          "country": "IT",
          "latitude": 45.695,
          "longitude": 9.67
         },
         "name": "BiGi",
         "source": "https://www.bicincitta.com/frmLeStazioni.aspx?ID=133"
        },
        {
         "company": [
          "ICNITA S.L."
         ],
         "href": "/v2/networks/girocleta",
         "id": "girocleta",
         "location": {
          "city": "Girona",
          "country": "ES",
          "latitude": 41.9794005,
          "longitude": 2.8214264
         },
         "name": "Girocleta"
        },
        {
         "company": [
          "Comunicare S.r.l."
         ],
         "href": "/v2/networks/alba",
         "id": "alba",
         "location": {
          "city": "Alba",
          "country": "IT",
          "latitude": 44.716667,
          "longitude": 8.083333
         },
         "name": "Alba",
         "source": "https://www.bicincitta.com/frmLeStazioni.aspx?ID=139"
        },
        {
         "company": [
          "ClearChannel"
         ],
         "ebikes": true,
         "href": "/v2/networks/bikemi",
         "id": "bikemi",
         "location": {
          "city": "Milano",
          "country": "IT",
          "latitude": 45.4654542,
          "longitude": 9.186516
         },
         "name": "BikeMi"
        },
        {
         "company": [
          "Comunicare S.r.l."
         ],
         "href": "/v2/networks/biella",
         "id": "biella",
         "location": {
          "city": "Biella",
          "country": "IT",
          "latitude": 45.5775,
          "longitude": 8.051111
         },
         "name": "Biella",
         "source": "https://www.bicincitta.com/frmLeStazioni.aspx?ID=112"
        },
        {
         "company": [
          "Comunicare S.r.l."
         ],
         "href": "/v2/networks/chivasso",
         "id": "chivasso",
         "location": {
          "city": "Chivasso",
          "country": "IT",
          "latitude": 45.189765,
          "longitude": 7.888935
         },
         "name": "Chivasso",
         "source": "https://www.bicincitta.com/frmLeStazioni.aspx?ID=201"
        },
        {
         "company": [
          "ClearChannel"
         ],
         "href": "/v2/networks/bizi",
         "id": "bizi",
         "location": {
          "city": "Zaragoza",
          "country": "ES",
          "latitude": 41.6487908,
          "longitude": -0.8895811
         },
         "name": "Bizi"
        },
        {
         "company": null,
         "gbfs_href": "https://gbfs.mex.lyftbikes.com/gbfs/gbfs.json",
         "href": "/v2/networks/ecobici",
         "id": "ecobici",
         "location": {
          "city": "Cd de México",
          "country": "MX",
          "latitude": 19.4326077,
          "longitude": -99.133208
         },
         "name": "EcoBici"
        },
        {
         "company": [
          "Comunicare S.r.l."
         ],
         "href": "/v2/networks/bici-in-busto",
         "id": "bici-in-busto",
         "location": {
          "city": "Busto Arsizio",
          "country": "IT",
          "latitude": 45.610555,
          "longitude": 8.852062
         },
         "name": "Bici in Busto",
         "source": "https://www.bicincitta.com/frmLeStazioni.aspx?ID=66"
        },
        {
         "company": [
          "ClearChannel"
         ],
         "href": "/v2/networks/velo-antwerpen",
         "id": "velo-antwerpen",
         "location": {
          "city": "Antwerpen",
          "country": "BE",
          "latitude": 51.216667,
          "longitude": 4.4
         },
         "name": "Velo Antwerpen"
        },
        {
         "company": [
          "Comunicare S.r.l."
         ],
         "href": "/v2/networks/cuneo",
         "id": "cuneo",
         "location": {
          "city": "Cuneo",
          "country": "IT",
          "latitude": 44.384238,
          "longitude": 7.541428
         },
         "name": "Cuneo",
         "source": "https://www.bicincitta.com/frmLeStazioni.aspx?ID=39"
        },
        {
         "company": [
          "ClearChannel"
         ],
         "href": "/v2/networks/malmobybike",
         "id": "malmobybike",
         "location": {
          "city": "Malmö",
          "country": "SE",
          "latitude": 55.605,
          "longitude": 13.0038
         },
         "name": "Malmö by bike"
        },
        {
         "company": [
          "ClearChannel"
         ],
         "href": "/v2/networks/bicilascondes",
         "id": "bicilascondes",
         "location": {
          "city": "Las Condes",
          "country": "CL",
          "latitude": -33.401944,
          "longitude": -70.55
         },
         "name": "Bici las Condes"
        },
        {
         "company": "Empresa Municipal de Transportes de Madrid, S.A.",
         "href": "/v2/networks/bicimad",
         "id": "bicimad",
         "location": {
          "city": "Madrid",
          "country": "ES",
          "latitude": 40.4168,
          "longitude": -3.7038
         },
         "name": "BiciMAD"
        },
        {
         "company": [
          "Brainbox Technology",
          "Smoove SAS"
         ],
         "href": "/v2/networks/easybike-didymoteicho",
         "id": "easybike-didymoteicho",
         "location": {
          "city": "Didymoteicho",
          "country": "GR",
          "latitude": 41.3502539849,
          "longitude": 26.4972960949
         },
         "name": "EasyBike"
        },
        {
         "company": [
          "Comunicare S.r.l."
         ],
         "href": "/v2/networks/free-bike-sharing",
         "id": "free-bike-sharing",
         "location": {
          "city": "Frosinone",
          "country": "IT",
          "latitude": 41.645081,
          "longitude": 13.342123
         },
         "name": "FRee Bike sharing",
         "source": "https://www.bicincitta.com/frmLeStazioni.aspx?ID=53"
        },
        {
         "company": [
          "Brainbox Technology",
          "Smoove SAS"
         ],
         "href": "/v2/networks/easybike-glyfada",
         "id": "easybike-glyfada",
         "location": {
          "city": "Glyfada",
          "country": "GR",
          "latitude": 37.8715809825,
          "longitude": 23.7355544376
         },
         "name": "EasyBike"
        },
        {
         "company": [
          "Brainbox Technology",
          "Smoove SAS"
         ],
         "href": "/v2/networks/easybike-igoumenitsa",
         "id": "easybike-igoumenitsa",
         "location": {
          "city": "Igoumenitsa",
          "country": "GR",
          "latitude": 39.5005770633,
          "longitude": 20.2635206985
         },
         "name": "EasyBike"
        },
        {
         "company": [
          "Comunicare S.r.l."
         ],
         "href": "/v2/networks/lecce",
         "id": "lecce",
         "location": {
          "city": "Lecce",
          "country": "IT",
          "latitude": 40.35040350928062,
          "longitude": 18.177824020385742
         },
         "name": "lecce",
         "source": "https://www.bicincitta.com/frmLeStazioni.aspx?ID=159"
        },
        {
         "company": [
          "Brainbox Technology",
          "Smoove SAS"
         ],
         "href": "/v2/networks/easybike-ioannina",
         "id": "easybike-ioannina",
         "location": {
          "city": "Ioannina",
          "country": "GR",
          "latitude": 39.6639818,
          "longitude": 20.8522784
         },
         "name": "EasyBike"
        },
        {
         "company": [
          "Brainbox Technology",
          "Smoove SAS"
         ],
         "href": "/v2/networks/easybike-karditsa",
         "id": "easybike-karditsa",
         "location": {
          "city": "Karditsa",
          "country": "GR",
          "latitude": 39.3634604,
          "longitude": 21.9211192
         },
         "name": "EasyBike"
        },
        {
         "company": [
          "Comunicare S.r.l."
         ],
         "href": "/v2/networks/manerba-in-bici",
         "id": "manerba-in-bici",
         "location": {
          "city": "Manerba del Garda",
          "country": "IT",
          "latitude": 45.561179,
          "longitude": 10.559406
         },
         "name": "Manerba in Bici",
         "source": "https://www.bicincitta.com/frmLeStazioni.aspx?ID=102"
        },
        {
         "company": [
          "Brainbox Technology",
          "Smoove SAS"
         ],
         "href": "/v2/networks/easybike-kavala",
         "id": "easybike-kavala",
         "location": {
          "city": "Kavala",
          "country": "GR",
          "latitude": 40.9369068,
          "longitude": 24.4122164
         },
         "name": "EasyBike"
        },
        {
         "company": [
          "Brainbox Technology",
          "Smoove SAS"
         ],
         "href": "/v2/networks/easybike-kinouria",
         "id": "easybike-kinouria",
         "location": {
          "city": "Kinouria",
          "country": "GR",
          "latitude": 37.1476704305,
          "longitude": 22.8933729935
         },
         "name": "EasyBike"
        },
        {
         "company": [
          "Brainbox Technology",
          "Smoove SAS"
         ],
         "href": "/v2/networks/easybike-komotini",
         "id": "easybike-komotini",
         "location": {
          "city": "Komotini",
          "country": "GR",
          "latitude": 41.117833,
          "longitude": 25.4041307
         },
         "name": "EasyBike"
        },
        {
         "company": [
          "Brainbox Technology",
          "Smoove SAS"
         ],
         "href": "/v2/networks/easybike-patra",
         "id": "easybike-patra",
         "location": {
          "city": "Patra",
          "country": "GR",
          "latitude": 38.2410966371,
          "longitude": 21.7259683418
         },
         "name": "EasyBike"
        },
        {
         "company": [
          "Comunicare S.r.l."
         ],
         "href": "/v2/networks/mar-e-bici",
         "id": "mar-e-bici",
         "location": {
          "city": "Marciana Marina",
          "country": "IT",
          "latitude": 42.805855,
          "longitude": 10.196514
         },
         "name": "Mar e Bici",
         "source": "https://www.bicincitta.com/frmLeStazioni.aspx?ID=90"
        },
        {
         "company": [
          "Brainbox Technology",
          "Smoove SAS"
         ],
         "href": "/v2/networks/easybike-rethymno",
         "id": "easybike-rethymno",
         "location": {
          "city": "Rethymno",
          "country": "GR",
          "latitude": 35.3667571777,
          "longitude": 24.4832845736
         },
         "name": "EasyBike"
        },
        {
         "company": [
          "Brainbox Technology",
          "Smoove SAS"
         ],
         "href": "/v2/networks/easybike-samos",
         "id": "easybike-samos",
         "location": {
          "city": "Samos",
          "country": "GR",
          "latitude": 37.754065919,
          "longitude": 26.9787850189
         },
         "name": "EasyBike"
        },
        {
         "company": [
          "Comunicare S.r.l."
         ],
         "href": "/v2/networks/novara",
         "id": "novara",
         "location": {
          "city": "Novara",
          "country": "IT",
          "latitude": 45.44574,
          "longitude": 8.622165
         },
         "name": "Novara",
         "source": "https://www.bicincitta.com/frmLeStazioni.aspx?ID=131"
        },
        {
         "company": [
          "Brainbox Technology",
          "Smoove SAS"
         ],
         "href": "/v2/networks/easybike-nicosia",
         "id": "easybike-nicosia",
         "location": {
          "city": "Nicosia",
          "country": "CY",
          "latitude": 35.1739302,
          "longitude": 33.364726
         },
         "name": "EasyBike"
        },
        {
         "company": [
          "Brainbox Technology",
          "Smoove SAS"
         ],
         "href": "/v2/networks/easybike-mani",
         "id": "easybike-mani",
         "location": {
          "city": "Mani",
          "country": "GR",
          "latitude": 41.4097472,
          "longitude": 26.4024952
         },
         "name": "EasyBike"
        },
        {
         "company": [
          "Brainbox Technology",
          "Smoove SAS"
         ],
         "href": "/v2/networks/easybike-irakleio",
         "id": "easybike-irakleio",
         "location": {
          "city": "Irakleio",
          "country": "GR",
          "latitude": 35.338735,
          "longitude": 25.144213
         },
         "name": "EasyBike"
        },
        {
         "company": [
          "Brainbox Technology",
          "Smoove SAS"
         ],
         "href": "/v2/networks/thessbike",
         "id": "thessbike",
         "location": {
          "city": "Thessaloniki",
          "country": "GR",
          "latitude": 40.6403167,
          "longitude": 22.9352716
         },
         "name": "ThessBike"
        },
        {
         "company": [
          "Brainbox Technology",
          "Smoove SAS"
         ],
         "href": "/v2/networks/athens-bikes",
         "id": "athens-bikes",
         "location": {
          "city": "Athens",
          "country": "GR",
          "latitude": 37.9838,
          "longitude": 23.7275
         },
         "name": "AthensBikes"
        },
        {
         "company": [
          "Comunicare S.r.l."
         ],
         "href": "/v2/networks/goodbike",
         "id": "goodbike",
         "location": {
          "city": "Padova",
          "country": "IT",
          "latitude": 45.4064349,
          "longitude": 11.8767611
         },
         "name": "GoodBike",
         "source": "http://www.goodbikepadova.it/frmLeStazioni.aspx?ID=59"
        },
        {
         "company": [
          "PegBike"
         ],
         "href": "/v2/networks/ciclosampa",
         "id": "ciclosampa",
         "location": {
          "city": "São Paulo",
          "country": "BR",
          "latitude": -23.55,
          "longitude": -46.6333
         },
         "name": "CicloSampa"
        },
        {
         "company": null,
         "gbfs_href": "https://acoruna.publicbikesystem.net/customer/gbfs/v2/gbfs.json",
         "href": "/v2/networks/bicicorunha",
         "id": "bicicorunha",
         "location": {
          "city": "A Coruña",
          "country": "ES",
          "latitude": 43.3623,
          "longitude": -8.4115
         },
         "name": "Bicicoruña"
        },
        {
         "company": [
          "Tuimil S.A."
         ],
         "href": "/v2/networks/bici-ferrol-terra",
         "id": "bici-ferrol-terra",
         "location": {
          "city": "Ferrol - Narón",
          "country": "ES",
          "latitude": 43.4896,
          "longitude": -8.2193
         },
         "name": "BiciFerrolTerra"
        },
        {
         "company": [
          "Social Bicycles Inc."
         ],
         "gbfs_href": "http://curtinbikeshare.com/opendata/gbfs.json",
         "href": "/v2/networks/curtin-bike-share",
         "id": "curtin-bike-share",
         "location": {
          "city": "Curtin University, Perth, WA",
          "country": "AU",
          "latitude": -32.0034172153127,
          "longitude": 115.89431270956993
         },
         "name": "Curtin Bike Share"
        },
        {
         "company": [
          "Social Bicycles Inc."
         ],
         "gbfs_href": "https://monashbikeshare.com/opendata/gbfs.json",
         "href": "/v2/networks/monash-bikeshare",
         "id": "monash-bikeshare",
         "location": {
          "city": "Melbourne, AU",
          "country": "AU",
          "latitude": -37.91238410208696,
          "longitude": 145.1362281292677
         },
         "name": "Monash BikeShare"
        },
        {
         "company": [
          "Comunicare S.r.l."
         ],
         "href": "/v2/networks/mimuovofe",
         "id": "mimuovofe",
         "location": {
          "city": "Ferrara",
          "country": "IT",
          "latitude": 44.8350382,
          "longitude": 11.6240562
         },
         "name": "Mi Muovo in Bici",
         "source": "http://www.mimuovoinbici.it/frmLeStazioni.aspx?ID=142"
        },
        {
         "company": [
          "Motivate International, Inc.",
          "PBSC Urban Solutions",
          "BIXI Montréal"
         ],
         "ebikes": true,
         "gbfs_href": "https://gbfs.velobixi.com/gbfs/gbfs.json",
         "href": "/v2/networks/bixi-montreal",
         "id": "bixi-montreal",
         "location": {
          "city": "Montréal, QC",
          "country": "CA",
          "latitude": 45.508693,
          "longitude": -73.553928
         },
         "name": "Bixi"
        },
        {
         "company": [
          "Comunicare S.r.l."
         ],
         "href": "/v2/networks/parma",
         "id": "parma",
         "location": {
          "city": "Parma",
          "country": "IT",
          "latitude": 44.801485,
          "longitude": 10.3279036
         },
         "name": "Mi Muovo in Bici",
         "source": "http://www.mimuovoinbici.it/frmLeStazioni.aspx?ID=58"
        },
        {
         "company": [
          "Motivate International, Inc.",
          "PBSC Urban Solutions"
         ],
         "gbfs_href": "https://tor.publicbikesystem.net/ube/gbfs/v1/",
         "href": "/v2/networks/bixi-toronto",
         "id": "bixi-toronto",
         "location": {
          "city": "Toronto, ON",
          "country": "CA",
          "latitude": 43.653226,
          "longitude": -79.3831843
         },
         "name": "Bike Share Toronto"
        },
        {
         "company": [
          "Social Bicycles Inc."
         ],
         "gbfs_href": "https://hamilton.socialbicycles.com/opendata/gbfs.json",
         "href": "/v2/networks/sobi-hamilton",
         "id": "sobi-hamilton",
         "location": {
          "city": "Hamilton, ON",
          "country": "CA",
          "latitude": 43.25643601915583,
          "longitude": -79.86929655075073
         },
         "name": "SoBi"
        },
        {
         "company": [
          "Clean Energy Coalition",
          "BCycle, LLC"
         ],
         "gbfs_href": "https://gbfs.bcycle.com/bcycle_arborbike/gbfs.json",
         "href": "/v2/networks/arborbike",
         "id": "arborbike",
         "location": {
          "city": "Ann Arbor, MI",
          "country": "US",
          "latitude": 42.27853,
          "longitude": -83.74536
         },
         "name": "ArborBike"
        },
        {
         "company": [
          "Comunicare S.r.l."
         ],
         "href": "/v2/networks/pavia-in-bici",
         "id": "pavia-in-bici",
         "location": {
          "city": "Pavia",
          "country": "IT",
          "latitude": 45.1847248,
          "longitude": 9.1582069
         },
         "name": "Pavia in bici",
         "source": "https://www.bicincitta.com/frmLeStazioni.aspx?ID=45"
        },
        {
         "company": [
          "Comunicare S.r.l."
         ],
         "href": "/v2/networks/bici-perugia",
         "id": "bici-perugia",
         "location": {
          "city": "Perugia",
          "country": "IT",
          "latitude": 43.1107168,
          "longitude": 12.3908279
         },
         "name": "Bici Perugia",
         "source": "https://www.bicincitta.com/frmLeStazioni.aspx?ID=122"
        },
        {
         "company": [
          "BCycle, LLC"
         ],
         "gbfs_href": "https://gbfs.bcycle.com/bcycle_austin/gbfs.json",
         "href": "/v2/networks/austin",
         "id": "austin",
         "location": {
          "city": "Austin, TX",
          "country": "US",
          "latitude": 30.26408,
          "longitude": -97.74355
         },
         "name": "Austin B-cycle"
        },
        {
         "company": [
          "Motivate International, Inc",
          "PBSC"
         ],
         "ebikes": true,
         "gbfs_href": "https://chat.publicbikesystem.net/ube/gbfs/v1/",
         "href": "/v2/networks/bike-chattanooga",
         "id": "bike-chattanooga",
         "location": {
          "city": "Chattanooga, TN",
          "country": "US",
          "latitude": 35.0456297,
          "longitude": -85.3096801
         },
         "name": "Bike Chattanooga"
        },
        {
         "company": [
          "Comunicare S.r.l."
         ],
         "href": "/v2/networks/piacenza",
         "id": "piacenza",
         "location": {
          "city": "Piacenza",
          "country": "IT",
          "latitude": 45.0473754,
          "longitude": 9.6865813
         },
         "name": "Mi Muovo in Bici",
         "source": "http://www.mimuovoinbici.it/frmLeStazioni.aspx?ID=148"
        },
        {
         "company": [
          "Comunicare S.r.l."
         ],
         "href": "/v2/networks/pinerolo",
         "id": "pinerolo",
         "location": {
          "city": "Pinerolo",
          "country": "IT",
          "latitude": 44.8850256,
          "longitude": 7.3499953
         },
         "name": "Pinerolo",
         "source": "https://www.bicincitta.com/frmLeStazioni.aspx?ID=71"
        },
        {
         "company": [
          "Portland Bureau of Transportation (PBOT)",
          "Lyft Inc."
         ],
         "gbfs_href": "https://gbfs.biketownpdx.com/gbfs/gbfs.json",
         "href": "/v2/networks/biketown",
         "id": "biketown",
         "location": {
          "city": "Portland, OR",
          "country": "US",
          "latitude": 45.52175423291714,
          "longitude": -122.68107935786247
         },
         "name": "BIKETOWN"
        },
        {
         "company": [
          "Comunicare S.r.l."
         ],
         "href": "/v2/networks/reggio-emilia",
         "id": "reggio-emilia",
         "location": {
          "city": "Reggio Emilia",
          "country": "IT",
          "latitude": 44.6989932,
          "longitude": 10.6296859
         },
         "name": "Mi Muovo in Bici",
         "source": "http://www.mimuovoinbici.it/frmLeStazioni.aspx?ID=155"
        },
        {
         "company": [
          "CycleHop, LLC",
          "Social Bicycles Inc."
         ],
         "gbfs_href": "http://britebikes.socialbicycles.com/opendata/gbfs.json",
         "href": "/v2/networks/britebikes",
         "id": "britebikes",
         "location": {
          "city": "San Ramon, CA",
          "country": "US",
          "latitude": 37.759444753878,
          "longitude": -121.955134881881
         },
         "name": "BRiteBikes"
        },
        {
         "company": [
          "ValleyRide",
          "Social Bicycles Inc."
         ],
         "gbfs_href": "http://boise.greenbike.com/opendata/gbfs.json",
         "href": "/v2/networks/boise-greenbike",
         "id": "boise-greenbike",
         "location": {
          "city": "Boise, ID",
          "country": "US",
          "latitude": 43.6153060610528,
          "longitude": -116.201761349309
         },
         "name": "Boise GreenBike"
        },
        {
         "company": [
          "BCycle, LLC"
         ],
         "gbfs_href": "https://gbfs.bcycle.com/bcycle_boulder/gbfs.json",
         "href": "/v2/networks/boulder",
         "id": "boulder",
         "location": {
          "city": "Boulder, CO",
          "country": "US",
          "latitude": 40.00811,
          "longitude": -105.26385
         },
         "name": "Boulder B-cycle"
        },
        {
         "company": [
          "CycleHop, LLC",
          "Social Bicycles Inc."
         ],
         "gbfs_href": "http://santamonicabikeshare.com/opendata/gbfs.json",
         "href": "/v2/networks/breeze-bike-share",
         "id": "breeze-bike-share",
         "location": {
          "city": "Santa Monica, CA",
          "country": "US",
          "latitude": 34.01780925008178,
          "longitude": -118.4965717792511
         },
         "name": "Breeze Bike Share"
        },
        {
         "company": [
          "Comunicare S.r.l."
         ],
         "href": "/v2/networks/rimini",
         "id": "rimini",
         "location": {
          "city": "Rimini",
          "country": "IT",
          "latitude": 44.0570817,
          "longitude": 12.5646003
         },
         "name": "Mi Muovo in Bici",
         "source": "http://www.mimuovoinbici.it/frmLeStazioni.aspx?ID=149"
        },
        {
         "company": [
          "BCycle, LLC"
         ],
         "gbfs_href": "https://gbfs.bcycle.com/bcycle_broward/gbfs.json",
         "href": "/v2/networks/broward",
         "id": "broward",
         "location": {
          "city": "Fort Lauderdale, FL",
          "country": "US",
          "latitude": 26.12026,
          "longitude": -80.14819
         },
         "name": "Broward B-cycle"
        },
        {
         "company": [
          "BCycle, LLC"
         ],
         "gbfs_href": "https://gbfs.bcycle.com/bcycle_bublr/gbfs.json",
         "href": "/v2/networks/bublr-bikes",
         "id": "bublr-bikes",
         "location": {
          "city": "Milwaukee, WI",
          "country": "US",
          "latitude": 43.0369,
          "longitude": -87.89667
         },
         "name": "Bublr Bikes"
        },
        {
         "company": [
          "Shared Mobility Inc.",
          "Social Bicycles Inc."
         ],
         "gbfs_href": "https://reddybikeshare.socialbicycles.com/opendata/gbfs.json",
         "href": "/v2/networks/reddy-bike-share",
         "id": "reddy-bike-share",
         "location": {
          "city": "Buffalo, NY",
          "country": "US",
          "latitude": 42.89373841865211,
          "longitude": -78.8718044757843
         },
         "name": "Reddy Bike Share"
        },
        {
         "company": [
          "Motivate International, Inc.",
          "PBSC Urban Solutions"
         ],
         "ebikes": true,
         "gbfs_href": "https://gbfs.capitalbikeshare.com/gbfs/gbfs.json",
         "href": "/v2/networks/capital-bikeshare",
         "id": "capital-bikeshare",
         "location": {
          "city": "Washington, DC",
          "country": "US",
          "latitude": 38.8967584,
          "longitude": -77.03701629999999
         },
         "name": "Capital BikeShare"
        },
        {
         "company": [
          "BCycle, LLC"
         ],
         "gbfs_href": "https://gbfs.bcycle.com/bcycle_charlotte/gbfs.json",
         "href": "/v2/networks/charlotte",
         "id": "charlotte",
         "location": {
          "city": "Charlotte, NC",
          "country": "US",
          "latitude": 35.22716,
          "longitude": -80.83855
         },
         "name": "Charlotte B-cycle"
        },
        {
         "company": [
          "Comunicare S.r.l."
         ],
         "href": "/v2/networks/saluzzo",
         "id": "saluzzo",
         "location": {
          "city": "Saluzzo",
          "country": "IT",
          "latitude": 44.6445404,
          "longitude": 7.492735499999999
         },
         "name": "Saluzzo",
         "source": "https://www.bicincitta.com/frmLeStazioni.aspx?ID=51"
        },
        {
         "company": [
          "BCycle, LLC"
         ],
         "gbfs_href": "https://gbfs.bcycle.com/bcycle_cincyredbike/gbfs.json",
         "href": "/v2/networks/cincy-red-bike",
         "id": "cincy-red-bike",
         "location": {
          "city": "Cincinnati, OH",
          "country": "US",
          "latitude": 39.10138,
          "longitude": -84.51217
         },
         "name": "Cincy Red Bike"
        },
        {
         "company": [
          "Comunicare S.r.l."
         ],
         "href": "/v2/networks/savigliano",
         "id": "savigliano",
         "location": {
          "city": "Savigliano",
          "country": "IT",
          "latitude": 44.6470327,
          "longitude": 7.662463499999999
         },
         "name": "Savigliano",
         "source": "https://www.bicincitta.com/frmLeStazioni.aspx?ID=52"
        },
        {
         "company": [
          "NYC Bike Share, LLC",
          "Motivate International, Inc.",
          "PBSC Urban Solutions"
         ],
         "ebikes": true,
         "gbfs_href": "https://gbfs.citibikenyc.com/gbfs/gbfs.json",
         "href": "/v2/networks/citi-bike-nyc",
         "id": "citi-bike-nyc",
         "location": {
          "city": "New York, NY",
          "country": "US",
          "latitude": 40.7143528,
          "longitude": -74.00597309999999
         },
         "name": "Citi Bike"
        },
        {
         "company": [
          "CycleHop, LLC"
         ],
         "gbfs_href": "https://gbfs.hopr.city/api/gbfs/8/",
         "href": "/v2/networks/coast-bike-share",
         "id": "coast-bike-share",
         "location": {
          "city": "Tampa, FL",
          "country": "US",
          "latitude": 27.9627193250593,
          "longitude": -82.438056400783
         },
         "name": "Coast Bike Share"
        },
        {
         "company": [
          "Comunicare S.r.l."
         ],
         "href": "/v2/networks/terni",
         "id": "terni",
         "location": {
          "city": "Terni",
          "country": "IT",
          "latitude": 42.5636168,
          "longitude": 12.6426604
         },
         "name": "Terni",
         "source": "https://www.bicincitta.com/frmLeStazioni.aspx?ID=134"
        },
        {
         "company": [
          "Motivate International, Inc.",
          "PBSC Urban Solutions"
         ],
         "ebikes": true,
         "gbfs_href": "https://gbfs.cogobikeshare.com/gbfs/gbfs.json",
         "href": "/v2/networks/cogo",
         "id": "cogo",
         "location": {
          "city": "Columbus, OH",
          "country": "US",
          "latitude": 39.983333,
          "longitude": -82.983333
         },
         "name": "CoGo"
        },
        {
         "company": [
          "BCycle, LLC"
         ],
         "gbfs_href": "https://gbfs.bcycle.com/bcycle_denver/gbfs.json",
         "href": "/v2/networks/denver",
         "id": "denver",
         "location": {
          "city": "Denver, CO",
          "country": "US",
          "latitude": 39.72055,
          "longitude": -104.95253
         },
         "name": "Denver B-cycle"
        },
        {
         "company": [
          "Motivate International, Inc.",
          "PBSC Urban Solutions"
         ],
         "ebikes": true,
         "gbfs_href": "https://gbfs.divvybikes.com/gbfs/gbfs.json",
         "href": "/v2/networks/divvy",
         "id": "divvy",
         "location": {
          "city": "Chicago, IL",
          "country": "US",
          "latitude": 41.8781136,
          "longitude": -87.6297982
         },
         "name": "Divvy"
        },
        {
         "company": [
          "Comunicare S.r.l."
         ],
         "href": "/v2/networks/tirano-in-bici",
         "id": "tirano-in-bici",
         "location": {
          "city": "Tirano",
          "country": "IT",
          "latitude": 46.216168,
          "longitude": 10.1696056
         },
         "name": "Tirano in Bici",
         "source": "https://www.bicincitta.com/frmLeStazioni.aspx?ID=141"
        },
        {
         "company": [
          "BCycle, LLC"
         ],
         "gbfs_href": "https://gbfs.bcycle.com/bcycle_elpaso/gbfs.json",
         "href": "/v2/networks/elpaso",
         "id": "elpaso",
         "location": {
          "city": "El Paso, TX",
          "country": "US",
          "latitude": 31.76148,
          "longitude": -106.48507
         },
         "name": "El Paso B-cycle"
        },
        {
         "company": [
          "BCycle, LLC"
         ],
         "gbfs_href": "https://gbfs.bcycle.com/bcycle_fortworth/gbfs.json",
         "href": "/v2/networks/fortworth",
         "id": "fortworth",
         "location": {
          "city": "Fort Worth, TX",
          "country": "US",
          "latitude": 32.7516,
          "longitude": -97.32888
         },
         "name": "Fort Worth Bike Sharing"
        },
        {
         "company": [
          "Comunicare S.r.l."
         ],
         "href": "/v2/networks/udine",
         "id": "udine",
         "location": {
          "city": "Udine",
          "country": "IT",
          "latitude": 46.0710668,
          "longitude": 13.2345794
         },
         "name": "Udine",
         "source": "https://www.bicincitta.com/frmLeStazioni.aspx?ID=126"
        },
        {
         "company": [
          "BCycle, LLC"
         ],
         "gbfs_href": "https://gbfs.bcycle.com/bcycle_greatrides/gbfs.json",
         "href": "/v2/networks/greatrides",
         "id": "greatrides",
         "location": {
          "city": "Fargo, ND",
          "country": "US",
          "latitude": 46.89248,
          "longitude": -96.80095
         },
         "name": "Great Rides Bike Share"
        },
        {
         "company": [
          "BCycle, LLC"
         ],
         "gbfs_href": "https://gbfs.bcycle.com/bcycle_greenbikeslc/gbfs.json",
         "href": "/v2/networks/greenbikeslc",
         "id": "greenbikeslc",
         "location": {
          "city": "Salt Lake City",
          "country": "US",
          "latitude": 40.76745,
          "longitude": -111.88736
         },
         "name": "GREENbike"
        },
        {
         "company": [
          "CycleHop, LLC",
          "Social Bicycles Inc."
         ],
         "gbfs_href": "https://grid.socialbicycles.com/opendata/gbfs.json",
         "href": "/v2/networks/grid-bike-share",
         "id": "grid-bike-share",
         "location": {
          "city": "Phoenix, AZ",
          "country": "US",
          "latitude": 33.4591031356657,
          "longitude": -112.074010667085
         },
         "name": "Grid Bike Share"
        },
        {
         "company": [
          "BCycle, LLC"
         ],
         "gbfs_href": "https://gbfs.bcycle.com/bcycle_heartland/gbfs.json",
         "href": "/v2/networks/omaha",
         "id": "omaha",
         "location": {
          "city": "Omaha, NE",
          "country": "US",
          "latitude": 41.25832,
          "longitude": -96.00853
         },
         "name": "Heartland B-cycle"
        },
        {
         "company": [
          "BCycle, LLC"
         ],
         "gbfs_href": "https://gbfs.bcycle.com/bcycle_houston/gbfs.json",
         "href": "/v2/networks/houston",
         "id": "houston",
         "location": {
          "city": "Houston, TX",
          "country": "US",
          "latitude": 29.75983,
          "longitude": -95.36949
         },
         "name": "Houston B-cycle"
        },
        {
         "company": [
          "Motivate International, Inc.",
          "PBSC Urban Solutions"
         ],
         "ebikes": true,
         "gbfs_href": "https://gbfs.bluebikes.com/gbfs/gbfs.json",
         "href": "/v2/networks/blue-bikes",
         "id": "blue-bikes",
         "location": {
          "city": "Boston, MA",
          "country": "US",
          "latitude": 42.3584308,
          "longitude": -71.0597732
         },
         "name": "Blue Bikes"
        },
        {
         "company": [
          "Comunicare S.r.l."
         ],
         "href": "/v2/networks/ustica",
         "id": "ustica",
         "location": {
          "city": "Ustica",
          "country": "IT",
          "latitude": 38.7031179,
          "longitude": 13.1682675
         },
         "name": "Ustica",
         "source": "https://www.bicincitta.com/frmLeStazioni.aspx?ID=138"
        },
        {
         "company": [
          "City of Philadelphia",
          "Bicycle Transit Systems",
          "BCycle, LLC"
         ],
         "gbfs_href": "https://gbfs.bcycle.com/bcycle_indego/gbfs.json",
         "href": "/v2/networks/indego",
         "id": "indego",
         "location": {
          "city": "Philadelphia, PA",
          "country": "US",
          "latitude": 39.95378,
          "longitude": -75.16374
         },
         "name": "Indego"
        },
        {
         "company": [
          "BCycle, LLC"
         ],
         "gbfs_href": "https://gbfs.bcycle.com/bcycle_pacersbikeshare/gbfs.json",
         "href": "/v2/networks/indiana-pacers-bikeshare",
         "id": "indiana-pacers-bikeshare",
         "location": {
          "city": "Indianapolis, IN",
          "country": "US",
          "latitude": 39.76593,
          "longitude": -86.16216
         },
         "name": "Indiana Pacers Bikeshare"
        },
        {
         "company": [
          "CycleHop, LLC",
          "Social Bicycles Inc."
         ],
         "gbfs_href": "https://juicebikeshare.com/opendata/gbfs.json",
         "href": "/v2/networks/juice-bike-share",
         "id": "juice-bike-share",
         "location": {
          "city": "Orlando, FL",
          "country": "US",
          "latitude": 28.536663311743688,
          "longitude": -81.37922197580338
         },
         "name": "Juice"
        },
        {
         "company": [
          "Comunicare S.r.l."
         ],
         "href": "/v2/networks/bici-co",
         "id": "bici-co",
         "location": {
          "city": "Como",
          "country": "IT",
          "latitude": 45.8080597,
          "longitude": 9.0851765
         },
         "name": "BICI&CO",
         "source": "https://www.bicincitta.com/frmLeStazioni.aspx?ID=157"
        },
        {
         "company": [
          "BCycle, LLC"
         ],
         "gbfs_href": "https://gbfs.bcycle.com/bcycle_kc/gbfs.json",
         "href": "/v2/networks/kansascity",
         "id": "kansascity",
         "location": {
          "city": "Kansas City, MO",
          "country": "US",
          "latitude": 39.0999,
          "longitude": -94.5857
         },
         "name": "B-cycle"
        },
        {
         "company": [
          "BCycle, LLC"
         ],
         "gbfs_href": "https://gbfs.bcycle.com/bcycle_linkdayton/gbfs.json",
         "href": "/v2/networks/linkdayton",
         "id": "linkdayton",
         "location": {
          "city": "Dayton, OH",
          "country": "US",
          "latitude": 39.75626,
          "longitude": -84.21119
         },
         "name": "Link"
        },
        {
         "company": [
          "BCycle, LLC"
         ],
         "gbfs_href": "https://gbfs.bcycle.com/bcycle_madison/gbfs.json",
         "href": "/v2/networks/madison",
         "id": "madison",
         "location": {
          "city": "Madison, WI",
          "country": "US",
          "latitude": 43.07571,
          "longitude": -89.38527
         },
         "name": "B-cycle"
        },
        {
         "company": [
          "Los Angeles County Metropolitan Transportation Authority (Metro)",
          "Bicycle Transit Systems",
          "BCycle, LLC"
         ],
         "gbfs_href": "https://gbfs.bcycle.com/bcycle_lametro/gbfs.json",
         "href": "/v2/networks/metro-bike-share",
         "id": "metro-bike-share",
         "location": {
          "city": "Los Angeles, CA",
          "country": "US",
          "latitude": 34.04855,
          "longitude": -118.25905
         },
         "name": "Metro Bike Share"
        },
        {
         "company": [
          "Mountain Rides",
          "Social Bicycles Inc."
         ],
         "gbfs_href": "http://mrbikeshare.org/opendata/gbfs.json",
         "href": "/v2/networks/mountain-rides-bike-share",
         "id": "mountain-rides-bike-share",
         "location": {
          "city": "Ketchum / Sun Valley, ID",
          "country": "US",
          "latitude": 43.5194695168239,
          "longitude": -114.317415758737
         },
         "name": "Mountain Rides Bike Share"
        },
        {
         "company": [
          "Nice Ride Minnesota",
          "Lyft"
         ],
         "gbfs_href": "https://gbfs.niceridemn.com/gbfs/gbfs.json",
         "href": "/v2/networks/nice-ride",
         "id": "nice-ride",
         "location": {
          "city": "Minneapolis, MN",
          "country": "US",
          "latitude": 44.983334,
          "longitude": -93.26666999999999
         },
         "name": "Nice Ride"
        },
        {
         "company": [
          "Comunicare S.r.l."
         ],
         "href": "/v2/networks/speziainbici",
         "id": "speziainbici",
         "location": {
          "city": "La Spezia",
          "country": "IT",
          "latitude": 44.1024504,
          "longitude": 9.824082599999999
         },
         "name": "Speziainbici",
         "source": "https://www.bicincitta.com/frmLeStazioni.aspx?ID=137"
        },
        {
         "company": [
          "BCycle, LLC"
         ],
         "gbfs_href": "https://gbfs.bcycle.com/bcycle_sanantonio/gbfs.json",
         "href": "/v2/networks/sanantonio",
         "id": "sanantonio",
         "location": {
          "city": "San Antonio, TX",
          "country": "US",
          "latitude": 29.43701,
          "longitude": -98.48236
         },
         "name": "SWell Cycle"
        },
        {
         "company": [
          "Social Bicycles Inc."
         ],
         "gbfs_href": "https://usf.socialbicycles.com/opendata/gbfs.json",
         "href": "/v2/networks/share-a-bull-bikes",
         "id": "share-a-bull-bikes",
         "location": {
          "city": "University of South Florida, FL",
          "country": "US",
          "latitude": 28.060548696070995,
          "longitude": -82.4076198041439
         },
         "name": "Share-a-Bull Bikes"
        },
        {
         "company": [
          "Comunicare S.r.l."
         ],
         "href": "/v2/networks/venezia",
         "id": "venezia",
         "location": {
          "city": "Venezia",
          "country": "IT",
          "latitude": 45.4408474,
          "longitude": 12.3155151
         },
         "name": "Venezia",
         "source": "https://www.bicincitta.com/frmLeStazioni.aspx?ID=93"
        },
        {
         "company": [
          "Social Bicycles Inc."
         ],
         "gbfs_href": "http://sobilongbeach.com/opendata/gbfs.json",
         "href": "/v2/networks/sobi-long-beach",
         "id": "sobi-long-beach",
         "location": {
          "city": "Long Beach, NY",
          "country": "US",
          "latitude": 40.5833058203002,
          "longitude": -73.6482682794673
         },
         "name": "SoBi"
        },
        {
         "company": [
          "BCycle, LLC"
         ],
         "gbfs_href": "https://gbfs.bcycle.com/bcycle_spartanburg/gbfs.json",
         "href": "/v2/networks/spartanburg",
         "id": "spartanburg",
         "location": {
          "city": "Spartanburg, SC",
          "country": "US",
          "latitude": 34.94867,
          "longitude": -81.93345
         },
         "name": "Spartanburg BCycle"
        },
        {
         "company": [
          "Topeka Metropolitan Transit Authority",
          "Social Bicycles Inc."
         ],
         "gbfs_href": "http://topekametrobikes.org/opendata/gbfs.json",
         "href": "/v2/networks/topeka-metro-bikes",
         "id": "topeka-metro-bikes",
         "location": {
          "city": "Topeka, KS",
          "country": "US",
          "latitude": 39.0337646098385,
          "longitude": -95.7027213202284
         },
         "name": "Topeka Metro Bikes"
        },
        {
         "company": [
          "Comunicare S.r.l."
         ],
         "href": "/v2/networks/to-bike",
         "id": "to-bike",
         "location": {
          "city": "Torino",
          "country": "IT",
          "latitude": 45.07098200000001,
          "longitude": 7.685676
         },
         "name": "[TO]BIKE",
         "source": "http://www.tobike.it/frmLeStazioni.aspx?ID=22"
        },
        {
         "company": [
          "Social Bicycles Inc."
         ],
         "gbfs_href": "http://ubike.virginia.edu/opendata/gbfs.json",
         "href": "/v2/networks/ubike",
         "id": "ubike",
         "location": {
          "city": "University of Virginia, VA",
          "country": "US",
          "latitude": 38.0357625021372,
          "longitude": -78.5072994363201
         },
         "name": "UBike"
        },
        {
         "company": [
          "CycleHop, LLC",
          "Social Bicycles Inc"
         ],
         "gbfs_href": "https://relaybikeshare.socialbicycles.com/opendata/gbfs.json",
         "href": "/v2/networks/relay-atlanta",
         "id": "relay-atlanta",
         "location": {
          "city": "Atlanta, GA",
          "country": "US",
          "latitude": 33.7627941119619,
          "longitude": -84.38727110624313
         },
         "name": "Relay Bike Share"
        },
        {
         "company": [
          "Tembici",
          "PBSC Urban Solutions"
         ],
         "gbfs_href": "https://rec.publicbikesystem.net/ube/gbfs/v1/",
         "href": "/v2/networks/bikerecife",
         "id": "bikerecife",
         "location": {
          "city": "Recife",
          "country": "BR",
          "latitude": -8.047129,
          "longitude": -34.873437
         },
         "name": "BikeRecife"
        },
        {
         "company": [
          "Tembici",
          "PBSC Urban Solutions"
         ],
         "gbfs_href": "https://saopaulo.publicbikesystem.net/ube/gbfs/v1/",
         "href": "/v2/networks/bikesampa",
         "id": "bikesampa",
         "location": {
          "city": "São Paulo",
          "country": "BR",
          "latitude": -23.55,
          "longitude": -46.6333
         },
         "name": "BikeSampa"
        },
        {
         "company": [
          "Tembici",
          "PBSC Urban Solutions"
         ],
         "gbfs_href": "https://riodejaneiro.publicbikesystem.net/ube/gbfs/v1/",
         "href": "/v2/networks/bikerio",
         "id": "bikerio",
         "location": {
          "city": "Rio de Janeiro",
          "country": "BR",
          "latitude": -22.904315,
          "longitude": -43.184776
         },
         "name": "BikeRio"
        },
        {
         "company": [
          "Tembici",
          "PBSC Urban Solutions"
         ],
         "gbfs_href": "https://salvador.publicbikesystem.net/ube/gbfs/v1/",
         "href": "/v2/networks/bikesalvador",
         "id": "bikesalvador",
         "location": {
          "city": "Salvador",
          "country": "BR",
          "latitude": -12.973959,
          "longitude": -38.508171
         },
         "name": "BikeSalvador"
        },
        {
         "company": [
          "Tembici",
          "PBSC Urban Solutions"
         ],
         "gbfs_href": "https://poa.publicbikesystem.net/ube/gbfs/v1/",
         "href": "/v2/networks/bikepoa",
         "id": "bikepoa",
         "location": {
          "city": "Porto Alegre",
          "country": "BR",
          "latitude": -30.033079,
          "longitude": -51.23654
         },
         "name": "BikePOA"
        },
        {
         "company": [
          "BKT bici publica S.A. de C.V.",
          "PBSC Urban Solutions"
         ],
         "gbfs_href": "https://guad.publicbikesystem.net/ube/gbfs/v1/",
         "href": "/v2/networks/mibici-guadalajara",
         "id": "mibici-guadalajara",
         "location": {
          "city": "Guadalajara",
          "country": "MX",
          "latitude": 20.6737883,
          "longitude": -103.3704325
         },
         "name": "MIBICI"
        },
        {
         "company": [
          "Your Bike",
          "Urban Sharing"
         ],
         "gbfs_href": "https://gbfs.urbansharing.com/edinburghcyclehire.com/gbfs.json",
         "href": "/v2/networks/edinburgh-cycle-hire",
         "id": "edinburgh-cycle-hire",
         "license": {
          "name": "OGL v3 license",
          "url": "http://www.nationalarchives.gov.uk/doc/open-government-licence/version/3/"
         },
         "location": {
          "city": "Edinburgh",
          "country": "UK",
          "latitude": 55.9411885,
          "longitude": -3.2753783
         },
         "name": "Just Eat Cycles"
        },
        {
         "company": [
          "PBSC",
          "Alta Bicycle Share, Inc"
         ],
         "gbfs_href": "https://gbfs.melbourne.8d.com/gbfs/gbfs.json",
         "href": "/v2/networks/melbourne-bike-share",
         "id": "melbourne-bike-share",
         "location": {
          "city": "Melbourne",
          "country": "AU",
          "latitude": -37.814107,
          "longitude": 144.96328
         },
         "name": "Melbourne Bike Share"
        },
        {
         "company": [
          "PBSC Urban Solutions"
         ],
         "gbfs_href": "https://valencefr.publicbikesystem.net/ube/gbfs/v1/",
         "href": "/v2/networks/libelo",
         "id": "libelo",
         "location": {
          "city": "Valence",
          "country": "FR",
          "latitude": 44.922726,
          "longitude": 4.905634
         },
         "name": "Libélo"
        },
        {
         "company": [
          "Tembici",
          "PBSC Urban Solutions"
         ],
         "gbfs_href": "https://santiago.publicbikesystem.net/ube/gbfs/v1/",
         "href": "/v2/networks/bikesantiago",
         "id": "bikesantiago",
         "location": {
          "city": "Santiago",
          "country": "CL",
          "latitude": -33.45,
          "longitude": -70.67
         },
         "name": "BikeSantiago"
        },
        {
         "company": null,
         "gbfs_href": "https://gbfs.urbansharing.com/oslobysykkel.no/gbfs.json",
         "href": "/v2/networks/oslo-bysykkel",
         "id": "oslo-bysykkel",
         "location": {
          "city": "Oslo",
          "country": "NO",
          "latitude": 59.913869,
          "longitude": 10.752245
         },
         "name": "Bysykkel"
        },
        {
         "company": null,
         "gbfs_href": "https://gbfs.urbansharing.com/bergenbysykkel.no/gbfs.json",
         "href": "/v2/networks/bergen-bysykkel",
         "id": "bergen-bysykkel",
         "location": {
          "city": "Bergen",
          "country": "NO",
          "latitude": 60.391263,
          "longitude": 5.322054
         },
         "name": "Bysykkel"
        },
        {
         "company": null,
         "gbfs_href": "https://gbfs.urbansharing.com/trondheimbysykkel.no/gbfs.json",
         "href": "/v2/networks/trondheim-bysykkel",
         "id": "trondheim-bysykkel",
         "location": {
          "city": "Trondheim",
          "country": "NO",
          "latitude": 63.4307238,
          "longitude": 10.3936781
         },
         "name": "Bysykkel"
        },
        {
         "company": [
          "Keolis",
          "Rennes Metropole"
         ],
         "href": "/v2/networks/le-velo-star",
         "id": "le-velo-star",
         "location": {
          "city": "Rennes",
          "country": "FR",
          "latitude": 48.114167,
          "longitude": -1.680833
         },
         "name": "LE vélo Star",
         "source": "https://data.explore.star.fr/explore/dataset/vls-stations-etat-tr/"
        },
        {
         "company": [
          "Keolis Bordeaux Métropole"
         ],
         "ebikes": true,
         "href": "/v2/networks/v3-bordeaux",
         "id": "v3-bordeaux",
         "location": {
          "city": "Bordeaux",
          "country": "FR",
          "latitude": 44.837789,
          "longitude": -0.57918
         },
         "name": "V³"
        },
        {
         "company": [
          "Keolis"
         ],
         "href": "/v2/networks/vlille",
         "id": "vlille",
         "location": {
          "city": "Lille",
          "country": "FR",
          "latitude": 50.62925,
          "longitude": 3.057256
         },
         "name": "V'Lille",
         "source": "https://opendata.lillemetropole.fr/explore/dataset/vlille-realtime/"
        },
        {
         "company": [
          "Keolis",
          "STAP"
         ],
         "href": "/v2/networks/idecycle",
         "id": "idecycle",
         "location": {
          "city": "Pau",
          "country": "FR",
          "latitude": 43.2951,
          "longitude": -0.370797
         },
         "name": "IDECycle"
        },
        {
         "company": [
          "Labici Bicicletas Públicas SL"
         ],
         "href": "/v2/networks/bicialtea",
         "id": "bicialtea",
         "location": {
          "city": "Altea",
          "country": "ES",
          "latitude": 38.6029075,
          "longitude": -0.0450666
         },
         "name": "Bicialtea"
        },
        {
         "company": [
          "Labici Bicicletas Públicas SL"
         ],
         "href": "/v2/networks/bicidorm",
         "id": "bicidorm",
         "location": {
          "city": "Benidorm",
          "country": "ES",
          "latitude": 38.5410566,
          "longitude": -0.1224937
         },
         "name": "Bicidorm"
        },
        {
         "company": [
          "Labici Bicicletas Públicas SL"
         ],
         "href": "/v2/networks/saforbici",
         "id": "saforbici",
         "location": {
          "city": "Gandía",
          "country": "ES",
          "latitude": 38.968032,
          "longitude": -0.1844671
         },
         "name": "SaforBici"
        },
        {
         "company": [
          "Comunicare S.r.l."
         ],
         "href": "/v2/networks/ciclopi",
         "id": "ciclopi",
         "location": {
          "city": "Pisa",
          "country": "IT",
          "latitude": 43.7228386,
          "longitude": 10.4016888
         },
         "name": "Ciclopi",
         "source": "https://www.bicincitta.com/frmLeStazioni.aspx?ID=144"
        },
        {
         "company": [
          "Labici Bicicletas Públicas SL"
         ],
         "href": "/v2/networks/gbici",
         "id": "gbici",
         "location": {
          "city": "Getafe",
          "country": "ES",
          "latitude": 40.3082504,
          "longitude": -3.7323934
         },
         "name": "Gbici"
        },
        {
         "company": [
          "Labici Bicicletas Públicas SL"
         ],
         "href": "/v2/networks/muybici",
         "id": "muybici",
         "location": {
          "city": "Murcia",
          "country": "ES",
          "latitude": 37.9922399,
          "longitude": -1.1306544
         },
         "name": "MuyBici"
        },
        {
         "company": [
          "Labici Bicicletas Públicas SL"
         ],
         "href": "/v2/networks/ponfemobi",
         "id": "ponfemobi",
         "location": {
          "city": "Ponferrada",
          "country": "ES",
          "latitude": 42.5499958,
          "longitude": -6.598259000000001
         },
         "name": "PonfeMobi"
        },
        {
         "company": [
          "Labici Bicicletas Públicas SL"
         ],
         "href": "/v2/networks/vaibike",
         "id": "vaibike",
         "location": {
          "city": "Vilagarcía de Arousa",
          "country": "ES",
          "latitude": 42.5999265,
          "longitude": -8.7885744
         },
         "name": "VaiBike"
        },
        {
         "company": [
          "Comunicare S.r.l."
         ],
         "href": "/v2/networks/cagliari",
         "id": "cagliari",
         "location": {
          "city": "Cagliari",
          "country": "IT",
          "latitude": 39.220817,
          "longitude": 9.121399
         },
         "name": "Cagliari",
         "source": "https://www.bicincitta.com/frmLeStazioni.aspx?ID=177"
        },
        {
         "company": [
          "Buenos Aires Ciudad"
         ],
         "gbfs_href": "https://apitransporte.buenosaires.gob.ar/ecobici/gbfs/",
         "href": "/v2/networks/ecobici-buenos-aires",
         "id": "ecobici-buenos-aires",
         "license": {
          "name": "Open Data Commons Open Database License 1.0 (ODbL)",
          "url": "https://opendatacommons.org/licenses/odbl/"
         },
         "location": {
          "city": "Buenos Aires",
          "country": "AR",
          "latitude": -34.630665,
          "longitude": -58.41156
         },
         "name": "Ecobici",
         "source": "https://www.buenosaires.gob.ar/desarrollourbano/transporte/apitransporte"
        },
        {
         "company": [
          "EMEL"
         ],
         "href": "/v2/networks/gira",
         "id": "gira",
         "location": {
          "city": "Lisbon",
          "country": "PT",
          "latitude": 38.724954,
          "longitude": -9.149334
         },
         "name": "Gira"
        },
        {
         "company": [
          "Comunicare S.r.l."
         ],
         "href": "/v2/networks/gimme-bike",
         "id": "gimme-bike",
         "location": {
          "city": "Varese",
          "country": "IT",
          "latitude": 45.8183902,
          "longitude": 8.823913
         },
         "name": "Gimme Bike",
         "source": "https://www.bicincitta.com/frmLeStazioni.aspx?ID=50"
        },
        {
         "company": [
          "JCDecaux"
         ],
         "href": "/v2/networks/cyclic",
         "id": "cyclic",
         "license": {
          "name": "Open Licence",
          "url": "https://developer.jcdecaux.com/#/opendata/licence"
         },
         "location": {
          "city": "Rouen",
          "country": "FR",
          "latitude": 49.44323199999999,
          "longitude": 1.099971
         },
         "name": "cy'clic",
         "source": "https://developer.jcdecaux.com"
        },
        {
         "company": [
          "JCDecaux"
         ],
         "href": "/v2/networks/velo",
         "id": "velo",
         "license": {
          "name": "Open Licence",
          "url": "https://developer.jcdecaux.com/#/opendata/licence"
         },
         "location": {
          "city": "Toulouse",
          "country": "FR",
          "latitude": 43.604652,
          "longitude": 1.444209
         },
         "name": "Vélô",
         "source": "https://developer.jcdecaux.com"
        },
        {
         "company": [
          "JCDecaux"
         ],
         "href": "/v2/networks/veloh",
         "id": "veloh",
         "license": {
          "name": "Open Licence",
          "url": "https://developer.jcdecaux.com/#/opendata/licence"
         },
         "location": {
          "city": "Luxembourg",
          "country": "LU",
          "latitude": 49.6301025,
          "longitude": 6.1520185
         },
         "name": "Veloh",
         "source": "https://developer.jcdecaux.com"
        },
        {
         "company": [
          "JCDecaux"
         ],
         "href": "/v2/networks/valenbisi",
         "id": "valenbisi",
         "license": {
          "name": "Open Licence",
          "url": "https://developer.jcdecaux.com/#/opendata/licence"
         },
         "location": {
          "city": "Valencia",
          "country": "ES",
          "latitude": 39.4699075,
          "longitude": -0.3762881
         },
         "name": "Valenbisi",
         "source": "https://developer.jcdecaux.com"
        },
        {
         "company": [
          "Comunicare S.r.l."
         ],
         "href": "/v2/networks/sellero",
         "id": "sellero",
         "location": {
          "city": "Sellero",
          "country": "IT",
          "latitude": 46.06304765446406,
          "longitude": 10.353434085845947
         },
         "name": "Sellero",
         "source": "https://www.bicincitta.com/frmLeStazioni.aspx?ID=85"
        },
        {
         "company": [
          "JCDecaux"
         ],
         "href": "/v2/networks/lundahoj",
         "id": "lundahoj",
         "license": {
          "name": "Open Licence",
          "url": "https://developer.jcdecaux.com/#/opendata/licence"
         },
         "location": {
          "city": "Lund",
          "country": "SE",
          "latitude": 55.7046601,
          "longitude": 13.1910073
         },
         "name": "Lundahoj",
         "source": "https://developer.jcdecaux.com"
        },
        {
         "company": [
          "Comunicare S.r.l."
         ],
         "href": "/v2/networks/ugento",
         "id": "ugento",
         "location": {
          "city": "Ugento",
          "country": "IT",
          "latitude": 39.9273518,
          "longitude": 18.1582962
         },
         "name": "Ugento",
         "source": "https://www.bicincitta.com/frmLeStazioni.aspx?ID=103"
        },
        {
         "company": [
          "JCDecaux"
         ],
         "href": "/v2/networks/tusbic",
         "id": "tusbic",
         "license": {
          "name": "Open Licence",
          "url": "https://developer.jcdecaux.com/#/opendata/licence"
         },
         "location": {
          "city": "Santander",
          "country": "ES",
          "latitude": 43.46230569999999,
          "longitude": -3.8099803
         },
         "name": "Tusbic",
         "source": "https://developer.jcdecaux.com"
        },
        {
         "company": [
          "JCDecaux"
         ],
         "href": "/v2/networks/velam",
         "id": "velam",
         "license": {
          "name": "Open Licence",
          "url": "https://developer.jcdecaux.com/#/opendata/licence"
         },
         "location": {
          "city": "Amiens",
          "country": "FR",
          "latitude": 49.894067,
          "longitude": 2.295753
         },
         "name": "Vélam",
         "source": "https://developer.jcdecaux.com"
        },
        {
         "company": [
          "JCDecaux"
         ],
         "href": "/v2/networks/bysykkel-lillestrom",
         "id": "bysykkel-lillestrom",
         "license": {
          "name": "Open Licence",
          "url": "https://developer.jcdecaux.com/#/opendata/licence"
         },
         "location": {
          "city": "Lillestrøm",
          "country": "NO",
          "latitude": 59.9559696,
          "longitude": 11.0503785
         },
         "name": "Bysykkel",
         "source": "https://developer.jcdecaux.com"
        },
        {
         "company": [
          "JCDecaux"
         ],
         "href": "/v2/networks/velocite-mulhouse",
         "id": "velocite-mulhouse",
         "license": {
          "name": "Open Licence",
          "url": "https://developer.jcdecaux.com/#/opendata/licence"
         },
         "location": {
          "city": "Mulhouse",
          "country": "FR",
          "latitude": 47.750839,
          "longitude": 7.335888
         },
         "name": "VéloCité",
         "source": "https://developer.jcdecaux.com"
        },
        {
         "company": [
          "Comunicare S.r.l."
         ],
         "href": "/v2/networks/prata-camportaccio",
         "id": "prata-camportaccio",
         "location": {
          "city": "Prata Camportaccio",
          "country": "IT",
          "latitude": 46.3042146,
          "longitude": 9.3964914
         },
         "name": "Prata Camportaccio",
         "source": "https://www.bicincitta.com/frmLeStazioni.aspx?ID=108"
        },
        {
         "company": [
          "JCDecaux"
         ],
         "href": "/v2/networks/velov",
         "id": "velov",
         "license": {
          "name": "Open Licence",
          "url": "https://developer.jcdecaux.com/#/opendata/licence"
         },
         "location": {
          "city": "Lyon",
          "country": "FR",
          "latitude": 45.764043,
          "longitude": 4.835659
         },
         "name": "Vélo'V",
         "source": "https://developer.jcdecaux.com"
        },
        {
         "company": [
          "JCDecaux"
         ],
         "href": "/v2/networks/bicikelj",
         "id": "bicikelj",
         "license": {
          "name": "Open Licence",
          "url": "https://developer.jcdecaux.com/#/opendata/licence"
         },
         "location": {
          "city": "Ljubljana",
          "country": "SI",
          "latitude": 46.05645089999999,
          "longitude": 14.5080702
         },
         "name": "Bicikelj",
         "source": "https://developer.jcdecaux.com"
        },
        {
         "company": [
          "Comunicare S.r.l."
         ],
         "href": "/v2/networks/civitavecchia",
         "id": "civitavecchia",
         "location": {
          "city": "Civitavecchia",
          "country": "IT",
          "latitude": 42.0937524,
          "longitude": 11.7922462
         },
         "name": "Civitavecchia",
         "source": "https://www.bicincitta.com/frmLeStazioni.aspx?ID=127"
        },
        {
         "company": [
          "JCDecaux"
         ],
         "href": "/v2/networks/sevici",
         "id": "sevici",
         "license": {
          "name": "Open Licence",
          "url": "https://developer.jcdecaux.com/#/opendata/licence"
         },
         "location": {
          "city": "Sevilla",
          "country": "ES",
          "latitude": 37.3880961,
          "longitude": -5.9823299
         },
         "name": "Sevici",
         "source": "https://developer.jcdecaux.com"
        },
        {
         "company": [
          "Comunicare S.r.l."
         ],
         "href": "/v2/networks/longanoinbici",
         "id": "longanoinbici",
         "location": {
          "city": "Barcellona Pozzo di Gotto",
          "country": "IT",
          "latitude": 38.149812517944284,
          "longitude": 15.212116241455078
         },
         "name": "LonganoinBici",
         "source": "https://www.bicincitta.com/frmLeStazioni.aspx?ID=140"
        },
        {
         "company": [
          "JCDecaux"
         ],
         "href": "/v2/networks/li-bia-velo",
         "id": "li-bia-velo",
         "license": {
          "name": "Open Licence",
          "url": "https://developer.jcdecaux.com/#/opendata/licence"
         },
         "location": {
          "city": "Namur",
          "country": "BE",
          "latitude": 50.465328,
          "longitude": 4.867665
         },
         "name": "Li bia velo",
         "source": "https://developer.jcdecaux.com"
        },
        {
         "company": [
          "JCDecaux"
         ],
         "href": "/v2/networks/velostanlib",
         "id": "velostanlib",
         "license": {
          "name": "Open Licence",
          "url": "https://developer.jcdecaux.com/#/opendata/licence"
         },
         "location": {
          "city": "Nancy",
          "country": "FR",
          "latitude": 48.692054,
          "longitude": 6.184417
         },
         "name": "vélOstan'lib",
         "source": "https://developer.jcdecaux.com"
        },
        {
         "company": [
          "JCDecaux"
         ],
         "href": "/v2/networks/cristolib",
         "id": "cristolib",
         "license": {
          "name": "Open Licence",
          "url": "https://developer.jcdecaux.com/#/opendata/licence"
         },
         "location": {
          "city": "Créteil",
          "country": "FR",
          "latitude": 48.790367,
          "longitude": 2.455572
         },
         "name": "Cristolib",
         "source": "https://developer.jcdecaux.com"
        },
        {
         "company": [
          "JCDecaux"
         ],
         "href": "/v2/networks/villo",
         "id": "villo",
         "license": {
          "name": "Open Licence",
          "url": "https://developer.jcdecaux.com/#/opendata/licence"
         },
         "location": {
          "city": "Bruxelles",
          "country": "BE",
          "latitude": 50.8503396,
          "longitude": 4.3517103
         },
         "name": "villo",
         "source": "https://developer.jcdecaux.com"
        },
        {
         "company": [
          "Comunicare S.r.l."
         ],
         "href": "/v2/networks/cassano-d-adda",
         "id": "cassano-d-adda",
         "location": {
          "city": "Cassano d'Adda",
          "country": "IT",
          "latitude": 45.5309616,
          "longitude": 9.5155813
         },
         "name": "Cassano d'Adda",
         "source": "https://www.bicincitta.com/frmLeStazioni.aspx?ID=143"
        },
        {
         "company": [
          "JCDecaux"
         ],
         "href": "/v2/networks/velo2",
         "id": "velo2",
         "license": {
          "name": "Open Licence",
          "url": "https://developer.jcdecaux.com/#/opendata/licence"
         },
         "location": {
          "city": "Cergy",
          "country": "FR",
          "latitude": 49.03561699999999,
          "longitude": 2.060325
         },
         "name": "Velo2",
         "source": "https://developer.jcdecaux.com"
        },
        {
         "company": [
          "JCDecaux"
         ],
         "href": "/v2/networks/vilnius-cyclocity",
         "id": "vilnius-cyclocity",
         "license": {
          "name": "Open Licence",
          "url": "https://developer.jcdecaux.com/#/opendata/licence"
         },
         "location": {
          "city": "Vilnius",
          "country": "LT",
          "latitude": 54.6871555,
          "longitude": 25.2796514
         },
         "name": "Cyclocity",
         "source": "https://developer.jcdecaux.com"
        },
        {
         "company": [
          "JCDecaux"
         ],
         "href": "/v2/networks/toyama-cyclocity",
         "id": "toyama-cyclocity",
         "license": {
          "name": "Open Licence",
          "url": "https://developer.jcdecaux.com/#/opendata/licence"
         },
         "location": {
          "city": "富山市",
          "country": "JP",
          "latitude": 36.6959518,
          "longitude": 137.2136768
         },
         "name": "cyclocity",
         "source": "https://developer.jcdecaux.com"
        },
        {
         "company": [
          "Comunicare S.r.l."
         ],
         "href": "/v2/networks/bianzone-in-bici",
         "id": "bianzone-in-bici",
         "location": {
          "city": "Bianzone",
          "country": "IT",
          "latitude": 46.188197,
          "longitude": 10.109354
         },
         "name": "Bianzone in Bici",
         "source": "https://www.bicincitta.com/frmLeStazioni.aspx?ID=147"
        },
        {
         "company": [
          "LeVélo AMP Métropole",
          "Ville de Marseille",
          "Fifteen SAS"
         ],
         "href": "/v2/networks/le-velo",
         "id": "le-velo",
         "location": {
          "city": "Marseille",
          "country": "FR",
          "latitude": 43.296482,
          "longitude": 5.36978
         },
         "name": "LeVélo"
        },
        {
         "company": [
          "JCDecaux"
         ],
         "href": "/v2/networks/bicloo",
         "id": "bicloo",
         "license": {
          "name": "Open Licence",
          "url": "https://developer.jcdecaux.com/#/opendata/licence"
         },
         "location": {
          "city": "Nantes",
          "country": "FR",
          "latitude": 47.218371,
          "longitude": -1.553621
         },
         "name": "Bicloo",
         "source": "https://developer.jcdecaux.com"
        },
        {
         "company": [
          "JCDecaux"
         ],
         "href": "/v2/networks/velocite-besancon",
         "id": "velocite-besancon",
         "license": {
          "name": "Open Licence",
          "url": "https://developer.jcdecaux.com/#/opendata/licence"
         },
         "location": {
          "city": "Besançon",
          "country": "FR",
          "latitude": 47.237829,
          "longitude": 6.024053899999999
         },
         "name": "VéloCité",
         "source": "https://developer.jcdecaux.com"
        },
        {
         "company": [
          "Comunicare S.r.l."
         ],
         "href": "/v2/networks/rietinbici",
         "id": "rietinbici",
         "location": {
          "city": "Rieti",
          "country": "IT",
          "latitude": 42.40262397383167,
          "longitude": 12.86099910736084
         },
         "name": "Rietinbici",
         "source": "https://www.bicincitta.com/frmLeStazioni.aspx?ID=158"
        },
        {
         "company": [
          "JCDecaux"
         ],
         "href": "/v2/networks/dublinbikes",
         "id": "dublinbikes",
         "license": {
          "name": "Open Licence",
          "url": "https://developer.jcdecaux.com/#/opendata/licence"
         },
         "location": {
          "city": "Dublin",
          "country": "IE",
          "latitude": 53.3498053,
          "longitude": -6.2603097
         },
         "name": "dublinbikes",
         "source": "https://developer.jcdecaux.com"
        },
        {
         "company": null,
         "href": "/v2/networks/bicipalma",
         "id": "bicipalma",
         "location": {
          "city": "Palma",
          "country": "ES",
          "latitude": 39.57119,
          "longitude": 2.646634
         },
         "name": "Bicipalma"
        },
        {
         "company": [
          "Cyacle Bicycle Rental LLC"
         ],
         "href": "/v2/networks/adcb-bikeshare",
         "id": "adcb-bikeshare",
         "location": {
          "city": "Abu Dhabi",
          "country": "AE",
          "latitude": 24.450278,
          "longitude": 54.39
         },
         "name": "ADCB Bikeshare"
        },
        {
         "company": [
          "Comunicare S.r.l."
         ],
         "href": "/v2/networks/castellucchio",
         "id": "castellucchio",
         "location": {
          "city": "Castellucchio",
          "country": "IT",
          "latitude": 45.15047821582959,
          "longitude": 10.651202201843262
         },
         "name": "Castellucchio",
         "source": "https://www.bicincitta.com/frmLeStazioni.aspx?ID=161"
        },
        {
         "company": [
          "Veolia"
         ],
         "href": "/v2/networks/velobleu",
         "id": "velobleu",
         "location": {
          "city": "Nice",
          "country": "FR",
          "latitude": 43.695949,
          "longitude": 7.271413
         },
         "name": "Vélo Bleu"
        },
        {
         "company": [
          "Comunicare S.r.l."
         ],
         "href": "/v2/networks/notoinbici",
         "id": "notoinbici",
         "location": {
          "city": "Noto",
          "country": "IT",
          "latitude": 36.889437754839854,
          "longitude": 15.074658393859863
         },
         "name": "NotoinBici",
         "source": "https://www.bicincitta.com/frmLeStazioni.aspx?ID=162"
        },
        {
         "company": [
          "Comunicare S.r.l."
         ],
         "href": "/v2/networks/enna",
         "id": "enna",
         "location": {
          "city": "Enna",
          "country": "IT",
          "latitude": 37.56342572664775,
          "longitude": 14.27973747253418
         },
         "name": "Enna",
         "source": "https://www.bicincitta.com/frmLeStazioni.aspx?ID=163"
        },
        {
         "company": [
          "Comunicare S.r.l."
         ],
         "href": "/v2/networks/pordenone",
         "id": "pordenone",
         "location": {
          "city": "Pordenone",
          "country": "IT",
          "latitude": 45.94790101663391,
          "longitude": 12.674491020251475
         },
         "name": "Pordenone",
         "source": "https://www.bicincitta.com/frmLeStazioni.aspx?ID=164"
        },
        {
         "company": [
          "Veolia"
         ],
         "href": "/v2/networks/vel-in",
         "id": "vel-in",
         "location": {
          "city": "Calais",
          "country": "FR",
          "latitude": 50.95,
          "longitude": 1.85
         },
         "name": "Vél'in"
        },
        {
         "company": [
          "Comunicare S.r.l."
         ],
         "href": "/v2/networks/carbonia",
         "id": "carbonia",
         "location": {
          "city": "Carbonia",
          "country": "IT",
          "latitude": 39.167222,
          "longitude": 8.522222
         },
         "name": "Carbonia",
         "source": "https://www.bicincitta.com/frmLeStazioni.aspx?ID=173"
        },
        {
         "company": [
          "Municipiul Cluj-Napoca"
         ],
         "href": "/v2/networks/clujbike",
         "id": "clujbike",
         "location": {
          "city": "Cluj-Napoca",
          "country": "RO",
          "latitude": 46.775,
          "longitude": 23.5975
         },
         "name": "Cluj Bike"
        },
        {
         "company": [
          "Comunicare S.r.l."
         ],
         "href": "/v2/networks/mobike",
         "id": "mobike",
         "location": {
          "city": "Genova",
          "country": "IT",
          "latitude": 44.40430089372731,
          "longitude": 8.92908986230462
         },
         "name": "MoBike",
         "source": "https://www.bicincitta.com/frmLeStazioni.aspx?ID=175"
        },
        {
         "company": [
          "Prefeiture de Sorocaba",
          "Urbes"
         ],
         "href": "/v2/networks/integrabike",
         "id": "integrabike",
         "location": {
          "city": "Sorocaba",
          "country": "BR",
          "latitude": -23.5015,
          "longitude": -47.4526
         },
         "name": "Integrabike"
        },
        {
         "company": [
          "Comunicare S.r.l."
         ],
         "href": "/v2/networks/scegli-in-bici",
         "id": "scegli-in-bici",
         "location": {
          "city": "Cremona",
          "country": "IT",
          "latitude": 45.134914104864116,
          "longitude": 10.0222648619018
         },
         "name": "Scegli in Bici",
         "source": "https://www.bicincitta.com/frmLeStazioni.aspx?ID=178"
        },
        {
         "company": [
          "Associação dos Amigos da Riviera de São Lourenço",
          "Sobloco"
         ],
         "href": "/v2/networks/rivibike",
         "id": "rivibike",
         "location": {
          "city": "São Lourenço",
          "country": "BR",
          "latitude": -22.1124,
          "longitude": -45.028
         },
         "name": "RiviBike"
        },
        {
         "company": [
          "Comunicare S.r.l."
         ],
         "href": "/v2/networks/e-motion-trento",
         "id": "e-motion-trento",
         "location": {
          "city": "Trento",
          "country": "IT",
          "latitude": 46.06643205823519,
          "longitude": 11.122145390351879
         },
         "name": "e.motion",
         "source": "https://www.bicincitta.com/frmLeStazioni.aspx?ID=187"
        },
        {
         "company": [
          "Duke Energy Brasil",
          "Governo de Ipaussu"
         ],
         "href": "/v2/networks/dukebike",
         "id": "dukebike",
         "location": {
          "city": "Ipaússu",
          "country": "BR",
          "latitude": -23.0553,
          "longitude": -49.6237
         },
         "name": "DukeBike"
        },
        {
         "company": [
          "Barcelona de Serveis Municipals, S.A. (BSM)",
          "CESPA",
          "PBSC"
         ],
         "gbfs_href": "https://api.bsmsa.eu/ext/api/bsm/gbfs/v2/",
         "href": "/v2/networks/bicing",
         "id": "bicing",
         "location": {
          "city": "Barcelona",
          "country": "ES",
          "latitude": 41.3850639,
          "longitude": 2.1734035
         },
         "name": "Bicing"
        },
        {
         "company": [
          "Baksi Bike Sharing System"
         ],
         "href": "/v2/networks/baksi-antalya",
         "id": "baksi-antalya",
         "location": {
          "city": "Antalya",
          "country": "TR",
          "latitude": 36.862048,
          "longitude": 30.638866
         },
         "name": "Baksi"
        },
        {
         "company": [
          "Baksi Bike Sharing System"
         ],
         "href": "/v2/networks/baksi-bisim",
         "id": "baksi-bisim",
         "location": {
          "city": "Izmir",
          "country": "TR",
          "latitude": 38.4134047464,
          "longitude": 27.0325753524
         },
         "name": "Baksi"
        },
        {
         "company": [
          "Comunicare S.r.l."
         ],
         "href": "/v2/networks/e-motion-rovereto",
         "id": "e-motion-rovereto",
         "location": {
          "city": "Rovereto",
          "country": "IT",
          "latitude": 45.88710661061543,
          "longitude": 11.042242751867644
         },
         "name": "e.motion",
         "source": "https://www.bicincitta.com/frmLeStazioni.aspx?ID=189"
        },
        {
         "company": [
          "Baksi Bike Sharing System"
         ],
         "href": "/v2/networks/baksi-istanbul",
         "id": "baksi-istanbul",
         "location": {
          "city": "Istanbul",
          "country": "TR",
          "latitude": 40.9696887925,
          "longitude": 29.0475373717
         },
         "name": "Isbike"
        },
        {
         "company": [
          "Baksi Bike Sharing System"
         ],
         "href": "/v2/networks/baksi-kobis",
         "id": "baksi-kobis",
         "location": {
          "city": "Kocaeli",
          "country": "TR",
          "latitude": 40.7674733342,
          "longitude": 29.9755885985
         },
         "name": "Baksi"
        },
        {
         "company": [
          "Helsinki City Transport",
          "Helsinki Regional Transport",
          "CityBikeFinland",
          "Smoove SAS",
          "Moventia",
          "Alepa"
         ],
         "href": "/v2/networks/citybikes-helsinki",
         "id": "citybikes-helsinki",
         "location": {
          "city": "Helsinki",
          "country": "FI",
          "latitude": 60.16985569999999,
          "longitude": 24.938379
         },
         "name": "City bikes"
        },
        {
         "company": [
          "Comunicare S.r.l."
         ],
         "href": "/v2/networks/monopoli-bike",
         "id": "monopoli-bike",
         "location": {
          "city": "Monopoli",
          "country": "IT",
          "latitude": 40.94519109440738,
          "longitude": 17.311687995336918
         },
         "name": "Monopoli BIKE",
         "source": "https://www.bicincitta.com/frmLeStazioni.aspx?ID=191"
        },
        {
         "company": [
          "Turku Region Traffic Föli",
          "Nextbike Polska"
         ],
         "href": "/v2/networks/foli",
         "id": "foli",
         "location": {
          "city": "Turku",
          "country": "FI",
          "latitude": 60.4506,
          "longitude": 22.2666
         },
         "name": "Föli-fillari"
        },
        {
         "company": [
          "Comunicare S.r.l."
         ],
         "href": "/v2/networks/bicimia",
         "id": "bicimia",
         "location": {
          "city": "Brescia",
          "country": "IT",
          "latitude": 45.5378,
          "longitude": 10.2173
         },
         "name": "bicimia",
         "source": "https://bicimia.bresciamobilita.it/frmLeStazioni.aspx?ID=40"
        },
        {
         "company": [
          "FSM Ground Services Ltd."
         ],
         "href": "/v2/networks/telofun",
         "id": "telofun",
         "location": {
          "city": "Tel Aviv-Yaffo, Giv'atayim, Ramat-Gan",
          "country": "IL",
          "latitude": 32.087053,
          "longitude": 34.789776
         },
         "name": "Tel-O-Fun"
        },
        {
         "company": [
          "Comunicare S.r.l."
         ],
         "href": "/v2/networks/andria",
         "id": "andria",
         "location": {
          "city": "Andria",
          "country": "IT",
          "latitude": 41.224346932834,
          "longitude": 16.296983922753956
         },
         "name": "Andria in Bici",
         "source": "https://www.bicincitta.com/frmLeStazioni.aspx?ID=192"
        },
        {
         "company": [
          "Open Source Bike Share"
         ],
         "href": "/v2/networks/whitebikes",
         "id": "whitebikes",
         "location": {
          "city": "Bratislava",
          "country": "SK",
          "latitude": 48.149424,
          "longitude": 17.113922
         },
         "name": "WhiteBikes"
        },
        {
         "company": [
          "Dopravný podnik Bratislava",
          "Bratislavská integrovaná doprava, a.s.",
          "Hlavné mesto SR Bratislava"
         ],
         "href": "/v2/networks/slovnaft-bajk",
         "id": "slovnaft-bajk",
         "location": {
          "city": "Bratislava",
          "country": "SK",
          "latitude": 48.1356952,
          "longitude": 16.9758332
         },
         "name": "Slovnaft BAjk"
        },
        {
         "company": [
          "Open Source Bike Share"
         ],
         "href": "/v2/networks/cykl",
         "id": "cykl",
         "location": {
          "city": "Wageningen",
          "country": "NL",
          "latitude": 51.974,
          "longitude": 5.6671
         },
         "name": "Cykl"
        },
        {
         "company": [
          "Open Source Bike Share"
         ],
         "href": "/v2/networks/bicyklezadobreskutky",
         "id": "bicyklezadobreskutky",
         "location": {
          "city": "Prešov",
          "country": "SK",
          "latitude": 48.996275,
          "longitude": 21.234341
         },
         "name": "Bicykle za dobré skutky"
        },
        {
         "company": [
          "Social Bicycles Inc."
         ],
         "href": "/v2/networks/socialbicycles-wavelo",
         "id": "socialbicycles-wavelo",
         "location": {
          "city": "Kraków",
          "country": "PL",
          "latitude": 50.06143,
          "longitude": 19.93658
         },
         "name": "Wavelo"
        },
        {
         "company": [
          "Comunicare S.r.l."
         ],
         "href": "/v2/networks/bicinquartucciu",
         "id": "bicinquartucciu",
         "location": {
          "city": "Quartucciu",
          "country": "IT",
          "latitude": 39.25043149806156,
          "longitude": 9.179296426489255
         },
         "name": "BicinQuartucciu",
         "source": "https://www.bicincitta.com/frmLeStazioni.aspx?ID=193"
        },
        {
         "company": [
          "Mainzer Verkehrsgesellschaft mbH (MVG)"
         ],
         "href": "/v2/networks/mvgmeinrad",
         "id": "mvgmeinrad",
         "location": {
          "city": "Mainz",
          "country": "DE",
          "latitude": 49.992862,
          "longitude": 8.247253
         },
         "name": "MVGmeinrad"
        },
        {
         "company": [
          "Sistema de Bicicletas Públicas del Valle de Aburrá"
         ],
         "href": "/v2/networks/encicla",
         "id": "encicla",
         "location": {
          "city": "Medellin",
          "country": "CO",
          "latitude": 6.254942,
          "longitude": -75.567982
         },
         "name": "EnCicla"
        },
        {
         "company": [
          "Comunicare S.r.l."
         ],
         "href": "/v2/networks/olbia-bike",
         "id": "olbia-bike",
         "location": {
          "city": "Olbia",
          "country": "IT",
          "latitude": 40.9240543,
          "longitude": 9.4994397
         },
         "name": "Olbia Bike",
         "source": "https://www.bicincitta.com/frmLeStazioni.aspx?ID=194"
        },
        {
         "company": [
          "Vanncouver Bike Share Inc.",
          "CycleHop LLC",
          "City of Vancouver",
          "Shaw Communications Inc.",
          "Fifteen"
         ],
         "gbfs_href": "https://vancouver-gbfs.smoove.pro/gbfs/2/gbfs.json",
         "href": "/v2/networks/mobibikes",
         "id": "mobibikes",
         "location": {
          "city": "Vancouver",
          "country": "CA",
          "latitude": 49.2827,
          "longitude": -123.1207
         },
         "name": "Mobi"
        },
        {
         "company": [
          "Comunicare S.r.l."
         ],
         "href": "/v2/networks/savona",
         "id": "savona",
         "location": {
          "city": "Savona",
          "country": "IT",
          "latitude": 44.29516444397244,
          "longitude": 8.463126708984431
         },
         "name": "Savona",
         "source": "https://www.bicincitta.com/frmLeStazioni.aspx?ID=195"
        },
        {
         "company": [
          "CityBike France",
          "PBSC Urban Solutions"
         ],
         "gbfs_href": "https://clermontferrand.publicbikesystem.net/customer/ube/gbfs/v1/",
         "href": "/v2/networks/c-velo",
         "id": "c-velo",
         "location": {
          "city": "Clermont-Ferrand",
          "country": "FR",
          "latitude": 45.7831,
          "longitude": 3.0824
         },
         "name": "C.vélo"
        },
        {
         "company": [
          "Smoove"
         ],
         "gbfs_href": "https://saint-etienne-fr-smoove.klervi.net/gbfs/gbfs.json",
         "href": "/v2/networks/velivert",
         "id": "velivert",
         "location": {
          "city": "Saint-Étienne",
          "country": "FR",
          "latitude": 45.396667,
          "longitude": 4.290833
         },
         "name": "VéliVert"
        },
        {
         "company": [
          "Comunicare S.r.l."
         ],
         "href": "/v2/networks/brindisi",
         "id": "brindisi",
         "location": {
          "city": "Brindisi",
          "country": "IT",
          "latitude": 40.637580319936106,
          "longitude": 17.940774547082572
         },
         "name": "BrindisiByBike",
         "source": "https://www.bicincitta.com/frmLeStazioni.aspx?ID=197"
        },
        {
         "company": [
          "TCRA Public Transport Region Avignon",
          "Fifteen"
         ],
         "gbfs_href": "",
         "href": "/v2/networks/velopop",
         "id": "velopop",
         "location": {
          "city": "Avignon",
          "country": "FR",
          "latitude": 43.943689,
          "longitude": 4.805833
         },
         "name": "Vélopop"
        },
        {
         "company": [
          "Smoove"
         ],
         "href": "/v2/networks/batumvelo",
         "id": "batumvelo",
         "location": {
          "city": "Batumi",
          "country": "GE",
          "latitude": 41.660906,
          "longitude": 41.678835
         },
         "name": "Batumvelo"
        },
        {
         "company": [
          "Comunicare S.r.l."
         ],
         "href": "/v2/networks/tradate",
         "id": "tradate",
         "location": {
          "city": "Tradate",
          "country": "IT",
          "latitude": 45.70938576720161,
          "longitude": 8.915993391601548
         },
         "name": "Tradate",
         "source": "https://www.bicincitta.com/frmLeStazioni.aspx?ID=198"
        },
        {
         "company": [
          "Mobilicidade Tecnologia LTD",
          "Grupo Serttel LTDA"
         ],
         "href": "/v2/networks/bikebh",
         "id": "bikebh",
         "location": {
          "city": "Belo Horizonte",
          "country": "BR",
          "latitude": -19.920793,
          "longitude": -43.922165
         },
         "name": "BikeBH"
        },
        {
         "company": [
          "Mobilicidade Tecnologia LTD",
          "Grupo Serttel LTDA"
         ],
         "href": "/v2/networks/bikepetrolina",
         "id": "bikepetrolina",
         "location": {
          "city": "Petrolina",
          "country": "BR",
          "latitude": -9.389049,
          "longitude": -40.502751
         },
         "name": "BikePetrolina"
        },
        {
         "company": [
          "Comunicare S.r.l."
         ],
         "href": "/v2/networks/jesinbici",
         "id": "jesinbici",
         "location": {
          "city": "Jesi",
          "country": "IT",
          "latitude": 43.522601,
          "longitude": 13.244448
         },
         "name": "JesinBici",
         "source": "https://www.bicincitta.com/frmLeStazioni.aspx?ID=236"
        },
        {
         "company": [
          "Comunicare S.r.l."
         ],
         "href": "/v2/networks/nbici",
         "id": "nbici",
         "location": {
          "city": "Pamplona",
          "country": "ES",
          "latitude": 42.8116631,
          "longitude": -1.6482653
         },
         "name": "nbici",
         "source": "https://www.bicincitta.com/frmLeStazioni.aspx?ID=230"
        },
        {
         "company": [
          "Tembici"
         ],
         "gbfs_href": "https://brasilia.publicbikesystem.net/customer/ube/gbfs/v1/",
         "href": "/v2/networks/bikebrasilia",
         "id": "bikebrasilia",
         "location": {
          "city": "Brasília",
          "country": "BR",
          "latitude": -15.795115,
          "longitude": -47.887424
         },
         "name": "BikeBrasilia"
        },
        {
         "company": [
          "Mobilicidade Tecnologia LTD",
          "Grupo Serttel LTDA"
         ],
         "href": "/v2/networks/debikegoiania",
         "id": "debikegoiania",
         "location": {
          "city": "Goiânia",
          "country": "BR",
          "latitude": -16.670492,
          "longitude": -49.259535
         },
         "name": "GynDebike"
        },
        {
         "company": [
          "Comunicare S.r.l."
         ],
         "href": "/v2/networks/treviso",
         "id": "treviso",
         "location": {
          "city": "Treviso",
          "country": "IT",
          "latitude": 45.6669011,
          "longitude": 12.243039
         },
         "name": "Treviso",
         "source": "https://www.bicincitta.com/frmLeStazioni.aspx?ID=179"
        },
        {
         "company": [
          "Mobilicidade Tecnologia LTD",
          "Grupo Serttel LTDA"
         ],
         "href": "/v2/networks/bicicletar",
         "id": "bicicletar",
         "location": {
          "city": "Fortaleza",
          "country": "BR",
          "latitude": -3.7321944,
          "longitude": -38.510347
         },
         "name": "Bicicletar"
        },
        {
         "company": [
          "Mobilicidade Tecnologia LTD",
          "Grupo Serttel LTDA"
         ],
         "href": "/v2/networks/cajubike",
         "id": "cajubike",
         "location": {
          "city": "Aracajú",
          "country": "BR",
          "latitude": -10.987263,
          "longitude": -37.051898
         },
         "name": "CajuBike"
        },
        {
         "company": [
          "Mobilicidade Tecnologia LTD",
          "Grupo Serttel LTDA"
         ],
         "href": "/v2/networks/bikebelem",
         "id": "bikebelem",
         "location": {
          "city": "Belém",
          "country": "BR",
          "latitude": -1.4600794,
          "longitude": -48.490865
         },
         "name": "Bike Belém"
        },
        {
         "company": [
          "Comunicare S.r.l."
         ],
         "href": "/v2/networks/sondrio",
         "id": "sondrio",
         "location": {
          "city": "Sondrio",
          "country": "IT",
          "latitude": 46.1698583,
          "longitude": 9.8787674
         },
         "name": "Sondrio",
         "source": "https://www.bicincitta.com/frmLeStazioni.aspx?ID=213"
        },
        {
         "company": [
          "Mobilicidade Tecnologia LTD",
          "Grupo Serttel LTDA"
         ],
         "href": "/v2/networks/bikesantos",
         "id": "bikesantos",
         "location": {
          "city": "Santos",
          "country": "BR",
          "latitude": -23.954052,
          "longitude": -46.333345
         },
         "name": "BikeSantos"
        },
        {
         "company": [
          "Comunicare S.r.l."
         ],
         "href": "/v2/networks/vercelli",
         "id": "vercelli",
         "location": {
          "city": "Vercelli",
          "country": "IT",
          "latitude": 45.32022720000001,
          "longitude": 8.418573499999999
         },
         "name": "Vercelli",
         "source": "https://www.bicincitta.com/frmLeStazioni.aspx?ID=235"
        },
        {
         "company": [
          "Comunicare S.r.l."
         ],
         "href": "/v2/networks/portofino-park-and-bike",
         "id": "portofino-park-and-bike",
         "location": {
          "city": "Santa Margherita Ligure - Portofino - Camogli",
          "country": "IT",
          "latitude": 44.335084,
          "longitude": 9.211264
         },
         "name": "Portofino Park and Bike",
         "source": "https://www.bicincitta.com/frmLeStazioni.aspx?ID=128"
        },
        {
         "company": [
          "Mobilicidade Tecnologia LTD",
          "Municipalidad de Rosario"
         ],
         "gbfs_href": "https://www.mibicitubici.gob.ar/opendata/gbfs.json",
         "href": "/v2/networks/mibicitubici",
         "id": "mibicitubici",
         "location": {
          "city": "Rosario",
          "country": "AR",
          "latitude": -32.95,
          "longitude": -60.65
         },
         "name": "Mi bici tu bici"
        },
        {
         "company": [
          "DecoBike LLC"
         ],
         "href": "/v2/networks/decobike-miami-beach",
         "id": "decobike-miami-beach",
         "location": {
          "city": "Miami Beach, FL",
          "country": "US",
          "latitude": 25.790654,
          "longitude": -80.1300455
         },
         "name": "Citi Bike Miami"
        },
        {
         "company": [
          "DecoBike LLC"
         ],
         "href": "/v2/networks/decobike-san-diego",
         "id": "decobike-san-diego",
         "location": {
          "city": "San Diego, CA",
          "country": "US",
          "latitude": 32.715738,
          "longitude": -117.1610838
         },
         "name": "Decobike San Diego"
        },
        {
         "company": [
          "Comunicare S.r.l."
         ],
         "href": "/v2/networks/meglio-in-bici",
         "id": "meglio-in-bici",
         "location": {
          "city": "Cernusco sul Naviglio - Pioltello - Carugate",
          "country": "IT",
          "latitude": 45.520541,
          "longitude": 9.341984
         },
         "name": "Meglio in Bici",
         "source": "https://www.bicincitta.com/frmLeStazioni.aspx?ID=121"
        },
        {
         "company": [
          "BCycle, LLC"
         ],
         "gbfs_href": "https://gbfs.bcycle.com/bcycle_desmoines/gbfs.json",
         "href": "/v2/networks/desmoines",
         "id": "desmoines",
         "location": {
          "city": "Des Moines, IA",
          "country": "US",
          "latitude": 41.6005448,
          "longitude": -93.6091064
         },
         "name": "Des Moines B-cycle"
        },
        {
         "company": [
          "Comunicare S.r.l."
         ],
         "href": "/v2/networks/ossola",
         "id": "ossola",
         "location": {
          "city": "Santa Maria Maggiore - Malesco - Villette",
          "country": "IT",
          "latitude": 46.127196,
          "longitude": 8.499169
         },
         "name": "Comunità Montana Valli dell'Ossola",
         "source": "https://www.bicincitta.com/frmLeStazioni.aspx?ID=152"
        },
        {
         "company": [
          "BCycle, LLC"
         ],
         "gbfs_href": "https://gbfs.bcycle.com/bcycle_greenville/gbfs.json",
         "href": "/v2/networks/greenville",
         "id": "greenville",
         "location": {
          "city": "Greenville, SC",
          "country": "US",
          "latitude": 34.85261759999999,
          "longitude": -82.3940104
         },
         "name": "Greenville B-cycle"
        },
        {
         "company": [
          "Comunicare S.r.l."
         ],
         "href": "/v2/networks/bicincitta-mezzolombardo",
         "id": "bicincitta-mezzolombardo",
         "location": {
          "city": "Mezzolombardo",
          "country": "IT",
          "latitude": 46.21400260000001,
          "longitude": 11.0967867
         },
         "name": "Bicincittà",
         "source": "https://www.bicincitta.com/frmLeStazioni.aspx?ID=228"
        },
        {
         "company": [
          "Comunicare S.r.l."
         ],
         "href": "/v2/networks/bicincitta-lausanne-campus-morges",
         "id": "bicincitta-lausanne-campus-morges",
         "location": {
          "city": "Lausanne - Morges - Campus",
          "country": "CH",
          "latitude": 46.5196535,
          "longitude": 6.6322734
         },
         "name": "Bicincittà",
         "source": "https://www.bicincitta.com/frmLeStazioni.aspx?ID=123"
        },
        {
         "company": [
          "Comunicare S.r.l."
         ],
         "href": "/v2/networks/bicincitta-scafati",
         "id": "bicincitta-scafati",
         "location": {
          "city": "Scafati",
          "country": "IT",
          "latitude": 40.7620174,
          "longitude": 14.5363969
         },
         "name": "Bicincittà",
         "source": "https://www.bicincitta.com/frmLeStazioni.aspx?ID=106"
        },
        {
         "company": [
          "Comunicare S.r.l."
         ],
         "href": "/v2/networks/bicincitta-livorno",
         "id": "bicincitta-livorno",
         "location": {
          "city": "Livorno",
          "country": "IT",
          "latitude": 43.548473,
          "longitude": 10.3105674
         },
         "name": "Bicincittà",
         "source": "https://www.bicincitta.com/frmLeStazioni.aspx?ID=226"
        },
        {
         "company": [
          "Comunicare S.r.l."
         ],
         "href": "/v2/networks/bicincitta-valais-central",
         "id": "bicincitta-valais-central",
         "location": {
          "city": "Sion",
          "country": "CH",
          "latitude": 46.2331221,
          "longitude": 7.360625999999999
         },
         "name": "Bicincittà",
         "source": "https://www.bicincitta.com/frmLeStazioni.aspx?ID=89"
        },
        {
         "company": [
          "Comunicare S.r.l."
         ],
         "href": "/v2/networks/bicincitta-forli",
         "id": "bicincitta-forli",
         "location": {
          "city": "Forlì",
          "country": "IT",
          "latitude": 44.2227398,
          "longitude": 12.0407312
         },
         "name": "Mi Muovo in Bici",
         "source": "http://www.mimuovoinbici.it/frmLeStazioni.aspx?ID=119"
        },
        {
         "company": [
          "Comunicare S.r.l."
         ],
         "href": "/v2/networks/bicincitta-rivarolo-canavese",
         "id": "bicincitta-rivarolo-canavese",
         "location": {
          "city": "Rivarolo Canavese",
          "country": "IT",
          "latitude": 45.306633,
          "longitude": 7.723242
         },
         "name": "Bicincittà",
         "source": "https://www.bicincitta.com/frmLeStazioni.aspx?ID=227"
        },
        {
         "company": [
          "Comunicare S.r.l."
         ],
         "href": "/v2/networks/bicincitta-monserrato",
         "id": "bicincitta-monserrato",
         "location": {
          "city": "Monserrato",
          "country": "IT",
          "latitude": 39.2560191,
          "longitude": 9.1453579
         },
         "name": "Bicincittà",
         "source": "https://www.bicincitta.com/frmLeStazioni.aspx?ID=220"
        },
        {
         "company": [
          "Comunicare S.r.l."
         ],
         "href": "/v2/networks/bicincitta-mezzocorona",
         "id": "bicincitta-mezzocorona",
         "location": {
          "city": "Mezzocorona",
          "country": "IT",
          "latitude": 46.2339047,
          "longitude": 11.1277461
         },
         "name": "Bicincittà",
         "source": "https://www.bicincitta.com/frmLeStazioni.aspx?ID=229"
        },
        {
         "company": [
          "Comunicare S.r.l."
         ],
         "href": "/v2/networks/bicincitta-san-lazzaro-di-savena",
         "id": "bicincitta-san-lazzaro-di-savena",
         "location": {
          "city": "San Lazzaro di Savena",
          "country": "IT",
          "latitude": 44.4702725,
          "longitude": 11.409399
         },
         "name": "Mi Muovo in Bici",
         "source": "http://www.mimuovoinbici.it/frmLeStazioni.aspx?ID=100"
        },
        {
         "company": [
          "Comunicare S.r.l."
         ],
         "href": "/v2/networks/bicincitta-san-teodoro",
         "id": "bicincitta-san-teodoro",
         "location": {
          "city": "San Teodoro",
          "country": "IT",
          "latitude": 40.7722837,
          "longitude": 9.6695458
         },
         "name": "Bicincittà",
         "source": "https://www.bicincitta.com/frmLeStazioni.aspx?ID=225"
        },
        {
         "company": [
          "Comunicare S.r.l."
         ],
         "href": "/v2/networks/bicincitta-parco-molentargius-saline",
         "id": "bicincitta-parco-molentargius-saline",
         "location": {
          "city": "Parco Naturale Molentargius - Saline",
          "country": "IT",
          "latitude": 39.2052545,
          "longitude": 9.146761099999999
         },
         "name": "Bicincittà",
         "source": "https://www.bicincitta.com/frmLeStazioni.aspx?ID=151"
        },
        {
         "company": [
          "Comunicare S.r.l."
         ],
         "href": "/v2/networks/parkinbici",
         "id": "parkinbici",
         "location": {
          "city": "Parco Nazionale del Gargano",
          "country": "IT",
          "latitude": 41.7817081,
          "longitude": 15.8516421
         },
         "name": "Parkinbici",
         "source": "https://www.bicincitta.com/frmLeStazioni.aspx?ID=105"
        },
        {
         "company": [
          "Comunicare S.r.l."
         ],
         "href": "/v2/networks/bicincitta-gallipoli",
         "id": "bicincitta-gallipoli",
         "location": {
          "city": "Gallipoli",
          "country": "IT",
          "latitude": 40.0558554,
          "longitude": 17.9925085
         },
         "name": "Bicincittà",
         "source": "https://www.bicincitta.com/frmLeStazioni.aspx?ID=109"
        },
        {
         "company": [
          "Comunicare S.r.l."
         ],
         "href": "/v2/networks/bicincitta-castel-guelfo-the-style-outlets",
         "id": "bicincitta-castel-guelfo-the-style-outlets",
         "location": {
          "city": "Castel Guelfo di Bologna",
          "country": "IT",
          "latitude": 44.4328527,
          "longitude": 11.6750857
         },
         "name": "Bicincittà",
         "source": "https://www.bicincitta.com/frmLeStazioni.aspx?ID=233"
        },
        {
         "company": [
          "Comunicare S.r.l."
         ],
         "href": "/v2/networks/bicincitta-san-michele-alladige",
         "id": "bicincitta-san-michele-alladige",
         "location": {
          "city": "San Michele All'adige",
          "country": "IT",
          "latitude": 46.1878653,
          "longitude": 11.1330423
         },
         "name": "Bicincittà",
         "source": "https://www.bicincitta.com/frmLeStazioni.aspx?ID=231"
        },
        {
         "company": [
          "Comunicare S.r.l."
         ],
         "href": "/v2/networks/bicincitta-agglo-fribourg",
         "id": "bicincitta-agglo-fribourg",
         "location": {
          "city": "Fribourg",
          "country": "CH",
          "latitude": 46.8064773,
          "longitude": 7.161971899999999
         },
         "name": "Bicincittà",
         "source": "https://www.bicincitta.com/frmLeStazioni.aspx?ID=33"
        },
        {
         "company": [
          "Comunicare S.r.l."
         ],
         "href": "/v2/networks/bicincitta-modena",
         "id": "bicincitta-modena",
         "location": {
          "city": "Modena",
          "country": "IT",
          "latitude": 44.647128,
          "longitude": 10.9252269
         },
         "name": "Mi Muovo in bici",
         "source": "http://www.mimuovoinbici.it/frmLeStazioni.aspx?ID=180"
        },
        {
         "company": [
          "Comunicare S.r.l."
         ],
         "href": "/v2/networks/bicincitta-brancaleone",
         "id": "bicincitta-brancaleone",
         "location": {
          "city": "Brancaleone",
          "country": "IT",
          "latitude": 37.9679084,
          "longitude": 16.0757749
         },
         "name": "Bicincittà",
         "source": "https://www.bicincitta.com/frmLeStazioni.aspx?ID=104"
        },
        {
         "company": [
          "Comunicare S.r.l."
         ],
         "href": "/v2/networks/bicincitta-bulle",
         "id": "bicincitta-bulle",
         "location": {
          "city": "Bulle",
          "country": "CH",
          "latitude": 46.6154512,
          "longitude": 7.057726799999999
         },
         "name": "Bicincittà",
         "source": "https://www.bicincitta.com/frmLeStazioni.aspx?ID=34"
        },
        {
         "company": [
          "Comunicare S.r.l."
         ],
         "href": "/v2/networks/bicincitta-riviera",
         "id": "bicincitta-riviera",
         "location": {
          "city": "Distretto della Riviera-Pays-d'Enhaut",
          "country": "CH",
          "latitude": 46.4628333,
          "longitude": 6.8419192
         },
         "name": "Bicincittà",
         "source": "https://www.bicincitta.com/frmLeStazioni.aspx?ID=129"
        },
        {
         "company": [
          "Comunicare S.r.l."
         ],
         "href": "/v2/networks/bicincitta-scandiano",
         "id": "bicincitta-scandiano",
         "location": {
          "city": "Scandiano",
          "country": "IT",
          "latitude": 44.5982342,
          "longitude": 10.6909273
         },
         "name": "Mi Muovo in Bici",
         "source": "http://www.mimuovoinbici.it/frmLeStazioni.aspx?ID=94"
        },
        {
         "company": [
          "Comunicare S.r.l."
         ],
         "href": "/v2/networks/bicincitta-elmas",
         "id": "bicincitta-elmas",
         "location": {
          "city": "Elmas",
          "country": "IT",
          "latitude": 39.2634329,
          "longitude": 9.0515805
         },
         "name": "Bicincittà",
         "source": "https://www.bicincitta.com/frmLeStazioni.aspx?ID=218"
        },
        {
         "company": [
          "Comunicare S.r.l."
         ],
         "href": "/v2/networks/bicincitta-tivat",
         "id": "bicincitta-tivat",
         "location": {
          "city": "TV",
          "country": "ME",
          "latitude": 42.4349809,
          "longitude": 18.7066398
         },
         "name": "Bicincittà",
         "source": "https://www.bicincitta.com/frmLeStazioni.aspx?ID=87"
        },
        {
         "company": [
          "Comunicare S.r.l."
         ],
         "href": "/v2/networks/bicincitta-acquaviva-delle-fonti",
         "id": "bicincitta-acquaviva-delle-fonti",
         "location": {
          "city": "Acquaviva delle fonti",
          "country": "IT",
          "latitude": 40.9303721,
          "longitude": 16.8414374
         },
         "name": "Bicincittà",
         "source": "https://www.bicincitta.com/frmLeStazioni.aspx?ID=160"
        },
        {
         "company": [
          "Comunicare S.r.l."
         ],
         "href": "/v2/networks/we-love-bike",
         "id": "we-love-bike",
         "location": {
          "city": "Lodi",
          "country": "IT",
          "latitude": 45.3097228,
          "longitude": 9.503715999999999
         },
         "name": "We Love bike",
         "source": "https://www.bicincitta.com/frmLeStazioni.aspx?ID=190"
        },
        {
         "company": [
          "Comunicare S.r.l."
         ],
         "href": "/v2/networks/bicincitta-acquarica-del-capo",
         "id": "bicincitta-acquarica-del-capo",
         "location": {
          "city": "Acquarica del Capo",
          "country": "IT",
          "latitude": 39.9144573,
          "longitude": 18.2450324
         },
         "name": "Bicincittà",
         "source": "https://www.bicincitta.com/frmLeStazioni.aspx?ID=146"
        },
        {
         "company": [
          "Comunicare S.r.l."
         ],
         "href": "/v2/networks/bicincitta-vicolungo-the-style-outlets",
         "id": "bicincitta-vicolungo-the-style-outlets",
         "location": {
          "city": "Vicolungo",
          "country": "IT",
          "latitude": 45.47167229999999,
          "longitude": 8.4633922
         },
         "name": "Bicincittà",
         "source": "https://www.bicincitta.com/frmLeStazioni.aspx?ID=232"
        },
        {
         "company": [
          "Comunicare S.r.l."
         ],
         "href": "/v2/networks/bicincitta-porto-torres",
         "id": "bicincitta-porto-torres",
         "location": {
          "city": "Porto Torres",
          "country": "IT",
          "latitude": 40.8333682,
          "longitude": 8.402292899999999
         },
         "name": "Bicincittà",
         "source": "https://www.bicincitta.com/frmLeStazioni.aspx?ID=221"
        },
        {
         "company": [
          "Comunicare S.r.l."
         ],
         "href": "/v2/networks/bicincitta-cisterna-di-latina",
         "id": "bicincitta-cisterna-di-latina",
         "location": {
          "city": "Cisterna di Latina",
          "country": "IT",
          "latitude": 41.5754029,
          "longitude": 12.8284772
         },
         "name": "Bicincittà",
         "source": "https://www.bicincitta.com/frmLeStazioni.aspx?ID=217"
        },
        {
         "company": [
          "Comunicare S.r.l."
         ],
         "href": "/v2/networks/bicincitta-casaletto-spartano",
         "id": "bicincitta-casaletto-spartano",
         "location": {
          "city": "Casaletto Spartano",
          "country": "IT",
          "latitude": 40.1532801,
          "longitude": 15.6211479
         },
         "name": "Bicincittà",
         "source": "https://www.bicincitta.com/frmLeStazioni.aspx?ID=199"
        },
        {
         "company": [
          "Comunicare S.r.l."
         ],
         "href": "/v2/networks/bicincitta-selargius",
         "id": "bicincitta-selargius",
         "location": {
          "city": "Selargius",
          "country": "IT",
          "latitude": 39.2596768,
          "longitude": 9.1629372
         },
         "name": "Bicincittà",
         "source": "https://www.bicincitta.com/frmLeStazioni.aspx?ID=219"
        },
        {
         "company": [
          "Comunicare S.r.l."
         ],
         "href": "/v2/networks/bicincitta-yverdon-les-bains",
         "id": "bicincitta-yverdon-les-bains",
         "location": {
          "city": "Yverdon-les-Bains",
          "country": "CH",
          "latitude": 46.7784736,
          "longitude": 6.641183
         },
         "name": "Bicincittà",
         "source": "https://www.bicincitta.com/frmLeStazioni.aspx?ID=116"
        },
        {
         "company": [
          "Comunicare S.r.l."
         ],
         "href": "/v2/networks/bicincitta-monza",
         "id": "bicincitta-monza",
         "location": {
          "city": "Monza",
          "country": "IT",
          "latitude": 45.5845001,
          "longitude": 9.2744485
         },
         "name": "Bicincittà",
         "source": "https://www.bicincitta.com/frmLeStazioni.aspx?ID=224"
        },
        {
         "company": [
          "Comunicare S.r.l."
         ],
         "href": "/v2/networks/bicincitta-la-cote",
         "id": "bicincitta-la-cote",
         "location": {
          "city": "Nyon",
          "country": "CH",
          "latitude": 46.3832683,
          "longitude": 6.2347852
         },
         "name": "Bicincittà",
         "source": "https://www.bicincitta.com/frmLeStazioni.aspx?ID=32"
        },
        {
         "company": [
          "Comunicare S.r.l."
         ],
         "href": "/v2/networks/bicincitta-morigerati",
         "id": "bicincitta-morigerati",
         "location": {
          "city": "Morigerati",
          "country": "IT",
          "latitude": 40.1422031,
          "longitude": 15.5298525
         },
         "name": "Bicincittà",
         "source": "https://www.bicincitta.com/frmLeStazioni.aspx?ID=200"
        },
        {
         "company": [
          "Comunicare S.r.l."
         ],
         "href": "/v2/networks/bicincitta-san-donato-milanese",
         "id": "bicincitta-san-donato-milanese",
         "location": {
          "city": "San Donato Milanese",
          "country": "IT",
          "latitude": 45.4092402,
          "longitude": 9.2684867
         },
         "name": "Bicincittà",
         "source": "https://www.bicincitta.com/frmLeStazioni.aspx?ID=234"
        },
        {
         "company": [
          "Comunicare S.r.l."
         ],
         "href": "/v2/networks/bicincitta-chablais",
         "id": "bicincitta-chablais",
         "location": {
          "city": "Monthey - Aigle",
          "country": "CH",
          "latitude": 46.2521873,
          "longitude": 6.9469598
         },
         "name": "Bicincittà",
         "source": "https://www.bicincitta.com/frmLeStazioni.aspx?ID=60"
        },
        {
         "company": [
          "Comunicare S.r.l."
         ],
         "href": "/v2/networks/bicincitta-ente-parco-del-circeo",
         "id": "bicincitta-ente-parco-del-circeo",
         "location": {
          "city": "Parco Nazionale del Circeo",
          "country": "IT",
          "latitude": 41.3151015,
          "longitude": 13.0330782
         },
         "name": "Bicincittà",
         "source": "https://www.bicincitta.com/frmLeStazioni.aspx?ID=135"
        },
        {
         "company": [
          "Comunicare S.r.l."
         ],
         "href": "/v2/networks/bicincitta-cesena",
         "id": "bicincitta-cesena",
         "location": {
          "city": "Cesena",
          "country": "IT",
          "latitude": 44.1396438,
          "longitude": 12.2464292
         },
         "name": "Mi Muovo in bici",
         "source": "http://www.mimuovoinbici.it/frmLeStazioni.aspx?ID=120"
        },
        {
         "company": [
          "Comunicare S.r.l."
         ],
         "href": "/v2/networks/bicincitta-lugano-paradiso",
         "id": "bicincitta-lugano-paradiso",
         "location": {
          "city": "Paradiso",
          "country": "CH",
          "latitude": 45.9907174,
          "longitude": 8.945261799999999
         },
         "name": "Bicincittà",
         "source": "https://www.bicincitta.com/frmLeStazioni.aspx?ID=130"
        },
        {
         "company": [
          "Comunicare S.r.l."
         ],
         "href": "/v2/networks/lecco",
         "id": "lecco",
         "location": {
          "city": "Lecco",
          "country": "IT",
          "latitude": 45.8565698,
          "longitude": 9.397670399999999
         },
         "name": "Bicincittà",
         "source": "https://www.bicincitta.com/frmLeStazioni.aspx?ID=49"
        },
        {
         "company": [
          "Comunicare S.r.l."
         ],
         "href": "/v2/networks/bicincitta-alghero",
         "id": "bicincitta-alghero",
         "location": {
          "city": "Alghero",
          "country": "IT",
          "latitude": 40.5579517,
          "longitude": 8.319294900000001
         },
         "name": "Bicincittà",
         "source": "https://www.bicincitta.com/frmLeStazioni.aspx?ID=237"
        },
        {
         "company": [
          "Comunicare S.r.l."
         ],
         "href": "/v2/networks/bicincitta-san-giovanni-in-persiceto",
         "id": "bicincitta-san-giovanni-in-persiceto",
         "location": {
          "city": "San Giovanni in Persiceto",
          "country": "IT",
          "latitude": 44.6405433,
          "longitude": 11.1893053
         },
         "name": "Mi Muovo in Bici",
         "source": "http://www.mimuovoinbici.it/frmLeStazioni.aspx?ID=101"
        },
        {
         "company": [
          "Comunicare S.r.l."
         ],
         "href": "/v2/networks/bicincitta-ente-parco-san-rossore",
         "id": "bicincitta-ente-parco-san-rossore",
         "location": {
          "city": "Parco naturale Migliarino San Rossore Massaciuccoli",
          "country": "IT",
          "latitude": 43.723826,
          "longitude": 10.339509
         },
         "name": "Bicincittà",
         "source": "https://www.bicincitta.com/frmLeStazioni.aspx?ID=145"
        },
        {
         "company": [
          "Comunicare S.r.l."
         ],
         "href": "/v2/networks/bicincitta-treviglio",
         "id": "bicincitta-treviglio",
         "location": {
          "city": "Treviglio",
          "country": "IT",
          "latitude": 45.5293372,
          "longitude": 9.591435899999999
         },
         "name": "Bicincittà",
         "source": "https://www.bicincitta.com/frmLeStazioni.aspx?ID=174"
        },
        {
         "company": [
          "Comunicare S.r.l."
         ],
         "href": "/v2/networks/bicincitta-lavis",
         "id": "bicincitta-lavis",
         "location": {
          "city": "Lavis",
          "country": "IT",
          "latitude": 46.1408423,
          "longitude": 11.1124935
         },
         "name": "Bicincittà",
         "source": "https://www.bicincitta.com/frmLeStazioni.aspx?ID=238"
        },
        {
         "company": [
          "Comunicare S.r.l."
         ],
         "href": "/v2/networks/bicincitta-les-lacs-romont",
         "id": "bicincitta-les-lacs-romont",
         "location": {
          "city": "Murten",
          "country": "CH",
          "latitude": 46.92922110000001,
          "longitude": 7.120184
         },
         "name": "Bicincittà",
         "source": "https://www.bicincitta.com/frmLeStazioni.aspx?ID=35"
        },
        {
         "company": [
          "Comunicare S.r.l."
         ],
         "href": "/v2/networks/bicincitta-ente-parco-di-montemarcello-magra",
         "id": "bicincitta-ente-parco-di-montemarcello-magra",
         "location": {
          "city": "Ente Parco Montemarcello Magra",
          "country": "IT",
          "latitude": 44.1143897,
          "longitude": 9.9635986
         },
         "name": "Bicincittà",
         "source": "https://www.bicincitta.com/frmLeStazioni.aspx?ID=132"
        },
        {
         "company": [
          "Comunicare S.r.l."
         ],
         "href": "/v2/networks/bicischio",
         "id": "bicischio",
         "location": {
          "city": "Schio",
          "country": "IT",
          "latitude": 45.7170517,
          "longitude": 11.3597702
         },
         "name": "BiciSchio",
         "source": "https://www.bicincitta.com/frmLeStazioni.aspx?ID=91"
        },
        {
         "company": [
          "Comunicare S.r.l."
         ],
         "href": "/v2/networks/bicincitta-imola",
         "id": "bicincitta-imola",
         "location": {
          "city": "Imola",
          "country": "IT",
          "latitude": 44.3559128,
          "longitude": 11.7161197
         },
         "name": "Mi Muovo in bici",
         "source": "http://www.mimuovoinbici.it/frmLeStazioni.aspx?ID=196"
        },
        {
         "company": [
          "Nextbike GmbH"
         ],
         "href": "/v2/networks/nextbike-leipzig",
         "id": "nextbike-leipzig",
         "location": {
          "city": "Leipzig",
          "country": "DE",
          "latitude": 51.3415,
          "longitude": 12.3625
         },
         "name": "Nextbike"
        },
        {
         "company": [
          "Nextbike GmbH"
         ],
         "href": "/v2/networks/nextbike-wiesbaden",
         "id": "nextbike-wiesbaden",
         "location": {
          "city": "Wiesbaden",
          "country": "DE",
          "latitude": 50.0709,
          "longitude": 8.24322
         },
         "name": "Nextbike"
        },
        {
         "company": [
          "Nextbike GmbH"
         ],
         "href": "/v2/networks/visa-frankfurt",
         "id": "visa-frankfurt",
         "location": {
          "city": "Frankfurt",
          "country": "DE",
          "latitude": 50.1072,
          "longitude": 8.66375
         },
         "name": "VISA"
        },
        {
         "company": [
          "Nextbike GmbH"
         ],
         "href": "/v2/networks/kvb-rad-koln",
         "id": "kvb-rad-koln",
         "location": {
          "city": "Köln",
          "country": "DE",
          "latitude": 50.9429,
          "longitude": 6.95649
         },
         "name": "KVB Rad"
        },
        {
         "company": [
          "Nextbike GmbH"
         ],
         "href": "/v2/networks/facherrad-karlsruhe",
         "id": "facherrad-karlsruhe",
         "location": {
          "city": "Karlsruhe",
          "country": "DE",
          "latitude": 49.0102,
          "longitude": 8.41827
         },
         "name": "Fächerrad"
        },
        {
         "company": [
          "Nextbike GmbH"
         ],
         "href": "/v2/networks/burgenland-neusiedler-see",
         "id": "burgenland-neusiedler-see",
         "location": {
          "city": "Neusiedler See",
          "country": "AT",
          "latitude": 47.839,
          "longitude": 16.761
         },
         "name": "Burgenland"
        },
        {
         "company": [
          "Nextbike GmbH"
         ],
         "href": "/v2/networks/nextbike-dusseldorf",
         "id": "nextbike-dusseldorf",
         "location": {
          "city": "Düsseldorf",
          "country": "DE",
          "latitude": 51.2243,
          "longitude": 6.77204
         },
         "name": "Nextbike"
        },
        {
         "company": [
          "Nextbike GmbH"
         ],
         "href": "/v2/networks/nextbike-stpolten",
         "id": "nextbike-stpolten",
         "location": {
          "city": "St.Pölten",
          "country": "AT",
          "latitude": 48.2058,
          "longitude": 15.6232
         },
         "name": "Nextbike"
        },
        {
         "company": [
          "Nextbike GmbH"
         ],
         "href": "/v2/networks/nextbike-modling",
         "id": "nextbike-modling",
         "location": {
          "city": "Mödling",
          "country": "AT",
          "latitude": 48.1047,
          "longitude": 16.3202
         },
         "name": "Nextbike"
        },
        {
         "company": [
          "Nextbike GmbH"
         ],
         "href": "/v2/networks/nextbike-sursee",
         "id": "nextbike-sursee",
         "location": {
          "city": "Sursee",
          "country": "CH",
          "latitude": 47.1713,
          "longitude": 8.10877
         },
         "name": "Nextbike"
        },
        {
         "company": [
          "Nextbike GmbH"
         ],
         "href": "/v2/networks/nextbike-luzern",
         "id": "nextbike-luzern",
         "location": {
          "city": "Luzern",
          "country": "CH",
          "latitude": 47.0472,
          "longitude": 8.30446
         },
         "name": "Nextbike"
        },
        {
         "company": [
          "Nextbike GmbH"
         ],
         "href": "/v2/networks/sixt-riga",
         "id": "sixt-riga",
         "location": {
          "city": "Rīga",
          "country": "LV",
          "latitude": 56.9453,
          "longitude": 24.1033
         },
         "name": "SiXT"
        },
        {
         "company": [
          "Nextbike GmbH"
         ],
         "href": "/v2/networks/metropolradruhr-dortmund",
         "id": "metropolradruhr-dortmund",
         "location": {
          "city": "Dortmund",
          "country": "DE",
          "latitude": 51.5141,
          "longitude": 7.46255
         },
         "name": "metropolradruhr"
        },
        {
         "company": [
          "Nextbike GmbH"
         ],
         "href": "/v2/networks/metropolradruhr-bochum",
         "id": "metropolradruhr-bochum",
         "location": {
          "city": "Bochum",
          "country": "DE",
          "latitude": 51.4813,
          "longitude": 7.2133
         },
         "name": "metropolradruhr"
        },
        {
         "company": [
          "Nextbike GmbH"
         ],
         "href": "/v2/networks/metropolradruhr-bottrop",
         "id": "metropolradruhr-bottrop",
         "location": {
          "city": "Bottrop",
          "country": "DE",
          "latitude": 51.5263,
          "longitude": 6.94611
         },
         "name": "metropolradruhr"
        },
        {
         "company": [
          "Nextbike GmbH"
         ],
         "href": "/v2/networks/metropolradruhr-duisburg",
         "id": "metropolradruhr-duisburg",
         "location": {
          "city": "Duisburg",
          "country": "DE",
          "latitude": 51.4487,
          "longitude": 6.77513
         },
         "name": "metropolradruhr"
        },
        {
         "company": [
          "Nextbike GmbH"
         ],
         "href": "/v2/networks/metropolradruhr-essen",
         "id": "metropolradruhr-essen",
         "location": {
          "city": "Essen",
          "country": "DE",
          "latitude": 51.4425,
          "longitude": 7.02301
         },
         "name": "metropolradruhr"
        },
        {
         "company": [
          "Nextbike GmbH"
         ],
         "href": "/v2/networks/metropolradruhr-gelsenkirchen",
         "id": "metropolradruhr-gelsenkirchen",
         "location": {
          "city": "Gelsenkirchen",
          "country": "DE",
          "latitude": 51.5404,
          "longitude": 7.07039
         },
         "name": "metropolradruhr"
        },
        {
         "company": [
          "Nextbike GmbH"
         ],
         "href": "/v2/networks/metropolradruhr-hamm",
         "id": "metropolradruhr-hamm",
         "location": {
          "city": "Hamm",
          "country": "DE",
          "latitude": 51.6775,
          "longitude": 7.84836
         },
         "name": "metropolradruhr"
        },
        {
         "company": [
          "Nextbike GmbH"
         ],
         "href": "/v2/networks/metropolradruhr-herne",
         "id": "metropolradruhr-herne",
         "location": {
          "city": "Herne",
          "country": "DE",
          "latitude": 51.5363,
          "longitude": 7.21493
         },
         "name": "metropolradruhr"
        },
        {
         "company": [
          "Nextbike GmbH"
         ],
         "href": "/v2/networks/metropolradruhr-mulheim-adr",
         "id": "metropolradruhr-mulheim-adr",
         "location": {
          "city": "Mülheim a.d.R.",
          "country": "DE",
          "latitude": 51.4308,
          "longitude": 6.87401
         },
         "name": "metropolradruhr"
        },
        {
         "company": [
          "Nextbike GmbH"
         ],
         "href": "/v2/networks/metropolradruhr-oberhausen",
         "id": "metropolradruhr-oberhausen",
         "location": {
          "city": "Oberhausen",
          "country": "DE",
          "latitude": 51.4936,
          "longitude": 6.85169
         },
         "name": "metropolradruhr"
        },
        {
         "company": [
          "Nextbike GmbH"
         ],
         "href": "/v2/networks/nextbike-wachau",
         "id": "nextbike-wachau",
         "location": {
          "city": "Wachau",
          "country": "AT",
          "latitude": 48.3188,
          "longitude": 15.4166
         },
         "name": "Nextbike"
        },
        {
         "company": [
          "Nextbike GmbH"
         ],
         "href": "/v2/networks/nextbike-tulln",
         "id": "nextbike-tulln",
         "location": {
          "city": "Tulln",
          "country": "AT",
          "latitude": 48.3269,
          "longitude": 16.0569
         },
         "name": "Nextbike"
        },
        {
         "company": [
          "Nextbike GmbH"
         ],
         "href": "/v2/networks/nextbike-thermenregion",
         "id": "nextbike-thermenregion",
         "location": {
          "city": "Thermenregion",
          "country": "AT",
          "latitude": 47.9892,
          "longitude": 16.2646
         },
         "name": "Nextbike"
        },
        {
         "company": [
          "Nextbike GmbH"
         ],
         "href": "/v2/networks/wrm-wroclaw",
         "id": "wrm-wroclaw",
         "location": {
          "city": "Wrocław",
          "country": "PL",
          "latitude": 51.1097,
          "longitude": 17.0485
         },
         "name": "WRM"
        },
        {
         "company": [
          "Nextbike GmbH"
         ],
         "href": "/v2/networks/nextbike-offenburg",
         "id": "nextbike-offenburg",
         "location": {
          "city": "Offenburg",
          "country": "DE",
          "latitude": 48.4721,
          "longitude": 7.94243
         },
         "name": "Nextbike"
        },
        {
         "company": [
          "Nextbike GmbH"
         ],
         "href": "/v2/networks/nextbike-wrneustadt",
         "id": "nextbike-wrneustadt",
         "location": {
          "city": "Wr.Neustadt",
          "country": "AT",
          "latitude": 47.8167,
          "longitude": 16.2426
         },
         "name": "Nextbike"
        },
        {
         "company": [
          "Nextbike GmbH"
         ],
         "href": "/v2/networks/nextbike-potsdam",
         "id": "nextbike-potsdam",
         "location": {
          "city": "Potsdam",
          "country": "DE",
          "latitude": 52.3997,
          "longitude": 13.0676
         },
         "name": "Nextbike"
        },
        {
         "company": [
          "Nextbike GmbH"
         ],
         "href": "/v2/networks/nextbike-gutersloh",
         "id": "nextbike-gutersloh",
         "location": {
          "city": "Gütersloh",
          "country": "DE",
          "latitude": 51.9049,
          "longitude": 8.39275
         },
         "name": "Nextbike"
        },
        {
         "company": [
          "Nextbike GmbH"
         ],
         "href": "/v2/networks/nextbike-10vorwien",
         "id": "nextbike-10vorwien",
         "location": {
          "city": "10vorWien",
          "country": "AT",
          "latitude": 48.3403,
          "longitude": 16.279
         },
         "name": "Nextbike"
        },
        {
         "company": [
          "Nextbike GmbH"
         ],
         "href": "/v2/networks/usedomrad-usedom",
         "id": "usedomrad-usedom",
         "location": {
          "city": "Usedom",
          "country": "DE",
          "latitude": 53.9779,
          "longitude": 13.9925
         },
         "name": "UsedomRad"
        },
        {
         "company": [
          "Nextbike GmbH"
         ],
         "href": "/v2/networks/nextbike-norderstedt",
         "id": "nextbike-norderstedt",
         "location": {
          "city": "Norderstedt",
          "country": "DE",
          "latitude": 53.6969,
          "longitude": 10.002
         },
         "name": "Nextbike"
        },
        {
         "company": [
          "Nextbike GmbH"
         ],
         "href": "/v2/networks/swa-rad-augsburg",
         "id": "swa-rad-augsburg",
         "location": {
          "city": "Augsburg",
          "country": "DE",
          "latitude": 48.3647,
          "longitude": 10.8916
         },
         "name": "SWA Rad"
        },
        {
         "company": [
          "Nextbike GmbH"
         ],
         "href": "/v2/networks/nextbike-limassol",
         "id": "nextbike-limassol",
         "location": {
          "city": "Limassol",
          "country": "CY",
          "latitude": 34.6823,
          "longitude": 33.0464
         },
         "name": "Nextbike"
        },
        {
         "company": [
          "Nextbike GmbH"
         ],
         "href": "/v2/networks/prm-poznan",
         "id": "prm-poznan",
         "location": {
          "city": "Poznań",
          "country": "PL",
          "latitude": 52.4077,
          "longitude": 16.9323
         },
         "name": "PRM"
        },
        {
         "company": [
          "Nextbike GmbH"
         ],
         "href": "/v2/networks/nextbike-christchurch",
         "id": "nextbike-christchurch",
         "location": {
          "city": "Christchurch",
          "country": "NZ",
          "latitude": -43.5341,
          "longitude": 172.621
         },
         "name": "Nextbike"
        },
        {
         "company": [
          "Nextbike GmbH"
         ],
         "href": "/v2/networks/vrn-heidelberg",
         "id": "vrn-heidelberg",
         "location": {
          "city": "Heidelberg",
          "country": "DE",
          "latitude": 49.4023,
          "longitude": 8.67577
         },
         "name": "VRN"
        },
        {
         "company": [
          "Nextbike GmbH"
         ],
         "href": "/v2/networks/vrn-mannheim",
         "id": "vrn-mannheim",
         "location": {
          "city": "Mannheim",
          "country": "DE",
          "latitude": 49.4869,
          "longitude": 8.45638
         },
         "name": "VRN"
        },
        {
         "company": [
          "Nextbike GmbH"
         ],
         "href": "/v2/networks/stadtrad-innsbruck",
         "id": "stadtrad-innsbruck",
         "location": {
          "city": "Innsbruck",
          "country": "AT",
          "latitude": 47.2632,
          "longitude": 11.3961
         },
         "name": "Stadtrad"
        },
        {
         "company": [
          "Nextbike GmbH"
         ],
         "href": "/v2/networks/nextbike-nicosia",
         "id": "nextbike-nicosia",
         "location": {
          "city": "Nicosia",
          "country": "CY",
          "latitude": 35.1728,
          "longitude": 33.3653
         },
         "name": "Nextbike"
        },
        {
         "company": [
          "Nextbike GmbH"
         ],
         "href": "/v2/networks/veturilo-warszawa",
         "id": "veturilo-warszawa",
         "location": {
          "city": "Warszawa",
          "country": "PL",
          "latitude": 52.2265,
          "longitude": 21.0127
         },
         "name": "VETURILO"
        },
        {
         "company": [
          "Nextbike GmbH"
         ],
         "href": "/v2/networks/nextbike-hollabrunn",
         "id": "nextbike-hollabrunn",
         "location": {
          "city": "Hollabrunn",
          "country": "AT",
          "latitude": 48.562,
          "longitude": 16.0785
         },
         "name": "Nextbike"
        },
        {
         "company": [
          "Nextbike GmbH"
         ],
         "href": "/v2/networks/nextbike-wienerwald",
         "id": "nextbike-wienerwald",
         "location": {
          "city": "WienerWald",
          "country": "AT",
          "latitude": 48.1926,
          "longitude": 16.141
         },
         "name": "Nextbike"
        },
        {
         "company": [
          "Nextbike GmbH"
         ],
         "href": "/v2/networks/nextbike-zagreb",
         "id": "nextbike-zagreb",
         "location": {
          "city": "Zagreb",
          "country": "HR",
          "latitude": 45.7984,
          "longitude": 15.9789
         },
         "name": "Nextbike"
        },
        {
         "company": [
          "Nextbike GmbH"
         ],
         "href": "/v2/networks/nextbike-glasgow",
         "id": "nextbike-glasgow",
         "location": {
          "city": "Glasgow",
          "country": "GB",
          "latitude": 55.8589,
          "longitude": -4.25549
         },
         "name": "Nextbike"
        },
        {
         "company": [
          "Nextbike GmbH"
         ],
         "href": "/v2/networks/belfastbikes-belfast",
         "id": "belfastbikes-belfast",
         "location": {
          "city": "Belfast",
          "country": "GB",
          "latitude": 54.5969,
          "longitude": -5.92918
         },
         "name": "BelfastBikes"
        },
        {
         "company": [
          "Nextbike GmbH"
         ],
         "href": "/v2/networks/nextbike-stirling",
         "id": "nextbike-stirling",
         "location": {
          "city": "Stirling",
          "country": "GB",
          "latitude": 56.1165,
          "longitude": -3.9369
         },
         "name": "Nextbike"
        },
        {
         "company": [
          "Nextbike GmbH"
         ],
         "href": "/v2/networks/grad-sibenik-sibenik",
         "id": "grad-sibenik-sibenik",
         "location": {
          "city": "Šibenik",
          "country": "HR",
          "latitude": 43.733,
          "longitude": 15.8982
         },
         "name": "Grad Šibenik"
        },
        {
         "company": [
          "Nextbike GmbH"
         ],
         "href": "/v2/networks/lrm-lublin-lublin",
         "id": "lrm-lublin-lublin",
         "location": {
          "city": "Lublin",
          "country": "PL",
          "latitude": 51.2469,
          "longitude": 22.5697
         },
         "name": "LRM Lublin"
        },
        {
         "company": [
          "Nextbike GmbH"
         ],
         "href": "/v2/networks/healthy-ride-pittsburgh-pittsburgh",
         "id": "healthy-ride-pittsburgh-pittsburgh",
         "location": {
          "city": "Pittsburgh",
          "country": "US",
          "latitude": 40.4459,
          "longitude": -79.9945
         },
         "name": "Healthy Ride"
        },
        {
         "company": [
          "Nextbike GmbH"
         ],
         "href": "/v2/networks/grm-grodzisk-grodzisk-mazowiecki",
         "id": "grm-grodzisk-grodzisk-mazowiecki",
         "location": {
          "city": "Grodzisk Mazowiecki",
          "country": "PL",
          "latitude": 52.113,
          "longitude": 20.6265
         },
         "name": "GRM Grodzisk"
        },
        {
         "company": [
          "Nextbike GmbH"
         ],
         "href": "/v2/networks/nextbike-quickborn",
         "id": "nextbike-quickborn",
         "location": {
          "city": "Quickborn",
          "country": "DE",
          "latitude": 53.7333,
          "longitude": 9.90272
         },
         "name": "Nextbike"
        },
        {
         "company": [
          "Nextbike GmbH"
         ],
         "href": "/v2/networks/vrn-ludwigshafen",
         "id": "vrn-ludwigshafen",
         "location": {
          "city": "Ludwigshafen",
          "country": "DE",
          "latitude": 49.4741,
          "longitude": 8.43287
         },
         "name": "VRN"
        },
        {
         "company": [
          "Nextbike GmbH"
         ],
         "href": "/v2/networks/vrn-speyer",
         "id": "vrn-speyer",
         "location": {
          "city": "Speyer",
          "country": "DE",
          "latitude": 49.3126,
          "longitude": 8.45295
         },
         "name": "VRN"
        },
        {
         "company": [
          "Nextbike GmbH"
         ],
         "href": "/v2/networks/nextbike-lviv",
         "id": "nextbike-lviv",
         "location": {
          "city": "Lviv",
          "country": "UA",
          "latitude": 49.8402,
          "longitude": 24.0182
         },
         "name": "Nextbike"
        },
        {
         "company": [
          "Nextbike GmbH"
         ],
         "href": "/v2/networks/nextbike-wurzburg",
         "id": "nextbike-wurzburg",
         "location": {
          "city": "Würzburg",
          "country": "DE",
          "latitude": 49.8,
          "longitude": 9.93333
         },
         "name": "Nextbike"
        },
        {
         "company": [
          "Nextbike GmbH"
         ],
         "href": "/v2/networks/nextbike-serfaus",
         "id": "nextbike-serfaus",
         "location": {
          "city": "Serfaus",
          "country": "AT",
          "latitude": 47.0387,
          "longitude": 10.6048
         },
         "name": "Nextbike"
        },
        {
         "company": [
          "Nextbike GmbH"
         ],
         "href": "/v2/networks/nextbike-malta",
         "id": "nextbike-malta",
         "location": {
          "city": "Malta",
          "country": "MT",
          "latitude": 35.9192,
          "longitude": 14.4889
         },
         "name": "Nextbike"
        },
        {
         "company": [
          "Nextbike GmbH"
         ],
         "href": "/v2/networks/grad-karlovac-karlovac",
         "id": "grad-karlovac-karlovac",
         "location": {
          "city": "Karlovac",
          "country": "HR",
          "latitude": 45.4905,
          "longitude": 15.5503
         },
         "name": "Grad Karlovac"
        },
        {
         "company": [
          "Nextbike GmbH"
         ],
         "href": "/v2/networks/grad-slavonski-brod-slavonski-brod",
         "id": "grad-slavonski-brod-slavonski-brod",
         "location": {
          "city": "Slavonski Brod",
          "country": "HR",
          "latitude": 45.1656,
          "longitude": 18.0183
         },
         "name": "Grad Slavonski Brod"
        },
        {
         "company": [
          "Nextbike GmbH"
         ],
         "href": "/v2/networks/santander-cycles-mk-milton-keynes",
         "id": "santander-cycles-mk-milton-keynes",
         "location": {
          "city": "Milton Keynes",
          "country": "GB",
          "latitude": 52.0406,
          "longitude": -0.759417
         },
         "name": "Santander Cycles MK"
        },
        {
         "company": [
          "Nextbike GmbH"
         ],
         "href": "/v2/networks/nextbike-hergiswil",
         "id": "nextbike-hergiswil",
         "location": {
          "city": "Hergiswil",
          "country": "CH",
          "latitude": 46.9905,
          "longitude": 8.30829
         },
         "name": "Nextbike"
        },
        {
         "company": [
          "Nextbike GmbH"
         ],
         "href": "/v2/networks/grad-makarska-makarska",
         "id": "grad-makarska-makarska",
         "location": {
          "city": "Makarska",
          "country": "HR",
          "latitude": 43.2992,
          "longitude": 17.0184
         },
         "name": "Grad Makarska"
        },
        {
         "company": [
          "Nextbike GmbH"
         ],
         "href": "/v2/networks/opcina-brinje-brinje",
         "id": "opcina-brinje-brinje",
         "location": {
          "city": "Brinje",
          "country": "HR",
          "latitude": 44.9977,
          "longitude": 15.1258
         },
         "name": "Općina Brinje"
        },
        {
         "company": [
          "Nextbike GmbH"
         ],
         "href": "/v2/networks/grad-zadar-zadar",
         "id": "grad-zadar-zadar",
         "location": {
          "city": "Zadar",
          "country": "HR",
          "latitude": 44.0058,
          "longitude": 15.2183
         },
         "name": "Grad Zadar"
        },
        {
         "company": [
          "Nextbike GmbH"
         ],
         "href": "/v2/networks/vrn-bensheim",
         "id": "vrn-bensheim",
         "location": {
          "city": "Bensheim",
          "country": "DE",
          "latitude": 49.6803,
          "longitude": 8.6189
         },
         "name": "VRN"
        },
        {
         "company": [
          "Nextbike GmbH"
         ],
         "href": "/v2/networks/grad-ivanic-grad-ivanic-grad",
         "id": "grad-ivanic-grad-ivanic-grad",
         "location": {
          "city": "Ivanic Grad",
          "country": "HR",
          "latitude": 45.7062,
          "longitude": 16.3919
         },
         "name": "Grad Ivanić-Grad"
        },
        {
         "company": [
          "Nextbike GmbH"
         ],
         "href": "/v2/networks/bike-s-srm-szczecin",
         "id": "bike-s-srm-szczecin",
         "location": {
          "city": "Szczecin",
          "country": "PL",
          "latitude": 53.4301,
          "longitude": 14.5498
         },
         "name": "Bike_S SRM"
        },
        {
         "company": [
          "Nextbike GmbH"
         ],
         "href": "/v2/networks/nextbike-sarajevo",
         "id": "nextbike-sarajevo",
         "location": {
          "city": "Sarajevo",
          "country": "BA",
          "latitude": 43.85,
          "longitude": 18.39
         },
         "name": "Nextbike"
        },
        {
         "company": [
          "Nextbike GmbH"
         ],
         "href": "/v2/networks/co-bikes-exeter",
         "id": "co-bikes-exeter",
         "location": {
          "city": "Exeter",
          "country": "GB",
          "latitude": 50.7272,
          "longitude": -3.53605
         },
         "name": "Co-bikes"
        },
        {
         "company": [
          "Nextbike GmbH"
         ],
         "href": "/v2/networks/nextbike-auckland-waterfront",
         "id": "nextbike-auckland-waterfront",
         "location": {
          "city": "Auckland Waterfront",
          "country": "NZ",
          "latitude": -36.841,
          "longitude": 174.763
         },
         "name": "Nextbike"
        },
        {
         "company": [
          "Nextbike GmbH"
         ],
         "href": "/v2/networks/nextbike-berlin",
         "id": "nextbike-berlin",
         "location": {
          "city": "Berlin",
          "country": "DE",
          "latitude": 52.5087,
          "longitude": 13.3563
         },
         "name": "Nextbike"
        },
        {
         "company": [
          "Nextbike GmbH"
         ],
         "href": "/v2/networks/veturilo-stacje-sponsorskie-nextbike-veturilo",
         "id": "veturilo-stacje-sponsorskie-nextbike-veturilo",
         "location": {
          "city": "Warszawa",
          "country": "PL",
          "latitude": 52.2265,
          "longitude": 21.0127
         },
         "name": "Stacje Sponsorskie Nextbike Veturilo"
        },
        {
         "company": [
          "Nextbike GmbH"
         ],
         "href": "/v2/networks/bike4all-byblos",
         "id": "bike4all-byblos",
         "location": {
          "city": "Byblos",
          "country": "LB",
          "latitude": 34.1236,
          "longitude": 35.6511
         },
         "name": "bike4all"
        },
        {
         "company": [
          "Nextbike GmbH"
         ],
         "href": "/v2/networks/chartered-bike-bhopal-bhopal",
         "id": "chartered-bike-bhopal-bhopal",
         "location": {
          "city": "Bhopal",
          "country": "IN",
          "latitude": 23.2467,
          "longitude": 77.411
         },
         "name": "Chartered Bike"
        },
        {
         "company": [
          "Nextbike GmbH"
         ],
         "href": "/v2/networks/wk-bike-bremen-bremen",
         "id": "wk-bike-bremen-bremen",
         "location": {
          "city": "Bremen",
          "country": "DE",
          "latitude": 53.0781,
          "longitude": 8.80132
         },
         "name": "WK-Bike"
        },
        {
         "company": [
          "Nextbike GmbH"
         ],
         "href": "/v2/networks/vrn-worms",
         "id": "vrn-worms",
         "location": {
          "city": "Worms",
          "country": "DE",
          "latitude": 49.6394,
          "longitude": 8.34618
         },
         "name": "VRN"
        },
        {
         "company": [
          "Nextbike GmbH"
         ],
         "href": "/v2/networks/nextbike-stans",
         "id": "nextbike-stans",
         "location": {
          "city": "Stans",
          "country": "CH",
          "latitude": 46.9593,
          "longitude": 8.36836
         },
         "name": "Nextbike"
        },
        {
         "company": [
          "Nextbike GmbH"
         ],
         "href": "/v2/networks/nextbike-stansstad",
         "id": "nextbike-stansstad",
         "location": {
          "city": "Stansstad",
          "country": "CH",
          "latitude": 46.9801,
          "longitude": 8.34098
         },
         "name": "Nextbike"
        },
        {
         "company": [
          "Nextbike GmbH"
         ],
         "href": "/v2/networks/nextbike-horw",
         "id": "nextbike-horw",
         "location": {
          "city": "Horw",
          "country": "CH",
          "latitude": 47.0188,
          "longitude": 8.30828
         },
         "name": "Nextbike"
        },
        {
         "company": [
          "Nextbike GmbH"
         ],
         "href": "/v2/networks/vrn-burstadt",
         "id": "vrn-burstadt",
         "location": {
          "city": "Bürstadt",
          "country": "DE",
          "latitude": 49.6461,
          "longitude": 8.44917
         },
         "name": "VRN"
        },
        {
         "company": [
          "Nextbike GmbH"
         ],
         "href": "/v2/networks/prm-stacje-sponsorskie-nextbike-prm",
         "id": "prm-stacje-sponsorskie-nextbike-prm",
         "location": {
          "city": "Poznań",
          "country": "PL",
          "latitude": 52.4077,
          "longitude": 16.9323
         },
         "name": "Stacje Sponsorskie Nextbike PRM"
        },
        {
         "company": [
          "Nextbike GmbH"
         ],
         "href": "/v2/networks/nextbike-gross-enzersdorf",
         "id": "nextbike-gross-enzersdorf",
         "location": {
          "city": "Groß Enzersdorf",
          "country": "AT",
          "latitude": 48.1986,
          "longitude": 16.5496
         },
         "name": "Nextbike"
        },
        {
         "company": [
          "Nextbike GmbH"
         ],
         "href": "/v2/networks/nextbike-klagenfurt",
         "id": "nextbike-klagenfurt",
         "location": {
          "city": "Klagenfurt",
          "country": "AT",
          "latitude": 46.6335,
          "longitude": 14.3085
         },
         "name": "Nextbike"
        },
        {
         "company": [
          "Nextbike GmbH"
         ],
         "href": "/v2/networks/vrn-kaiserslautern",
         "id": "vrn-kaiserslautern",
         "location": {
          "city": "Kaiserslautern",
          "country": "DE",
          "latitude": 49.4413,
          "longitude": 7.75566
         },
         "name": "VRN"
        },
        {
         "company": [
          "Nextbike GmbH"
         ],
         "href": "/v2/networks/sitycleta-las-palmas-las-palmas-de-gran-canaria",
         "id": "sitycleta-las-palmas-las-palmas-de-gran-canaria",
         "location": {
          "city": "Las Palmas de Gran Canaria",
          "country": "ES",
          "latitude": 28.1236,
          "longitude": -15.4366
         },
         "name": "Sitycleta"
        },
        {
         "company": [
          "Nextbike GmbH"
         ],
         "href": "/v2/networks/grad-velika-gorica-velika-gorica",
         "id": "grad-velika-gorica-velika-gorica",
         "location": {
          "city": "Velika Gorica",
          "country": "HR",
          "latitude": 45.7161,
          "longitude": 16.0683
         },
         "name": "Grad Velika Gorica"
        },
        {
         "company": [
          "Nextbike GmbH"
         ],
         "href": "/v2/networks/grad-sisak-sisak",
         "id": "grad-sisak-sisak",
         "location": {
          "city": "Sisak",
          "country": "HR",
          "latitude": 45.4875,
          "longitude": 16.3753
         },
         "name": "Grad Sisak"
        },
        {
         "company": [
          "Nextbike GmbH"
         ],
         "href": "/v2/networks/kolobrzeski-rower-miejski-kolobrzeg",
         "id": "kolobrzeski-rower-miejski-kolobrzeg",
         "location": {
          "city": "Kołobrzeg",
          "country": "PL",
          "latitude": 54.1762,
          "longitude": 15.5761
         },
         "name": "Kołobrzeski Rower Miejski"
        },
        {
         "company": [
          "Nextbike GmbH"
         ],
         "href": "/v2/networks/grad-metkovic-metkovic",
         "id": "grad-metkovic-metkovic",
         "location": {
          "city": "Metković",
          "country": "HR",
          "latitude": 43.0654,
          "longitude": 17.642
         },
         "name": "Grad Metković"
        },
        {
         "company": [
          "Nextbike GmbH"
         ],
         "href": "/v2/networks/jastrebarsko-jastrebarsko",
         "id": "jastrebarsko-jastrebarsko",
         "location": {
          "city": "Jastrebarsko",
          "country": "HR",
          "latitude": 45.6692,
          "longitude": 15.6541
         },
         "name": "Nextbike"
        },
        {
         "company": [
          "Nextbike GmbH"
         ],
         "href": "/v2/networks/grad-drnis-drnis",
         "id": "grad-drnis-drnis",
         "location": {
          "city": "Drniš",
          "country": "HR",
          "latitude": 43.8425,
          "longitude": 16.1197
         },
         "name": "Nextbike"
        },
        {
         "company": [
          "Nextbike GmbH"
         ],
         "href": "/v2/networks/nextbike-tuzla",
         "id": "nextbike-tuzla",
         "location": {
          "city": "Tuzla",
          "country": "BA",
          "latitude": 44.5392,
          "longitude": 18.675
         },
         "name": "Nextbike"
        },
        {
         "company": [
          "Nextbike GmbH"
         ],
         "href": "/v2/networks/arriva-nitra",
         "id": "arriva-nitra",
         "location": {
          "city": "Nitra",
          "country": "SK",
          "latitude": 48.3088,
          "longitude": 18.0783
         },
         "name": "Arriva"
        },
        {
         "company": [
          "Nextbike GmbH"
         ],
         "href": "/v2/networks/nextbike-marburg",
         "id": "nextbike-marburg",
         "location": {
          "city": "Marburg",
          "country": "DE",
          "latitude": 50.8019,
          "longitude": 8.76444
         },
         "name": "Nextbike"
        },
        {
         "company": [
          "Nextbike GmbH"
         ],
         "href": "/v2/networks/bubi",
         "id": "bubi",
         "location": {
          "city": "Budapest",
          "country": "HU",
          "latitude": 47.497912,
          "longitude": 19.040235
         },
         "name": "MOL Bubi"
        },
        {
         "company": [
          "Nextbike GmbH"
         ],
         "href": "/v2/networks/nextbike-russelsheim-am-main",
         "id": "nextbike-russelsheim-am-main",
         "location": {
          "city": "Rüsselsheim am Main",
          "country": "DE",
          "latitude": 49.9881,
          "longitude": 8.42142
         },
         "name": "Nextbike"
        },
        {
         "company": [
          "Nextbike GmbH"
         ],
         "href": "/v2/networks/rower-miejski-szamotuly-rms-szamotuly",
         "id": "rower-miejski-szamotuly-rms-szamotuly",
         "location": {
          "city": "Szamotuły",
          "country": "PL",
          "latitude": 52.6112,
          "longitude": 16.5819
         },
         "name": "Rower Miejski Szamotuły"
        },
        {
         "company": [
          "Nextbike GmbH"
         ],
         "href": "/v2/networks/nextbike-dordrecht",
         "id": "nextbike-dordrecht",
         "location": {
          "city": "Dordrecht",
          "country": "NL",
          "latitude": 51.7833,
          "longitude": 4.69391
         },
         "name": "Nextbike"
        },
        {
         "company": [
          "Nextbike GmbH"
         ],
         "href": "/v2/networks/vrn-heppenheim",
         "id": "vrn-heppenheim",
         "location": {
          "city": "Heppenheim",
          "country": "DE",
          "latitude": 49.6431,
          "longitude": 8.63889
         },
         "name": "VRN"
        },
        {
         "company": [
          "Nextbike GmbH"
         ],
         "href": "/v2/networks/piaseczynski-rower-miejski-piaseczno",
         "id": "piaseczynski-rower-miejski-piaseczno",
         "location": {
          "city": "Piaseczno",
          "country": "PL",
          "latitude": 52.0733,
          "longitude": 21.0269
         },
         "name": "Piaseczyński Rower Miejski"
        },
        {
         "company": [
          "Nextbike GmbH"
         ],
         "href": "/v2/networks/nextbike-kassel",
         "id": "nextbike-kassel",
         "location": {
          "city": "Kassel",
          "country": "DE",
          "latitude": 51.3127,
          "longitude": 9.47975
         },
         "name": "Nextbike"
        },
        {
         "company": [
          "Nextbike GmbH"
         ],
         "href": "/v2/networks/nextbike-sarnen",
         "id": "nextbike-sarnen",
         "location": {
          "city": "Sarnen",
          "country": "CH",
          "latitude": 46.8963,
          "longitude": 8.24614
         },
         "name": "Nextbike"
        },
        {
         "company": [
          "Nextbike GmbH"
         ],
         "href": "/v2/networks/nextbike-wolfenschiessen",
         "id": "nextbike-wolfenschiessen",
         "location": {
          "city": "Wolfenschiessen",
          "country": "CH",
          "latitude": 46.9079,
          "longitude": 8.39767
         },
         "name": "Nextbike"
        },
        {
         "company": [
          "Nextbike GmbH"
         ],
         "href": "/v2/networks/nextbike-oberdorf",
         "id": "nextbike-oberdorf",
         "location": {
          "city": "Oberdorf",
          "country": "CH",
          "latitude": 46.9563,
          "longitude": 8.3884
         },
         "name": "Nextbike"
        },
        {
         "company": [
          "Nextbike GmbH"
         ],
         "href": "/v2/networks/nextbike-giessen",
         "id": "nextbike-giessen",
         "location": {
          "city": "Gießen",
          "country": "DE",
          "latitude": 50.5943,
          "longitude": 8.68097
         },
         "name": "Nextbike"
        },
        {
         "company": [
          "Nextbike GmbH"
         ],
         "href": "/v2/networks/vrn-weinheim",
         "id": "vrn-weinheim",
         "location": {
          "city": "Weinheim",
          "country": "DE",
          "latitude": 49.545,
          "longitude": 8.66027
         },
         "name": "VRN"
        },
        {
         "company": [
          "Nextbike GmbH"
         ],
         "href": "/v2/networks/nextbike-cardiff",
         "id": "nextbike-cardiff",
         "location": {
          "city": "Cardiff",
          "country": "GB",
          "latitude": 51.4848,
          "longitude": -3.19062
         },
         "name": "Nextbike"
        },
        {
         "company": [
          "Nextbike GmbH"
         ],
         "href": "/v2/networks/vrn-hockenheim",
         "id": "vrn-hockenheim",
         "location": {
          "city": "Hockenheim",
          "country": "DE",
          "latitude": 49.3227,
          "longitude": 8.54258
         },
         "name": "VRN"
        },
        {
         "company": [
          "Nextbike GmbH"
         ],
         "href": "/v2/networks/vrn-schwetzingen",
         "id": "vrn-schwetzingen",
         "location": {
          "city": "Schwetzingen",
          "country": "DE",
          "latitude": 49.3863,
          "longitude": 8.5756
         },
         "name": "VRN"
        },
        {
         "company": [
          "Nextbike GmbH"
         ],
         "href": "/v2/networks/nextbike-ennetmoos",
         "id": "nextbike-ennetmoos",
         "location": {
          "city": "Ennetmoos",
          "country": "CH",
          "latitude": 46.9573,
          "longitude": 8.3377
         },
         "name": "Nextbike"
        },
        {
         "company": [
          "Nextbike GmbH"
         ],
         "href": "/v2/networks/vrn-eppelheim",
         "id": "vrn-eppelheim",
         "location": {
          "city": "Eppelheim",
          "country": "DE",
          "latitude": 49.4025,
          "longitude": 8.6331
         },
         "name": "VRN"
        },
        {
         "company": [
          "Nextbike GmbH"
         ],
         "href": "/v2/networks/nextbike-university-of-surrey",
         "id": "nextbike-university-of-surrey",
         "location": {
          "city": "Surrey",
          "country": "GB",
          "latitude": 51.2422,
          "longitude": -0.590594
         },
         "name": "Nextbike"
        },
        {
         "company": [
          "Nextbike GmbH"
         ],
         "href": "/v2/networks/santander-cycles-swansea-swansea-university",
         "id": "santander-cycles-swansea-swansea-university",
         "location": {
          "city": "Swansea",
          "country": "GB",
          "latitude": 51.6106,
          "longitude": -3.9764
         },
         "name": "Santander Cycles"
        },
        {
         "company": [
          "Nextbike GmbH"
         ],
         "href": "/v2/networks/nextbike-erfurt",
         "id": "nextbike-erfurt",
         "location": {
          "city": "Erfurt",
          "country": "DE",
          "latitude": 50.9785,
          "longitude": 11.0334
         },
         "name": "Nextbike"
        },
        {
         "company": [
          "Nextbike GmbH"
         ],
         "href": "/v2/networks/bl-bike-banja-luka",
         "id": "bl-bike-banja-luka",
         "location": {
          "city": "Banja Luka",
          "country": "BA",
          "latitude": 44.775,
          "longitude": 17.1994
         },
         "name": "BL bike"
        },
        {
         "company": [
          "Nextbike GmbH"
         ],
         "href": "/v2/networks/lahr-pedelecs-lahr",
         "id": "lahr-pedelecs-lahr",
         "location": {
          "city": "Lahr",
          "country": "DE",
          "latitude": 48.3396,
          "longitude": 7.87376
         },
         "name": "Nextbike"
        },
        {
         "company": [
          "Nextbike GmbH"
         ],
         "href": "/v2/networks/berlin-buch-campus-berlin-buch",
         "id": "berlin-buch-campus-berlin-buch",
         "location": {
          "city": "Berlin",
          "country": "DE",
          "latitude": 52.6364,
          "longitude": 13.5029
         },
         "name": "Berlin-Buch Campus"
        },
        {
         "company": [
          "Nextbike GmbH"
         ],
         "href": "/v2/networks/lviv-odessa",
         "id": "lviv-odessa",
         "location": {
          "city": "Odessa",
          "country": "UA",
          "latitude": 46.463,
          "longitude": 30.7042
         },
         "name": "Nextbike"
        },
        {
         "company": [
          "Nextbike GmbH"
         ],
         "href": "/v2/networks/zielonogorski-rower-miejski-zielona-gora",
         "id": "zielonogorski-rower-miejski-zielona-gora",
         "location": {
          "city": "Zielona Góra",
          "country": "PL",
          "latitude": 51.9381,
          "longitude": 15.5048
         },
         "name": "Zielonogórski Rower Miejski"
        },
        {
         "company": [
          "Nextbike GmbH"
         ],
         "href": "/v2/networks/santander-monchengladbach",
         "id": "santander-monchengladbach",
         "location": {
          "city": "Mönchengladbach",
          "country": "DE",
          "latitude": 51.1817,
          "longitude": 6.43578
         },
         "name": "Santander Mönchengladbach"
        },
        {
         "company": [
          "Nextbike GmbH"
         ],
         "href": "/v2/networks/nomagobikes-celje",
         "id": "nomagobikes-celje",
         "location": {
          "city": "Celje",
          "country": "SI",
          "latitude": 46.2388,
          "longitude": 15.2693
         },
         "name": "NomagoBikes"
        },
        {
         "company": [
          "Nextbike GmbH"
         ],
         "href": "/v2/networks/bilbon-bizi",
         "id": "bilbon-bizi",
         "location": {
          "city": "Bilbao",
          "country": "ES",
          "latitude": 43.2752,
          "longitude": -2.93528
         },
         "name": "BilbonBizi"
        },
        {
         "company": [
          "Nextbike GmbH"
         ],
         "href": "/v2/networks/nomagobikes-lasko",
         "id": "nomagobikes-lasko",
         "location": {
          "city": "Laško",
          "country": "SI",
          "latitude": 46.1458,
          "longitude": 15.2312
         },
         "name": "NomagoBikes"
        },
        {
         "company": [
          "Nextbike GmbH"
         ],
         "href": "/v2/networks/nextbike-lippstadt",
         "id": "nextbike-lippstadt",
         "location": {
          "city": "Lippstadt",
          "country": "DE",
          "latitude": 51.6755,
          "longitude": 8.34394
         },
         "name": "Nextbike"
        },
        {
         "company": [
          "Nextbike GmbH"
         ],
         "href": "/v2/networks/bikekia-zilina",
         "id": "bikekia-zilina",
         "location": {
          "city": "Žilina",
          "country": "SK",
          "latitude": 49.2217,
          "longitude": 18.7572
         },
         "name": "BikeKia"
        },
        {
         "company": [
          "Nextbike GmbH"
         ],
         "href": "/v2/networks/koninski-rower-miejski-konin",
         "id": "koninski-rower-miejski-konin",
         "location": {
          "city": "Konin",
          "country": "PL",
          "latitude": 52.2284,
          "longitude": 18.2553
         },
         "name": "Koniński Rower Miejski"
        },
        {
         "company": [
          "Nextbike GmbH"
         ],
         "href": "/v2/networks/nextbike-vinnytsia",
         "id": "nextbike-vinnytsia",
         "location": {
          "city": "Vinnytsia",
          "country": "UA",
          "latitude": 49.2328,
          "longitude": 28.4625
         },
         "name": "Nextbike"
        },
        {
         "company": [
          "Nextbike GmbH"
         ],
         "href": "/v2/networks/nextbike-bonn",
         "id": "nextbike-bonn",
         "location": {
          "city": "Bonn",
          "country": "DE",
          "latitude": 50.7367,
          "longitude": 7.09541
         },
         "name": "Nextbike"
        },
        {
         "company": [
          "Nextbike GmbH"
         ],
         "href": "/v2/networks/tarnowski-rower-miejski-tarnow",
         "id": "tarnowski-rower-miejski-tarnow",
         "location": {
          "city": "Tarnów",
          "country": "PL",
          "latitude": 50.0113,
          "longitude": 20.9728
         },
         "name": "Tarnowski Rower Miejski"
        },
        {
         "company": [
          "Nextbike GmbH"
         ],
         "href": "/v2/networks/kolo-marek-marki",
         "id": "kolo-marek-marki",
         "location": {
          "city": "Marki",
          "country": "PL",
          "latitude": 52.3256,
          "longitude": 21.1089
         },
         "name": "Koło Marek"
        },
        {
         "company": [
          "Nextbike GmbH"
         ],
         "href": "/v2/networks/rowerowe-lodzkie-rl-koluszki",
         "id": "rowerowe-lodzkie-rl-koluszki",
         "location": {
          "city": "Koluszki",
          "country": "PL",
          "latitude": 51.7401,
          "longitude": 19.835
         },
         "name": "Rowerowe Łódzkie"
        },
        {
         "company": [
          "Nextbike GmbH"
         ],
         "href": "/v2/networks/rowerowe-lodzkie-rl-lask",
         "id": "rowerowe-lodzkie-rl-lask",
         "location": {
          "city": "Łask",
          "country": "PL",
          "latitude": 51.5893,
          "longitude": 19.142
         },
         "name": "Rowerowe Łódzkie"
        },
        {
         "company": [
          "Nextbike GmbH"
         ],
         "href": "/v2/networks/rowerowe-lodzkie-rl-lowicz",
         "id": "rowerowe-lodzkie-rl-lowicz",
         "location": {
          "city": "Łowicz",
          "country": "PL",
          "latitude": 52.1057,
          "longitude": 19.9381
         },
         "name": "Rowerowe Łódzkie"
        },
        {
         "company": [
          "Nextbike GmbH"
         ],
         "href": "/v2/networks/rowerowe-lodzkie-rl-pabianice",
         "id": "rowerowe-lodzkie-rl-pabianice",
         "location": {
          "city": "Pabianice",
          "country": "PL",
          "latitude": 51.6651,
          "longitude": 19.3548
         },
         "name": "Rowerowe Łódzkie"
        },
        {
         "company": [
          "Nextbike GmbH"
         ],
         "href": "/v2/networks/rowerowe-lodzkie-rl-sieradz",
         "id": "rowerowe-lodzkie-rl-sieradz",
         "location": {
          "city": "Sieradz",
          "country": "PL",
          "latitude": 51.5902,
          "longitude": 18.7382
         },
         "name": "Rowerowe Łódzkie"
        },
        {
         "company": [
          "Nextbike GmbH"
         ],
         "href": "/v2/networks/rowerowe-lodzkie-rl-skierniewice",
         "id": "rowerowe-lodzkie-rl-skierniewice",
         "location": {
          "city": "Skierniewice",
          "country": "PL",
          "latitude": 51.9539,
          "longitude": 20.1469
         },
         "name": "Rowerowe Łódzkie"
        },
        {
         "company": [
          "Nextbike GmbH"
         ],
         "href": "/v2/networks/rowerowe-lodzkie-rl-zdunska-wola",
         "id": "rowerowe-lodzkie-rl-zdunska-wola",
         "location": {
          "city": "Zduńska Wola",
          "country": "PL",
          "latitude": 51.6011,
          "longitude": 18.938
         },
         "name": "Rowerowe Łódzkie"
        },
        {
         "company": [
          "Nextbike GmbH"
         ],
         "href": "/v2/networks/rowerowe-lodzkie-rl-zgierz",
         "id": "rowerowe-lodzkie-rl-zgierz",
         "location": {
          "city": "Zgierz",
          "country": "PL",
          "latitude": 51.8551,
          "longitude": 19.4068
         },
         "name": "Rowerowe Łódzkie"
        },
        {
         "company": [
          "Nextbike GmbH"
         ],
         "href": "/v2/networks/rowerowe-lodzkie-rl-kutno",
         "id": "rowerowe-lodzkie-rl-kutno",
         "location": {
          "city": "Kutno",
          "country": "PL",
          "latitude": 52.2317,
          "longitude": 19.3564
         },
         "name": "Rowerowe Łódzkie"
        },
        {
         "company": [
          "Nextbike GmbH"
         ],
         "href": "/v2/networks/rowerowe-lodzkie-rl-lodz-rl",
         "id": "rowerowe-lodzkie-rl-lodz-rl",
         "location": {
          "city": "Łódź",
          "country": "PL",
          "latitude": 51.7674,
          "longitude": 19.4575
         },
         "name": "Rowerowe Łódzkie"
        },
        {
         "company": [
          "Nextbike GmbH"
         ],
         "href": "/v2/networks/frelo-freiburg",
         "id": "frelo-freiburg",
         "location": {
          "city": "Freiburg",
          "country": "DE",
          "latitude": 47.9958,
          "longitude": 7.84453
         },
         "name": "Frelo"
        },
        {
         "company": [
          "Comunicare S.r.l."
         ],
         "href": "/v2/networks/bicincitta-trieste",
         "id": "bicincitta-trieste",
         "location": {
          "city": "Trieste",
          "country": "IT",
          "latitude": 45.6495,
          "longitude": 13.7768
         },
         "name": "BiTS",
         "source": "https://www.bicincitta.com/frmLeStazioni.aspx?ID=266"
        },
        {
         "company": [
          "Nextbike GmbH"
         ],
         "href": "/v2/networks/mobibike-dresden",
         "id": "mobibike-dresden",
         "location": {
          "city": "Dresden",
          "country": "DE",
          "latitude": 51.0535,
          "longitude": 13.7387
         },
         "name": "MOBIbike"
        },
        {
         "company": [
          "ЗАО «СитиБайк»"
         ],
         "href": "/v2/networks/velobike-murmansk",
         "id": "velobike-murmansk",
         "location": {
          "city": "Murmansk",
          "country": "RU",
          "latitude": 68.968,
          "longitude": 33.074
         },
         "name": "Velobike"
        },
        {
         "company": [
          "ЗАО «СитиБайк»"
         ],
         "href": "/v2/networks/velobike-nizhniy-novgorod",
         "id": "velobike-nizhniy-novgorod",
         "location": {
          "city": "Nizhniy Novgorod",
          "country": "RU",
          "latitude": 56.194,
          "longitude": 44.003
         },
         "name": "Velobike"
        },
        {
         "company": [
          "Nextbike GmbH"
         ],
         "href": "/v2/networks/nextbike-ivano-frankivsk",
         "id": "nextbike-ivano-frankivsk",
         "location": {
          "city": "Ivano Frankivsk",
          "country": "UA",
          "latitude": 48.9281,
          "longitude": 24.7103
         },
         "name": "Nextbike"
        },
        {
         "company": [
          "Velobike.kz, LLP",
          "Smoove"
         ],
         "href": "/v2/networks/almatybike",
         "id": "almatybike",
         "location": {
          "city": "Almaty",
          "country": "KZ",
          "latitude": 43.239101,
          "longitude": 76.9268076
         },
         "name": "Almatybike"
        },
        {
         "company": [
          "Velobike.kz, LLP",
          "Smoove"
         ],
         "href": "/v2/networks/shymkentbike",
         "id": "shymkentbike",
         "location": {
          "city": "Shymkent",
          "country": "KZ",
          "latitude": 42.3184,
          "longitude": 69.5978
         },
         "name": "Shymkentbike"
        },
        {
         "company": [
          "Motivate LLC"
         ],
         "gbfs_href": "https://gbfs.baywheels.com/gbfs/gbfs.json",
         "href": "/v2/networks/bay-wheels",
         "id": "bay-wheels",
         "location": {
          "city": "San Francisco Bay Area, CA",
          "country": "US",
          "latitude": 37.7141454,
          "longitude": -122.25
         },
         "name": "Bay Wheels"
        },
        {
         "company": [
          "Smoove"
         ],
         "gbfs_href": "https://vannes-gbfs.klervi.net/gbfs/gbfs.json",
         "href": "/v2/networks/veloceo",
         "id": "veloceo",
         "location": {
          "city": "Vannes",
          "country": "FR",
          "latitude": 47.6559,
          "longitude": -2.7603
         },
         "name": "Vélocéo"
        },
        {
         "company": [
          "PBSC Urban Solutions"
         ],
         "gbfs_href": "https://monaco.publicbikesystem.net/customer/ube/gbfs/v1/",
         "href": "/v2/networks/monabike",
         "id": "monabike",
         "location": {
          "city": "Monaco",
          "country": "MC",
          "latitude": 43.733333,
          "longitude": 7.416667
         },
         "name": "MonaBike"
        },
        {
         "company": [
          "Ecovelo"
         ],
         "ebikes": true,
         "gbfs_href": "https://api.gbfs.v1.ecovelo.mobi/gbfs/tlpmobilites",
         "href": "/v2/networks/tlp-velo",
         "id": "tlp-velo",
         "location": {
          "city": "Tarbes, Lourdes",
          "country": "FR",
          "latitude": 43.23,
          "longitude": 0.07
         },
         "name": "Tarbes et Lourdes vls"
        },
        {
         "company": [
          "Ecovelo"
         ],
         "ebikes": true,
         "gbfs_href": "https://api.gbfs.v1.ecovelo.mobi/gbfs/zebullo",
         "href": "/v2/networks/zebullo",
         "id": "zebullo",
         "location": {
          "city": "Reims",
          "country": "FR",
          "latitude": 49.2628,
          "longitude": 4.0347
         },
         "name": "ZébullO"
        },
        {
         "company": [
          "Ecovelo"
         ],
         "ebikes": true,
         "gbfs_href": "https://api.gbfs.v1.ecovelo.mobi/gbfs/calais",
         "href": "/v2/networks/velectin",
         "id": "velectin",
         "location": {
          "city": "Calais",
          "country": "FR",
          "latitude": 50.948056,
          "longitude": 1.856389
         },
         "name": "Velect’in"
        },
        {
         "company": [
          "Ecovelo"
         ],
         "gbfs_href": "https://api.gbfs.v1.ecovelo.mobi/gbfs/beb",
         "href": "/v2/networks/rubis-velo",
         "id": "rubis-velo",
         "location": {
          "city": "Bourg-en-Bresse",
          "country": "FR",
          "latitude": 46.2056,
          "longitude": 5.2289
         },
         "name": "Rubis'Vélo"
        },
        {
         "company": [
          "Ecovelo"
         ],
         "ebikes": true,
         "gbfs_href": "https://api.gbfs.v1.ecovelo.mobi/gbfs/tanlib",
         "href": "/v2/networks/tanlib",
         "id": "tanlib",
         "location": {
          "city": "Niort",
          "country": "FR",
          "latitude": 46.3258,
          "longitude": -0.4606
         },
         "name": "Vélo tanlib"
        },
        {
         "company": [
          "Ecovelo"
         ],
         "gbfs_href": "https://api.gbfs.v1.ecovelo.mobi/gbfs/marseillan",
         "href": "/v2/networks/marseillan",
         "id": "marseillan",
         "location": {
          "city": "Marseillan",
          "country": "FR",
          "latitude": 43.3572,
          "longitude": 3.5283
         },
         "name": "Marseillan vélo libre-service"
        },
        {
         "company": [
          "Ecovelo"
         ],
         "ebikes": true,
         "gbfs_href": "https://api.gbfs.v1.ecovelo.mobi/gbfs/via",
         "href": "/v2/networks/via-velo",
         "id": "via-velo",
         "location": {
          "city": "Val d'Ille-Aubigné",
          "country": "FR",
          "latitude": 48.2181,
          "longitude": -1.6947
         },
         "name": "VIA Vélo"
        },
        {
         "company": [
          "Ecovelo"
         ],
         "ebikes": true,
         "gbfs_href": "https://api.gbfs.v1.ecovelo.mobi/gbfs/velyceo",
         "href": "/v2/networks/velyceo",
         "id": "velyceo",
         "location": {
          "city": "Saint-Nazaire",
          "country": "FR",
          "latitude": 47.2806,
          "longitude": -2.2086
         },
         "name": "vélYcéo"
        },
        {
         "company": [
          "Ecovelo"
         ],
         "ebikes": true,
         "gbfs_href": "https://api.gbfs.v1.ecovelo.mobi/gbfs/velocite",
         "href": "/v2/networks/velocite-laon",
         "id": "velocite-laon",
         "location": {
          "city": "Laon",
          "country": "FR",
          "latitude": 49.5639,
          "longitude": 3.6244
         },
         "name": "Vélo'Cité"
        },
        {
         "company": [
          "Ecovelo"
         ],
         "ebikes": true,
         "gbfs_href": "https://api.gbfs.v1.ecovelo.mobi/gbfs/labaule",
         "href": "/v2/networks/velo-baulois",
         "id": "velo-baulois",
         "location": {
          "city": "La Baule-Escoublac",
          "country": "FR",
          "latitude": 47.2867,
          "longitude": -2.3908
         },
         "name": "Le Vélo Baulois"
        },
        {
         "company": [
          "Ecovelo"
         ],
         "ebikes": true,
         "gbfs_href": "https://api.gbfs.v1.ecovelo.mobi/gbfs/lemarcel",
         "href": "/v2/networks/le-marcel",
         "id": "le-marcel",
         "location": {
          "city": "Troyes",
          "country": "FR",
          "latitude": 48.2997,
          "longitude": 4.0792
         },
         "name": "Le Marcel"
        },
        {
         "company": [
          "Ecovelo"
         ],
         "ebikes": true,
         "gbfs_href": "https://api.gbfs.v1.ecovelo.mobi/gbfs/tempovelo",
         "href": "/v2/networks/tempo-velo",
         "id": "tempo-velo",
         "location": {
          "city": "Agen",
          "country": "FR",
          "latitude": 44.2049,
          "longitude": 0.6212
         },
         "name": "Tempo Vélo"
        },
        {
         "company": [
          "Ecovelo"
         ],
         "gbfs_href": "https://api.gbfs.v1.ecovelo.mobi/gbfs/semo",
         "href": "/v2/networks/semo",
         "id": "semo",
         "location": {
          "city": "Communauté d'agglomération Seine-Eure",
          "country": "FR",
          "latitude": 49.22,
          "longitude": 1.17
         },
         "name": "semo"
        },
        {
         "company": [
          "Ecovelo"
         ],
         "ebikes": true,
         "gbfs_href": "https://api.gbfs.v1.ecovelo.mobi/gbfs/cyclovis",
         "href": "/v2/networks/cyclovis",
         "id": "cyclovis",
         "location": {
          "city": "Soissons",
          "country": "FR",
          "latitude": 49.3817,
          "longitude": 3.3236
         },
         "name": "Cyclovis"
        },
        {
         "company": [
          "Ecovelo"
         ],
         "ebikes": true,
         "gbfs_href": "https://api.gbfs.v1.ecovelo.mobi/gbfs/chantrerie",
         "href": "/v2/networks/chantrerie-captainbike",
         "id": "chantrerie-captainbike",
         "location": {
          "city": "La Chantrerie, Nantes",
          "country": "FR",
          "latitude": 47.2868203,
          "longitude": -1.5210917
         },
         "name": "Chantrerie VLS (Captain Bike)"
        },
        {
         "company": [
          "Ecovelo"
         ],
         "ebikes": true,
         "gbfs_href": "https://api.gbfs.v1.ecovelo.mobi/gbfs/saclay",
         "href": "/v2/networks/saclay-captainbike",
         "id": "saclay-captainbike",
         "location": {
          "city": "Paris-Saclay",
          "country": "FR",
          "latitude": 48.7098082,
          "longitude": 2.211366
         },
         "name": "Saclay VLS (Captain Bike)"
        },
        {
         "company": [
          "CIGL ESCH"
         ],
         "ebikes": true,
         "href": "/v2/networks/velok",
         "id": "velok",
         "location": {
          "city": "Esch-sur-alzette",
          "country": "LU",
          "latitude": 49.5024,
          "longitude": 5.9722
         },
         "name": "Vël'Ok",
         "source": "https://docs.api.tfl.lu/v1/en/RESTAPIs/BikePoint/"
        },
        {
         "company": [
          "Nextbike GmbH"
         ],
         "href": "/v2/networks/wienmobil-rad",
         "id": "wienmobil-rad",
         "location": {
          "city": "Wien",
          "country": "AT",
          "latitude": 48.2081743,
          "longitude": 16.3738189
         },
         "name": "WienMobil Rad"
        },
        {
         "company": null,
         "gbfs_href": "https://gbfs.urbansharing.com/bikeverona.it/gbfs.json",
         "href": "/v2/networks/bikeverona",
         "id": "bikeverona",
         "location": {
          "city": "Verona",
          "country": "IT",
          "latitude": 45.438611,
          "longitude": 10.992778
         },
         "name": "Verona Bike"
        },
        {
         "company": [
          "Nextbike GmbH"
         ],
         "href": "/v2/networks/sprottenflotte-kiel",
         "id": "sprottenflotte-kiel",
         "location": {
          "city": "Kiel",
          "country": "DE",
          "latitude": 54.2837,
          "longitude": 10.13213
         },
         "name": "Sprottenflotte"
        },
        {
         "company": [
          "TaM",
          "Smoove"
         ],
         "gbfs_href": "https://montpellier-fr-smoove.klervi.net/gbfs/gbfs.json",
         "href": "/v2/networks/velomagg",
         "id": "velomagg",
         "location": {
          "city": "Montpellier",
          "country": "FR",
          "latitude": 43.6119,
          "longitude": 3.8772
         },
         "name": "Vélomagg"
        },
        {
         "company": [
          "Bcycle, LLC",
          "RTC Southern Nevada, Inc"
         ],
         "gbfs_href": "https://gbfs.bcycle.com/bcycle_rtcbikeshare/gbfs.json",
         "href": "/v2/networks/rtc-bike-share",
         "id": "rtc-bike-share",
         "location": {
          "city": "Las Vegas, NV",
          "country": "US",
          "latitude": 36.1438,
          "longitude": -115.15682
         },
         "name": "RTC Bike Share"
        },
        {
         "company": [
          "Bcycle, LLC",
          "Embark, Inc"
         ],
         "gbfs_href": "https://gbfs.bcycle.com/bcycle_spokies/gbfs.json",
         "href": "/v2/networks/spokies",
         "id": "spokies",
         "location": {
          "city": "Oklahoma, OK",
          "country": "US",
          "latitude": 35.46436,
          "longitude": -97.50888
         },
         "name": "Spokies BCycle"
        },
        {
         "company": [
          "Leonbici Nextbike Gmbh Y Autobuses Urbanos De Leon S.a. Ute"
         ],
         "href": "/v2/networks/alsa-nextbike-leon",
         "id": "alsa-nextbike-leon",
         "location": {
          "city": "León",
          "country": "ES",
          "latitude": 42.5987263,
          "longitude": -5.5670959
         },
         "name": "Alsa nextbike León"
        },
        {
         "company": [
          "Strasbourg Mobilités"
         ],
         "gbfs_href": "https://transport.data.gouv.fr/gbfs/strasbourg/gbfs.json",
         "href": "/v2/networks/velhop",
         "id": "velhop",
         "location": {
          "city": "Strasbourg",
          "country": "FR",
          "latitude": 48.583611,
          "longitude": 7.748056
         },
         "name": "Vélhop"
        },
        {
         "company": null,
         "gbfs_href": "https://belfort-gbfs.klervi.net/gbfs/gbfs.json",
         "href": "/v2/networks/optymo",
         "id": "optymo",
         "location": {
          "city": "Belfort",
          "country": "FR",
          "latitude": 47.641111,
          "longitude": 6.849444
         },
         "name": "Optymo"
        },
        {
         "company": [
          "Nextbike GmbH"
         ],
         "href": "/v2/networks/biker-bialystok",
         "id": "biker-bialystok",
         "location": {
          "city": "Białystok",
          "country": "PL",
          "latitude": 53.1262,
          "longitude": 23.1427
         },
         "name": "BIKER Białystok Poland"
        },
        {
         "company": [
          "Nextbike GmbH"
         ],
         "href": "/v2/networks/nextbike-prostejov",
         "id": "nextbike-prostejov",
         "location": {
          "city": "Prostejov",
          "country": "CZ",
          "latitude": 49.4722,
          "longitude": 17.1055
         },
         "name": "nextbike Prostejov"
        },
        {
         "company": [
          "Nextbike GmbH"
         ],
         "href": "/v2/networks/bike-katowice",
         "id": "bike-katowice",
         "location": {
          "city": "Katowice",
          "country": "PL",
          "latitude": 50.2594,
          "longitude": 19.0215
         },
         "name": "Katowice Bike Poland"
        },
        {
         "company": [
          "Nextbike GmbH"
         ],
         "href": "/v2/networks/nextbike-focsani",
         "id": "nextbike-focsani",
         "location": {
          "city": "Focșani",
          "country": "RO",
          "latitude": 45.6947,
          "longitude": 27.1851
         },
         "name": "nextbike Romania"
        },
        {
         "company": [
          "Nextbike GmbH"
         ],
         "href": "/v2/networks/grad-vukovar",
         "id": "grad-vukovar",
         "location": {
          "city": "Vukovar",
          "country": "HR",
          "latitude": 45.3575,
          "longitude": 18.9895
         },
         "name": "Grad Vukovar (Croatia)"
        },
        {
         "company": [
          "Nextbike GmbH"
         ],
         "href": "/v2/networks/system-rowerow-miejskich-w-pszczynie-pszczyna",
         "id": "system-rowerow-miejskich-w-pszczynie-pszczyna",
         "location": {
          "city": "Pszczyna",
          "country": "PL",
          "latitude": 49.9757,
          "longitude": 18.9463
         },
         "name": "System Rowerów Miejskich w Pszczynie Poland"
        },
        {
         "company": [
          "Nextbike GmbH"
         ],
         "href": "/v2/networks/tyski-rower-miejski-tychy",
         "id": "tyski-rower-miejski-tychy",
         "location": {
          "city": "Tychy",
          "country": "PL",
          "latitude": 50.1124,
          "longitude": 18.9972
         },
         "name": "Tyski Rower Miejski Poland"
        },
        {
         "company": [
          "Nextbike GmbH"
         ],
         "href": "/v2/networks/czestochowski-rower-miejski-czestochowa",
         "id": "czestochowski-rower-miejski-czestochowa",
         "location": {
          "city": "Częstochowa",
          "country": "PL",
          "latitude": 50.812,
          "longitude": 19.1375
         },
         "name": "Częstochowski Rower Miejski Poland"
        },
        {
         "company": [
          "Nextbike GmbH"
         ],
         "href": "/v2/networks/pruszkowski-rower-miejski-pruszkow",
         "id": "pruszkowski-rower-miejski-pruszkow",
         "location": {
          "city": "Pruszków",
          "country": "PL",
          "latitude": 52.1622,
          "longitude": 20.8062
         },
         "name": "Pruszkowski Rower Miejski Poland"
        },
        {
         "company": [
          "Nextbike GmbH"
         ],
         "href": "/v2/networks/ok-bike-kedzierzyn-kozle",
         "id": "ok-bike-kedzierzyn-kozle",
         "location": {
          "city": "Kędzierzyn-Koźle",
          "country": "PL",
          "latitude": 50.3392,
          "longitude": 18.2352
         },
         "name": "OK Bike Poland"
        },
        {
         "company": [
          "Nextbike GmbH"
         ],
         "href": "/v2/networks/grad-zapresic",
         "id": "grad-zapresic",
         "location": {
          "city": "Zaprešić",
          "country": "HR",
          "latitude": 45.8622,
          "longitude": 15.8049
         },
         "name": "Grad Zaprešić (Croatia)"
        },
        {
         "company": [
          "Nextbike GmbH"
         ],
         "href": "/v2/networks/porec-bike-share-porec",
         "id": "porec-bike-share-porec",
         "location": {
          "city": "Poreč",
          "country": "HR",
          "latitude": 45.2292,
          "longitude": 13.6035
         },
         "name": "Porec bike share (Croatia)"
        },
        {
         "company": [
          "Nextbike GmbH"
         ],
         "href": "/v2/networks/kaliski-rower-miejski-kalisz",
         "id": "kaliski-rower-miejski-kalisz",
         "location": {
          "city": "Kalisz",
          "country": "PL",
          "latitude": 51.7525,
          "longitude": 18.0341
         },
         "name": "Kaliski Rower Miejski Poland"
        },
        {
         "company": [
          "Nextbike GmbH"
         ],
         "href": "/v2/networks/rower-miejski-w-ostrowie-wielkopolskim-ostrow-wielkopolski",
         "id": "rower-miejski-w-ostrowie-wielkopolskim-ostrow-wielkopolski",
         "location": {
          "city": "Ostrów Wielkopolski",
          "country": "PL",
          "latitude": 51.65,
          "longitude": 17.8253
         },
         "name": "Rower Miejski w Ostrowie Wielkopolskim Poland"
        },
        {
         "company": [
          "Nextbike GmbH"
         ],
         "href": "/v2/networks/santander-brunel",
         "id": "santander-brunel",
         "location": {
          "city": "Brunel University",
          "country": "GB",
          "latitude": 51.5463,
          "longitude": -0.48048
         },
         "name": "Santander Cycles - Brunel"
        },
        {
         "company": [
          "Nextbike GmbH"
         ],
         "href": "/v2/networks/koszalinski-rower-miejski-koszalin",
         "id": "koszalinski-rower-miejski-koszalin",
         "location": {
          "city": "Koszalin",
          "country": "PL",
          "latitude": 54.2026,
          "longitude": 16.1678
         },
         "name": "Koszaliński Rower Miejski Poland"
        },
        {
         "company": [
          "Nextbike GmbH"
         ],
         "href": "/v2/networks/ki-rower-miejski-sosnowiec",
         "id": "ki-rower-miejski-sosnowiec",
         "location": {
          "city": "Sosnowiec",
          "country": "PL",
          "latitude": 50.278,
          "longitude": 19.1345
         },
         "name": "Sosnowiecki Rower Miejski Poland"
        },
        {
         "company": [
          "Nextbike GmbH"
         ],
         "href": "/v2/networks/pobiedziski-rower-gminny-pobiedziska",
         "id": "pobiedziski-rower-gminny-pobiedziska",
         "location": {
          "city": "Pobiedziska",
          "country": "PL",
          "latitude": 52.4765,
          "longitude": 17.2866
         },
         "name": "Pobiedziski Rower Gminny Poland"
        },
        {
         "company": [
          "Nextbike GmbH"
         ],
         "href": "/v2/networks/siemianowicki-rower-miejski-siemianowice-slaskie",
         "id": "siemianowicki-rower-miejski-siemianowice-slaskie",
         "location": {
          "city": "Siemianowice Śląskie",
          "country": "PL",
          "latitude": 50.3031,
          "longitude": 19.0222
         },
         "name": "Siemianowicki Rower Miejski Poland"
        },
        {
         "company": [
          "Nextbike GmbH"
         ],
         "href": "/v2/networks/piotrkowski-rower-miejski-piotrkow-trybunalski",
         "id": "piotrkowski-rower-miejski-piotrkow-trybunalski",
         "location": {
          "city": "Piotrków Trybunalski",
          "country": "PL",
          "latitude": 51.3975,
          "longitude": 19.6779
         },
         "name": "Piotrkowski Rower Miejski Poland"
        },
        {
         "company": [
          "Nextbike GmbH"
         ],
         "href": "/v2/networks/i-rower-miejski-prm-plock",
         "id": "i-rower-miejski-prm-plock",
         "location": {
          "city": "Płock",
          "country": "PL",
          "latitude": 52.5445,
          "longitude": 19.7017
         },
         "name": "Płocki Rower Miejski (PRM) Poland"
        },
        {
         "company": [
          "Nextbike GmbH"
         ],
         "href": "/v2/networks/plocki-rower-miejski-prm-orlen-plock",
         "id": "plocki-rower-miejski-prm-orlen-plock",
         "location": {
          "city": "Orlen Płock",
          "country": "PL",
          "latitude": 52.5466,
          "longitude": 19.7047
         },
         "name": "Płocki Rower Miejski (PRM) Poland"
        },
        {
         "company": [
          "Nextbike GmbH"
         ],
         "href": "/v2/networks/i-rower-miejski-otwock",
         "id": "i-rower-miejski-otwock",
         "location": {
          "city": "Otwock",
          "country": "PL",
          "latitude": 52.1034,
          "longitude": 21.2692
         },
         "name": "Otwocki Rower Miejski Poland"
        },
        {
         "company": [
          "Nextbike GmbH"
         ],
         "href": "/v2/networks/ciechanowski-rower-miejski-ciechanow",
         "id": "ciechanowski-rower-miejski-ciechanow",
         "location": {
          "city": "Ciechanów",
          "country": "PL",
          "latitude": 52.8763,
          "longitude": 20.6102
         },
         "name": "Ciechanowski Rower Miejski Poland"
        },
        {
         "company": [
          "Nextbike GmbH"
         ],
         "href": "/v2/networks/zyrardowski-rower-miejski-zyrardow",
         "id": "zyrardowski-rower-miejski-zyrardow",
         "location": {
          "city": "Żyrardów",
          "country": "PL",
          "latitude": 52.0503,
          "longitude": 20.4464
         },
         "name": "Żyrardowski Rower Miejski Poland"
        },
        {
         "company": [
          "Nextbike GmbH"
         ],
         "href": "/v2/networks/sap-walldorf",
         "id": "sap-walldorf",
         "location": {
          "city": "Walldorf",
          "country": "DE",
          "latitude": 49.2945,
          "longitude": 8.62324
         },
         "name": "SAP Walldorf"
        },
        {
         "company": [
          "Nextbike GmbH"
         ],
         "href": "/v2/networks/opcina-dugopolje",
         "id": "opcina-dugopolje",
         "location": {
          "city": "Dugopolje",
          "country": "HR",
          "latitude": 43.5872,
          "longitude": 16.5879
         },
         "name": "Općina Dugopolje (Croatia)"
        },
        {
         "company": [
          "Nextbike GmbH"
         ],
         "href": "/v2/networks/opcina-pitomaca",
         "id": "opcina-pitomaca",
         "location": {
          "city": "Pitomača",
          "country": "HR",
          "latitude": 45.9077,
          "longitude": 17.2622
         },
         "name": "Općina Pitomača (Croatia)"
        },
        {
         "company": [
          "Nextbike GmbH"
         ],
         "href": "/v2/networks/nomago-ljubljana",
         "id": "nomago-ljubljana",
         "location": {
          "city": "Ljubljana",
          "country": "SI",
          "latitude": 46.0577,
          "longitude": 14.5013
         },
         "name": "Nomago Bikes - LJUBLJANA"
        },
        {
         "company": [
          "Nextbike GmbH"
         ],
         "href": "/v2/networks/system-roweru-gminnego-pielgrzymka",
         "id": "system-roweru-gminnego-pielgrzymka",
         "location": {
          "city": "Pielgrzymka",
          "country": "PL",
          "latitude": 51.1185,
          "longitude": 15.8153
         },
         "name": "System Roweru Gminnego Poland"
        },
        {
         "company": [
          "Nextbike GmbH"
         ],
         "href": "/v2/networks/rvk",
         "id": "rvk",
         "location": {
          "city": "RVK e-Bike",
          "country": "DE",
          "latitude": 50.7069,
          "longitude": 6.87607
         },
         "name": "RVK"
        },
        {
         "company": [
          "Nextbike GmbH"
         ],
         "href": "/v2/networks/partnerzy-nextbike-polska-wolt",
         "id": "partnerzy-nextbike-polska-wolt",
         "location": {
          "city": "Wolt",
          "country": "PL",
          "latitude": 52.2984,
          "longitude": 21.0498
         },
         "name": "Partnerzy Nextbike Polska"
        },
        {
         "company": [
          "Nextbike GmbH"
         ],
         "href": "/v2/networks/wupsi",
         "id": "wupsi",
         "location": {
          "city": "Leverkusen",
          "country": "DE",
          "latitude": 51.0732,
          "longitude": 7.00814
         },
         "name": "wupsiRad Leverkusen"
        },
        {
         "company": [
          "Nextbike GmbH"
         ],
         "href": "/v2/networks/lovesharing-canary-islands-gran-canaria",
         "id": "lovesharing-canary-islands-gran-canaria",
         "location": {
          "city": "Gran Canaria",
          "country": "ES",
          "latitude": 27.8154,
          "longitude": -15.5182
         },
         "name": "Lovesharing (Canary Islands)"
        },
        {
         "company": [
          "Nextbike GmbH"
         ],
         "href": "/v2/networks/lovesharing-canary-islands-lanzarote",
         "id": "lovesharing-canary-islands-lanzarote",
         "location": {
          "city": "Lanzarote",
          "country": "ES",
          "latitude": 29.0491,
          "longitude": -13.5729
         },
         "name": "Lovesharing (Canary Islands)"
        },
        {
         "company": [
          "Nextbike GmbH"
         ],
         "href": "/v2/networks/lovesharing-canary-islands-fuerteventura",
         "id": "lovesharing-canary-islands-fuerteventura",
         "location": {
          "city": "Fuerteventura",
          "country": "ES",
          "latitude": 28.3584,
          "longitude": -14.064
         },
         "name": "Lovesharing (Canary Islands)"
        },
        {
         "company": [
          "VAG Verkehrs-Aktiengesellschaft"
         ],
         "href": "/v2/networks/vagrad",
         "id": "vagrad",
         "location": {
          "city": "Nürnberg",
          "country": "DE",
          "latitude": 49.4487,
          "longitude": 11.0794
         },
         "name": "VAG_Rad"
        },
        {
         "company": [
          "Nextbike GmbH"
         ],
         "href": "/v2/networks/grad-split",
         "id": "grad-split",
         "location": {
          "city": "Split",
          "country": "HR",
          "latitude": 43.5162,
          "longitude": 16.4637
         },
         "name": "Grad Split (Croatia)"
        },
        {
         "company": [
          "Nextbike GmbH"
         ],
         "href": "/v2/networks/grad-split-solin",
         "id": "grad-split-solin",
         "location": {
          "city": "Solin",
          "country": "HR",
          "latitude": 43.5441,
          "longitude": 16.4833
         },
         "name": "Grad Split (Croatia)"
        },
        {
         "company": [
          "Nextbike GmbH"
         ],
         "href": "/v2/networks/grad-split-opcina-klis",
         "id": "grad-split-opcina-klis",
         "location": {
          "city": "Općina Klis",
          "country": "HR",
          "latitude": 43.5605,
          "longitude": 16.5269
         },
         "name": "Grad Split (Croatia)"
        },
        {
         "company": [
          "Nextbike GmbH"
         ],
         "href": "/v2/networks/grad-split-opcina-hrvace",
         "id": "grad-split-opcina-hrvace",
         "location": {
          "city": "Općina Hrvace",
          "country": "HR",
          "latitude": 43.7553,
          "longitude": 16.6197
         },
         "name": "Grad Split (Croatia)"
        },
        {
         "company": [
          "Nextbike GmbH"
         ],
         "href": "/v2/networks/grad-split-opcina-otok-dalmatinski",
         "id": "grad-split-opcina-otok-dalmatinski",
         "location": {
          "city": "Općina Otok Dalmatinski",
          "country": "HR",
          "latitude": 43.6889,
          "longitude": 16.7361
         },
         "name": "Grad Split (Croatia)"
        },
        {
         "company": [
          "Nextbike GmbH"
         ],
         "href": "/v2/networks/grad-split-sinj",
         "id": "grad-split-sinj",
         "location": {
          "city": "Sinj",
          "country": "HR",
          "latitude": 43.7031,
          "longitude": 16.6364
         },
         "name": "Grad Split (Croatia)"
        },
        {
         "company": [
          "Nextbike GmbH"
         ],
         "href": "/v2/networks/grad-split-hvar",
         "id": "grad-split-hvar",
         "location": {
          "city": "Hvar",
          "country": "HR",
          "latitude": 43.1882,
          "longitude": 16.6295
         },
         "name": "Grad Split (Croatia)"
        },
        {
         "company": [
          "Nextbike GmbH"
         ],
         "href": "/v2/networks/grad-split-podstrana",
         "id": "grad-split-podstrana",
         "location": {
          "city": "Podstrana",
          "country": "HR",
          "latitude": 43.4934,
          "longitude": 16.5598
         },
         "name": "Grad Split (Croatia)"
        },
        {
         "company": [
          "Nextbike GmbH"
         ],
         "href": "/v2/networks/grad-split-trogir",
         "id": "grad-split-trogir",
         "location": {
          "city": "Trogir",
          "country": "HR",
          "latitude": 43.5234,
          "longitude": 16.2476
         },
         "name": "Grad Split (Croatia)"
        },
        {
         "company": [
          "Nextbike GmbH"
         ],
         "href": "/v2/networks/nextbike-ostrava",
         "id": "nextbike-ostrava",
         "location": {
          "city": "Ostrava",
          "country": "CZ",
          "latitude": 49.8344,
          "longitude": 18.2823
         },
         "name": "nextbike Ostrava"
        },
        {
         "company": [
          "Nextbike GmbH"
         ],
         "href": "/v2/networks/nextbike-ostrava-hlucin",
         "id": "nextbike-ostrava-hlucin",
         "location": {
          "city": "Hlučín",
          "country": "CZ",
          "latitude": 49.898,
          "longitude": 18.1923
         },
         "name": "nextbike Ostrava"
        },
        {
         "company": [
          "Nextbike GmbH"
         ],
         "href": "/v2/networks/nextbike-ostrava-vresina",
         "id": "nextbike-ostrava-vresina",
         "location": {
          "city": "Vřesina",
          "country": "CZ",
          "latitude": 49.825,
          "longitude": 18.1206
         },
         "name": "nextbike Ostrava"
        },
        {
         "company": [
          "Nextbike GmbH"
         ],
         "href": "/v2/networks/ski-rower-miejski-lubon",
         "id": "ski-rower-miejski-lubon",
         "location": {
          "city": "Luboń",
          "country": "PL",
          "latitude": 52.3461,
          "longitude": 16.8765
         },
         "name": "Luboński Rower Miejski Poland"
        },
        {
         "company": [
          "Nextbike GmbH"
         ],
         "href": "/v2/networks/ibizi-ibiza-city",
         "id": "ibizi-ibiza-city",
         "location": {
          "city": "Ibiza-City",
          "country": "ES",
          "latitude": 38.9066,
          "longitude": 1.42046
         },
         "name": "ibizi"
        },
        {
         "company": [
          "Nextbike GmbH"
         ],
         "href": "/v2/networks/sprintrad",
         "id": "sprintrad",
         "location": {
          "city": "Hannover",
          "country": "DE",
          "latitude": 52.3721,
          "longitude": 9.73569
         },
         "name": "sprintRAD"
        },
        {
         "company": [
          "Nextbike GmbH"
         ],
         "href": "/v2/networks/komornicki-system-rowerowy-komorniki",
         "id": "komornicki-system-rowerowy-komorniki",
         "location": {
          "city": "Komorniki",
          "country": "PL",
          "latitude": 52.3347,
          "longitude": 16.8094
         },
         "name": "Komornicki System Rowerowy Poland"
        },
        {
         "company": [
          "Nextbike GmbH"
         ],
         "href": "/v2/networks/nextbike-havirov",
         "id": "nextbike-havirov",
         "location": {
          "city": "Havířov",
          "country": "CZ",
          "latitude": 49.7799,
          "longitude": 18.4328
         },
         "name": "nextbike Havířov"
        },
        {
         "company": [
          "Nextbike GmbH"
         ],
         "href": "/v2/networks/nextbike-berounsko",
         "id": "nextbike-berounsko",
         "location": {
          "city": "Berounsko",
          "country": "CZ",
          "latitude": 49.9616,
          "longitude": 14.064
         },
         "name": "nextbike Berounsko"
        },
        {
         "company": [
          "Nextbike GmbH"
         ],
         "href": "/v2/networks/ready4green-graben",
         "id": "ready4green-graben",
         "location": {
          "city": "Graben",
          "country": "DE",
          "latitude": 51.1242,
          "longitude": 10.8984
         },
         "name": "Graben - ready4green"
        },
        {
         "company": [
          "Nextbike GmbH"
         ],
         "href": "/v2/networks/oleski-rower-miejski-olesno",
         "id": "oleski-rower-miejski-olesno",
         "location": {
          "city": "Olesno",
          "country": "PL",
          "latitude": 50.8773,
          "longitude": 18.4212
         },
         "name": "Oleski Rower Miejski Poland"
        },
        {
         "company": [
          "Nextbike GmbH"
         ],
         "href": "/v2/networks/styr-staell-goeteborg",
         "id": "styr-staell-goeteborg",
         "location": {
          "city": "Göteborg",
          "country": "SE",
          "latitude": 57.6902,
          "longitude": 11.9881
         },
         "name": "Styr & Ställ (Sweden, Göteborg)"
        },
        {
         "company": [
          "Nextbike GmbH"
         ],
         "href": "/v2/networks/nibelungen-bike-braunschweig",
         "id": "nibelungen-bike-braunschweig",
         "location": {
          "city": "Braunschweig",
          "country": "DE",
          "latitude": 52.2597,
          "longitude": 10.5307
         },
         "name": "Nibelungen-Bike"
        },
        {
         "company": [
          "Nextbike GmbH"
         ],
         "href": "/v2/networks/nextbike-brno",
         "id": "nextbike-brno",
         "location": {
          "city": "Brno",
          "country": "CZ",
          "latitude": 49.1911,
          "longitude": 16.6148
         },
         "name": "nextbike Brno"
        },
        {
         "company": [
          "Nextbike GmbH"
         ],
         "href": "/v2/networks/nextbike-brno-kurim",
         "id": "nextbike-brno-kurim",
         "location": {
          "city": "Kuřim",
          "country": "CZ",
          "latitude": 49.2994,
          "longitude": 16.5368
         },
         "name": "nextbike Brno"
        },
        {
         "company": [
          "Nextbike GmbH"
         ],
         "href": "/v2/networks/nextbike-praha",
         "id": "nextbike-praha",
         "location": {
          "city": "Praha",
          "country": "CZ",
          "latitude": 50.0592,
          "longitude": 14.5761
         },
         "name": "nextbike Praha"
        },
        {
         "company": [
          "Nextbike GmbH"
         ],
         "href": "/v2/networks/nextbike-praha-ricany",
         "id": "nextbike-praha-ricany",
         "location": {
          "city": "Říčany",
          "country": "CZ",
          "latitude": 49.9976,
          "longitude": 14.6685
         },
         "name": "nextbike Praha"
        },
        {
         "company": [
          "Nextbike GmbH"
         ],
         "href": "/v2/networks/nextbike-olomouc",
         "id": "nextbike-olomouc",
         "location": {
          "city": "Olomouc",
          "country": "CZ",
          "latitude": 49.5929,
          "longitude": 17.2459
         },
         "name": "nextbike Olomouc"
        },
        {
         "company": [
          "Nextbike GmbH"
         ],
         "href": "/v2/networks/nextbike-kladno",
         "id": "nextbike-kladno",
         "location": {
          "city": "Kladno",
          "country": "CZ",
          "latitude": 50.1435,
          "longitude": 14.1082
         },
         "name": "nextbike Kladno"
        },
        {
         "company": [
          "Nextbike GmbH"
         ],
         "href": "/v2/networks/nextbike-opava",
         "id": "nextbike-opava",
         "location": {
          "city": "Opava",
          "country": "CZ",
          "latitude": 49.9289,
          "longitude": 18.2634
         },
         "name": "nextbike Opava"
        },
        {
         "company": [
          "Nextbike GmbH"
         ],
         "href": "/v2/networks/nextbike-bielefeld",
         "id": "nextbike-bielefeld",
         "location": {
          "city": "Bielefeld",
          "country": "DE",
          "latitude": 52.0257,
          "longitude": 8.53286
         },
         "name": "meinSiggi"
        },
        {
         "company": [
          "Nextbike GmbH"
         ],
         "href": "/v2/networks/yoy-san-luis-potosi",
         "id": "yoy-san-luis-potosi",
         "location": {
          "city": "San Luis Potosi",
          "country": "MX",
          "latitude": 22.438,
          "longitude": -100.514
         },
         "name": "YOY - San Luis Potosi"
        },
        {
         "company": [
          "Nextbike GmbH"
         ],
         "href": "/v2/networks/yoy-san-luis-potosi-cancun",
         "id": "yoy-san-luis-potosi-cancun",
         "location": {
          "city": "Cancún",
          "country": "MX",
          "latitude": 21.1675,
          "longitude": -86.8498
         },
         "name": "YOY - San Luis Potosi"
        },
        {
         "company": [
          "Nextbike GmbH"
         ],
         "href": "/v2/networks/bergisches-e-bike",
         "id": "bergisches-e-bike",
         "location": {
          "city": "Bergisches e-Bike",
          "country": "DE",
          "latitude": 51.0192,
          "longitude": 7.18025
         },
         "name": "Bergisches e-Bike"
        },
        {
         "company": [
          "Nextbike GmbH"
         ],
         "href": "/v2/networks/nextbike-pardubice",
         "id": "nextbike-pardubice",
         "location": {
          "city": "Pardubice",
          "country": "CZ",
          "latitude": 50.0343,
          "longitude": 15.7812
         },
         "name": "nextbike Pardubice"
        },
        {
         "company": [
          "Nextbike GmbH"
         ],
         "href": "/v2/networks/nextbike-hradec-kralove",
         "id": "nextbike-hradec-kralove",
         "location": {
          "city": "Hradec Králové",
          "country": "CZ",
          "latitude": 50.2079,
          "longitude": 15.8334
         },
         "name": "nextbike Hradec Králové"
        },
        {
         "company": [
          "Nextbike GmbH"
         ],
         "href": "/v2/networks/nextbike-mladoboleslavsko-mlada-boleslav",
         "id": "nextbike-mladoboleslavsko-mlada-boleslav",
         "location": {
          "city": "Mladá Boleslav",
          "country": "CZ",
          "latitude": 50.4278,
          "longitude": 14.8999
         },
         "name": "nextbike Mladoboleslavsko"
        },
        {
         "company": [
          "Nextbike GmbH"
         ],
         "href": "/v2/networks/nextbike-mladoboleslavsko-mnichovo-hradiste",
         "id": "nextbike-mladoboleslavsko-mnichovo-hradiste",
         "location": {
          "city": "Mnichovo Hradiště",
          "country": "CZ",
          "latitude": 50.5218,
          "longitude": 14.9741
         },
         "name": "nextbike Mladoboleslavsko"
        },
        {
         "company": [
          "Nextbike GmbH"
         ],
         "href": "/v2/networks/oeynrad-bad-oeynhausen",
         "id": "oeynrad-bad-oeynhausen",
         "location": {
          "city": "Bad Oeynhausen",
          "country": "DE",
          "latitude": 52.2051,
          "longitude": 8.80074
         },
         "name": "Oeynrad"
        },
        {
         "company": [
          "Nextbike GmbH"
         ],
         "href": "/v2/networks/rsvg-bike",
         "id": "rsvg-bike",
         "location": {
          "city": "RSVG",
          "country": "DE",
          "latitude": 50.7669,
          "longitude": 7.37457
         },
         "name": "RSVG-Bike"
        },
        {
         "company": [
          "Nextbike GmbH"
         ],
         "href": "/v2/networks/citybikelinz",
         "id": "citybikelinz",
         "location": {
          "city": "Linz",
          "country": "AT",
          "latitude": 48.3003,
          "longitude": 14.2843
         },
         "name": "city bike Linz"
        },
        {
         "company": [
          "Nextbike GmbH"
         ],
         "href": "/v2/networks/velopark-drobeta",
         "id": "velopark-drobeta",
         "location": {
          "city": "Drobeta",
          "country": "RO",
          "latitude": 44.6326,
          "longitude": 22.6564
         },
         "name": "Drobeta Velopark"
        },
        {
         "company": [
          "Nextbike GmbH"
         ],
         "href": "/v2/networks/nomago-gorica",
         "id": "nomago-gorica",
         "location": {
          "city": "Nova Gorica",
          "country": "SI",
          "latitude": 45.9576,
          "longitude": 13.6406
         },
         "name": "Nomago Bikes - GO2GO"
        },
        {
         "company": [
          "Nextbike GmbH"
         ],
         "href": "/v2/networks/saturn",
         "id": "saturn",
         "location": {
          "city": "Saturn",
          "country": "RO",
          "latitude": 43.82,
          "longitude": 28.7445
         },
         "name": "Saturn"
        },
        {
         "company": [
          "Nextbike GmbH"
         ],
         "href": "/v2/networks/nextbike-frydek-mistek",
         "id": "nextbike-frydek-mistek",
         "location": {
          "city": "Frýdek-Místek",
          "country": "CZ",
          "latitude": 49.6832,
          "longitude": 18.3457
         },
         "name": "nextbike Frýdek-Místek"
        },
        {
         "company": [
          "Nextbike GmbH"
         ],
         "href": "/v2/networks/nextbike-uherske-hradiste",
         "id": "nextbike-uherske-hradiste",
         "location": {
          "city": "Uherské Hradiště",
          "country": "CZ",
          "latitude": 49.0678,
          "longitude": 17.4665
         },
         "name": "nextbike Uherské Hradiště"
        },
        {
         "company": [
          "Nextbike GmbH"
         ],
         "href": "/v2/networks/nextbike-zlin",
         "id": "nextbike-zlin",
         "location": {
          "city": "Zlín",
          "country": "CZ",
          "latitude": 49.238,
          "longitude": 17.6788
         },
         "name": "nextbike Zlín"
        },
        {
         "company": [
          "Nextbike GmbH"
         ],
         "href": "/v2/networks/nextbike-krnov",
         "id": "nextbike-krnov",
         "location": {
          "city": "Krnov",
          "country": "CZ",
          "latitude": 50.0703,
          "longitude": 17.8837
         },
         "name": "nextbike Krnov"
        },
        {
         "company": [
          "Nextbike GmbH"
         ],
         "href": "/v2/networks/eifel",
         "id": "eifel",
         "location": {
          "city": "Eifel e-Bike",
          "country": "DE",
          "latitude": 50.5771,
          "longitude": 6.64673
         },
         "name": "Eifel e-Bike"
        },
        {
         "company": [
          "Nextbike GmbH"
         ],
         "href": "/v2/networks/nextbike-rychnovsko",
         "id": "nextbike-rychnovsko",
         "location": {
          "city": "Rychnovsko",
          "country": "CZ",
          "latitude": 50.1668,
          "longitude": 16.2828
         },
         "name": "nextbike Rychnovsko"
        },
        {
         "company": [
          "Nextbike GmbH"
         ],
         "href": "/v2/networks/nextbike-pisek",
         "id": "nextbike-pisek",
         "location": {
          "city": "Písek",
          "country": "CZ",
          "latitude": 49.3051,
          "longitude": 14.1463
         },
         "name": "nextbike Písek"
        },
        {
         "company": [
          "Nextbike GmbH"
         ],
         "href": "/v2/networks/nextbike-jihlava",
         "id": "nextbike-jihlava",
         "location": {
          "city": "Jihlava",
          "country": "CZ",
          "latitude": 49.4078,
          "longitude": 15.6061
         },
         "name": "nextbike Jihlava"
        },
        {
         "company": [
          "Nextbike GmbH"
         ],
         "href": "/v2/networks/nomago-zanaprej",
         "id": "nomago-zanaprej",
         "location": {
          "city": "Zagorje ob Savi",
          "country": "SI",
          "latitude": 46.1392,
          "longitude": 14.9785
         },
         "name": "Nomago Bikes - ZANAPREJ"
        },
        {
         "company": [
          "Nextbike GmbH"
         ],
         "href": "/v2/networks/rower-powiatowy-sokolow-podlaski",
         "id": "rower-powiatowy-sokolow-podlaski",
         "location": {
          "city": "Sokołów Podlaski",
          "country": "PL",
          "latitude": 52.4082,
          "longitude": 22.2525
         },
         "name": "Rower Powiatowy Sokołów Podlaski"
        },
        {
         "company": [
          "Nextbike GmbH"
         ],
         "href": "/v2/networks/nextbike-bergamo",
         "id": "nextbike-bergamo",
         "location": {
          "city": "Bergamo",
          "country": "IT",
          "latitude": 45.6986,
          "longitude": 9.67567
         },
         "name": "nextbike Bergamo"
        },
        {
         "company": [
          "Nextbike GmbH"
         ],
         "href": "/v2/networks/emobi-osijek",
         "id": "emobi-osijek",
         "location": {
          "city": "Osijek",
          "country": "HR",
          "latitude": 45.554,
          "longitude": 18.6943
         },
         "name": "eMobi (Croatia)"
        },
        {
         "company": [
          "Nextbike GmbH"
         ],
         "href": "/v2/networks/arval-scandicci",
         "id": "arval-scandicci",
         "location": {
          "city": "Scandicci",
          "country": "IT",
          "latitude": 43.7701,
          "longitude": 11.1592
         },
         "name": "ARVAL"
        },
        {
         "company": [
          "Bremer Tageszeitungen AG"
         ],
         "href": "/v2/networks/nextbike-oldenburg",
         "id": "nextbike-oldenburg",
         "location": {
          "city": "Oldenburg",
          "country": "DE",
          "latitude": 53.1448,
          "longitude": 8.22485
         },
         "name": "OLi-Bike"
        },
        {
         "company": [
          "Nextbike GmbH"
         ],
         "href": "/v2/networks/nextbike-urdaibai",
         "id": "nextbike-urdaibai",
         "location": {
          "city": "Urdaibai",
          "country": "ES",
          "latitude": 43.395,
          "longitude": -2.68815
         },
         "name": "BBK Klimabizi"
        },
        {
         "company": [
          "Nextbike GmbH"
         ],
         "href": "/v2/networks/mvrad-hq",
         "id": "mvrad-hq",
         "location": {
          "city": "MV-Rad",
          "country": "DE",
          "latitude": 53.6707,
          "longitude": 12.4255
         },
         "name": "MV-Rad"
        },
        {
         "company": [
          "Nextbike GmbH"
         ],
         "href": "/v2/networks/mvrad-anklam",
         "id": "mvrad-anklam",
         "location": {
          "city": "Anklam",
          "country": "DE",
          "latitude": 53.8614,
          "longitude": 13.6907
         },
         "name": "MV-Rad"
        },
        {
         "company": [
          "Nextbike GmbH"
         ],
         "href": "/v2/networks/greifswald",
         "id": "greifswald",
         "location": {
          "city": "Greifswald (StadtRad)",
          "country": "DE",
          "latitude": 54.0961,
          "longitude": 13.3787
         },
         "name": "StadtRad Greifswald"
        },
        {
         "company": [
          "Nextbike GmbH"
         ],
         "href": "/v2/networks/nextbike-dvur-kralove",
         "id": "nextbike-dvur-kralove",
         "location": {
          "city": "Dvůr Králové",
          "country": "CZ",
          "latitude": 50.4278,
          "longitude": 15.8162
         },
         "name": "nextbike Dvůr Králové"
        },
        {
         "company": [
          "Nextbike GmbH"
         ],
         "href": "/v2/networks/vvtregiorad-kufstein",
         "id": "vvtregiorad-kufstein",
         "location": {
          "city": "Kufstein",
          "country": "AT",
          "latitude": 47.583,
          "longitude": 12.1692
         },
         "name": "VVT REGIORAD Tirol"
        },
        {
         "company": [
          "Nextbike GmbH"
         ],
         "href": "/v2/networks/vvtregiorad-ellmau",
         "id": "vvtregiorad-ellmau",
         "location": {
          "city": "Ellmau",
          "country": "AT",
          "latitude": 47.5134,
          "longitude": 12.3025
         },
         "name": "VVT REGIORAD Tirol"
        },
        {
         "company": [
          "Nextbike GmbH"
         ],
         "href": "/v2/networks/ski-rower-chelm",
         "id": "ski-rower-chelm",
         "location": {
          "city": "Chełm",
          "country": "PL",
          "latitude": 51.1318,
          "longitude": 23.4755
         },
         "name": "Chełmski Rower"
        },
        {
         "company": [
          "Nextbike GmbH"
         ],
         "href": "/v2/networks/nextbike-vrchlabi",
         "id": "nextbike-vrchlabi",
         "location": {
          "city": "Vrchlabí",
          "country": "CZ",
          "latitude": 50.6222,
          "longitude": 15.6126
         },
         "name": "nextbike Vrchlabí"
        },
        {
         "company": [
          "Nextbike GmbH"
         ],
         "href": "/v2/networks/winsenrad",
         "id": "winsenrad",
         "location": {
          "city": "Winsen (Luhe)",
          "country": "DE",
          "latitude": 53.3547,
          "longitude": 10.2067
         },
         "name": "WinsenRad"
        },
        {
         "company": [
          "Nextbike GmbH"
         ],
         "href": "/v2/networks/loker-lomza",
         "id": "loker-lomza",
         "location": {
          "city": "Łomża",
          "country": "PL",
          "latitude": 53.1649,
          "longitude": 22.0729
         },
         "name": "ŁoKeR - Łomża"
        },
        {
         "company": [
          "Nextbike GmbH"
         ],
         "href": "/v2/networks/nomago-kranjska-gora",
         "id": "nomago-kranjska-gora",
         "location": {
          "city": "Kranjska Gora",
          "country": "SI",
          "latitude": 46.4846,
          "longitude": 13.7836
         },
         "name": "Nomago Bikes - KRANJSKA GORA"
        },
        {
         "company": [
          "Nextbike GmbH"
         ],
         "href": "/v2/networks/nomago-portoroz",
         "id": "nomago-portoroz",
         "location": {
          "city": "Portorož",
          "country": "SI",
          "latitude": 45.5054,
          "longitude": 13.5979
         },
         "name": "Nomago Bikes - PORTOROZ"
        },
        {
         "company": [
          "Nextbike GmbH"
         ],
         "href": "/v2/networks/vrn-landau",
         "id": "vrn-landau",
         "location": {
          "city": "Landau in der Pfalz",
          "country": "DE",
          "latitude": 49.1975,
          "longitude": 8.11693
         },
         "name": "VRN"
        },
        {
         "company": null,
         "gbfs_href": "https://nitro.openvelo.org/aachen/velocity/v2/gbfs.json",
         "href": "/v2/networks/velocity-aachen",
         "id": "velocity-aachen",
         "location": {
          "city": "Aachen",
          "country": "DE",
          "latitude": 50.776667,
          "longitude": 6.083611
         },
         "name": "Velocity"
        },
        {
         "company": null,
         "gbfs_href": "https://quebec.publicbikesystem.net/customer/gbfs/v2/gbfs.json",
         "href": "/v2/networks/avelo-quebec",
         "id": "avelo-quebec",
         "location": {
          "city": "Québec",
          "country": "CA",
          "latitude": 46.81305,
          "longitude": -71.2168
         },
         "name": "àVélo"
        },
        {
         "company": null,
         "gbfs_href": "https://saguenay.publicbikesystem.net/customer/gbfs/v2/gbfs.json",
         "href": "/v2/networks/acces-velo-saguenay",
         "id": "acces-velo-saguenay",
         "location": {
          "city": "Saguenay",
          "country": "CA",
          "latitude": 48.433333,
          "longitude": -71.083333
         },
         "name": "Accès Vélo"
        },
        {
         "company": [
          "Vilvolt CA Épinal",
          "Communauté d'agglomération Épinal",
          "Fifteen SAS"
         ],
         "href": "/v2/networks/vilvolt",
         "id": "vilvolt",
         "location": {
          "city": "Epinal",
          "country": "FR",
          "latitude": 48.1833,
          "longitude": 6.4508
         },
         "name": "Vilvolt"
        },
        {
         "company": [
          "VeloBaie",
          "Fifteen SAS"
         ],
         "gbfs_href": "",
         "href": "/v2/networks/velobaie",
         "id": "velobaie",
         "location": {
          "city": "Saint-Brieuc",
          "country": "FR",
          "latitude": 48.514,
          "longitude": -2.765
         },
         "name": "VeloBaie"
        },
        {
         "company": [
          "Donkey Republic"
         ],
         "gbfs_href": "https://stables.donkey.bike/api/public/gbfs/donkey_gh/gbfs",
         "href": "/v2/networks/donkey-gh",
         "id": "donkey-gh",
         "location": {
          "city": "Gent",
          "country": "BE",
          "latitude": 51.05,
          "longitude": 3.7303
         },
         "name": "Donkey Republic - Gent"
        },
        {
         "company": [
          "JCDecaux"
         ],
         "href": "/v2/networks/mbajk",
         "id": "mbajk",
         "license": {
          "name": "Open Licence",
          "url": "https://developer.jcdecaux.com/#/opendata/licence"
         },
         "location": {
          "city": "Maribor",
          "country": "SI",
          "latitude": 46.5547,
          "longitude": 15.6459
         },
         "name": "MBajk",
         "source": "https://developer.jcdecaux.com"
        }
       ]
      },
      "text/plain": [
       "<IPython.core.display.JSON object>"
      ]
     },
     "execution_count": 3,
     "metadata": {
      "application/json": {
       "expanded": false,
       "root": "root"
      }
     },
     "output_type": "execute_result"
    }
   ],
   "source": [
    "# call data from city bikes API\n",
    "citybikes_network = requests.get(\"http://api.citybik.es/v2/networks\").json()\n",
    "\n",
    "# Take a look at the returned Json in a cleaner format\n",
    "JSON(citybikes_network)\n"
   ]
  },
  {
   "cell_type": "code",
   "execution_count": 4,
   "metadata": {},
   "outputs": [
    {
     "name": "stdout",
     "output_type": "stream",
     "text": [
      "241\n"
     ]
    }
   ],
   "source": [
    "## After Identifying where the info we need is stored, create variable x, just to make it easier to work with\n",
    "x = citybikes_network['networks']\n",
    "## we have 615 networks, so loop through them and find an output for the city Vancouver\n",
    "for i in range(615):\n",
    "    if x[i]['location']['city'] == 'Vancouver':\n",
    "        print (i)"
   ]
  },
  {
   "cell_type": "code",
   "execution_count": 5,
   "metadata": {},
   "outputs": [
    {
     "name": "stdout",
     "output_type": "stream",
     "text": [
      "mobibikes\n"
     ]
    }
   ],
   "source": [
    "## Identify the network id for Vancouver\n",
    "print(x[241]['id'])"
   ]
  },
  {
   "cell_type": "code",
   "execution_count": 6,
   "metadata": {},
   "outputs": [],
   "source": [
    "## Now that we have the network id for the city we want, send another call to get data about the bike stations in the city\n",
    "network_id = 'mobibikes'\n",
    "n_json = requests.get(\"http://api.citybik.es/v2/networks/\"+network_id).json()"
   ]
  },
  {
   "cell_type": "markdown",
   "metadata": {},
   "source": [
    "Parse through the response to get the details you want for the bike stations in that city (latitude, longitude, number of bikes). "
   ]
  },
  {
   "cell_type": "code",
   "execution_count": 7,
   "metadata": {},
   "outputs": [
    {
     "data": {
      "application/json": {
       "network": {
        "company": [
         "Vanncouver Bike Share Inc.",
         "CycleHop LLC",
         "City of Vancouver",
         "Shaw Communications Inc.",
         "Fifteen"
        ],
        "gbfs_href": "https://vancouver-gbfs.smoove.pro/gbfs/2/gbfs.json",
        "href": "/v2/networks/mobibikes",
        "id": "mobibikes",
        "location": {
         "city": "Vancouver",
         "country": "CA",
         "latitude": 49.2827,
         "longitude": -123.1207
        },
        "name": "Mobi",
        "stations": [
         {
          "empty_slots": 14,
          "extra": {
           "ebikes": 4,
           "has_ebikes": true,
           "last_updated": 1676316003,
           "normal_bikes": 17,
           "renting": true,
           "returning": true,
           "slots": 35,
           "uid": "0001"
          },
          "free_bikes": 21,
          "id": "7a19c49f486d7c0c02b3685d7b240448",
          "latitude": 49.262487,
          "longitude": -123.114397,
          "name": "10th & Cambie",
          "timestamp": "2023-02-13T19:22:31.595000Z"
         },
         {
          "empty_slots": 7,
          "extra": {
           "ebikes": 1,
           "has_ebikes": true,
           "last_updated": 1676315894,
           "normal_bikes": 8,
           "renting": true,
           "returning": true,
           "slots": 16,
           "uid": "0004"
          },
          "free_bikes": 9,
          "id": "32603a87cfca71d0f7dfa3513bad69d5",
          "latitude": 49.274566,
          "longitude": -123.121817,
          "name": "Yaletown-Roundhouse Station",
          "timestamp": "2023-02-13T19:22:31.591000Z"
         },
         {
          "empty_slots": 13,
          "extra": {
           "ebikes": 0,
           "has_ebikes": true,
           "last_updated": 1676315968,
           "normal_bikes": 13,
           "renting": true,
           "returning": true,
           "slots": 26,
           "uid": "0005"
          },
          "free_bikes": 13,
          "id": "6d42fa40360f9a6b2bf641c7b8bb2862",
          "latitude": 49.279764,
          "longitude": -123.110154,
          "name": "Dunsmuir & Beatty",
          "timestamp": "2023-02-13T19:22:31.592000Z"
         },
         {
          "empty_slots": 14,
          "extra": {
           "ebikes": 0,
           "has_ebikes": true,
           "last_updated": 1676316133,
           "normal_bikes": 2,
           "renting": true,
           "returning": true,
           "slots": 16,
           "uid": "0007"
          },
          "free_bikes": 2,
          "id": "66f873d641d448bd1572ab086665a458",
          "latitude": 49.260599,
          "longitude": -123.113504,
          "name": "12th & Yukon (City Hall)",
          "timestamp": "2023-02-13T19:22:31.593000Z"
         },
         {
          "empty_slots": 7,
          "extra": {
           "ebikes": 2,
           "has_ebikes": true,
           "last_updated": 1676315653,
           "normal_bikes": 7,
           "renting": true,
           "returning": true,
           "slots": 16,
           "uid": "0008"
          },
          "free_bikes": 9,
          "id": "485d4d24c803cfde829ab89699fed833",
          "latitude": 49.264215,
          "longitude": -123.117772,
          "name": "8th & Ash",
          "timestamp": "2023-02-13T19:22:31.604000Z"
         },
         {
          "empty_slots": 3,
          "extra": {
           "ebikes": 1,
           "has_ebikes": true,
           "last_updated": 1676316111,
           "normal_bikes": 10,
           "renting": true,
           "returning": true,
           "slots": 14,
           "uid": "0009"
          },
          "free_bikes": 11,
          "id": "b07d513f87897cff7319a0e59d7e567c",
          "latitude": 49.270877,
          "longitude": -123.115103,
          "name": "Spyglass & Seawall",
          "timestamp": "2023-02-13T19:22:31.604000Z"
         },
         {
          "empty_slots": 12,
          "extra": {
           "ebikes": 0,
           "has_ebikes": true,
           "last_updated": 1676315587,
           "normal_bikes": 2,
           "renting": true,
           "returning": true,
           "slots": 14,
           "uid": "0010"
          },
          "free_bikes": 2,
          "id": "d1c9556d92f329703229fb3e33899a3b",
          "latitude": 49.26893,
          "longitude": -123.11813,
          "name": "Stamps Landing",
          "timestamp": "2023-02-13T19:22:31.624000Z"
         },
         {
          "empty_slots": 13,
          "extra": {
           "ebikes": 1,
           "has_ebikes": true,
           "last_updated": 1676315924,
           "normal_bikes": 6,
           "renting": true,
           "returning": true,
           "slots": 20,
           "uid": "0011"
          },
          "free_bikes": 7,
          "id": "95e624191c655f50e401d280cd39a9ad",
          "latitude": 49.271721,
          "longitude": -123.104207,
          "name": "Ontario & Seawall",
          "timestamp": "2023-02-13T19:22:31.624000Z"
         },
         {
          "empty_slots": 6,
          "extra": {
           "ebikes": 1,
           "has_ebikes": true,
           "last_updated": 1676315914,
           "normal_bikes": 19,
           "renting": true,
           "returning": true,
           "slots": 26,
           "uid": "0014"
          },
          "free_bikes": 20,
          "id": "3e112f9fe877e0003780386359060ae6",
          "latitude": 49.287214,
          "longitude": -123.11287,
          "name": "Canada Place",
          "timestamp": "2023-02-13T19:22:31.622000Z"
         },
         {
          "empty_slots": 9,
          "extra": {
           "ebikes": 0,
           "has_ebikes": true,
           "last_updated": 1676316058,
           "normal_bikes": 11,
           "renting": true,
           "returning": true,
           "slots": 20,
           "uid": "0015"
          },
          "free_bikes": 11,
          "id": "6993b3dbb0758927967592ea612a2b1e",
          "latitude": 49.282409,
          "longitude": -123.118541,
          "name": "Granville & Georgia",
          "timestamp": "2023-02-13T19:22:31.621000Z"
         },
         {
          "empty_slots": 13,
          "extra": {
           "ebikes": 1,
           "has_ebikes": true,
           "last_updated": 1676316036,
           "normal_bikes": 12,
           "renting": true,
           "returning": true,
           "slots": 26,
           "uid": "0016"
          },
          "free_bikes": 13,
          "id": "bf8408067b0e0c963f3ff526977bcef3",
          "latitude": 49.287097,
          "longitude": -123.118551,
          "name": "Pender & Burrard",
          "timestamp": "2023-02-13T19:22:31.620000Z"
         },
         {
          "empty_slots": 2,
          "extra": {
           "ebikes": 1,
           "has_ebikes": true,
           "last_updated": 1676316100,
           "normal_bikes": 19,
           "renting": true,
           "returning": true,
           "slots": 22,
           "uid": "0017"
          },
          "free_bikes": 20,
          "id": "d2244f1a81d317c76cabd65e81250835",
          "latitude": 49.273471,
          "longitude": -123.118016,
          "name": "Marinaside & Davie",
          "timestamp": "2023-02-13T19:22:31.619000Z"
         },
         {
          "empty_slots": 22,
          "extra": {
           "ebikes": 2,
           "has_ebikes": true,
           "last_updated": 1676316118,
           "normal_bikes": 5,
           "renting": true,
           "returning": true,
           "slots": 30,
           "uid": "0019"
          },
          "free_bikes": 7,
          "id": "0b543fc4e694fe07a54dac48bb1b3390",
          "latitude": 49.282758,
          "longitude": -123.122092,
          "name": "Robson & Hornby",
          "timestamp": "2023-02-13T19:22:31.653000Z"
         },
         {
          "empty_slots": 1,
          "extra": {
           "ebikes": 0,
           "has_ebikes": true,
           "last_updated": 1676316141,
           "normal_bikes": 21,
           "renting": true,
           "returning": true,
           "slots": 22,
           "uid": "0021"
          },
          "free_bikes": 21,
          "id": "1b4c6f63f4bfbbd983992dbdca776865",
          "latitude": 49.286042,
          "longitude": -123.113176,
          "name": "Cordova & Granville",
          "timestamp": "2023-02-13T19:22:31.678000Z"
         },
         {
          "empty_slots": 3,
          "extra": {
           "ebikes": 5,
           "has_ebikes": true,
           "last_updated": 1676316036,
           "normal_bikes": 14,
           "renting": true,
           "returning": true,
           "slots": 22,
           "uid": "0024"
          },
          "free_bikes": 19,
          "id": "fbb1d30d7f30b049873f5be5688563d4",
          "latitude": 49.28602,
          "longitude": -123.116624,
          "name": "Hornby & Pender",
          "timestamp": "2023-02-13T19:22:31.691000Z"
         },
         {
          "empty_slots": 13,
          "extra": {
           "ebikes": 0,
           "has_ebikes": true,
           "last_updated": 1676316134,
           "normal_bikes": 7,
           "renting": true,
           "returning": true,
           "slots": 20,
           "uid": "0025"
          },
          "free_bikes": 7,
          "id": "7181df50ee1d1a05559399211382b7c8",
          "latitude": 49.279739,
          "longitude": -123.116251,
          "name": "Homer & Robson (Vancouver Public Library)",
          "timestamp": "2023-02-13T19:22:31.692000Z"
         },
         {
          "empty_slots": 15,
          "extra": {
           "ebikes": 1,
           "has_ebikes": true,
           "last_updated": 1676316110,
           "normal_bikes": 2,
           "renting": true,
           "returning": true,
           "slots": 20,
           "uid": "0026"
          },
          "free_bikes": 3,
          "id": "2ef000bc9d4650d8cc6198c4d570b19f",
          "latitude": 49.277483,
          "longitude": -123.114279,
          "name": "Beatty & Robson",
          "timestamp": "2023-02-13T19:22:31.689000Z"
         },
         {
          "empty_slots": 8,
          "extra": {
           "ebikes": 1,
           "has_ebikes": true,
           "last_updated": 1676316098,
           "normal_bikes": 5,
           "renting": true,
           "returning": true,
           "slots": 14,
           "uid": "0027"
          },
          "free_bikes": 6,
          "id": "b7683a86874e6300fd89f4cc0b075f57",
          "latitude": 49.275679,
          "longitude": -123.116963,
          "name": "Beatty & Nelson",
          "timestamp": "2023-02-13T19:22:31.690000Z"
         },
         {
          "empty_slots": 13,
          "extra": {
           "ebikes": 0,
           "has_ebikes": true,
           "last_updated": 1676316033,
           "normal_bikes": 9,
           "renting": true,
           "returning": true,
           "slots": 22,
           "uid": "0030"
          },
          "free_bikes": 9,
          "id": "3367c1e1dbf73caf7c10e4c96a92f58d",
          "latitude": 49.282759,
          "longitude": -123.106955,
          "name": "Abbott & Cordova",
          "timestamp": "2023-02-13T19:22:31.388000Z"
         },
         {
          "empty_slots": 3,
          "extra": {
           "ebikes": 0,
           "has_ebikes": true,
           "last_updated": 1676315642,
           "normal_bikes": 15,
           "renting": true,
           "returning": true,
           "slots": 18,
           "uid": "0032"
          },
          "free_bikes": 15,
          "id": "1d7e73b3321ebb6713774d376247d9f9",
          "latitude": 49.288444,
          "longitude": -123.139203,
          "name": "Comox & Denman",
          "timestamp": "2023-02-13T19:22:31.397000Z"
         },
         {
          "empty_slots": 5,
          "extra": {
           "ebikes": 2,
           "has_ebikes": true,
           "last_updated": 1676316013,
           "normal_bikes": 10,
           "renting": true,
           "returning": true,
           "slots": 14,
           "uid": "0034"
          },
          "free_bikes": 12,
          "id": "664502c28e8147615f17b8ea355f40d0",
          "latitude": 49.289124,
          "longitude": -123.12196,
          "name": "Cordova & Bute",
          "timestamp": "2023-02-13T19:22:31.383000Z"
         },
         {
          "empty_slots": 15,
          "extra": {
           "ebikes": 2,
           "has_ebikes": true,
           "last_updated": 1676316043,
           "normal_bikes": 1,
           "renting": true,
           "returning": true,
           "slots": 18,
           "uid": "0037"
          },
          "free_bikes": 3,
          "id": "6c24a62b5ee0a2a8014eb0dfb6d40025",
          "latitude": 49.28062,
          "longitude": -123.12482,
          "name": "Hornby & Nelson",
          "timestamp": "2023-02-13T19:22:31.384000Z"
         },
         {
          "empty_slots": 3,
          "extra": {
           "ebikes": 2,
           "has_ebikes": true,
           "last_updated": 1676315712,
           "normal_bikes": 10,
           "renting": true,
           "returning": true,
           "slots": 15,
           "uid": "0039"
          },
          "free_bikes": 12,
          "id": "fad9ebcf614dd1a72593a34072ff76f8",
          "latitude": 49.279938,
          "longitude": -123.127478,
          "name": "Helmcken & Burrard",
          "timestamp": "2023-02-13T19:22:31.379000Z"
         },
         {
          "empty_slots": 13,
          "extra": {
           "ebikes": 0,
           "has_ebikes": true,
           "last_updated": 1676316013,
           "normal_bikes": 1,
           "renting": true,
           "returning": true,
           "slots": 14,
           "uid": "0044"
          },
          "free_bikes": 1,
          "id": "3a4131fa94946d93d3529136efd62413",
          "latitude": 49.273663,
          "longitude": -123.127075,
          "name": "Pacific & Richards",
          "timestamp": "2023-02-13T19:22:31.429000Z"
         },
         {
          "empty_slots": 12,
          "extra": {
           "ebikes": 0,
           "has_ebikes": true,
           "last_updated": 1676315670,
           "normal_bikes": 2,
           "renting": true,
           "returning": true,
           "slots": 14,
           "uid": "0047"
          },
          "free_bikes": 2,
          "id": "25318ec3e06fae1397a3a2f645104149",
          "latitude": 49.28972,
          "longitude": -123.144028,
          "name": "Chilco & Beach",
          "timestamp": "2023-02-13T19:22:31.431000Z"
         },
         {
          "empty_slots": 8,
          "extra": {
           "ebikes": 0,
           "has_ebikes": true,
           "last_updated": 1676315950,
           "normal_bikes": 4,
           "renting": true,
           "returning": true,
           "slots": 12,
           "uid": "0048"
          },
          "free_bikes": 4,
          "id": "444991edc9550be0908f032da5e3c95f",
          "latitude": 49.285253,
          "longitude": -123.134356,
          "name": "Comox & Broughton",
          "timestamp": "2023-02-13T19:22:31.413000Z"
         },
         {
          "empty_slots": 15,
          "extra": {
           "ebikes": 0,
           "has_ebikes": true,
           "last_updated": 1676315833,
           "normal_bikes": 7,
           "renting": true,
           "returning": true,
           "slots": 22,
           "uid": "0050"
          },
          "free_bikes": 7,
          "id": "434b6f4e7fc30198f901b60fc905f609",
          "latitude": 49.283343,
          "longitude": -123.131099,
          "name": "Bute & Comox",
          "timestamp": "2023-02-13T19:22:31.452000Z"
         },
         {
          "empty_slots": 8,
          "extra": {
           "ebikes": 3,
           "has_ebikes": true,
           "last_updated": 1676315973,
           "normal_bikes": 21,
           "renting": true,
           "returning": true,
           "slots": 32,
           "uid": "0052"
          },
          "free_bikes": 24,
          "id": "f97d5bf41f35aa181288429fb52e3488",
          "latitude": 49.284605,
          "longitude": -123.108662,
          "name": "Cambie & Water",
          "timestamp": "2023-02-13T19:22:31.451000Z"
         },
         {
          "empty_slots": 2,
          "extra": {
           "ebikes": 4,
           "has_ebikes": true,
           "last_updated": 1676316131,
           "normal_bikes": 22,
           "renting": true,
           "returning": true,
           "slots": 28,
           "uid": "0053"
          },
          "free_bikes": 26,
          "id": "fef69fb400210d861107a61db954d037",
          "latitude": 49.279821,
          "longitude": -123.10802,
          "name": "Keefer & Abbott",
          "timestamp": "2023-02-13T19:22:31.450000Z"
         },
         {
          "empty_slots": 9,
          "extra": {
           "ebikes": 1,
           "has_ebikes": true,
           "last_updated": 1676316049,
           "normal_bikes": 6,
           "renting": true,
           "returning": true,
           "slots": 16,
           "uid": "0054"
          },
          "free_bikes": 7,
          "id": "9d3123425823420514b8ad410074f02d",
          "latitude": 49.278004,
          "longitude": -123.105664,
          "name": "Expo & Carrall",
          "timestamp": "2023-02-13T19:22:31.457000Z"
         },
         {
          "empty_slots": 3,
          "extra": {
           "ebikes": 2,
           "has_ebikes": true,
           "last_updated": 1676316133,
           "normal_bikes": 9,
           "renting": true,
           "returning": true,
           "slots": 14,
           "uid": "0055"
          },
          "free_bikes": 11,
          "id": "f1ca711137cde59e824167a4274df888",
          "latitude": 49.279342,
          "longitude": -123.101822,
          "name": "Keefer & Columbia",
          "timestamp": "2023-02-13T19:22:31.456000Z"
         },
         {
          "empty_slots": 4,
          "extra": {
           "ebikes": 0,
           "has_ebikes": true,
           "last_updated": 1676315857,
           "normal_bikes": 22,
           "renting": true,
           "returning": true,
           "slots": 26,
           "uid": "0057"
          },
          "free_bikes": 22,
          "id": "4f6ebf2026d540ffe40e29a80138ad5e",
          "latitude": 49.273833,
          "longitude": -123.114373,
          "name": "Marinaside & Cooperage",
          "timestamp": "2023-02-13T19:22:31.453000Z"
         },
         {
          "empty_slots": 7,
          "extra": {
           "ebikes": 0,
           "has_ebikes": true,
           "last_updated": 1676316065,
           "normal_bikes": 19,
           "renting": true,
           "returning": true,
           "slots": 26,
           "uid": "0060"
          },
          "free_bikes": 19,
          "id": "be14efdc86dedd6a8cd338e78ab4e7c7",
          "latitude": 49.28526,
          "longitude": -123.141809,
          "name": "Bidwell & Burnaby",
          "timestamp": "2023-02-13T19:22:31.587000Z"
         },
         {
          "empty_slots": 17,
          "extra": {
           "ebikes": 3,
           "has_ebikes": true,
           "last_updated": 1676315880,
           "normal_bikes": 10,
           "renting": true,
           "returning": true,
           "slots": 30,
           "uid": "0063"
          },
          "free_bikes": 13,
          "id": "6ddeafa873279951630a00191333c45d",
          "latitude": 49.281506,
          "longitude": -123.120101,
          "name": "Robson & Granville",
          "timestamp": "2023-02-13T19:22:31.585000Z"
         },
         {
          "empty_slots": 8,
          "extra": {
           "ebikes": 1,
           "has_ebikes": true,
           "last_updated": 1676315880,
           "normal_bikes": 5,
           "renting": true,
           "returning": true,
           "slots": 14,
           "uid": "0064"
          },
          "free_bikes": 6,
          "id": "c7b5bec0b2f4ab9a2d3f9d837725620c",
          "latitude": 49.276115,
          "longitude": -123.114496,
          "name": "Expo & Smithe",
          "timestamp": "2023-02-13T19:22:31.574000Z"
         },
         {
          "empty_slots": 12,
          "extra": {
           "ebikes": 0,
           "has_ebikes": true,
           "last_updated": 1676315931,
           "normal_bikes": 10,
           "renting": true,
           "returning": true,
           "slots": 22,
           "uid": "0065"
          },
          "free_bikes": 10,
          "id": "b9fd847d53fe45658fee4c46e7f562b8",
          "latitude": 49.272827,
          "longitude": -123.147744,
          "name": "Cypress & Cornwall",
          "timestamp": "2023-02-13T19:22:31.575000Z"
         },
         {
          "empty_slots": 13,
          "extra": {
           "ebikes": 0,
           "has_ebikes": true,
           "last_updated": 1676316108,
           "normal_bikes": 15,
           "renting": true,
           "returning": true,
           "slots": 28,
           "uid": "0066"
          },
          "free_bikes": 15,
          "id": "c2be5403b1c101e8032cf6696457200e",
          "latitude": 49.269361,
          "longitude": -123.13782,
          "name": "Anderson & 2nd",
          "timestamp": "2023-02-13T19:22:31.574000Z"
         },
         {
          "empty_slots": 3,
          "extra": {
           "ebikes": 0,
           "has_ebikes": true,
           "last_updated": 1676316090,
           "normal_bikes": 12,
           "renting": true,
           "returning": true,
           "slots": 14,
           "uid": "0069"
          },
          "free_bikes": 12,
          "id": "71c064fa93cab5f0b7306e6c923b77c4",
          "latitude": 49.2653,
          "longitude": -123.13811,
          "name": "7th & Granville",
          "timestamp": "2023-02-13T19:22:31.591000Z"
         },
         {
          "empty_slots": 11,
          "extra": {
           "ebikes": 2,
           "has_ebikes": true,
           "last_updated": 1676315565,
           "normal_bikes": 1,
           "renting": true,
           "returning": true,
           "slots": 14,
           "uid": "0070"
          },
          "free_bikes": 3,
          "id": "96bf713e60bc35cc2feb5fd53a4f3471",
          "latitude": 49.262598,
          "longitude": -123.138921,
          "name": "10th & Granville",
          "timestamp": "2023-02-13T19:22:31.611000Z"
         },
         {
          "empty_slots": 5,
          "extra": {
           "ebikes": 4,
           "has_ebikes": true,
           "last_updated": 1676315727,
           "normal_bikes": 5,
           "renting": true,
           "returning": true,
           "slots": 14,
           "uid": "0071"
          },
          "free_bikes": 9,
          "id": "8dc684732a2a25bdf63ec0ecccee4e6e",
          "latitude": 49.25894,
          "longitude": -123.139272,
          "name": "14th & Granville",
          "timestamp": "2023-02-13T19:22:31.610000Z"
         },
         {
          "empty_slots": 9,
          "extra": {
           "ebikes": 2,
           "has_ebikes": true,
           "last_updated": 1676316029,
           "normal_bikes": 3,
           "renting": true,
           "returning": true,
           "slots": 14,
           "uid": "0072"
          },
          "free_bikes": 5,
          "id": "686c0fdb962e26e274d81fc286c010dd",
          "latitude": 49.258763,
          "longitude": -123.115392,
          "name": "14th & Cambie",
          "timestamp": "2023-02-13T19:22:31.613000Z"
         },
         {
          "empty_slots": 7,
          "extra": {
           "ebikes": 2,
           "has_ebikes": true,
           "last_updated": 1676315973,
           "normal_bikes": 12,
           "renting": true,
           "returning": true,
           "slots": 20,
           "uid": "0073"
          },
          "free_bikes": 14,
          "id": "0cf6cd1809fa7f510812f5b052f578c4",
          "latitude": 49.266724,
          "longitude": -123.104824,
          "name": "Ontario & 5th",
          "timestamp": "2023-02-13T19:22:31.612000Z"
         },
         {
          "empty_slots": 15,
          "extra": {
           "ebikes": 2,
           "has_ebikes": true,
           "last_updated": 1676315656,
           "normal_bikes": 1,
           "renting": true,
           "returning": true,
           "slots": 18,
           "uid": "0074"
          },
          "free_bikes": 3,
          "id": "93c88a18c673e2c72a6afa93d6b89f18",
          "latitude": 49.262141,
          "longitude": -123.101961,
          "name": "10th & Main",
          "timestamp": "2023-02-13T19:22:31.614000Z"
         },
         {
          "empty_slots": 8,
          "extra": {
           "ebikes": 0,
           "has_ebikes": true,
           "last_updated": 1676316094,
           "normal_bikes": 10,
           "renting": true,
           "returning": true,
           "slots": 18,
           "uid": "0076"
          },
          "free_bikes": 10,
          "id": "8fb5ce1e34ad31de940481953aea452c",
          "latitude": 49.268269,
          "longitude": -123.147885,
          "name": "Cypress & 4th",
          "timestamp": "2023-02-13T19:22:31.616000Z"
         },
         {
          "empty_slots": 3,
          "extra": {
           "ebikes": 0,
           "has_ebikes": true,
           "last_updated": 1676316145,
           "normal_bikes": 25,
           "renting": true,
           "returning": true,
           "slots": 28,
           "uid": "0077"
          },
          "free_bikes": 25,
          "id": "aa704bfba40286bd0661b64d1f75e778",
          "latitude": 49.275717,
          "longitude": -123.142564,
          "name": "Vanier Park",
          "timestamp": "2023-02-13T19:22:31.615000Z"
         },
         {
          "empty_slots": 9,
          "extra": {
           "ebikes": 1,
           "has_ebikes": true,
           "last_updated": 1676315968,
           "normal_bikes": 10,
           "renting": true,
           "returning": true,
           "slots": 20,
           "uid": "0078"
          },
          "free_bikes": 11,
          "id": "8c9ea7f2132376859ef34fab981d6932",
          "latitude": 49.276436,
          "longitude": -123.11877,
          "name": "Nelson & Mainland",
          "timestamp": "2023-02-13T19:22:31.618000Z"
         },
         {
          "empty_slots": 9,
          "extra": {
           "ebikes": 6,
           "has_ebikes": true,
           "last_updated": 1676316096,
           "normal_bikes": 3,
           "renting": true,
           "returning": true,
           "slots": 18,
           "uid": "0079"
          },
          "free_bikes": 9,
          "id": "1d4153659a0a0a2089078c739df6737d",
          "latitude": 49.277844,
          "longitude": -123.120942,
          "name": "Nelson & Richards",
          "timestamp": "2023-02-13T19:22:31.617000Z"
         },
         {
          "empty_slots": 4,
          "extra": {
           "ebikes": 2,
           "has_ebikes": true,
           "last_updated": 1676316104,
           "normal_bikes": 12,
           "renting": true,
           "returning": true,
           "slots": 18,
           "uid": "0081"
          },
          "free_bikes": 14,
          "id": "fbb4c06b719596c21f91fd51ef6d4710",
          "latitude": 49.265089,
          "longitude": -123.119425,
          "name": "7th & Heather",
          "timestamp": "2023-02-13T19:22:31.674000Z"
         },
         {
          "empty_slots": 20,
          "extra": {
           "ebikes": 0,
           "has_ebikes": true,
           "last_updated": 1676315727,
           "normal_bikes": 0,
           "renting": true,
           "returning": true,
           "slots": 20,
           "uid": "0088"
          },
          "free_bikes": 0,
          "id": "72c1049dfbbde7c24ec45c14f1a5ee85",
          "latitude": 49.28026,
          "longitude": -123.135244,
          "name": "Harwood & Bute",
          "timestamp": "2023-02-13T19:22:31.671000Z"
         },
         {
          "empty_slots": 18,
          "extra": {
           "ebikes": 0,
           "has_ebikes": true,
           "last_updated": 0,
           "normal_bikes": 0,
           "renting": false,
           "returning": false,
           "slots": 18,
           "uid": "0092"
          },
          "free_bikes": 0,
          "id": "00fa94ad698dc4a9e4d708d6fd32f294",
          "latitude": 49.291909,
          "longitude": -123.140713,
          "name": "Chilco & Barclay",
          "timestamp": "2023-02-13T19:22:31.719000Z"
         },
         {
          "empty_slots": 9,
          "extra": {
           "ebikes": 0,
           "has_ebikes": true,
           "last_updated": 1676316029,
           "normal_bikes": 7,
           "renting": true,
           "returning": true,
           "slots": 16,
           "uid": "0093"
          },
          "free_bikes": 7,
          "id": "efa947b901a2cf85b58320b3ad26a2fe",
          "latitude": 49.293257,
          "longitude": -123.138563,
          "name": "Chilco & Robson",
          "timestamp": "2023-02-13T19:22:31.718000Z"
         },
         {
          "empty_slots": 11,
          "extra": {
           "ebikes": 0,
           "has_ebikes": true,
           "last_updated": 1676316083,
           "normal_bikes": 7,
           "renting": true,
           "returning": true,
           "slots": 18,
           "uid": "0096"
          },
          "free_bikes": 7,
          "id": "66a53e9c32e4f5c724f9478240020142",
          "latitude": 49.288011,
          "longitude": -123.132006,
          "name": "Nicola & Robson",
          "timestamp": "2023-02-13T19:22:31.716000Z"
         },
         {
          "empty_slots": 0,
          "extra": {
           "ebikes": 3,
           "has_ebikes": true,
           "last_updated": 1676316081,
           "normal_bikes": 15,
           "renting": true,
           "returning": true,
           "slots": 18,
           "uid": "0098"
          },
          "free_bikes": 18,
          "id": "97b25faf822b93fdbf72da1d594c0288",
          "latitude": 49.28117,
          "longitude": -123.104419,
          "name": "Carrall & Hastings",
          "timestamp": "2023-02-13T19:22:31.715000Z"
         },
         {
          "empty_slots": 21,
          "extra": {
           "ebikes": 2,
           "has_ebikes": true,
           "last_updated": 1676315804,
           "normal_bikes": 4,
           "renting": true,
           "returning": true,
           "slots": 28,
           "uid": "0099"
          },
          "free_bikes": 6,
          "id": "6c7fb9043e6df5a4cc50404581a947b9",
          "latitude": 49.283227,
          "longitude": -123.120523,
          "name": "šxʷƛ̓ənəq Xwtl'e7énḵ Square - Vancouver Art Gallery",
          "timestamp": "2023-02-13T19:22:31.714000Z"
         },
         {
          "empty_slots": 6,
          "extra": {
           "ebikes": 0,
           "has_ebikes": true,
           "last_updated": 1676315862,
           "normal_bikes": 10,
           "renting": true,
           "returning": true,
           "slots": 16,
           "uid": "0101"
          },
          "free_bikes": 10,
          "id": "30bf49544b1c864688b78172d42cca5e",
          "latitude": 49.299292,
          "longitude": -123.130281,
          "name": "Stanley Park - Vancouver Aquarium",
          "timestamp": "2023-02-13T19:22:31.502000Z"
         },
         {
          "empty_slots": 4,
          "extra": {
           "ebikes": 2,
           "has_ebikes": true,
           "last_updated": 1676316006,
           "normal_bikes": 10,
           "renting": true,
           "returning": true,
           "slots": 16,
           "uid": "0102"
          },
          "free_bikes": 12,
          "id": "9f63cebac9073eac3e90be2b9a91b02b",
          "latitude": 49.29534,
          "longitude": -123.150433,
          "name": "Stanley Park - Second Beach North",
          "timestamp": "2023-02-13T19:22:31.507000Z"
         },
         {
          "empty_slots": 10,
          "extra": {
           "ebikes": 1,
           "has_ebikes": true,
           "last_updated": 1676316058,
           "normal_bikes": 7,
           "renting": true,
           "returning": true,
           "slots": 18,
           "uid": "0104"
          },
          "free_bikes": 8,
          "id": "9aa325529164ec68b4d96c4f1c4fc7c1",
          "latitude": 49.294318,
          "longitude": -123.148808,
          "name": "Stanley Park - Second Beach South",
          "timestamp": "2023-02-13T19:22:31.498000Z"
         },
         {
          "empty_slots": 10,
          "extra": {
           "ebikes": 0,
           "has_ebikes": true,
           "last_updated": 1676315847,
           "normal_bikes": 10,
           "renting": true,
           "returning": true,
           "slots": 20,
           "uid": "0105"
          },
          "free_bikes": 10,
          "id": "e3d32ad772a5898c3b96c4d23d2cd542",
          "latitude": 49.298657,
          "longitude": -123.121176,
          "name": "Stanley Park - Totem Poles",
          "timestamp": "2023-02-13T19:22:31.496000Z"
         },
         {
          "empty_slots": 10,
          "extra": {
           "ebikes": 0,
           "has_ebikes": true,
           "last_updated": 1676315978,
           "normal_bikes": 8,
           "renting": true,
           "returning": true,
           "slots": 18,
           "uid": "0106"
          },
          "free_bikes": 8,
          "id": "625a2ad202275c8e2be3ce868e85b105",
          "latitude": 49.259183,
          "longitude": -123.120126,
          "name": "Heather & 14th",
          "timestamp": "2023-02-13T19:22:31.501000Z"
         },
         {
          "empty_slots": 13,
          "extra": {
           "ebikes": 0,
           "has_ebikes": true,
           "last_updated": 1676316093,
           "normal_bikes": 3,
           "renting": true,
           "returning": true,
           "slots": 16,
           "uid": "0107"
          },
          "free_bikes": 3,
          "id": "6c0de983fb47a3439a9e3c36a3d15804",
          "latitude": 49.263837,
          "longitude": -123.105173,
          "name": "8th & Ontario",
          "timestamp": "2023-02-13T19:22:31.499000Z"
         },
         {
          "empty_slots": 17,
          "extra": {
           "ebikes": 1,
           "has_ebikes": true,
           "last_updated": 1676315723,
           "normal_bikes": 8,
           "renting": true,
           "returning": true,
           "slots": 26,
           "uid": "0108"
          },
          "free_bikes": 9,
          "id": "92c9e62c0b42adf4759c430009d3987a",
          "latitude": 49.270721,
          "longitude": -123.146175,
          "name": "1st & Chestnut",
          "timestamp": "2023-02-13T19:22:31.493000Z"
         },
         {
          "empty_slots": 7,
          "extra": {
           "ebikes": 0,
           "has_ebikes": true,
           "last_updated": 1676315559,
           "normal_bikes": 9,
           "renting": true,
           "returning": true,
           "slots": 16,
           "uid": "0109"
          },
          "free_bikes": 9,
          "id": "51e4d3731aebbf9c3186f310a08de6c8",
          "latitude": 49.265605,
          "longitude": -123.152566,
          "name": "7th & Arbutus",
          "timestamp": "2023-02-13T19:22:31.492000Z"
         },
         {
          "empty_slots": 11,
          "extra": {
           "ebikes": 0,
           "has_ebikes": true,
           "last_updated": 1676315995,
           "normal_bikes": 5,
           "renting": true,
           "returning": true,
           "slots": 16,
           "uid": "0110"
          },
          "free_bikes": 5,
          "id": "826af7eee4ce28b6fa4b4f0211305792",
          "latitude": 49.267222,
          "longitude": -123.153157,
          "name": "5th & Arbutus",
          "timestamp": "2023-02-13T19:22:31.447000Z"
         },
         {
          "empty_slots": 13,
          "extra": {
           "ebikes": 10,
           "has_ebikes": true,
           "last_updated": 1676316079,
           "normal_bikes": 3,
           "renting": true,
           "returning": true,
           "slots": 30,
           "uid": "0112"
          },
          "free_bikes": 13,
          "id": "4cb84c9a3743287019ae00ceef9a1cd3",
          "latitude": 49.262255,
          "longitude": -123.126217,
          "name": "10th & Oak",
          "timestamp": "2023-02-13T19:22:31.446000Z"
         },
         {
          "empty_slots": 25,
          "extra": {
           "ebikes": 10,
           "has_ebikes": true,
           "last_updated": 1676315957,
           "normal_bikes": 5,
           "renting": true,
           "returning": true,
           "slots": 40,
           "uid": "0113"
          },
          "free_bikes": 15,
          "id": "56fef9ba0af67a4ff3e661a8e02c0b08",
          "latitude": 49.257654,
          "longitude": -123.153212,
          "name": "Arbutus & 16th",
          "timestamp": "2023-02-13T19:22:31.447000Z"
         },
         {
          "empty_slots": 9,
          "extra": {
           "ebikes": 0,
           "has_ebikes": true,
           "last_updated": 1676316119,
           "normal_bikes": 3,
           "renting": true,
           "returning": true,
           "slots": 12,
           "uid": "0114"
          },
          "free_bikes": 3,
          "id": "c81f75a80312c51ceaef1304beac1990",
          "latitude": 49.25919,
          "longitude": -123.148268,
          "name": "Cypress & 14th",
          "timestamp": "2023-02-13T19:22:31.449000Z"
         },
         {
          "empty_slots": 5,
          "extra": {
           "ebikes": 2,
           "has_ebikes": true,
           "last_updated": 1676315667,
           "normal_bikes": 5,
           "renting": true,
           "returning": true,
           "slots": 12,
           "uid": "0115"
          },
          "free_bikes": 7,
          "id": "afacb2133f2462aba7748cc21b71c788",
          "latitude": 49.25741,
          "longitude": -123.148531,
          "name": "Cypress & 16th",
          "timestamp": "2023-02-13T19:22:31.450000Z"
         },
         {
          "empty_slots": 4,
          "extra": {
           "ebikes": 0,
           "has_ebikes": true,
           "last_updated": 1676315636,
           "normal_bikes": 8,
           "renting": true,
           "returning": true,
           "slots": 12,
           "uid": "0123"
          },
          "free_bikes": 8,
          "id": "a9f0b06d07f89b75e92c0cf686223aea",
          "latitude": 49.285953,
          "longitude": -123.124066,
          "name": "Georgia & Thurlow",
          "timestamp": "2023-02-13T19:22:31.419000Z"
         },
         {
          "empty_slots": 14,
          "extra": {
           "ebikes": 0,
           "has_ebikes": true,
           "last_updated": 1676316142,
           "normal_bikes": 1,
           "renting": true,
           "returning": true,
           "slots": 16,
           "uid": "0126"
          },
          "free_bikes": 1,
          "id": "686b314a6c3348efd2297d6b3dfed1a7",
          "latitude": 49.280881,
          "longitude": -123.130672,
          "name": "Thurlow & Pendrell",
          "timestamp": "2023-02-13T19:22:31.416000Z"
         },
         {
          "empty_slots": 6,
          "extra": {
           "ebikes": 0,
           "has_ebikes": true,
           "last_updated": 1676315604,
           "normal_bikes": 5,
           "renting": true,
           "returning": true,
           "slots": 12,
           "uid": "0130"
          },
          "free_bikes": 5,
          "id": "0d1b5c62f8d22e3650811df55596e25b",
          "latitude": 49.256845,
          "longitude": -123.120071,
          "name": "Heather & 16th",
          "timestamp": "2023-02-13T19:22:31.398000Z"
         },
         {
          "empty_slots": 9,
          "extra": {
           "ebikes": 2,
           "has_ebikes": true,
           "last_updated": 1676315941,
           "normal_bikes": 5,
           "renting": true,
           "returning": true,
           "slots": 16,
           "uid": "0132"
          },
          "free_bikes": 7,
          "id": "521c2122c791ed038168c3b8ff24061b",
          "latitude": 49.25849,
          "longitude": -123.104799,
          "name": "14th & Ontario",
          "timestamp": "2023-02-13T19:22:31.381000Z"
         },
         {
          "empty_slots": 9,
          "extra": {
           "ebikes": 0,
           "has_ebikes": true,
           "last_updated": 1676315610,
           "normal_bikes": 5,
           "renting": true,
           "returning": true,
           "slots": 14,
           "uid": "0134"
          },
          "free_bikes": 5,
          "id": "838d5bb59963474ad08a6d5b156943ed",
          "latitude": 49.258425,
          "longitude": -123.100792,
          "name": "14th & Main",
          "timestamp": "2023-02-13T19:22:31.369000Z"
         },
         {
          "empty_slots": 5,
          "extra": {
           "ebikes": 0,
           "has_ebikes": true,
           "last_updated": 1676316147,
           "normal_bikes": 13,
           "renting": true,
           "returning": true,
           "slots": 18,
           "uid": "0136"
          },
          "free_bikes": 13,
          "id": "b9ab6ce009eda6006ade1d7568d9db9c",
          "latitude": 49.270905,
          "longitude": -123.126006,
          "name": "David Lam Park - West",
          "timestamp": "2023-02-13T19:22:31.378000Z"
         },
         {
          "empty_slots": 9,
          "extra": {
           "ebikes": 0,
           "has_ebikes": true,
           "last_updated": 1676316080,
           "normal_bikes": 9,
           "renting": true,
           "returning": true,
           "slots": 18,
           "uid": "0137"
          },
          "free_bikes": 9,
          "id": "9ec4163496363b31ab475cb851b57b21",
          "latitude": 49.273568,
          "longitude": -123.129935,
          "name": "Beach & Seymour",
          "timestamp": "2023-02-13T19:22:31.379000Z"
         },
         {
          "empty_slots": 14,
          "extra": {
           "ebikes": 1,
           "has_ebikes": true,
           "last_updated": 1676315949,
           "normal_bikes": 1,
           "renting": true,
           "returning": true,
           "slots": 18,
           "uid": "0138"
          },
          "free_bikes": 2,
          "id": "fedff7a263c182df94bda7307059cc52",
          "latitude": 49.277141,
          "longitude": -123.122589,
          "name": "Richards & Helmcken",
          "timestamp": "2023-02-13T19:22:31.701000Z"
         },
         {
          "empty_slots": 6,
          "extra": {
           "ebikes": 0,
           "has_ebikes": true,
           "last_updated": 1676316026,
           "normal_bikes": 10,
           "renting": true,
           "returning": true,
           "slots": 16,
           "uid": "0139"
          },
          "free_bikes": 10,
          "id": "b9baf685b7053de899bf3467f61c2781",
          "latitude": 49.267859,
          "longitude": -123.145782,
          "name": "Burrard & 4th",
          "timestamp": "2023-02-13T19:22:31.709000Z"
         },
         {
          "empty_slots": 9,
          "extra": {
           "ebikes": 0,
           "has_ebikes": true,
           "last_updated": 1676316117,
           "normal_bikes": 7,
           "renting": true,
           "returning": true,
           "slots": 16,
           "uid": "0140"
          },
          "free_bikes": 7,
          "id": "8d6f0cbf7d44d2908c8ce73ed00dbf66",
          "latitude": 49.265336,
          "longitude": -123.145823,
          "name": "Burrard & 7th",
          "timestamp": "2023-02-13T19:22:31.399000Z"
         },
         {
          "empty_slots": 4,
          "extra": {
           "ebikes": 3,
           "has_ebikes": true,
           "last_updated": 1676315996,
           "normal_bikes": 7,
           "renting": true,
           "returning": true,
           "slots": 14,
           "uid": "0143"
          },
          "free_bikes": 10,
          "id": "988f8f74c4a12d1a30ddf2f7cd6318f8",
          "latitude": 49.267628,
          "longitude": -123.127698,
          "name": "South False Creek Seawall",
          "timestamp": "2023-02-13T19:22:31.400000Z"
         },
         {
          "empty_slots": 14,
          "extra": {
           "ebikes": 0,
           "has_ebikes": true,
           "last_updated": 1676315902,
           "normal_bikes": 2,
           "renting": true,
           "returning": true,
           "slots": 16,
           "uid": "0147"
          },
          "free_bikes": 2,
          "id": "2f09a64507cf6257c67ca20af27339eb",
          "latitude": 49.275938,
          "longitude": -123.145939,
          "name": "Chestnut & McNicoll",
          "timestamp": "2023-02-13T19:22:31.402000Z"
         },
         {
          "empty_slots": 8,
          "extra": {
           "ebikes": 1,
           "has_ebikes": true,
           "last_updated": 1676316071,
           "normal_bikes": 7,
           "renting": true,
           "returning": true,
           "slots": 18,
           "uid": "0148"
          },
          "free_bikes": 8,
          "id": "73f388336d879bedc962cd412eb0296e",
          "latitude": 49.2756,
          "longitude": -123.102661,
          "name": "Creekside Park North",
          "timestamp": "2023-02-13T19:22:31.404000Z"
         },
         {
          "empty_slots": 7,
          "extra": {
           "ebikes": 7,
           "has_ebikes": true,
           "last_updated": 1676316036,
           "normal_bikes": 6,
           "renting": true,
           "returning": true,
           "slots": 20,
           "uid": "0150"
          },
          "free_bikes": 13,
          "id": "cb6fddfdac7d350d25be475c7ab9e05a",
          "latitude": 49.284157,
          "longitude": -123.099917,
          "name": "Alexander & Main",
          "timestamp": "2023-02-13T19:22:31.667000Z"
         },
         {
          "empty_slots": 13,
          "extra": {
           "ebikes": 1,
           "has_ebikes": true,
           "last_updated": 1676315630,
           "normal_bikes": 6,
           "renting": true,
           "returning": true,
           "slots": 20,
           "uid": "0152"
          },
          "free_bikes": 7,
          "id": "cadc004f0903ef45e898032143c0832f",
          "latitude": 49.258924,
          "longitude": -123.152591,
          "name": "Arbutus Greenway & 14th",
          "timestamp": "2023-02-13T19:22:31.712000Z"
         },
         {
          "empty_slots": 4,
          "extra": {
           "ebikes": 4,
           "has_ebikes": true,
           "last_updated": 1676316057,
           "normal_bikes": 8,
           "renting": true,
           "returning": true,
           "slots": 16,
           "uid": "0153"
          },
          "free_bikes": 12,
          "id": "57e928d8c30fab0ebffb3ede850f89d6",
          "latitude": 49.266774,
          "longitude": -123.141135,
          "name": "Arbutus Greenway & Fir",
          "timestamp": "2023-02-13T19:22:31.713000Z"
         },
         {
          "empty_slots": 14,
          "extra": {
           "ebikes": 2,
           "has_ebikes": true,
           "last_updated": 1676315771,
           "normal_bikes": 22,
           "renting": true,
           "returning": true,
           "slots": 39,
           "uid": "0154"
          },
          "free_bikes": 24,
          "id": "6526a2eb3832f9ba0224d237e901ea5b",
          "latitude": 49.273355,
          "longitude": -123.154493,
          "name": "Kitsilano Beach Park",
          "timestamp": "2023-02-13T19:22:31.711000Z"
         },
         {
          "empty_slots": 11,
          "extra": {
           "ebikes": 5,
           "has_ebikes": true,
           "last_updated": 1676316016,
           "normal_bikes": 14,
           "renting": true,
           "returning": true,
           "slots": 30,
           "uid": "0155"
          },
          "free_bikes": 19,
          "id": "e44c2235dd603dbee54fe08f7543e85a",
          "latitude": 49.276144,
          "longitude": -123.151272,
          "name": "Arbutus & McNicoll",
          "timestamp": "2023-02-13T19:22:31.711000Z"
         },
         {
          "empty_slots": 11,
          "extra": {
           "ebikes": 0,
           "has_ebikes": true,
           "last_updated": 1676315968,
           "normal_bikes": 7,
           "renting": true,
           "returning": true,
           "slots": 18,
           "uid": "0159"
          },
          "free_bikes": 7,
          "id": "3596b4831ee2ea7812de753b32306835",
          "latitude": 49.268339,
          "longitude": -123.157443,
          "name": "Vine & 4th",
          "timestamp": "2023-02-13T19:22:31.720000Z"
         },
         {
          "empty_slots": 10,
          "extra": {
           "ebikes": 1,
           "has_ebikes": true,
           "last_updated": 1676316142,
           "normal_bikes": 3,
           "renting": true,
           "returning": true,
           "slots": 14,
           "uid": "0161"
          },
          "free_bikes": 4,
          "id": "c448b73d92f7f8e1daafb3b9c5fbe6a6",
          "latitude": 49.284062,
          "longitude": -123.095097,
          "name": "Alexander & Dunlevy",
          "timestamp": "2023-02-13T19:22:31.602000Z"
         },
         {
          "empty_slots": 7,
          "extra": {
           "ebikes": 4,
           "has_ebikes": true,
           "last_updated": 1676316137,
           "normal_bikes": 3,
           "renting": true,
           "returning": true,
           "slots": 14,
           "uid": "0166"
          },
          "free_bikes": 7,
          "id": "5fc29e0ac42c11abb45bf12aaeb925bd",
          "latitude": 49.261742,
          "longitude": -123.13148,
          "name": "Alder & 11th",
          "timestamp": "2023-02-13T19:22:31.702000Z"
         },
         {
          "empty_slots": 9,
          "extra": {
           "ebikes": 1,
           "has_ebikes": true,
           "last_updated": 1676315870,
           "normal_bikes": 4,
           "renting": true,
           "returning": true,
           "slots": 14,
           "uid": "0172"
          },
          "free_bikes": 5,
          "id": "61901a235d4cfceb7f8f2c3888b98617",
          "latitude": 49.262206,
          "longitude": -123.109091,
          "name": "10th & Columbia",
          "timestamp": "2023-02-13T19:22:31.565000Z"
         },
         {
          "empty_slots": 27,
          "extra": {
           "ebikes": 0,
           "has_ebikes": true,
           "last_updated": 1676315955,
           "normal_bikes": 4,
           "renting": true,
           "returning": true,
           "slots": 32,
           "uid": "0174"
          },
          "free_bikes": 4,
          "id": "175a074bf65455d1633639511dc129c8",
          "latitude": 49.27023,
          "longitude": -123.10651,
          "name": "1st & Manitoba",
          "timestamp": "2023-02-13T19:22:31.566000Z"
         },
         {
          "empty_slots": 6,
          "extra": {
           "ebikes": 7,
           "has_ebikes": true,
           "last_updated": 1676315885,
           "normal_bikes": 7,
           "renting": true,
           "returning": true,
           "slots": 20,
           "uid": "0176"
          },
          "free_bikes": 14,
          "id": "35eb539fb9298bb7e4f6759ca0256505",
          "latitude": 49.262062,
          "longitude": -123.104656,
          "name": "10th & Ontario",
          "timestamp": "2023-02-13T19:22:31.568000Z"
         },
         {
          "empty_slots": 6,
          "extra": {
           "ebikes": 1,
           "has_ebikes": true,
           "last_updated": 1676316082,
           "normal_bikes": 13,
           "renting": true,
           "returning": true,
           "slots": 20,
           "uid": "0177"
          },
          "free_bikes": 14,
          "id": "7b8dfa12900bcb02b47a14e4e5010ba3",
          "latitude": 49.27033,
          "longitude": -123.10275,
          "name": "Quebec & 1st",
          "timestamp": "2023-02-13T19:22:31.569000Z"
         },
         {
          "empty_slots": 10,
          "extra": {
           "ebikes": 0,
           "has_ebikes": true,
           "last_updated": 1676316078,
           "normal_bikes": 4,
           "renting": true,
           "returning": true,
           "slots": 14,
           "uid": "0180"
          },
          "free_bikes": 4,
          "id": "b30ed0719dd281867a4d39779c78b58a",
          "latitude": 49.258902,
          "longitude": -123.109596,
          "name": "Columbia & 14th",
          "timestamp": "2023-02-13T19:22:31.572000Z"
         },
         {
          "empty_slots": 16,
          "extra": {
           "ebikes": 0,
           "has_ebikes": true,
           "last_updated": 1676316130,
           "normal_bikes": 2,
           "renting": true,
           "returning": true,
           "slots": 20,
           "uid": "0187"
          },
          "free_bikes": 2,
          "id": "e1a4d91fdae7e18483373f648141e53e",
          "latitude": 49.282224,
          "longitude": -123.132778,
          "name": "Bute & Davie",
          "timestamp": "2023-02-13T19:22:31.570000Z"
         },
         {
          "empty_slots": 4,
          "extra": {
           "ebikes": 2,
           "has_ebikes": true,
           "last_updated": 1676316107,
           "normal_bikes": 8,
           "renting": true,
           "returning": true,
           "slots": 14,
           "uid": "0191"
          },
          "free_bikes": 10,
          "id": "ace20c241ee38643c9060f290b215b9d",
          "latitude": 49.265071,
          "longitude": -123.123864,
          "name": "7th & Laurel",
          "timestamp": "2023-02-13T19:22:31.538000Z"
         },
         {
          "empty_slots": 12,
          "extra": {
           "ebikes": 0,
           "has_ebikes": true,
           "last_updated": 1676315613,
           "normal_bikes": 4,
           "renting": true,
           "returning": true,
           "slots": 16,
           "uid": "0192"
          },
          "free_bikes": 4,
          "id": "3aed670ccdcd94b966c0f505f8b028c7",
          "latitude": 49.265198,
          "longitude": -123.131043,
          "name": "7th &  Alder",
          "timestamp": "2023-02-13T19:22:31.535000Z"
         },
         {
          "empty_slots": 3,
          "extra": {
           "ebikes": 1,
           "has_ebikes": true,
           "last_updated": 1676315870,
           "normal_bikes": 12,
           "renting": true,
           "returning": true,
           "slots": 16,
           "uid": "0193"
          },
          "free_bikes": 13,
          "id": "ae69aeab748d02e5a7d89da28a1a8511",
          "latitude": 49.273691,
          "longitude": -123.102232,
          "name": "Science World",
          "timestamp": "2023-02-13T19:22:31.536000Z"
         },
         {
          "empty_slots": 4,
          "extra": {
           "ebikes": 3,
           "has_ebikes": true,
           "last_updated": 1676316116,
           "normal_bikes": 13,
           "renting": true,
           "returning": true,
           "slots": 20,
           "uid": "0197"
          },
          "free_bikes": 16,
          "id": "0c9ad3e3703e5869b82619ecdf54f43e",
          "latitude": 49.2685027,
          "longitude": -123.0975014,
          "name": "1st & Scotia",
          "timestamp": "2023-02-13T19:22:31.541000Z"
         },
         {
          "empty_slots": 8,
          "extra": {
           "ebikes": 0,
           "has_ebikes": true,
           "last_updated": 1676315940,
           "normal_bikes": 12,
           "renting": true,
           "returning": true,
           "slots": 20,
           "uid": "0199"
          },
          "free_bikes": 12,
          "id": "852212d6d52b5f00544fad01d21c7db2",
          "latitude": 49.278529,
          "longitude": -123.100017,
          "name": "Georgia & Main",
          "timestamp": "2023-02-13T19:22:31.530000Z"
         },
         {
          "empty_slots": 6,
          "extra": {
           "ebikes": 0,
           "has_ebikes": true,
           "last_updated": 1676316008,
           "normal_bikes": 9,
           "renting": true,
           "returning": true,
           "slots": 18,
           "uid": "0201"
          },
          "free_bikes": 9,
          "id": "f3708906ec71348f5a42579fede36a0d",
          "latitude": 49.288682,
          "longitude": -123.11818,
          "name": "Shaw Tower",
          "timestamp": "2023-02-13T19:22:31.478000Z"
         },
         {
          "empty_slots": 12,
          "extra": {
           "ebikes": 0,
           "has_ebikes": true,
           "last_updated": 0,
           "normal_bikes": 0,
           "renting": false,
           "returning": false,
           "slots": 12,
           "uid": "0203"
          },
          "free_bikes": 0,
          "id": "d145b7498709289702095a4a2fcb2e03",
          "latitude": 49.258864,
          "longitude": -123.14353,
          "name": "Pine & 14th",
          "timestamp": "2023-02-13T19:22:31.477000Z"
         },
         {
          "empty_slots": 15,
          "extra": {
           "ebikes": 0,
           "has_ebikes": true,
           "last_updated": 1676315882,
           "normal_bikes": 5,
           "renting": true,
           "returning": true,
           "slots": 20,
           "uid": "0204"
          },
          "free_bikes": 5,
          "id": "9449a6a83fbf88452e384350e5ac95b7",
          "latitude": 49.271741,
          "longitude": -123.155421,
          "name": "York & Yew",
          "timestamp": "2023-02-13T19:22:31.472000Z"
         },
         {
          "empty_slots": 16,
          "extra": {
           "ebikes": 0,
           "has_ebikes": true,
           "last_updated": 1676315933,
           "normal_bikes": 4,
           "renting": true,
           "returning": true,
           "slots": 20,
           "uid": "0205"
          },
          "free_bikes": 4,
          "id": "365da33e9ce06ea53db1173a0f8eae71",
          "latitude": 49.262822,
          "longitude": -123.14338,
          "name": "Pine & 10th",
          "timestamp": "2023-02-13T19:22:31.474000Z"
         },
         {
          "empty_slots": 5,
          "extra": {
           "ebikes": 0,
           "has_ebikes": true,
           "last_updated": 1676315741,
           "normal_bikes": 6,
           "renting": true,
           "returning": true,
           "slots": 12,
           "uid": "0206"
          },
          "free_bikes": 6,
          "id": "707c1c54e0278fbae5d0ae3c42a25b71",
          "latitude": 49.263635,
          "longitude": -123.099236,
          "name": "8th & Scotia",
          "timestamp": "2023-02-13T19:22:31.470000Z"
         },
         {
          "empty_slots": 13,
          "extra": {
           "ebikes": 1,
           "has_ebikes": true,
           "last_updated": 1676316107,
           "normal_bikes": 6,
           "renting": true,
           "returning": true,
           "slots": 20,
           "uid": "0207"
          },
          "free_bikes": 7,
          "id": "5105df3dd0daf4c26980f4134f61e5cc",
          "latitude": 49.28763,
          "longitude": -123.127245,
          "name": "Alberni & Jervis",
          "timestamp": "2023-02-13T19:22:31.471000Z"
         },
         {
          "empty_slots": 9,
          "extra": {
           "ebikes": 0,
           "has_ebikes": true,
           "last_updated": 1676315947,
           "normal_bikes": 11,
           "renting": true,
           "returning": true,
           "slots": 20,
           "uid": "0209"
          },
          "free_bikes": 11,
          "id": "82c794442f54fabf9db6e392ca1fac0f",
          "latitude": 49.297933,
          "longitude": -123.130758,
          "name": "Stanley Park - Information Booth",
          "timestamp": "2023-02-13T19:22:31.485000Z"
         },
         {
          "empty_slots": 6,
          "extra": {
           "ebikes": 0,
           "has_ebikes": true,
           "last_updated": 1676315736,
           "normal_bikes": 8,
           "renting": true,
           "returning": true,
           "slots": 14,
           "uid": "0211"
          },
          "free_bikes": 8,
          "id": "2ca388bba54706770900ca2a9d7aa5be",
          "latitude": 49.258819,
          "longitude": -123.131317,
          "name": "14th & Alder",
          "timestamp": "2023-02-13T19:22:31.525000Z"
         },
         {
          "empty_slots": 5,
          "extra": {
           "ebikes": 0,
           "has_ebikes": true,
           "last_updated": 1676315881,
           "normal_bikes": 9,
           "renting": true,
           "returning": true,
           "slots": 14,
           "uid": "0213"
          },
          "free_bikes": 9,
          "id": "e7bf01431a6982f032996ad50a9e5bd7",
          "latitude": 49.280284,
          "longitude": -123.097052,
          "name": "Pender & Gore",
          "timestamp": "2023-02-13T19:22:31.668000Z"
         },
         {
          "empty_slots": 4,
          "extra": {
           "ebikes": 1,
           "has_ebikes": true,
           "last_updated": 1676315885,
           "normal_bikes": 13,
           "renting": true,
           "returning": true,
           "slots": 18,
           "uid": "0218"
          },
          "free_bikes": 14,
          "id": "1648ead5ea617d2cea115869d9516f5e",
          "latitude": 49.276294,
          "longitude": -123.106534,
          "name": "Carrall & Seawall",
          "timestamp": "2023-02-13T19:22:31.704000Z"
         },
         {
          "empty_slots": 5,
          "extra": {
           "ebikes": 1,
           "has_ebikes": true,
           "last_updated": 1676315714,
           "normal_bikes": 7,
           "renting": true,
           "returning": true,
           "slots": 14,
           "uid": "0221"
          },
          "free_bikes": 8,
          "id": "91035fe1d70b65c9cb8ec4a007af7c7f",
          "latitude": 49.277469,
          "longitude": -123.081315,
          "name": "Glen & Union",
          "timestamp": "2023-02-13T19:22:31.692000Z"
         },
         {
          "empty_slots": 1,
          "extra": {
           "ebikes": 2,
           "has_ebikes": true,
           "last_updated": 1676315873,
           "normal_bikes": 19,
           "renting": true,
           "returning": true,
           "slots": 22,
           "uid": "0222"
          },
          "free_bikes": 21,
          "id": "d3aaff4414a8c3fd5480c470f77ff68a",
          "latitude": 49.277665,
          "longitude": -123.073653,
          "name": "Adanac & McLean",
          "timestamp": "2023-02-13T19:22:31.484000Z"
         },
         {
          "empty_slots": 13,
          "extra": {
           "ebikes": 1,
           "has_ebikes": true,
           "last_updated": 1676315828,
           "normal_bikes": 2,
           "renting": true,
           "returning": true,
           "slots": 16,
           "uid": "0223"
          },
          "free_bikes": 3,
          "id": "b307709b305dd04328fbbf2c6db86419",
          "latitude": 49.277436,
          "longitude": -123.070427,
          "name": "Commercial & Adanac",
          "timestamp": "2023-02-13T19:22:31.694000Z"
         },
         {
          "empty_slots": 8,
          "extra": {
           "ebikes": 1,
           "has_ebikes": true,
           "last_updated": 1676315861,
           "normal_bikes": 7,
           "renting": true,
           "returning": true,
           "slots": 16,
           "uid": "0224"
          },
          "free_bikes": 8,
          "id": "e9c4bd1fffbb1e5b058b8ea15f7307f6",
          "latitude": 49.280332,
          "longitude": -123.070068,
          "name": "Pender & Commercial",
          "timestamp": "2023-02-13T19:22:31.699000Z"
         },
         {
          "empty_slots": 8,
          "extra": {
           "ebikes": 1,
           "has_ebikes": true,
           "last_updated": 1676316123,
           "normal_bikes": 5,
           "renting": true,
           "returning": true,
           "slots": 14,
           "uid": "0229"
          },
          "free_bikes": 6,
          "id": "bb0847559ce71c93d8215c0997ea2811",
          "latitude": 49.279369,
          "longitude": -123.091241,
          "name": "Keefer & Princess",
          "timestamp": "2023-02-13T19:22:31.677000Z"
         },
         {
          "empty_slots": 11,
          "extra": {
           "ebikes": 1,
           "has_ebikes": true,
           "last_updated": 1676315987,
           "normal_bikes": 8,
           "renting": true,
           "returning": true,
           "slots": 20,
           "uid": "0230"
          },
          "free_bikes": 9,
          "id": "1ef5c4ff3f0b09422bb1597fd9d7568b",
          "latitude": 49.283992,
          "longitude": -123.091206,
          "name": "Alexander & Railway",
          "timestamp": "2023-02-13T19:22:31.487000Z"
         },
         {
          "empty_slots": 7,
          "extra": {
           "ebikes": 5,
           "has_ebikes": true,
           "last_updated": 1676316120,
           "normal_bikes": 2,
           "renting": true,
           "returning": true,
           "slots": 14,
           "uid": "0231"
          },
          "free_bikes": 7,
          "id": "ac3b8198f03754a0afb8b6ed6d220cdd",
          "latitude": 49.274881,
          "longitude": -123.069323,
          "name": "Napier & Commercial",
          "timestamp": "2023-02-13T19:22:31.407000Z"
         },
         {
          "empty_slots": 3,
          "extra": {
           "ebikes": 0,
           "has_ebikes": true,
           "last_updated": 1676315865,
           "normal_bikes": 11,
           "renting": true,
           "returning": true,
           "slots": 14,
           "uid": "0232"
          },
          "free_bikes": 11,
          "id": "029a505bd4422a1afd127987757f71a6",
          "latitude": 49.275882,
          "longitude": -123.071865,
          "name": "Britannia Parking Lot",
          "timestamp": "2023-02-13T19:22:31.403000Z"
         },
         {
          "empty_slots": 8,
          "extra": {
           "ebikes": 1,
           "has_ebikes": true,
           "last_updated": 1676315587,
           "normal_bikes": 5,
           "renting": true,
           "returning": true,
           "slots": 14,
           "uid": "0233"
          },
          "free_bikes": 6,
          "id": "0459b7e93703980b853cd65a9dc60596",
          "latitude": 49.273777,
          "longitude": -123.092723,
          "name": "Thornton & National",
          "timestamp": "2023-02-13T19:22:31.435000Z"
         },
         {
          "empty_slots": 18,
          "extra": {
           "ebikes": 3,
           "has_ebikes": true,
           "last_updated": 1676316003,
           "normal_bikes": 7,
           "renting": true,
           "returning": true,
           "slots": 28,
           "uid": "0236"
          },
          "free_bikes": 10,
          "id": "a21f40838346e300063bdda3c5c04105",
          "latitude": 49.265005,
          "longitude": -123.079481,
          "name": "Keith & 6th",
          "timestamp": "2023-02-13T19:22:31.608000Z"
         },
         {
          "empty_slots": 12,
          "extra": {
           "ebikes": 0,
           "has_ebikes": true,
           "last_updated": 1676315654,
           "normal_bikes": 8,
           "renting": true,
           "returning": true,
           "slots": 20,
           "uid": "0237"
          },
          "free_bikes": 8,
          "id": "209fb233aff275020a640c8c40a18d90",
          "latitude": 49.265024,
          "longitude": -123.08127,
          "name": "Glen & 6th",
          "timestamp": "2023-02-13T19:22:31.513000Z"
         },
         {
          "empty_slots": 11,
          "extra": {
           "ebikes": 2,
           "has_ebikes": true,
           "last_updated": 1676315689,
           "normal_bikes": 1,
           "renting": true,
           "returning": true,
           "slots": 14,
           "uid": "0239"
          },
          "free_bikes": 3,
          "id": "6b1622540fe5c85d365754dd8c20bf0c",
          "latitude": 49.271377,
          "longitude": -123.069416,
          "name": "Grant & Commercial",
          "timestamp": "2023-02-13T19:22:31.669000Z"
         },
         {
          "empty_slots": 16,
          "extra": {
           "ebikes": 1,
           "has_ebikes": true,
           "last_updated": 1676316055,
           "normal_bikes": 5,
           "renting": true,
           "returning": true,
           "slots": 22,
           "uid": "0240"
          },
          "free_bikes": 6,
          "id": "ebc551adb0fc1a684f4080e4954a9ba4",
          "latitude": 49.268616,
          "longitude": -123.069908,
          "name": "2nd & Commercial",
          "timestamp": "2023-02-13T19:22:31.643000Z"
         },
         {
          "empty_slots": 7,
          "extra": {
           "ebikes": 2,
           "has_ebikes": true,
           "last_updated": 1676315628,
           "normal_bikes": 5,
           "renting": true,
           "returning": true,
           "slots": 14,
           "uid": "0241"
          },
          "free_bikes": 7,
          "id": "6eaa02e5bcf78db5386683d38fa2dabd",
          "latitude": 49.266969,
          "longitude": -123.069936,
          "name": "4th & Commercial",
          "timestamp": "2023-02-13T19:22:31.657000Z"
         },
         {
          "empty_slots": 21,
          "extra": {
           "ebikes": 3,
           "has_ebikes": true,
           "last_updated": 1676315800,
           "normal_bikes": 14,
           "renting": true,
           "returning": true,
           "slots": 38,
           "uid": "0242"
          },
          "free_bikes": 17,
          "id": "983e58671adcc67af94457d7887dbb15",
          "latitude": 49.263242,
          "longitude": -123.070521,
          "name": "8th & Commercial",
          "timestamp": "2023-02-13T19:22:31.481000Z"
         },
         {
          "empty_slots": 22,
          "extra": {
           "ebikes": 1,
           "has_ebikes": true,
           "last_updated": 1676315630,
           "normal_bikes": 3,
           "renting": true,
           "returning": true,
           "slots": 26,
           "uid": "0244"
          },
          "free_bikes": 4,
          "id": "797ff1725f8d2b18337de51e240ff60d",
          "latitude": 49.261403,
          "longitude": -123.070102,
          "name": "10th & Commercial",
          "timestamp": "2023-02-13T19:22:31.666000Z"
         },
         {
          "empty_slots": 10,
          "extra": {
           "ebikes": 0,
           "has_ebikes": true,
           "last_updated": 1676316146,
           "normal_bikes": 4,
           "renting": true,
           "returning": true,
           "slots": 14,
           "uid": "0245"
          },
          "free_bikes": 4,
          "id": "277b4b4881bdb7dac73012672179def8",
          "latitude": 49.261263,
          "longitude": -123.073707,
          "name": "Woodland & 10th",
          "timestamp": "2023-02-13T19:22:31.599000Z"
         },
         {
          "empty_slots": 12,
          "extra": {
           "ebikes": 1,
           "has_ebikes": true,
           "last_updated": 1676316120,
           "normal_bikes": 5,
           "renting": true,
           "returning": true,
           "slots": 18,
           "uid": "0246"
          },
          "free_bikes": 6,
          "id": "e1ff428dadc7c32141b9d89a7b56728a",
          "latitude": 49.262242,
          "longitude": -123.081459,
          "name": "Glen & Broadway",
          "timestamp": "2023-02-13T19:22:31.594000Z"
         },
         {
          "empty_slots": 8,
          "extra": {
           "ebikes": 1,
           "has_ebikes": true,
           "last_updated": 1676315845,
           "normal_bikes": 5,
           "renting": true,
           "returning": true,
           "slots": 14,
           "uid": "0248"
          },
          "free_bikes": 6,
          "id": "012d3e06901cc222b1c2cf0a2ace3a29",
          "latitude": 49.262321,
          "longitude": -123.09306,
          "name": "St George & Broadway",
          "timestamp": "2023-02-13T19:22:31.458000Z"
         },
         {
          "empty_slots": 10,
          "extra": {
           "ebikes": 0,
           "has_ebikes": true,
           "last_updated": 1676315604,
           "normal_bikes": 2,
           "renting": true,
           "returning": true,
           "slots": 12,
           "uid": "0249"
          },
          "free_bikes": 2,
          "id": "a6455af6b689bcbad07ae2c8a3419b50",
          "latitude": 49.264251,
          "longitude": -123.073853,
          "name": "7th & Woodland",
          "timestamp": "2023-02-13T19:22:31.603000Z"
         },
         {
          "empty_slots": 11,
          "extra": {
           "ebikes": 1,
           "has_ebikes": true,
           "last_updated": 1676316147,
           "normal_bikes": 3,
           "renting": true,
           "returning": true,
           "slots": 14,
           "uid": "0250"
          },
          "free_bikes": 4,
          "id": "475627e149c1a6ba73caac8d8d2fa617",
          "latitude": 49.266751,
          "longitude": -123.073501,
          "name": "Woodland & 4th",
          "timestamp": "2023-02-13T19:22:31.606000Z"
         },
         {
          "empty_slots": 7,
          "extra": {
           "ebikes": 5,
           "has_ebikes": true,
           "last_updated": 1676316036,
           "normal_bikes": 0,
           "renting": true,
           "returning": true,
           "slots": 12,
           "uid": "0252"
          },
          "free_bikes": 5,
          "id": "f387ec226c432c5c054e3d3616d90501",
          "latitude": 49.270684,
          "longitude": -123.073562,
          "name": "Woodland & Graveley",
          "timestamp": "2023-02-13T19:22:31.655000Z"
         },
         {
          "empty_slots": 5,
          "extra": {
           "ebikes": 3,
           "has_ebikes": true,
           "last_updated": 1676316021,
           "normal_bikes": 6,
           "renting": true,
           "returning": true,
           "slots": 14,
           "uid": "0253"
          },
          "free_bikes": 9,
          "id": "1675a77b9af656faf527b4e6de53e63b",
          "latitude": 49.2731,
          "longitude": -123.0732,
          "name": "Charles & Woodland",
          "timestamp": "2023-02-13T19:22:31.607000Z"
         },
         {
          "empty_slots": 10,
          "extra": {
           "ebikes": 1,
           "has_ebikes": true,
           "last_updated": 1676315767,
           "normal_bikes": 5,
           "renting": true,
           "returning": true,
           "slots": 16,
           "uid": "0255"
          },
          "free_bikes": 6,
          "id": "1bca0e944a4faf170db82793414b03ab",
          "latitude": 49.254667,
          "longitude": -123.101389,
          "name": "18th & Main",
          "timestamp": "2023-02-13T19:22:31.625000Z"
         },
         {
          "empty_slots": 9,
          "extra": {
           "ebikes": 4,
           "has_ebikes": true,
           "last_updated": 1676316074,
           "normal_bikes": 1,
           "renting": true,
           "returning": true,
           "slots": 14,
           "uid": "0256"
          },
          "free_bikes": 5,
          "id": "d0782213f003ce9eb276fbceff44f1f4",
          "latitude": 49.256694,
          "longitude": -123.096579,
          "name": "Prince Edward & 16th",
          "timestamp": "2023-02-13T19:22:31.642000Z"
         },
         {
          "empty_slots": 9,
          "extra": {
           "ebikes": 0,
           "has_ebikes": true,
           "last_updated": 1676315727,
           "normal_bikes": 5,
           "renting": true,
           "returning": true,
           "slots": 14,
           "uid": "0257"
          },
          "free_bikes": 5,
          "id": "1ef01f2f89621d51afbabaa6296e55be",
          "latitude": 49.258352,
          "longitude": -123.096337,
          "name": "Prince Edward & 14th",
          "timestamp": "2023-02-13T19:22:31.640000Z"
         },
         {
          "empty_slots": 5,
          "extra": {
           "ebikes": 3,
           "has_ebikes": true,
           "last_updated": 1676315683,
           "normal_bikes": 8,
           "renting": true,
           "returning": true,
           "slots": 16,
           "uid": "0258"
          },
          "free_bikes": 11,
          "id": "c47a1f62ea461ce1c9f3e2478c657df6",
          "latitude": 49.258817,
          "longitude": -123.092797,
          "name": "13th & St George",
          "timestamp": "2023-02-13T19:22:31.570000Z"
         },
         {
          "empty_slots": 10,
          "extra": {
           "ebikes": 4,
           "has_ebikes": true,
           "last_updated": 1676315903,
           "normal_bikes": 0,
           "renting": true,
           "returning": true,
           "slots": 14,
           "uid": "0260"
          },
          "free_bikes": 4,
          "id": "0cee06d7d10f7d3162cea03d22b7beed",
          "latitude": 49.26151,
          "longitude": -123.089413,
          "name": "10th & Fraser",
          "timestamp": "2023-02-13T19:22:31.459000Z"
         },
         {
          "empty_slots": 10,
          "extra": {
           "ebikes": 0,
           "has_ebikes": true,
           "last_updated": 1676316015,
           "normal_bikes": 6,
           "renting": true,
           "returning": true,
           "slots": 16,
           "uid": "0261"
          },
          "free_bikes": 6,
          "id": "f62bc2bfe9a0a563d5b6745ce6d962ba",
          "latitude": 49.263382,
          "longitude": -123.088837,
          "name": "8th & Fraser",
          "timestamp": "2023-02-13T19:22:31.460000Z"
         },
         {
          "empty_slots": 9,
          "extra": {
           "ebikes": 0,
           "has_ebikes": true,
           "last_updated": 1676316069,
           "normal_bikes": 3,
           "renting": true,
           "returning": true,
           "slots": 12,
           "uid": "0265"
          },
          "free_bikes": 3,
          "id": "1c8f7fd6535db12cc45cfc59aa9da058",
          "latitude": 49.261353,
          "longitude": -123.085333,
          "name": "St Catherines & 10th",
          "timestamp": "2023-02-13T19:22:31.489000Z"
         },
         {
          "empty_slots": 15,
          "extra": {
           "ebikes": 1,
           "has_ebikes": true,
           "last_updated": 1676315690,
           "normal_bikes": 4,
           "renting": true,
           "returning": true,
           "slots": 20,
           "uid": "0266"
          },
          "free_bikes": 5,
          "id": "17a3320a52bcc62161908967f8a06613",
          "latitude": 49.264466,
          "longitude": -123.085183,
          "name": "St Catherines & 7th",
          "timestamp": "2023-02-13T19:22:31.490000Z"
         },
         {
          "empty_slots": 12,
          "extra": {
           "ebikes": 2,
           "has_ebikes": true,
           "last_updated": 1676315640,
           "normal_bikes": 2,
           "renting": true,
           "returning": true,
           "slots": 16,
           "uid": "0272"
          },
          "free_bikes": 4,
          "id": "aed214941445e0345aa3254805a9e8b8",
          "latitude": 49.280197,
          "longitude": -123.065859,
          "name": "Pender & Victoria",
          "timestamp": "2023-02-13T19:22:31.561000Z"
         },
         {
          "empty_slots": 11,
          "extra": {
           "ebikes": 5,
           "has_ebikes": true,
           "last_updated": 1676315955,
           "normal_bikes": 0,
           "renting": true,
           "returning": true,
           "slots": 16,
           "uid": "0273"
          },
          "free_bikes": 5,
          "id": "d67640af1b3b3b3ce47169dbc9182470",
          "latitude": 49.266725,
          "longitude": -123.065925,
          "name": "Victoria & 4th",
          "timestamp": "2023-02-13T19:22:31.560000Z"
         },
         {
          "empty_slots": 8,
          "extra": {
           "ebikes": 3,
           "has_ebikes": true,
           "last_updated": 1676316065,
           "normal_bikes": 1,
           "renting": true,
           "returning": true,
           "slots": 12,
           "uid": "0274"
          },
          "free_bikes": 4,
          "id": "b2c6aaf2b4fa8937bfe3941c038683aa",
          "latitude": 49.261188,
          "longitude": -123.066009,
          "name": "Victoria & 10th",
          "timestamp": "2023-02-13T19:22:31.559000Z"
         },
         {
          "empty_slots": 12,
          "extra": {
           "ebikes": 1,
           "has_ebikes": true,
           "last_updated": 1676315730,
           "normal_bikes": 4,
           "renting": true,
           "returning": true,
           "slots": 18,
           "uid": "0278"
          },
          "free_bikes": 5,
          "id": "0a43242bee10cd33f539af2c1bf5ecbf",
          "latitude": 49.256857,
          "longitude": -123.065646,
          "name": "15th & Victoria (Trout Lake)",
          "timestamp": "2023-02-13T19:22:31.432000Z"
         },
         {
          "empty_slots": 10,
          "extra": {
           "ebikes": 0,
           "has_ebikes": true,
           "last_updated": 1676316112,
           "normal_bikes": 6,
           "renting": true,
           "returning": true,
           "slots": 16,
           "uid": "0280"
          },
          "free_bikes": 6,
          "id": "198810b9b0af5d229d1b6fa12c620e06",
          "latitude": 49.283986,
          "longitude": -123.065264,
          "name": "Triumph & Victoria",
          "timestamp": "2023-02-13T19:22:31.467000Z"
         },
         {
          "empty_slots": 8,
          "extra": {
           "ebikes": 2,
           "has_ebikes": true,
           "last_updated": 1676315989,
           "normal_bikes": 4,
           "renting": true,
           "returning": true,
           "slots": 14,
           "uid": "0281"
          },
          "free_bikes": 6,
          "id": "d02e2eaafda91425eddd24d8acd328ab",
          "latitude": 49.257985,
          "longitude": -123.083366,
          "name": "Windsor & 14th",
          "timestamp": "2023-02-13T19:22:31.468000Z"
         },
         {
          "empty_slots": 14,
          "extra": {
           "ebikes": 2,
           "has_ebikes": true,
           "last_updated": 1676315570,
           "normal_bikes": 0,
           "renting": true,
           "returning": true,
           "slots": 16,
           "uid": "0282"
          },
          "free_bikes": 2,
          "id": "08c7a90bf297fde8c1f1156db13987d4",
          "latitude": 49.257939,
          "longitude": -123.089531,
          "name": "14th & Fraser",
          "timestamp": "2023-02-13T19:22:31.464000Z"
         },
         {
          "empty_slots": 7,
          "extra": {
           "ebikes": 1,
           "has_ebikes": true,
           "last_updated": 1676315930,
           "normal_bikes": 6,
           "renting": true,
           "returning": true,
           "slots": 14,
           "uid": "0283"
          },
          "free_bikes": 7,
          "id": "97005696a3dff3366a8410b817388990",
          "latitude": 49.256496,
          "longitude": -123.075426,
          "name": "15th & Knight",
          "timestamp": "2023-02-13T19:22:31.465000Z"
         },
         {
          "empty_slots": 4,
          "extra": {
           "ebikes": 1,
           "has_ebikes": true,
           "last_updated": 1676315995,
           "normal_bikes": 11,
           "renting": true,
           "returning": true,
           "slots": 16,
           "uid": "0285"
          },
          "free_bikes": 12,
          "id": "c52e51e3288a00993bdf892fdc2c2c2c",
          "latitude": 49.283236,
          "longitude": -123.070443,
          "name": "Commercial & Pandora",
          "timestamp": "2023-02-13T19:22:31.462000Z"
         },
         {
          "empty_slots": 6,
          "extra": {
           "ebikes": 0,
           "has_ebikes": true,
           "last_updated": 1676316107,
           "normal_bikes": 10,
           "renting": true,
           "returning": true,
           "slots": 16,
           "uid": "0287"
          },
          "free_bikes": 10,
          "id": "7d231a181d21056e4ba80c4d9939fe92",
          "latitude": 49.267266,
          "longitude": -123.090786,
          "name": "Carolina & Great Northern Way",
          "timestamp": "2023-02-13T19:22:31.462000Z"
         },
         {
          "empty_slots": 11,
          "extra": {
           "ebikes": 0,
           "has_ebikes": true,
           "last_updated": 1676315986,
           "normal_bikes": 5,
           "renting": true,
           "returning": true,
           "slots": 16,
           "uid": "0297"
          },
          "free_bikes": 5,
          "id": "dcf3d5c9f1b3a46f0ef2eb2247931f89",
          "latitude": 49.265242,
          "longitude": -123.095577,
          "name": "6th & Prince Edward",
          "timestamp": "2023-02-13T19:22:31.522000Z"
         },
         {
          "empty_slots": 10,
          "extra": {
           "ebikes": 1,
           "has_ebikes": true,
           "last_updated": 1676316058,
           "normal_bikes": 5,
           "renting": true,
           "returning": true,
           "slots": 16,
           "uid": "0298"
          },
          "free_bikes": 6,
          "id": "9bee3167f10c884044cea0d36afcd1ef",
          "latitude": 49.265213,
          "longitude": -123.090785,
          "name": "6th & Carolina",
          "timestamp": "2023-02-13T19:22:31.514000Z"
         },
         {
          "empty_slots": 23,
          "extra": {
           "ebikes": 1,
           "has_ebikes": true,
           "last_updated": 1676315944,
           "normal_bikes": 14,
           "renting": true,
           "returning": true,
           "slots": 38,
           "uid": "0103"
          },
          "free_bikes": 15,
          "id": "45a4c865db23e1cad0209afa5a799de0",
          "latitude": 49.302577,
          "longitude": -123.155616,
          "name": "Stanley Park - Third Beach Parking Lot",
          "timestamp": "2023-02-13T19:22:31.505000Z"
         },
         {
          "empty_slots": 10,
          "extra": {
           "ebikes": 0,
           "has_ebikes": true,
           "last_updated": 1676316145,
           "normal_bikes": 6,
           "renting": true,
           "returning": true,
           "slots": 16,
           "uid": "0212"
          },
          "free_bikes": 6,
          "id": "fe0c57d04d6e682d284d501446095fc9",
          "latitude": 49.277595,
          "longitude": -123.09583,
          "name": "Union & Dunlevy",
          "timestamp": "2023-02-13T19:22:31.670000Z"
         },
         {
          "empty_slots": 3,
          "extra": {
           "ebikes": 0,
           "has_ebikes": true,
           "last_updated": 1676315567,
           "normal_bikes": 13,
           "renting": true,
           "returning": true,
           "slots": 16,
           "uid": "0228"
          },
          "free_bikes": 13,
          "id": "b10d422b045805f1c350c47c983381e8",
          "latitude": 49.279235,
          "longitude": -123.087528,
          "name": "Keefer & Hawks",
          "timestamp": "2023-02-13T19:22:31.676000Z"
         },
         {
          "empty_slots": 9,
          "extra": {
           "ebikes": 0,
           "has_ebikes": true,
           "last_updated": 1676315740,
           "normal_bikes": 7,
           "renting": true,
           "returning": true,
           "slots": 16,
           "uid": "0219"
          },
          "free_bikes": 7,
          "id": "4e8fdc99e77ba1b70d90e124a704d0c1",
          "latitude": 49.277333,
          "longitude": -123.087359,
          "name": "Hawks & Union",
          "timestamp": "2023-02-13T19:22:31.703000Z"
         },
         {
          "empty_slots": 17,
          "extra": {
           "ebikes": 4,
           "has_ebikes": true,
           "last_updated": 1676315798,
           "normal_bikes": 1,
           "renting": true,
           "returning": true,
           "slots": 22,
           "uid": "0235"
          },
          "free_bikes": 5,
          "id": "b562f08327af465e4531e20226789489",
          "latitude": 49.273103,
          "longitude": -123.069892,
          "name": "Charles & Commercial",
          "timestamp": "2023-02-13T19:22:31.389000Z"
         },
         {
          "empty_slots": 13,
          "extra": {
           "ebikes": 3,
           "has_ebikes": true,
           "last_updated": 1676316113,
           "normal_bikes": 3,
           "renting": true,
           "returning": true,
           "slots": 20,
           "uid": "0186"
          },
          "free_bikes": 6,
          "id": "4ac99b928a91d8ccb785c9d0b805adb6",
          "latitude": 49.261973,
          "longitude": -123.09725,
          "name": "10th & Kingsway",
          "timestamp": "2023-02-13T19:22:31.571000Z"
         },
         {
          "empty_slots": 12,
          "extra": {
           "ebikes": 1,
           "has_ebikes": true,
           "last_updated": 1676315879,
           "normal_bikes": 5,
           "renting": true,
           "returning": true,
           "slots": 18,
           "uid": "0045"
          },
          "free_bikes": 6,
          "id": "99c81f71db35911c79a86a1c5edc5604",
          "latitude": 49.275295,
          "longitude": -123.132585,
          "name": "Beach & Hornby",
          "timestamp": "2023-02-13T19:22:31.430000Z"
         },
         {
          "empty_slots": 13,
          "extra": {
           "ebikes": 0,
           "has_ebikes": true,
           "last_updated": 1676315965,
           "normal_bikes": 15,
           "renting": true,
           "returning": true,
           "slots": 28,
           "uid": "0002"
          },
          "free_bikes": 15,
          "id": "e12234b6f1299d178f34bffaca92f043",
          "latitude": 49.285871,
          "longitude": -123.12105,
          "name": "Burrard Station (Melville & Dunsmuir)",
          "timestamp": "2023-02-13T19:22:31.598000Z"
         },
         {
          "empty_slots": 10,
          "extra": {
           "ebikes": 0,
           "has_ebikes": true,
           "last_updated": 1676315629,
           "normal_bikes": 4,
           "renting": true,
           "returning": true,
           "slots": 14,
           "uid": "0300"
          },
          "free_bikes": 4,
          "id": "5a34495280727a5b50b9aa41e14e9a16",
          "latitude": 49.284893,
          "longitude": -123.128685,
          "name": "Bute & Barclay",
          "timestamp": "2023-02-13T19:22:31.408000Z"
         },
         {
          "empty_slots": 9,
          "extra": {
           "ebikes": 0,
           "has_ebikes": true,
           "last_updated": 1676316011,
           "normal_bikes": 13,
           "renting": true,
           "returning": true,
           "slots": 22,
           "uid": "0170"
          },
          "free_bikes": 13,
          "id": "9130f9aa3bb037a04c17e6f2630327e5",
          "latitude": 49.263962,
          "longitude": -123.112621,
          "name": "8th & Yukon",
          "timestamp": "2023-02-13T19:22:31.562000Z"
         },
         {
          "empty_slots": 6,
          "extra": {
           "ebikes": 0,
           "has_ebikes": true,
           "last_updated": 1676315887,
           "normal_bikes": 6,
           "renting": true,
           "returning": true,
           "slots": 12,
           "uid": "0215"
          },
          "free_bikes": 6,
          "id": "9a48ca226f82f52d02707b054ebc7e9e",
          "latitude": 49.277615,
          "longitude": -123.091654,
          "name": "Princess & Union",
          "timestamp": "2023-02-13T19:22:31.532000Z"
         },
         {
          "empty_slots": 9,
          "extra": {
           "ebikes": 2,
           "has_ebikes": true,
           "last_updated": 1676315570,
           "normal_bikes": 11,
           "renting": true,
           "returning": true,
           "slots": 22,
           "uid": "0012"
          },
          "free_bikes": 13,
          "id": "b3bb9f58d3530d33a1a09b6be9e973e0",
          "latitude": 49.282214,
          "longitude": -123.114101,
          "name": "Dunsmuir & Richards",
          "timestamp": "2023-02-13T19:22:31.623000Z"
         },
         {
          "empty_slots": 7,
          "extra": {
           "ebikes": 1,
           "has_ebikes": true,
           "last_updated": 1676315991,
           "normal_bikes": 12,
           "renting": true,
           "returning": true,
           "slots": 20,
           "uid": "0198"
          },
          "free_bikes": 13,
          "id": "c2f4e05c01ea0d27934ac7dbc50cbd0c",
          "latitude": 49.266456,
          "longitude": -123.100324,
          "name": "5th & Main",
          "timestamp": "2023-02-13T19:22:31.528000Z"
         },
         {
          "empty_slots": 2,
          "extra": {
           "ebikes": 0,
           "has_ebikes": true,
           "last_updated": 1676315987,
           "normal_bikes": 17,
           "renting": true,
           "returning": true,
           "slots": 20,
           "uid": "0119"
          },
          "free_bikes": 17,
          "id": "9a5478470b56379c31cf4e671584d5cc",
          "latitude": 49.268216,
          "longitude": -123.103168,
          "name": "3rd & Quebec",
          "timestamp": "2023-02-13T19:22:31.510000Z"
         },
         {
          "empty_slots": 8,
          "extra": {
           "ebikes": 2,
           "has_ebikes": true,
           "last_updated": 1676315836,
           "normal_bikes": 14,
           "renting": true,
           "returning": true,
           "slots": 24,
           "uid": "0124"
          },
          "free_bikes": 16,
          "id": "257715b845828e027ff35dd0f11c971e",
          "latitude": 49.284554,
          "longitude": -123.111031,
          "name": "Richards & Cordova",
          "timestamp": "2023-02-13T19:22:31.418000Z"
         },
         {
          "empty_slots": 11,
          "extra": {
           "ebikes": 2,
           "has_ebikes": true,
           "last_updated": 1676315822,
           "normal_bikes": 9,
           "renting": true,
           "returning": true,
           "slots": 22,
           "uid": "0129"
          },
          "free_bikes": 11,
          "id": "910027847876403b57f1013c16504688",
          "latitude": 49.280216,
          "longitude": -123.117639,
          "name": "Richards & Robson",
          "timestamp": "2023-02-13T19:22:31.430000Z"
         },
         {
          "empty_slots": 10,
          "extra": {
           "ebikes": 1,
           "has_ebikes": true,
           "last_updated": 1676316119,
           "normal_bikes": 15,
           "renting": true,
           "returning": true,
           "slots": 26,
           "uid": "0006"
          },
          "free_bikes": 16,
          "id": "06487275cd19694152824c7c3088e8ff",
          "latitude": 49.266314,
          "longitude": -123.116011,
          "name": "Olympic Village Station",
          "timestamp": "2023-02-13T19:22:31.593000Z"
         },
         {
          "empty_slots": 6,
          "extra": {
           "ebikes": 1,
           "has_ebikes": true,
           "last_updated": 1676315658,
           "normal_bikes": 7,
           "renting": true,
           "returning": true,
           "slots": 14,
           "uid": "0227"
          },
          "free_bikes": 8,
          "id": "b428c0e64d9b9fdb3bf8e85c95ffdf6b",
          "latitude": 49.280852,
          "longitude": -123.084746,
          "name": "Campbell & Hastings",
          "timestamp": "2023-02-13T19:22:31.511000Z"
         },
         {
          "empty_slots": 15,
          "extra": {
           "ebikes": 0,
           "has_ebikes": true,
           "last_updated": 1676316075,
           "normal_bikes": 3,
           "renting": true,
           "returning": true,
           "slots": 18,
           "uid": "0040"
          },
          "free_bikes": 3,
          "id": "d085c6749a32517e1fb0d070e4128402",
          "latitude": 49.285512,
          "longitude": -123.1384,
          "name": "Cardero & Davie",
          "timestamp": "2023-02-13T19:22:31.427000Z"
         },
         {
          "empty_slots": 12,
          "extra": {
           "ebikes": 0,
           "has_ebikes": true,
           "last_updated": 1676315759,
           "normal_bikes": 22,
           "renting": true,
           "returning": true,
           "slots": 35,
           "uid": "0083"
          },
          "free_bikes": 22,
          "id": "a6aec7b8c25da4c02829cd7839b8933d",
          "latitude": 49.27821,
          "longitude": -123.136972,
          "name": "Aquatic Centre",
          "timestamp": "2023-02-13T19:22:31.676000Z"
         },
         {
          "empty_slots": 6,
          "extra": {
           "ebikes": 1,
           "has_ebikes": true,
           "last_updated": 1676316018,
           "normal_bikes": 15,
           "renting": true,
           "returning": true,
           "slots": 22,
           "uid": "0084"
          },
          "free_bikes": 16,
          "id": "c924f6a41b130fad49cfae47271314bc",
          "latitude": 49.281301,
          "longitude": -123.139108,
          "name": "Beach & Broughton",
          "timestamp": "2023-02-13T19:22:31.672000Z"
         },
         {
          "empty_slots": 1,
          "extra": {
           "ebikes": 2,
           "has_ebikes": true,
           "last_updated": 1676316145,
           "normal_bikes": 18,
           "renting": true,
           "returning": true,
           "slots": 22,
           "uid": "0142"
          },
          "free_bikes": 20,
          "id": "8e93d0da1ee6caadf21ed9575b5fa9da",
          "latitude": 49.283298,
          "longitude": -123.142288,
          "name": "Beach & Cardero",
          "timestamp": "2023-02-13T19:22:31.401000Z"
         },
         {
          "empty_slots": 16,
          "extra": {
           "ebikes": 1,
           "has_ebikes": true,
           "last_updated": 1676315871,
           "normal_bikes": 1,
           "renting": true,
           "returning": true,
           "slots": 18,
           "uid": "0305"
          },
          "free_bikes": 2,
          "id": "9413725a5d3bb5ce2ad0682b07a3ffab",
          "latitude": 49.280787,
          "longitude": -123.115271,
          "name": "Georgia & Homer",
          "timestamp": "2023-02-13T19:22:31.405000Z"
         },
         {
          "empty_slots": 4,
          "extra": {
           "ebikes": 0,
           "has_ebikes": true,
           "last_updated": 1676315994,
           "normal_bikes": 14,
           "renting": true,
           "returning": true,
           "slots": 18,
           "uid": "0165"
          },
          "free_bikes": 14,
          "id": "7ed043a19e6a4ece742fe747b663bdbf",
          "latitude": 49.266476,
          "longitude": -123.109389,
          "name": "Columbia & 5th",
          "timestamp": "2023-02-13T19:22:31.605000Z"
         },
         {
          "empty_slots": 4,
          "extra": {
           "ebikes": 0,
           "has_ebikes": true,
           "last_updated": 1676316139,
           "normal_bikes": 14,
           "renting": true,
           "returning": true,
           "slots": 20,
           "uid": "0122"
          },
          "free_bikes": 14,
          "id": "ce5dccf5a0f190bb4567a2fd93e7971e",
          "latitude": 49.290587,
          "longitude": -123.13625,
          "name": "Haro & Denman",
          "timestamp": "2023-02-13T19:22:31.421000Z"
         },
         {
          "empty_slots": 16,
          "extra": {
           "ebikes": 1,
           "has_ebikes": true,
           "last_updated": 1676316026,
           "normal_bikes": 5,
           "renting": true,
           "returning": true,
           "slots": 22,
           "uid": "0100"
          },
          "free_bikes": 6,
          "id": "844aa75af0d3235a86ff827c81395afd",
          "latitude": 49.312568,
          "longitude": -123.144177,
          "name": "Stanley Park - Prospect Point",
          "timestamp": "2023-02-13T19:22:31.504000Z"
         },
         {
          "empty_slots": 13,
          "extra": {
           "ebikes": 0,
           "has_ebikes": true,
           "last_updated": 1676315824,
           "normal_bikes": 5,
           "renting": true,
           "returning": true,
           "slots": 18,
           "uid": "0075"
          },
          "free_bikes": 5,
          "id": "1d442ad1a71774c82688a45954e47bfd",
          "latitude": 49.262835,
          "longitude": -123.152626,
          "name": "Arbutus & 10th",
          "timestamp": "2023-02-13T19:22:31.613000Z"
         },
         {
          "empty_slots": 10,
          "extra": {
           "ebikes": 4,
           "has_ebikes": true,
           "last_updated": 1676315939,
           "normal_bikes": 0,
           "renting": true,
           "returning": true,
           "slots": 14,
           "uid": "0133"
          },
          "free_bikes": 4,
          "id": "2781435bde344e1b64f1bebac6bc9008",
          "latitude": 49.256825,
          "longitude": -123.105234,
          "name": "Ontario & 16th",
          "timestamp": "2023-02-13T19:22:31.382000Z"
         },
         {
          "empty_slots": 8,
          "extra": {
           "ebikes": 2,
           "has_ebikes": true,
           "last_updated": 1676316120,
           "normal_bikes": 4,
           "renting": true,
           "returning": true,
           "slots": 14,
           "uid": "0082"
          },
          "free_bikes": 6,
          "id": "e9b37f2d9b7b2e2e3ade73f13acb69b2",
          "latitude": 49.275683,
          "longitude": -123.124388,
          "name": "Richards & Davie",
          "timestamp": "2023-02-13T19:22:31.675000Z"
         },
         {
          "empty_slots": 11,
          "extra": {
           "ebikes": 1,
           "has_ebikes": true,
           "last_updated": 1676316083,
           "normal_bikes": 5,
           "renting": true,
           "returning": true,
           "slots": 18,
           "uid": "0262"
          },
          "free_bikes": 6,
          "id": "fffd87607aaae16fbb1f71615cbe7d17",
          "latitude": 49.263518,
          "longitude": -123.09568,
          "name": "8th & Prince Edward",
          "timestamp": "2023-02-13T19:22:31.495000Z"
         },
         {
          "empty_slots": 18,
          "extra": {
           "ebikes": 0,
           "has_ebikes": true,
           "last_updated": 1676315729,
           "normal_bikes": 1,
           "renting": true,
           "returning": true,
           "slots": 20,
           "uid": "0310"
          },
          "free_bikes": 1,
          "id": "da8b6e94f90ad41a3f8de10596992372",
          "latitude": 49.28691,
          "longitude": -123.128818,
          "name": "Jervis & Robson",
          "timestamp": "2023-02-13T19:22:31.708000Z"
         },
         {
          "empty_slots": 12,
          "extra": {
           "ebikes": 1,
           "has_ebikes": true,
           "last_updated": 1676315948,
           "normal_bikes": 7,
           "renting": true,
           "returning": true,
           "slots": 20,
           "uid": "0217"
          },
          "free_bikes": 8,
          "id": "32f70f7ae14ba87523c6286a6c4d5c37",
          "latitude": 49.282503,
          "longitude": -123.124697,
          "name": "Smithe & Burrard",
          "timestamp": "2023-02-13T19:22:31.533000Z"
         },
         {
          "empty_slots": 18,
          "extra": {
           "ebikes": 1,
           "has_ebikes": true,
           "last_updated": 1676315983,
           "normal_bikes": 0,
           "renting": true,
           "returning": true,
           "slots": 22,
           "uid": "0087"
          },
          "free_bikes": 1,
          "id": "df5ab349a7a85d4b10da4cc3ec65c607",
          "latitude": 49.283749,
          "longitude": -123.136133,
          "name": "Broughton & Davie",
          "timestamp": "2023-02-13T19:22:31.673000Z"
         },
         {
          "empty_slots": 9,
          "extra": {
           "ebikes": 0,
           "has_ebikes": true,
           "last_updated": 1676315948,
           "normal_bikes": 5,
           "renting": true,
           "returning": true,
           "slots": 14,
           "uid": "0068"
          },
          "free_bikes": 5,
          "id": "e0318460138ffbf4692005d5b5a9f900",
          "latitude": 49.262944,
          "longitude": -123.148109,
          "name": "Cypress & 10th",
          "timestamp": "2023-02-13T19:22:31.590000Z"
         },
         {
          "empty_slots": 7,
          "extra": {
           "ebikes": 4,
           "has_ebikes": true,
           "last_updated": 1676315728,
           "normal_bikes": 9,
           "renting": true,
           "returning": true,
           "slots": 20,
           "uid": "0189"
          },
          "free_bikes": 13,
          "id": "db51c556fe50ec1deefbc9697c70cb51",
          "latitude": 49.27029,
          "longitude": -123.135025,
          "name": "Granville Island",
          "timestamp": "2023-02-13T19:22:31.573000Z"
         },
         {
          "empty_slots": 7,
          "extra": {
           "ebikes": 4,
           "has_ebikes": true,
           "last_updated": 1676315997,
           "normal_bikes": 5,
           "renting": true,
           "returning": true,
           "slots": 16,
           "uid": "0225"
          },
          "free_bikes": 9,
          "id": "58a026f0c506caec20697a4f90538450",
          "latitude": 49.280427,
          "longitude": -123.074082,
          "name": "McLean & Pender",
          "timestamp": "2023-02-13T19:22:31.700000Z"
         },
         {
          "empty_slots": 16,
          "extra": {
           "ebikes": 2,
           "has_ebikes": true,
           "last_updated": 1676315867,
           "normal_bikes": 0,
           "renting": true,
           "returning": true,
           "slots": 18,
           "uid": "0058"
          },
          "free_bikes": 2,
          "id": "0e0aef6fabaa808b3a3cef24657257a4",
          "latitude": 49.279259,
          "longitude": -123.119145,
          "name": "Richards & Smithe",
          "timestamp": "2023-02-13T19:22:31.448000Z"
         },
         {
          "empty_slots": 11,
          "extra": {
           "ebikes": 2,
           "has_ebikes": true,
           "last_updated": 1676316128,
           "normal_bikes": 13,
           "renting": true,
           "returning": true,
           "slots": 26,
           "uid": "0036"
          },
          "free_bikes": 15,
          "id": "90c746df94ce1a12f1f617acfe4a8ce3",
          "latitude": 49.285836,
          "longitude": -123.127265,
          "name": "Bute & Robson",
          "timestamp": "2023-02-13T19:22:31.387000Z"
         },
         {
          "empty_slots": 14,
          "extra": {
           "ebikes": 0,
           "has_ebikes": true,
           "last_updated": 1676316065,
           "normal_bikes": 6,
           "renting": true,
           "returning": true,
           "slots": 20,
           "uid": "0460"
          },
          "free_bikes": 6,
          "id": "80b5c12ef21fd47275d37b2c9935249c",
          "latitude": 49.272969,
          "longitude": -123.164325,
          "name": "Trafalgar & Cornwall",
          "timestamp": "2023-02-13T19:22:31.588000Z"
         },
         {
          "empty_slots": 20,
          "extra": {
           "ebikes": 2,
           "has_ebikes": true,
           "last_updated": 1676315587,
           "normal_bikes": 2,
           "renting": true,
           "returning": true,
           "slots": 24,
           "uid": "0410"
          },
          "free_bikes": 4,
          "id": "899f59a9994302e8e1e4be01117ef707",
          "latitude": 49.27247,
          "longitude": -123.185643,
          "name": "Alma & Point Grey",
          "timestamp": "2023-02-13T19:22:31.706000Z"
         },
         {
          "empty_slots": 8,
          "extra": {
           "ebikes": 0,
           "has_ebikes": true,
           "last_updated": 1676315989,
           "normal_bikes": 6,
           "renting": true,
           "returning": true,
           "slots": 14,
           "uid": "0440"
          },
          "free_bikes": 6,
          "id": "8d2d5bb3b9142f781f2a7f441e6bad7a",
          "latitude": 49.271471,
          "longitude": -123.17731,
          "name": "Point Grey & Blenheim",
          "timestamp": "2023-02-13T19:22:31.482000Z"
         },
         {
          "empty_slots": 11,
          "extra": {
           "ebikes": 0,
           "has_ebikes": true,
           "last_updated": 1676315966,
           "normal_bikes": 12,
           "renting": true,
           "returning": true,
           "slots": 24,
           "uid": "0035"
          },
          "free_bikes": 12,
          "id": "5de0fe55497681d4cc9dd25509cf51ab",
          "latitude": 49.290112,
          "longitude": -123.127062,
          "name": "Hastings & Broughton",
          "timestamp": "2023-02-13T19:22:31.383000Z"
         },
         {
          "empty_slots": 12,
          "extra": {
           "ebikes": 2,
           "has_ebikes": true,
           "last_updated": 1676316138,
           "normal_bikes": 4,
           "renting": true,
           "returning": true,
           "slots": 18,
           "uid": "0484"
          },
          "free_bikes": 6,
          "id": "2681455ba2d97283998a806b14d3e95c",
          "latitude": 49.263523,
          "longitude": -123.155267,
          "name": "Yew & Broadway",
          "timestamp": "2023-02-13T19:22:31.705000Z"
         },
         {
          "empty_slots": 15,
          "extra": {
           "ebikes": 0,
           "has_ebikes": true,
           "last_updated": 1676316064,
           "normal_bikes": 7,
           "renting": true,
           "returning": true,
           "slots": 22,
           "uid": "0452"
          },
          "free_bikes": 7,
          "id": "064a7b39b1dbc4bfc4cf8f454e360c57",
          "latitude": 49.264928,
          "longitude": -123.168068,
          "name": "8th & Macdonald",
          "timestamp": "2023-02-13T19:22:31.508000Z"
         },
         {
          "empty_slots": 2,
          "extra": {
           "ebikes": 2,
           "has_ebikes": true,
           "last_updated": 1676315887,
           "normal_bikes": 14,
           "renting": true,
           "returning": true,
           "slots": 18,
           "uid": "0444"
          },
          "free_bikes": 16,
          "id": "9c1397c06e07bf74fc049f1a0872eea0",
          "latitude": 49.264483,
          "longitude": -123.173926,
          "name": "Balaclava & Broadway",
          "timestamp": "2023-02-13T19:22:31.479000Z"
         },
         {
          "empty_slots": 24,
          "extra": {
           "ebikes": 1,
           "has_ebikes": true,
           "last_updated": 1676316128,
           "normal_bikes": 1,
           "renting": true,
           "returning": true,
           "slots": 26,
           "uid": "0415"
          },
          "free_bikes": 2,
          "id": "9763838317308a4766b83696986a157b",
          "latitude": 49.264579,
          "longitude": -123.18373,
          "name": "Dunbar & Broadway",
          "timestamp": "2023-02-13T19:22:31.707000Z"
         },
         {
          "empty_slots": 10,
          "extra": {
           "ebikes": 2,
           "has_ebikes": true,
           "last_updated": 1676316146,
           "normal_bikes": 4,
           "renting": true,
           "returning": true,
           "slots": 16,
           "uid": "0254"
          },
          "free_bikes": 6,
          "id": "c64ee19c62a363019ddbaedf71df2882",
          "latitude": 49.263746,
          "longitude": -123.069892,
          "name": "Grandview & Commercial",
          "timestamp": "2023-02-13T19:22:31.626000Z"
         },
         {
          "empty_slots": 10,
          "extra": {
           "ebikes": 0,
           "has_ebikes": true,
           "last_updated": 1676316050,
           "normal_bikes": 3,
           "renting": true,
           "returning": true,
           "slots": 14,
           "uid": "0202"
          },
          "free_bikes": 3,
          "id": "421516af381a11f54d07fc79be68d3d3",
          "latitude": 49.258761,
          "longitude": -123.127071,
          "name": "14th & Oak",
          "timestamp": "2023-02-13T19:22:31.475000Z"
         },
         {
          "empty_slots": 9,
          "extra": {
           "ebikes": 1,
           "has_ebikes": true,
           "last_updated": 1676315953,
           "normal_bikes": 8,
           "renting": true,
           "returning": true,
           "slots": 18,
           "uid": "0401"
          },
          "free_bikes": 9,
          "id": "38f045e3f43f86eae42ca4c60257ade0",
          "latitude": 49.268974,
          "longitude": -123.190701,
          "name": "Wallace & 4th",
          "timestamp": "2023-02-13T19:22:31.662000Z"
         },
         {
          "empty_slots": 13,
          "extra": {
           "ebikes": 0,
           "has_ebikes": true,
           "last_updated": 1676316145,
           "normal_bikes": 7,
           "renting": true,
           "returning": true,
           "slots": 20,
           "uid": "0470"
          },
          "free_bikes": 7,
          "id": "5ba6e9725b1b0ee8cd25df976e47726b",
          "latitude": 49.273011,
          "longitude": -123.159663,
          "name": "Balsam & Cornwall",
          "timestamp": "2023-02-13T19:22:31.610000Z"
         },
         {
          "empty_slots": 8,
          "extra": {
           "ebikes": 1,
           "has_ebikes": true,
           "last_updated": 1676315595,
           "normal_bikes": 7,
           "renting": true,
           "returning": true,
           "slots": 16,
           "uid": "0443"
          },
          "free_bikes": 8,
          "id": "f90ed7ad754ec04b7852941a480a4c77",
          "latitude": 49.266924,
          "longitude": -123.173849,
          "name": "Balaclava & 6th",
          "timestamp": "2023-02-13T19:22:31.445000Z"
         },
         {
          "empty_slots": 8,
          "extra": {
           "ebikes": 0,
           "has_ebikes": true,
           "last_updated": 1676316011,
           "normal_bikes": 8,
           "renting": true,
           "returning": true,
           "slots": 16,
           "uid": "0464"
          },
          "free_bikes": 8,
          "id": "abfaf72456a4828a22f5bf60d3a80777",
          "latitude": 49.264326,
          "longitude": -123.164725,
          "name": "Trafalgar & Broadway",
          "timestamp": "2023-02-13T19:22:31.380000Z"
         },
         {
          "empty_slots": 10,
          "extra": {
           "ebikes": 2,
           "has_ebikes": true,
           "last_updated": 1676315901,
           "normal_bikes": 4,
           "renting": true,
           "returning": true,
           "slots": 16,
           "uid": "0414"
          },
          "free_bikes": 6,
          "id": "2ff7eb4230654603592ab1b0780ec5e1",
          "latitude": 49.266636,
          "longitude": -123.183661,
          "name": "Dunbar & 6th",
          "timestamp": "2023-02-13T19:22:31.707000Z"
         },
         {
          "empty_slots": 20,
          "extra": {
           "ebikes": 4,
           "has_ebikes": true,
           "last_updated": 1676315985,
           "normal_bikes": 0,
           "renting": true,
           "returning": true,
           "slots": 24,
           "uid": "0531"
          },
          "free_bikes": 4,
          "id": "ea9485fcdce0611243474d000e4ad248",
          "latitude": 49.254818,
          "longitude": -123.114785,
          "name": "18th & Cambie",
          "timestamp": "2023-02-13T19:22:31.433000Z"
         },
         {
          "empty_slots": 18,
          "extra": {
           "ebikes": 0,
           "has_ebikes": true,
           "last_updated": 1676315756,
           "normal_bikes": 6,
           "renting": true,
           "returning": true,
           "slots": 23,
           "uid": "0431"
          },
          "free_bikes": 6,
          "id": "671ce9e4a92063620f772d2c57f0f3ab",
          "latitude": 49.268837,
          "longitude": -123.177633,
          "name": "Blenheim & 4th",
          "timestamp": "2023-02-13T19:22:31.436000Z"
         },
         {
          "empty_slots": 9,
          "extra": {
           "ebikes": 0,
           "has_ebikes": true,
           "last_updated": 1676316146,
           "normal_bikes": 7,
           "renting": true,
           "returning": true,
           "slots": 16,
           "uid": "0511"
          },
          "free_bikes": 7,
          "id": "41a55a7e2908fbbd65175b794d26bc8d",
          "latitude": 49.255034,
          "longitude": -123.120226,
          "name": "18th & Heather",
          "timestamp": "2023-02-13T19:22:31.524000Z"
         },
         {
          "empty_slots": 8,
          "extra": {
           "ebikes": 4,
           "has_ebikes": true,
           "last_updated": 1676315958,
           "normal_bikes": 4,
           "renting": true,
           "returning": true,
           "slots": 16,
           "uid": "0450"
          },
          "free_bikes": 8,
          "id": "a59924f0ff3fb481a7bd8a5e9c36858f",
          "latitude": 49.271044,
          "longitude": -123.170661,
          "name": "Point Grey & Bayswater",
          "timestamp": "2023-02-13T19:22:31.557000Z"
         },
         {
          "empty_slots": 10,
          "extra": {
           "ebikes": 1,
           "has_ebikes": true,
           "last_updated": 1676315689,
           "normal_bikes": 5,
           "renting": true,
           "returning": true,
           "slots": 16,
           "uid": "0561"
          },
          "free_bikes": 6,
          "id": "89a0b49a66e54a7639ad960962148a3e",
          "latitude": 49.252691,
          "longitude": -123.101289,
          "name": "20th & Main",
          "timestamp": "2023-02-13T19:22:31.438000Z"
         },
         {
          "empty_slots": 10,
          "extra": {
           "ebikes": 0,
           "has_ebikes": true,
           "last_updated": 1676315619,
           "normal_bikes": 8,
           "renting": true,
           "returning": true,
           "slots": 18,
           "uid": "0354"
          },
          "free_bikes": 8,
          "id": "44fc3d58831a9f2b919c7a3a1838b74a",
          "latitude": 49.272172,
          "longitude": -123.097978,
          "name": "Station & Terminal",
          "timestamp": "2023-02-13T19:22:31.517000Z"
         },
         {
          "empty_slots": 14,
          "extra": {
           "ebikes": 1,
           "has_ebikes": true,
           "last_updated": 1676316134,
           "normal_bikes": 19,
           "renting": true,
           "returning": true,
           "slots": 34,
           "uid": "0400"
          },
          "free_bikes": 20,
          "id": "d40db8c27c5bd409d57cfa846f73c378",
          "latitude": 49.271082,
          "longitude": -123.191458,
          "name": "Jericho Beach",
          "timestamp": "2023-02-13T19:22:31.659000Z"
         },
         {
          "empty_slots": 19,
          "extra": {
           "ebikes": 0,
           "has_ebikes": true,
           "last_updated": 1676315982,
           "normal_bikes": 5,
           "renting": true,
           "returning": true,
           "slots": 24,
           "uid": "0089"
          },
          "free_bikes": 5,
          "id": "4990fe5772f3b73eebeec125b41e478e",
          "latitude": 49.27808,
          "longitude": -123.130557,
          "name": "Burrard & Drake",
          "timestamp": "2023-02-13T19:22:31.671000Z"
         },
         {
          "empty_slots": 9,
          "extra": {
           "ebikes": 0,
           "has_ebikes": true,
           "last_updated": 1676315885,
           "normal_bikes": 13,
           "renting": true,
           "returning": true,
           "slots": 24,
           "uid": "0173"
          },
          "free_bikes": 13,
          "id": "bf96df77771ef0ed710d8e0e67917f45",
          "latitude": 49.269969,
          "longitude": -123.109623,
          "name": "Columbia & 1st",
          "timestamp": "2023-02-13T19:22:31.565000Z"
         },
         {
          "empty_slots": 3,
          "extra": {
           "ebikes": 3,
           "has_ebikes": true,
           "last_updated": 1676316103,
           "normal_bikes": 24,
           "renting": true,
           "returning": true,
           "slots": 30,
           "uid": "0028"
          },
          "free_bikes": 27,
          "id": "e75e83499d3fa2e174dc2a8ffd238119",
          "latitude": 49.287528,
          "longitude": -123.142139,
          "name": "Davie & Beach",
          "timestamp": "2023-02-13T19:22:31.693000Z"
         },
         {
          "empty_slots": 20,
          "extra": {
           "ebikes": 0,
           "has_ebikes": true,
           "last_updated": 1676315865,
           "normal_bikes": 6,
           "renting": true,
           "returning": true,
           "slots": 26,
           "uid": "0031"
          },
          "free_bikes": 6,
          "id": "0438114d2e6b96118de69bc9775bb21e",
          "latitude": 49.28803,
          "longitude": -123.142135,
          "name": "Morton & Denman",
          "timestamp": "2023-02-13T19:22:31.388000Z"
         },
         {
          "empty_slots": 11,
          "extra": {
           "ebikes": 2,
           "has_ebikes": true,
           "last_updated": 1676315711,
           "normal_bikes": 1,
           "renting": true,
           "returning": true,
           "slots": 14,
           "uid": "0311"
          },
          "free_bikes": 3,
          "id": "07b13214cb69f2ec007d888450f3d6bc",
          "latitude": 49.259579,
          "longitude": -123.114769,
          "name": "13th & Cambie",
          "timestamp": "2023-02-13T19:22:31.710000Z"
         },
         {
          "empty_slots": 2,
          "extra": {
           "ebikes": 0,
           "has_ebikes": true,
           "last_updated": 1676315944,
           "normal_bikes": 15,
           "renting": true,
           "returning": true,
           "slots": 18,
           "uid": "0313"
          },
          "free_bikes": 15,
          "id": "f5e8fa1fc4252bda2f93dd27ed2d603f",
          "latitude": 49.2890705989865,
          "longitude": -123.138407369468,
          "name": "Nelson & Denman",
          "timestamp": "2023-02-13T19:22:31.717000Z"
         },
         {
          "empty_slots": 5,
          "extra": {
           "ebikes": 0,
           "has_ebikes": true,
           "last_updated": 1676316045,
           "normal_bikes": 9,
           "renting": true,
           "returning": true,
           "slots": 14,
           "uid": "0190"
          },
          "free_bikes": 9,
          "id": "c2a9c5d0e4578b928554c86f3d2c1162",
          "latitude": 49.287782,
          "longitude": -123.12395,
          "name": "Melville & Bute",
          "timestamp": "2023-02-13T19:22:31.537000Z"
         },
         {
          "empty_slots": 0,
          "extra": {
           "ebikes": 3,
           "has_ebikes": true,
           "last_updated": 1676315240,
           "normal_bikes": 16,
           "renting": true,
           "returning": true,
           "slots": 19,
           "uid": "0308"
          },
          "free_bikes": 19,
          "id": "5f45325fdd6334a4c0d3b62853b19fa6",
          "latitude": 49.28512,
          "longitude": -123.11242,
          "name": "Seymour & Cordova",
          "timestamp": "2023-02-13T19:22:31.521000Z"
         },
         {
          "empty_slots": 13,
          "extra": {
           "ebikes": 3,
           "has_ebikes": true,
           "last_updated": 1676316136,
           "normal_bikes": 2,
           "renting": true,
           "returning": true,
           "slots": 18,
           "uid": "0480"
          },
          "free_bikes": 5,
          "id": "085a0e120a08a80a58c0ae0ff9da565a",
          "latitude": 49.247854,
          "longitude": -123.153422,
          "name": "Arbutus & Nanton",
          "timestamp": "2023-02-13T19:22:31.601000Z"
         },
         {
          "empty_slots": 7,
          "extra": {
           "ebikes": 6,
           "has_ebikes": true,
           "last_updated": 1676315759,
           "normal_bikes": 3,
           "renting": true,
           "returning": true,
           "slots": 18,
           "uid": "0171"
          },
          "free_bikes": 9,
          "id": "8d5f47f01d7ad668419dfe9b7fe69c9a",
          "latitude": 49.265939,
          "longitude": -123.1129,
          "name": "Yukon & 6th",
          "timestamp": "2023-02-13T19:22:31.563000Z"
         },
         {
          "empty_slots": 7,
          "extra": {
           "ebikes": 2,
           "has_ebikes": true,
           "last_updated": 1676316109,
           "normal_bikes": 2,
           "renting": true,
           "returning": true,
           "slots": 16,
           "uid": "0179"
          },
          "free_bikes": 4,
          "id": "bede4b24dae115d4cd43d2e6cc9812cb",
          "latitude": 49.261122,
          "longitude": -123.097571,
          "name": "11th & Kingsway",
          "timestamp": "2023-02-13T19:22:31.557000Z"
         },
         {
          "empty_slots": 11,
          "extra": {
           "ebikes": 0,
           "has_ebikes": true,
           "last_updated": 1676315943,
           "normal_bikes": 6,
           "renting": true,
           "returning": true,
           "slots": 18,
           "uid": "0144"
          },
          "free_bikes": 6,
          "id": "680b1ddfd50c4397b365c9c00f09b0d1",
          "latitude": 49.267725,
          "longitude": -123.11311,
          "name": "Wylie & 2nd",
          "timestamp": "2023-02-13T19:22:31.401000Z"
         },
         {
          "empty_slots": 11,
          "extra": {
           "ebikes": 0,
           "has_ebikes": true,
           "last_updated": 1676316082,
           "normal_bikes": 9,
           "renting": true,
           "returning": true,
           "slots": 20,
           "uid": "0526"
          },
          "free_bikes": 9,
          "id": "b26f83e904f3a778466ebcd763b7316a",
          "latitude": 49.245135,
          "longitude": -123.116098,
          "name": "29th & Cambie",
          "timestamp": "2023-02-13T19:22:31.460000Z"
         },
         {
          "empty_slots": 9,
          "extra": {
           "ebikes": 0,
           "has_ebikes": true,
           "last_updated": 1676315752,
           "normal_bikes": 7,
           "renting": true,
           "returning": true,
           "slots": 16,
           "uid": "0314"
          },
          "free_bikes": 7,
          "id": "6620c54bd6b3a79800b2b67e999b24d0",
          "latitude": 49.274232,
          "longitude": -123.129998,
          "name": "Rolston & Granville",
          "timestamp": "2023-02-13T19:22:31.715000Z"
         },
         {
          "empty_slots": 11,
          "extra": {
           "ebikes": 2,
           "has_ebikes": true,
           "last_updated": 1676315891,
           "normal_bikes": 7,
           "renting": true,
           "returning": true,
           "slots": 20,
           "uid": "0482"
          },
          "free_bikes": 9,
          "id": "7f091b50fbbd892bf9fb869a64c47120",
          "latitude": 49.238105,
          "longitude": -123.154966,
          "name": "East Blvd & 37th",
          "timestamp": "2023-02-13T19:22:31.618000Z"
         },
         {
          "empty_slots": 10,
          "extra": {
           "ebikes": 6,
           "has_ebikes": true,
           "last_updated": 1676315782,
           "normal_bikes": 4,
           "renting": true,
           "returning": true,
           "slots": 20,
           "uid": "0505"
          },
          "free_bikes": 10,
          "id": "57d39a680c9407cda0fb4de6d9c55138",
          "latitude": 49.246243,
          "longitude": -123.124373,
          "name": "28th & Willow",
          "timestamp": "2023-02-13T19:22:31.406000Z"
         },
         {
          "empty_slots": 5,
          "extra": {
           "ebikes": 2,
           "has_ebikes": true,
           "last_updated": 1676315764,
           "normal_bikes": 5,
           "renting": true,
           "returning": true,
           "slots": 12,
           "uid": "0554"
          },
          "free_bikes": 7,
          "id": "97388f4e4ea102a30345524bda465f4e",
          "latitude": 49.249722,
          "longitude": -123.104991,
          "name": "Ontario & 23rd",
          "timestamp": "2023-02-13T19:22:31.719000Z"
         },
         {
          "empty_slots": 13,
          "extra": {
           "ebikes": 0,
           "has_ebikes": true,
           "last_updated": 1676315864,
           "normal_bikes": 9,
           "renting": true,
           "returning": true,
           "slots": 22,
           "uid": "0557"
          },
          "free_bikes": 9,
          "id": "066ecc3584913fa035ec1417323beb80",
          "latitude": 49.243375,
          "longitude": -123.104978,
          "name": "30th & Ontario",
          "timestamp": "2023-02-13T19:22:31.658000Z"
         },
         {
          "empty_slots": 13,
          "extra": {
           "ebikes": 5,
           "has_ebikes": true,
           "last_updated": 1676316055,
           "normal_bikes": 2,
           "renting": true,
           "returning": true,
           "slots": 20,
           "uid": "0642"
          },
          "free_bikes": 7,
          "id": "b530d04d393d71cffb8b8b07f4a82380",
          "latitude": 49.282087,
          "longitude": -123.056909,
          "name": "Franklin & Nanaimo",
          "timestamp": "2023-02-13T19:22:31.609000Z"
         },
         {
          "empty_slots": 8,
          "extra": {
           "ebikes": 0,
           "has_ebikes": true,
           "last_updated": 1676315909,
           "normal_bikes": 9,
           "renting": true,
           "returning": true,
           "slots": 16,
           "uid": "0631"
          },
          "free_bikes": 9,
          "id": "06bdc4d55f34b2a491305534fd5defda",
          "latitude": 49.283968,
          "longitude": -123.061615,
          "name": "Lakewood & Triumph",
          "timestamp": "2023-02-13T19:22:31.589000Z"
         },
         {
          "empty_slots": 8,
          "extra": {
           "ebikes": 1,
           "has_ebikes": true,
           "last_updated": 1676316068,
           "normal_bikes": 9,
           "renting": true,
           "returning": true,
           "slots": 18,
           "uid": "0611"
          },
          "free_bikes": 10,
          "id": "8e44a17d2fa446ca220b90c7063b42ca",
          "latitude": 49.287464,
          "longitude": -123.060771,
          "name": "Wall & Eton",
          "timestamp": "2023-02-13T19:22:31.437000Z"
         },
         {
          "empty_slots": 9,
          "extra": {
           "ebikes": 3,
           "has_ebikes": true,
           "last_updated": 1676316108,
           "normal_bikes": 6,
           "renting": true,
           "returning": true,
           "slots": 18,
           "uid": "0621"
          },
          "free_bikes": 9,
          "id": "7c17f51469f1a7145455f65ef6afbd87",
          "latitude": 49.285575,
          "longitude": -123.061575,
          "name": "Lakewood & Oxford",
          "timestamp": "2023-02-13T19:22:31.562000Z"
         },
         {
          "empty_slots": 8,
          "extra": {
           "ebikes": 3,
           "has_ebikes": true,
           "last_updated": 1676316079,
           "normal_bikes": 3,
           "renting": true,
           "returning": true,
           "slots": 14,
           "uid": "0532"
          },
          "free_bikes": 6,
          "id": "e1432b72df561a1df34290679ec9c773",
          "latitude": 49.251358,
          "longitude": -123.115637,
          "name": "22nd & Cambie",
          "timestamp": "2023-02-13T19:22:31.434000Z"
         },
         {
          "empty_slots": 9,
          "extra": {
           "ebikes": 5,
           "has_ebikes": true,
           "last_updated": 1676315738,
           "normal_bikes": 3,
           "renting": true,
           "returning": true,
           "slots": 18,
           "uid": "0524"
          },
          "free_bikes": 8,
          "id": "549f00f6039e8bb702a00dcca08a8ed0",
          "latitude": 49.249184,
          "longitude": -123.116141,
          "name": "King Edward & Cambie",
          "timestamp": "2023-02-13T19:22:31.461000Z"
         },
         {
          "empty_slots": 11,
          "extra": {
           "ebikes": 2,
           "has_ebikes": true,
           "last_updated": 1676315757,
           "normal_bikes": 9,
           "renting": true,
           "returning": true,
           "slots": 22,
           "uid": "0516"
          },
          "free_bikes": 11,
          "id": "d8c4fe5e09b6f010fbaa85cc7302d66b",
          "latitude": 49.245535,
          "longitude": -123.120496,
          "name": "Heather & 29th",
          "timestamp": "2023-02-13T19:22:31.519000Z"
         },
         {
          "empty_slots": 10,
          "extra": {
           "ebikes": 0,
           "has_ebikes": true,
           "last_updated": 1676316054,
           "normal_bikes": 16,
           "renting": true,
           "returning": true,
           "slots": 26,
           "uid": "0041"
          },
          "free_bikes": 16,
          "id": "0c42f45e4a14957ad4a6d521d0ba8bc3",
          "latitude": 49.289255,
          "longitude": -123.132677,
          "name": "Cardero & Robson",
          "timestamp": "2023-02-13T19:22:31.428000Z"
         },
         {
          "empty_slots": 17,
          "extra": {
           "ebikes": 0,
           "has_ebikes": true,
           "last_updated": 1676315899,
           "normal_bikes": 0,
           "renting": true,
           "returning": true,
           "slots": 20,
           "uid": "0352"
          },
          "free_bikes": 0,
          "id": "62a202eb98c0a4b09ba6746f5ee94ab3",
          "latitude": 49.252656,
          "longitude": -123.067965,
          "name": "Commercial & 20th",
          "timestamp": "2023-02-13T19:22:31.516000Z"
         },
         {
          "empty_slots": 21,
          "extra": {
           "ebikes": 0,
           "has_ebikes": true,
           "last_updated": 1676316133,
           "normal_bikes": 2,
           "renting": true,
           "returning": true,
           "slots": 24,
           "uid": "0196"
          },
          "free_bikes": 2,
          "id": "a6c6df138cbc97b9f81e7ffbbebdde6f",
          "latitude": 49.277527,
          "longitude": -123.129464,
          "name": "Hornby & Drake",
          "timestamp": "2023-02-13T19:22:31.540000Z"
         },
         {
          "empty_slots": 11,
          "extra": {
           "ebikes": 2,
           "has_ebikes": true,
           "last_updated": 1676316035,
           "normal_bikes": 5,
           "renting": true,
           "returning": true,
           "slots": 18,
           "uid": "0210"
          },
          "free_bikes": 7,
          "id": "04f64fde5ba1ebde8ad78c74914adb34",
          "latitude": 49.259469,
          "longitude": -123.145718,
          "name": "Burrard & 14th",
          "timestamp": "2023-02-13T19:22:31.527000Z"
         }
        ]
       }
      },
      "text/plain": [
       "<IPython.core.display.JSON object>"
      ]
     },
     "execution_count": 7,
     "metadata": {
      "application/json": {
       "expanded": false,
       "root": "root"
      }
     },
     "output_type": "execute_result"
    }
   ],
   "source": [
    "## Look through the info and identify where we can get the information we want\n",
    "JSON(n_json)"
   ]
  },
  {
   "cell_type": "code",
   "execution_count": 8,
   "metadata": {},
   "outputs": [],
   "source": [
    "## Isolate the data we are interested in\n",
    "station_info = n_json['network']['stations']"
   ]
  },
  {
   "cell_type": "markdown",
   "metadata": {},
   "source": [
    "Put your parsed results into a DataFrame."
   ]
  },
  {
   "cell_type": "code",
   "execution_count": 9,
   "metadata": {},
   "outputs": [
    {
     "data": {
      "text/html": [
       "<div>\n",
       "<style scoped>\n",
       "    .dataframe tbody tr th:only-of-type {\n",
       "        vertical-align: middle;\n",
       "    }\n",
       "\n",
       "    .dataframe tbody tr th {\n",
       "        vertical-align: top;\n",
       "    }\n",
       "\n",
       "    .dataframe thead th {\n",
       "        text-align: right;\n",
       "    }\n",
       "</style>\n",
       "<table border=\"1\" class=\"dataframe\">\n",
       "  <thead>\n",
       "    <tr style=\"text-align: right;\">\n",
       "      <th></th>\n",
       "      <th>empty_slots</th>\n",
       "      <th>extra</th>\n",
       "      <th>free_bikes</th>\n",
       "      <th>id</th>\n",
       "      <th>latitude</th>\n",
       "      <th>longitude</th>\n",
       "      <th>name</th>\n",
       "      <th>timestamp</th>\n",
       "    </tr>\n",
       "  </thead>\n",
       "  <tbody>\n",
       "    <tr>\n",
       "      <th>0</th>\n",
       "      <td>14</td>\n",
       "      <td>{'ebikes': 4, 'has_ebikes': True, 'last_update...</td>\n",
       "      <td>21</td>\n",
       "      <td>7a19c49f486d7c0c02b3685d7b240448</td>\n",
       "      <td>49.262487</td>\n",
       "      <td>-123.114397</td>\n",
       "      <td>10th &amp; Cambie</td>\n",
       "      <td>2023-02-13T19:22:31.595000Z</td>\n",
       "    </tr>\n",
       "    <tr>\n",
       "      <th>1</th>\n",
       "      <td>7</td>\n",
       "      <td>{'ebikes': 1, 'has_ebikes': True, 'last_update...</td>\n",
       "      <td>9</td>\n",
       "      <td>32603a87cfca71d0f7dfa3513bad69d5</td>\n",
       "      <td>49.274566</td>\n",
       "      <td>-123.121817</td>\n",
       "      <td>Yaletown-Roundhouse Station</td>\n",
       "      <td>2023-02-13T19:22:31.591000Z</td>\n",
       "    </tr>\n",
       "    <tr>\n",
       "      <th>2</th>\n",
       "      <td>13</td>\n",
       "      <td>{'ebikes': 0, 'has_ebikes': True, 'last_update...</td>\n",
       "      <td>13</td>\n",
       "      <td>6d42fa40360f9a6b2bf641c7b8bb2862</td>\n",
       "      <td>49.279764</td>\n",
       "      <td>-123.110154</td>\n",
       "      <td>Dunsmuir &amp; Beatty</td>\n",
       "      <td>2023-02-13T19:22:31.592000Z</td>\n",
       "    </tr>\n",
       "    <tr>\n",
       "      <th>3</th>\n",
       "      <td>14</td>\n",
       "      <td>{'ebikes': 0, 'has_ebikes': True, 'last_update...</td>\n",
       "      <td>2</td>\n",
       "      <td>66f873d641d448bd1572ab086665a458</td>\n",
       "      <td>49.260599</td>\n",
       "      <td>-123.113504</td>\n",
       "      <td>12th &amp; Yukon (City Hall)</td>\n",
       "      <td>2023-02-13T19:22:31.593000Z</td>\n",
       "    </tr>\n",
       "    <tr>\n",
       "      <th>4</th>\n",
       "      <td>7</td>\n",
       "      <td>{'ebikes': 2, 'has_ebikes': True, 'last_update...</td>\n",
       "      <td>9</td>\n",
       "      <td>485d4d24c803cfde829ab89699fed833</td>\n",
       "      <td>49.264215</td>\n",
       "      <td>-123.117772</td>\n",
       "      <td>8th &amp; Ash</td>\n",
       "      <td>2023-02-13T19:22:31.604000Z</td>\n",
       "    </tr>\n",
       "    <tr>\n",
       "      <th>...</th>\n",
       "      <td>...</td>\n",
       "      <td>...</td>\n",
       "      <td>...</td>\n",
       "      <td>...</td>\n",
       "      <td>...</td>\n",
       "      <td>...</td>\n",
       "      <td>...</td>\n",
       "      <td>...</td>\n",
       "    </tr>\n",
       "    <tr>\n",
       "      <th>236</th>\n",
       "      <td>11</td>\n",
       "      <td>{'ebikes': 2, 'has_ebikes': True, 'last_update...</td>\n",
       "      <td>11</td>\n",
       "      <td>d8c4fe5e09b6f010fbaa85cc7302d66b</td>\n",
       "      <td>49.245535</td>\n",
       "      <td>-123.120496</td>\n",
       "      <td>Heather &amp; 29th</td>\n",
       "      <td>2023-02-13T19:22:31.519000Z</td>\n",
       "    </tr>\n",
       "    <tr>\n",
       "      <th>237</th>\n",
       "      <td>10</td>\n",
       "      <td>{'ebikes': 0, 'has_ebikes': True, 'last_update...</td>\n",
       "      <td>16</td>\n",
       "      <td>0c42f45e4a14957ad4a6d521d0ba8bc3</td>\n",
       "      <td>49.289255</td>\n",
       "      <td>-123.132677</td>\n",
       "      <td>Cardero &amp; Robson</td>\n",
       "      <td>2023-02-13T19:22:31.428000Z</td>\n",
       "    </tr>\n",
       "    <tr>\n",
       "      <th>238</th>\n",
       "      <td>17</td>\n",
       "      <td>{'ebikes': 0, 'has_ebikes': True, 'last_update...</td>\n",
       "      <td>0</td>\n",
       "      <td>62a202eb98c0a4b09ba6746f5ee94ab3</td>\n",
       "      <td>49.252656</td>\n",
       "      <td>-123.067965</td>\n",
       "      <td>Commercial &amp; 20th</td>\n",
       "      <td>2023-02-13T19:22:31.516000Z</td>\n",
       "    </tr>\n",
       "    <tr>\n",
       "      <th>239</th>\n",
       "      <td>21</td>\n",
       "      <td>{'ebikes': 0, 'has_ebikes': True, 'last_update...</td>\n",
       "      <td>2</td>\n",
       "      <td>a6c6df138cbc97b9f81e7ffbbebdde6f</td>\n",
       "      <td>49.277527</td>\n",
       "      <td>-123.129464</td>\n",
       "      <td>Hornby &amp; Drake</td>\n",
       "      <td>2023-02-13T19:22:31.540000Z</td>\n",
       "    </tr>\n",
       "    <tr>\n",
       "      <th>240</th>\n",
       "      <td>11</td>\n",
       "      <td>{'ebikes': 2, 'has_ebikes': True, 'last_update...</td>\n",
       "      <td>7</td>\n",
       "      <td>04f64fde5ba1ebde8ad78c74914adb34</td>\n",
       "      <td>49.259469</td>\n",
       "      <td>-123.145718</td>\n",
       "      <td>Burrard &amp; 14th</td>\n",
       "      <td>2023-02-13T19:22:31.527000Z</td>\n",
       "    </tr>\n",
       "  </tbody>\n",
       "</table>\n",
       "<p>241 rows × 8 columns</p>\n",
       "</div>"
      ],
      "text/plain": [
       "     empty_slots                                              extra  \\\n",
       "0             14  {'ebikes': 4, 'has_ebikes': True, 'last_update...   \n",
       "1              7  {'ebikes': 1, 'has_ebikes': True, 'last_update...   \n",
       "2             13  {'ebikes': 0, 'has_ebikes': True, 'last_update...   \n",
       "3             14  {'ebikes': 0, 'has_ebikes': True, 'last_update...   \n",
       "4              7  {'ebikes': 2, 'has_ebikes': True, 'last_update...   \n",
       "..           ...                                                ...   \n",
       "236           11  {'ebikes': 2, 'has_ebikes': True, 'last_update...   \n",
       "237           10  {'ebikes': 0, 'has_ebikes': True, 'last_update...   \n",
       "238           17  {'ebikes': 0, 'has_ebikes': True, 'last_update...   \n",
       "239           21  {'ebikes': 0, 'has_ebikes': True, 'last_update...   \n",
       "240           11  {'ebikes': 2, 'has_ebikes': True, 'last_update...   \n",
       "\n",
       "     free_bikes                                id   latitude   longitude  \\\n",
       "0            21  7a19c49f486d7c0c02b3685d7b240448  49.262487 -123.114397   \n",
       "1             9  32603a87cfca71d0f7dfa3513bad69d5  49.274566 -123.121817   \n",
       "2            13  6d42fa40360f9a6b2bf641c7b8bb2862  49.279764 -123.110154   \n",
       "3             2  66f873d641d448bd1572ab086665a458  49.260599 -123.113504   \n",
       "4             9  485d4d24c803cfde829ab89699fed833  49.264215 -123.117772   \n",
       "..          ...                               ...        ...         ...   \n",
       "236          11  d8c4fe5e09b6f010fbaa85cc7302d66b  49.245535 -123.120496   \n",
       "237          16  0c42f45e4a14957ad4a6d521d0ba8bc3  49.289255 -123.132677   \n",
       "238           0  62a202eb98c0a4b09ba6746f5ee94ab3  49.252656 -123.067965   \n",
       "239           2  a6c6df138cbc97b9f81e7ffbbebdde6f  49.277527 -123.129464   \n",
       "240           7  04f64fde5ba1ebde8ad78c74914adb34  49.259469 -123.145718   \n",
       "\n",
       "                            name                    timestamp  \n",
       "0                  10th & Cambie  2023-02-13T19:22:31.595000Z  \n",
       "1    Yaletown-Roundhouse Station  2023-02-13T19:22:31.591000Z  \n",
       "2              Dunsmuir & Beatty  2023-02-13T19:22:31.592000Z  \n",
       "3       12th & Yukon (City Hall)  2023-02-13T19:22:31.593000Z  \n",
       "4                      8th & Ash  2023-02-13T19:22:31.604000Z  \n",
       "..                           ...                          ...  \n",
       "236               Heather & 29th  2023-02-13T19:22:31.519000Z  \n",
       "237             Cardero & Robson  2023-02-13T19:22:31.428000Z  \n",
       "238            Commercial & 20th  2023-02-13T19:22:31.516000Z  \n",
       "239               Hornby & Drake  2023-02-13T19:22:31.540000Z  \n",
       "240               Burrard & 14th  2023-02-13T19:22:31.527000Z  \n",
       "\n",
       "[241 rows x 8 columns]"
      ]
     },
     "execution_count": 9,
     "metadata": {},
     "output_type": "execute_result"
    }
   ],
   "source": [
    "## Load into dataframe\n",
    "type(station_info)\n",
    "stations = pd.DataFrame(station_info)\n",
    "stations"
   ]
  },
  {
   "cell_type": "code",
   "execution_count": 13,
   "metadata": {},
   "outputs": [
    {
     "data": {
      "text/html": [
       "<div>\n",
       "<style scoped>\n",
       "    .dataframe tbody tr th:only-of-type {\n",
       "        vertical-align: middle;\n",
       "    }\n",
       "\n",
       "    .dataframe tbody tr th {\n",
       "        vertical-align: top;\n",
       "    }\n",
       "\n",
       "    .dataframe thead th {\n",
       "        text-align: right;\n",
       "    }\n",
       "</style>\n",
       "<table border=\"1\" class=\"dataframe\">\n",
       "  <thead>\n",
       "    <tr style=\"text-align: right;\">\n",
       "      <th></th>\n",
       "      <th>id</th>\n",
       "      <th>num_bikes</th>\n",
       "      <th>lat</th>\n",
       "      <th>long</th>\n",
       "    </tr>\n",
       "  </thead>\n",
       "  <tbody>\n",
       "    <tr>\n",
       "      <th>0</th>\n",
       "      <td>7a19c49f486d7c0c02b3685d7b240448</td>\n",
       "      <td>21</td>\n",
       "      <td>49.262487</td>\n",
       "      <td>-123.114397</td>\n",
       "    </tr>\n",
       "    <tr>\n",
       "      <th>1</th>\n",
       "      <td>32603a87cfca71d0f7dfa3513bad69d5</td>\n",
       "      <td>9</td>\n",
       "      <td>49.274566</td>\n",
       "      <td>-123.121817</td>\n",
       "    </tr>\n",
       "    <tr>\n",
       "      <th>2</th>\n",
       "      <td>6d42fa40360f9a6b2bf641c7b8bb2862</td>\n",
       "      <td>13</td>\n",
       "      <td>49.279764</td>\n",
       "      <td>-123.110154</td>\n",
       "    </tr>\n",
       "    <tr>\n",
       "      <th>3</th>\n",
       "      <td>66f873d641d448bd1572ab086665a458</td>\n",
       "      <td>2</td>\n",
       "      <td>49.260599</td>\n",
       "      <td>-123.113504</td>\n",
       "    </tr>\n",
       "    <tr>\n",
       "      <th>4</th>\n",
       "      <td>485d4d24c803cfde829ab89699fed833</td>\n",
       "      <td>9</td>\n",
       "      <td>49.264215</td>\n",
       "      <td>-123.117772</td>\n",
       "    </tr>\n",
       "  </tbody>\n",
       "</table>\n",
       "</div>"
      ],
      "text/plain": [
       "                                 id  num_bikes        lat        long\n",
       "0  7a19c49f486d7c0c02b3685d7b240448         21  49.262487 -123.114397\n",
       "1  32603a87cfca71d0f7dfa3513bad69d5          9  49.274566 -123.121817\n",
       "2  6d42fa40360f9a6b2bf641c7b8bb2862         13  49.279764 -123.110154\n",
       "3  66f873d641d448bd1572ab086665a458          2  49.260599 -123.113504\n",
       "4  485d4d24c803cfde829ab89699fed833          9  49.264215 -123.117772"
      ]
     },
     "execution_count": 13,
     "metadata": {},
     "output_type": "execute_result"
    }
   ],
   "source": [
    "## Keep only the information we are interested in\n",
    "stations_clean = stations[['id','free_bikes','latitude','longitude']].rename(columns = {'free_bikes':'num_bikes','latitude':'lat', 'longitude':'long'})\n",
    "stations_clean.head()"
   ]
  },
  {
   "cell_type": "code",
   "execution_count": 17,
   "metadata": {},
   "outputs": [
    {
     "data": {
      "text/html": [
       "<div>\n",
       "<style scoped>\n",
       "    .dataframe tbody tr th:only-of-type {\n",
       "        vertical-align: middle;\n",
       "    }\n",
       "\n",
       "    .dataframe tbody tr th {\n",
       "        vertical-align: top;\n",
       "    }\n",
       "\n",
       "    .dataframe thead th {\n",
       "        text-align: right;\n",
       "    }\n",
       "</style>\n",
       "<table border=\"1\" class=\"dataframe\">\n",
       "  <thead>\n",
       "    <tr style=\"text-align: right;\">\n",
       "      <th></th>\n",
       "      <th>id</th>\n",
       "      <th>num_bikes</th>\n",
       "      <th>lat</th>\n",
       "      <th>long</th>\n",
       "      <th>ll</th>\n",
       "    </tr>\n",
       "  </thead>\n",
       "  <tbody>\n",
       "    <tr>\n",
       "      <th>0</th>\n",
       "      <td>7a19c49f486d7c0c02b3685d7b240448</td>\n",
       "      <td>21</td>\n",
       "      <td>49.262487</td>\n",
       "      <td>-123.114397</td>\n",
       "      <td>49.262487,-123.114397</td>\n",
       "    </tr>\n",
       "    <tr>\n",
       "      <th>1</th>\n",
       "      <td>32603a87cfca71d0f7dfa3513bad69d5</td>\n",
       "      <td>9</td>\n",
       "      <td>49.274566</td>\n",
       "      <td>-123.121817</td>\n",
       "      <td>49.274566,-123.121817</td>\n",
       "    </tr>\n",
       "    <tr>\n",
       "      <th>2</th>\n",
       "      <td>6d42fa40360f9a6b2bf641c7b8bb2862</td>\n",
       "      <td>13</td>\n",
       "      <td>49.279764</td>\n",
       "      <td>-123.110154</td>\n",
       "      <td>49.279764,-123.110154</td>\n",
       "    </tr>\n",
       "    <tr>\n",
       "      <th>3</th>\n",
       "      <td>66f873d641d448bd1572ab086665a458</td>\n",
       "      <td>2</td>\n",
       "      <td>49.260599</td>\n",
       "      <td>-123.113504</td>\n",
       "      <td>49.260599,-123.113504</td>\n",
       "    </tr>\n",
       "    <tr>\n",
       "      <th>4</th>\n",
       "      <td>485d4d24c803cfde829ab89699fed833</td>\n",
       "      <td>9</td>\n",
       "      <td>49.264215</td>\n",
       "      <td>-123.117772</td>\n",
       "      <td>49.264215,-123.117772</td>\n",
       "    </tr>\n",
       "  </tbody>\n",
       "</table>\n",
       "</div>"
      ],
      "text/plain": [
       "                                 id  num_bikes        lat        long  \\\n",
       "0  7a19c49f486d7c0c02b3685d7b240448         21  49.262487 -123.114397   \n",
       "1  32603a87cfca71d0f7dfa3513bad69d5          9  49.274566 -123.121817   \n",
       "2  6d42fa40360f9a6b2bf641c7b8bb2862         13  49.279764 -123.110154   \n",
       "3  66f873d641d448bd1572ab086665a458          2  49.260599 -123.113504   \n",
       "4  485d4d24c803cfde829ab89699fed833          9  49.264215 -123.117772   \n",
       "\n",
       "                      ll  \n",
       "0  49.262487,-123.114397  \n",
       "1  49.274566,-123.121817  \n",
       "2  49.279764,-123.110154  \n",
       "3  49.260599,-123.113504  \n",
       "4  49.264215,-123.117772  "
      ]
     },
     "execution_count": 17,
     "metadata": {},
     "output_type": "execute_result"
    }
   ],
   "source": [
    "## Add a new column 'll' containing the combined lat and long, this will probably be helpful when working with Foursquare and Yelp API \n",
    "stations_clean['ll'] = stations_clean['lat'].astype(str) + ',' + stations_clean['long'].astype(str)\n",
    "stations_clean.head()"
   ]
  },
  {
   "cell_type": "code",
   "execution_count": 16,
   "metadata": {},
   "outputs": [],
   "source": [
    "## save table as .csv\n",
    "stations_clean.to_csv('stations.csv', index=False)"
   ]
  },
  {
   "cell_type": "code",
   "execution_count": null,
   "metadata": {},
   "outputs": [],
   "source": []
  }
 ],
 "metadata": {
  "kernelspec": {
   "display_name": "Python 3 (ipykernel)",
   "language": "python",
   "name": "python3"
  },
  "language_info": {
   "codemirror_mode": {
    "name": "ipython",
    "version": 3
   },
   "file_extension": ".py",
   "mimetype": "text/x-python",
   "name": "python",
   "nbconvert_exporter": "python",
   "pygments_lexer": "ipython3",
   "version": "3.9.13"
  }
 },
 "nbformat": 4,
 "nbformat_minor": 4
}
