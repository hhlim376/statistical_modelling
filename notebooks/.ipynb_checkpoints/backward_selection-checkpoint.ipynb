{
 "cells": [
  {
   "cell_type": "code",
   "execution_count": 1,
   "id": "46b92d46-29ab-4b34-8d82-eef2a75c0e9d",
   "metadata": {},
   "outputs": [],
   "source": [
    "import pandas as pd\n",
    "import matplotlib.pyplot as plt\n",
    "import seaborn as sns\n",
    "import statsmodels.api as sm"
   ]
  },
  {
   "cell_type": "code",
   "execution_count": 2,
   "id": "29322507-8d3c-4576-8e68-e8d5fcfd2ea8",
   "metadata": {},
   "outputs": [
    {
     "data": {
      "text/html": [
       "<div>\n",
       "<style scoped>\n",
       "    .dataframe tbody tr th:only-of-type {\n",
       "        vertical-align: middle;\n",
       "    }\n",
       "\n",
       "    .dataframe tbody tr th {\n",
       "        vertical-align: top;\n",
       "    }\n",
       "\n",
       "    .dataframe thead th {\n",
       "        text-align: right;\n",
       "    }\n",
       "</style>\n",
       "<table border=\"1\" class=\"dataframe\">\n",
       "  <thead>\n",
       "    <tr style=\"text-align: right;\">\n",
       "      <th></th>\n",
       "      <th>station_id</th>\n",
       "      <th>num_bikes</th>\n",
       "      <th>b_pop</th>\n",
       "      <th>b_rating</th>\n",
       "      <th>num_bars</th>\n",
       "      <th>c_pop</th>\n",
       "      <th>c_rating</th>\n",
       "      <th>num_cafes</th>\n",
       "    </tr>\n",
       "  </thead>\n",
       "  <tbody>\n",
       "    <tr>\n",
       "      <th>0</th>\n",
       "      <td>7a19c49f486d7c0c02b3685d7b240448</td>\n",
       "      <td>21</td>\n",
       "      <td>0.578193</td>\n",
       "      <td>7.350000</td>\n",
       "      <td>5.0</td>\n",
       "      <td>0.810487</td>\n",
       "      <td>7.560000</td>\n",
       "      <td>25.0</td>\n",
       "    </tr>\n",
       "    <tr>\n",
       "      <th>1</th>\n",
       "      <td>32603a87cfca71d0f7dfa3513bad69d5</td>\n",
       "      <td>9</td>\n",
       "      <td>0.790734</td>\n",
       "      <td>6.914286</td>\n",
       "      <td>50.0</td>\n",
       "      <td>0.793092</td>\n",
       "      <td>7.081818</td>\n",
       "      <td>24.0</td>\n",
       "    </tr>\n",
       "    <tr>\n",
       "      <th>2</th>\n",
       "      <td>6d42fa40360f9a6b2bf641c7b8bb2862</td>\n",
       "      <td>13</td>\n",
       "      <td>0.790377</td>\n",
       "      <td>6.705882</td>\n",
       "      <td>39.0</td>\n",
       "      <td>0.891790</td>\n",
       "      <td>7.244828</td>\n",
       "      <td>50.0</td>\n",
       "    </tr>\n",
       "    <tr>\n",
       "      <th>3</th>\n",
       "      <td>66f873d641d448bd1572ab086665a458</td>\n",
       "      <td>2</td>\n",
       "      <td>0.578193</td>\n",
       "      <td>7.350000</td>\n",
       "      <td>4.0</td>\n",
       "      <td>0.807795</td>\n",
       "      <td>7.712500</td>\n",
       "      <td>18.0</td>\n",
       "    </tr>\n",
       "    <tr>\n",
       "      <th>4</th>\n",
       "      <td>485d4d24c803cfde829ab89699fed833</td>\n",
       "      <td>9</td>\n",
       "      <td>0.744556</td>\n",
       "      <td>7.366667</td>\n",
       "      <td>7.0</td>\n",
       "      <td>0.788617</td>\n",
       "      <td>6.836364</td>\n",
       "      <td>26.0</td>\n",
       "    </tr>\n",
       "  </tbody>\n",
       "</table>\n",
       "</div>"
      ],
      "text/plain": [
       "                         station_id  num_bikes     b_pop  b_rating  num_bars  \\\n",
       "0  7a19c49f486d7c0c02b3685d7b240448         21  0.578193  7.350000       5.0   \n",
       "1  32603a87cfca71d0f7dfa3513bad69d5          9  0.790734  6.914286      50.0   \n",
       "2  6d42fa40360f9a6b2bf641c7b8bb2862         13  0.790377  6.705882      39.0   \n",
       "3  66f873d641d448bd1572ab086665a458          2  0.578193  7.350000       4.0   \n",
       "4  485d4d24c803cfde829ab89699fed833          9  0.744556  7.366667       7.0   \n",
       "\n",
       "      c_pop  c_rating  num_cafes  \n",
       "0  0.810487  7.560000       25.0  \n",
       "1  0.793092  7.081818       24.0  \n",
       "2  0.891790  7.244828       50.0  \n",
       "3  0.807795  7.712500       18.0  \n",
       "4  0.788617  6.836364       26.0  "
      ]
     },
     "execution_count": 2,
     "metadata": {},
     "output_type": "execute_result"
    }
   ],
   "source": [
    "df=pd.read_csv('df_final.csv')\n",
    "df.head()"
   ]
  },
  {
   "cell_type": "code",
   "execution_count": 3,
   "id": "516e8fc7-8ae9-4fab-ac1e-d88a73f62686",
   "metadata": {},
   "outputs": [],
   "source": [
    "y = df['num_bikes']\n",
    "X = df.drop(columns = ['station_id', 'num_bikes'])\n",
    "## Add constant to our X so our model will have an intercept\n",
    "X = sm.add_constant(X) "
   ]
  },
  {
   "cell_type": "code",
   "execution_count": 4,
   "id": "f30eac1e-9f92-4b8c-b049-afb55471738b",
   "metadata": {},
   "outputs": [
    {
     "name": "stdout",
     "output_type": "stream",
     "text": [
      "                            OLS Regression Results                            \n",
      "==============================================================================\n",
      "Dep. Variable:              num_bikes   R-squared:                       0.061\n",
      "Model:                            OLS   Adj. R-squared:                  0.031\n",
      "Method:                 Least Squares   F-statistic:                     2.056\n",
      "Date:                Sun, 26 Mar 2023   Prob (F-statistic):             0.0603\n",
      "Time:                        10:10:49   Log-Likelihood:                -609.59\n",
      "No. Observations:                 198   AIC:                             1233.\n",
      "Df Residuals:                     191   BIC:                             1256.\n",
      "Df Model:                           6                                         \n",
      "Covariance Type:            nonrobust                                         \n",
      "==============================================================================\n",
      "                 coef    std err          t      P>|t|      [0.025      0.975]\n",
      "------------------------------------------------------------------------------\n",
      "const          0.5372     10.495      0.051      0.959     -20.165      21.239\n",
      "b_pop          2.0680      4.102      0.504      0.615      -6.023      10.159\n",
      "b_rating       0.5866      0.753      0.779      0.437      -0.899       2.073\n",
      "num_bars       0.0049      0.050      0.098      0.922      -0.094       0.104\n",
      "c_pop          5.2718      6.259      0.842      0.401      -7.074      17.618\n",
      "c_rating      -0.5339      0.805     -0.663      0.508      -2.122       1.055\n",
      "num_cafes      0.0820      0.051      1.608      0.109      -0.019       0.183\n",
      "==============================================================================\n",
      "Omnibus:                       28.442   Durbin-Watson:                   1.772\n",
      "Prob(Omnibus):                  0.000   Jarque-Bera (JB):               36.445\n",
      "Skew:                           0.934   Prob(JB):                     1.22e-08\n",
      "Kurtosis:                       3.962   Cond. No.                         985.\n",
      "==============================================================================\n",
      "\n",
      "Notes:\n",
      "[1] Standard Errors assume that the covariance matrix of the errors is correctly specified.\n"
     ]
    }
   ],
   "source": [
    "model = sm.OLS(y, X) \n",
    "results = model.fit() \n",
    "print(results.summary())"
   ]
  },
  {
   "cell_type": "code",
   "execution_count": 5,
   "id": "f202d297-352a-482b-9dc5-55462b1f4fbb",
   "metadata": {},
   "outputs": [],
   "source": [
    "y = df['num_bikes']\n",
    "X = df.drop(columns = ['station_id', 'num_bikes', 'num_bars'])\n",
    "## Add constant to our X so our model will have an intercept\n",
    "X = sm.add_constant(X) "
   ]
  },
  {
   "cell_type": "code",
   "execution_count": 6,
   "id": "e052e855-930c-4df2-aca6-4f25f9415aed",
   "metadata": {},
   "outputs": [
    {
     "name": "stdout",
     "output_type": "stream",
     "text": [
      "                            OLS Regression Results                            \n",
      "==============================================================================\n",
      "Dep. Variable:              num_bikes   R-squared:                       0.061\n",
      "Model:                            OLS   Adj. R-squared:                  0.036\n",
      "Method:                 Least Squares   F-statistic:                     2.478\n",
      "Date:                Sun, 26 Mar 2023   Prob (F-statistic):             0.0335\n",
      "Time:                        10:11:36   Log-Likelihood:                -609.60\n",
      "No. Observations:                 198   AIC:                             1231.\n",
      "Df Residuals:                     192   BIC:                             1251.\n",
      "Df Model:                           5                                         \n",
      "Covariance Type:            nonrobust                                         \n",
      "==============================================================================\n",
      "                 coef    std err          t      P>|t|      [0.025      0.975]\n",
      "------------------------------------------------------------------------------\n",
      "const          0.5281     10.468      0.050      0.960     -20.119      21.175\n",
      "b_pop          2.1074      4.072      0.518      0.605      -5.924      10.139\n",
      "b_rating       0.5863      0.751      0.780      0.436      -0.896       2.069\n",
      "c_pop          5.2984      6.237      0.849      0.397      -7.004      17.601\n",
      "c_rating      -0.5413      0.800     -0.677      0.499      -2.119       1.036\n",
      "num_cafes      0.0863      0.026      3.311      0.001       0.035       0.138\n",
      "==============================================================================\n",
      "Omnibus:                       28.740   Durbin-Watson:                   1.770\n",
      "Prob(Omnibus):                  0.000   Jarque-Bera (JB):               36.994\n",
      "Skew:                           0.939   Prob(JB):                     9.27e-09\n",
      "Kurtosis:                       3.978   Cond. No.                         777.\n",
      "==============================================================================\n",
      "\n",
      "Notes:\n",
      "[1] Standard Errors assume that the covariance matrix of the errors is correctly specified.\n"
     ]
    }
   ],
   "source": [
    "model = sm.OLS(y, X) \n",
    "results = model.fit() \n",
    "print(results.summary())"
   ]
  },
  {
   "cell_type": "code",
   "execution_count": 7,
   "id": "00011958-5d6f-4dc1-b0cc-0a1fd6ee522a",
   "metadata": {},
   "outputs": [],
   "source": [
    "y = df['num_bikes']\n",
    "X = df.drop(columns = ['station_id', 'num_bikes', 'num_bars','b_pop'])\n",
    "## Add constant to our X so our model will have an intercept\n",
    "X = sm.add_constant(X) "
   ]
  },
  {
   "cell_type": "code",
   "execution_count": 8,
   "id": "ed04e1e9-78de-4e3b-b807-e8d369e7e57f",
   "metadata": {},
   "outputs": [
    {
     "name": "stdout",
     "output_type": "stream",
     "text": [
      "                            OLS Regression Results                            \n",
      "==============================================================================\n",
      "Dep. Variable:              num_bikes   R-squared:                       0.059\n",
      "Model:                            OLS   Adj. R-squared:                  0.040\n",
      "Method:                 Least Squares   F-statistic:                     3.042\n",
      "Date:                Sun, 26 Mar 2023   Prob (F-statistic):             0.0184\n",
      "Time:                        10:13:13   Log-Likelihood:                -609.74\n",
      "No. Observations:                 198   AIC:                             1229.\n",
      "Df Residuals:                     193   BIC:                             1246.\n",
      "Df Model:                           4                                         \n",
      "Covariance Type:            nonrobust                                         \n",
      "==============================================================================\n",
      "                 coef    std err          t      P>|t|      [0.025      0.975]\n",
      "------------------------------------------------------------------------------\n",
      "const          3.1726      9.119      0.348      0.728     -14.812      21.158\n",
      "b_rating       0.4548      0.706      0.644      0.520      -0.937       1.847\n",
      "c_pop          5.3222      6.225      0.855      0.394      -6.956      17.600\n",
      "c_rating      -0.5455      0.798     -0.683      0.495      -2.120       1.029\n",
      "num_cafes      0.0869      0.026      3.341      0.001       0.036       0.138\n",
      "==============================================================================\n",
      "Omnibus:                       28.270   Durbin-Watson:                   1.768\n",
      "Prob(Omnibus):                  0.000   Jarque-Bera (JB):               36.106\n",
      "Skew:                           0.932   Prob(JB):                     1.44e-08\n",
      "Kurtosis:                       3.948   Cond. No.                         693.\n",
      "==============================================================================\n",
      "\n",
      "Notes:\n",
      "[1] Standard Errors assume that the covariance matrix of the errors is correctly specified.\n"
     ]
    }
   ],
   "source": [
    "model = sm.OLS(y, X) \n",
    "results = model.fit() \n",
    "print(results.summary())"
   ]
  },
  {
   "cell_type": "code",
   "execution_count": 10,
   "id": "421ffd6b-37f4-4bfd-8821-73e85c4cad6b",
   "metadata": {},
   "outputs": [],
   "source": [
    "y = df['num_bikes']\n",
    "X = df.drop(columns = ['station_id', 'num_bikes', 'num_bars','b_pop','b_rating'])\n",
    "## Add constant to our X so our model will have an intercept\n",
    "X = sm.add_constant(X) "
   ]
  },
  {
   "cell_type": "code",
   "execution_count": 11,
   "id": "aa4a5e2a-8690-4e9d-a369-8fe7d31d1f5d",
   "metadata": {},
   "outputs": [
    {
     "name": "stdout",
     "output_type": "stream",
     "text": [
      "                            OLS Regression Results                            \n",
      "==============================================================================\n",
      "Dep. Variable:              num_bikes   R-squared:                       0.057\n",
      "Model:                            OLS   Adj. R-squared:                  0.043\n",
      "Method:                 Least Squares   F-statistic:                     3.929\n",
      "Date:                Sun, 26 Mar 2023   Prob (F-statistic):            0.00943\n",
      "Time:                        10:14:04   Log-Likelihood:                -609.95\n",
      "No. Observations:                 198   AIC:                             1228.\n",
      "Df Residuals:                     194   BIC:                             1241.\n",
      "Df Model:                           3                                         \n",
      "Covariance Type:            nonrobust                                         \n",
      "==============================================================================\n",
      "                 coef    std err          t      P>|t|      [0.025      0.975]\n",
      "------------------------------------------------------------------------------\n",
      "const          6.7535      7.219      0.936      0.351      -7.484      20.991\n",
      "c_pop          4.9419      6.188      0.799      0.425      -7.262      17.146\n",
      "c_rating      -0.5351      0.797     -0.672      0.503      -2.107       1.036\n",
      "num_cafes      0.0841      0.026      3.284      0.001       0.034       0.135\n",
      "==============================================================================\n",
      "Omnibus:                       28.034   Durbin-Watson:                   1.776\n",
      "Prob(Omnibus):                  0.000   Jarque-Bera (JB):               35.588\n",
      "Skew:                           0.933   Prob(JB):                     1.87e-08\n",
      "Kurtosis:                       3.913   Cond. No.                         582.\n",
      "==============================================================================\n",
      "\n",
      "Notes:\n",
      "[1] Standard Errors assume that the covariance matrix of the errors is correctly specified.\n"
     ]
    }
   ],
   "source": [
    "model = sm.OLS(y, X) \n",
    "results = model.fit() \n",
    "print(results.summary())"
   ]
  },
  {
   "cell_type": "code",
   "execution_count": 12,
   "id": "113658b8-17a8-4916-8aa1-408c94d0731c",
   "metadata": {},
   "outputs": [],
   "source": [
    "y = df['num_bikes']\n",
    "X = df.drop(columns = ['station_id', 'num_bikes', 'num_bars','b_pop','b_rating','c_rating'])\n",
    "## Add constant to our X so our model will have an intercept\n",
    "X = sm.add_constant(X) "
   ]
  },
  {
   "cell_type": "code",
   "execution_count": 13,
   "id": "107a0255-75e4-441d-89da-7ad9475280ec",
   "metadata": {},
   "outputs": [
    {
     "name": "stdout",
     "output_type": "stream",
     "text": [
      "                            OLS Regression Results                            \n",
      "==============================================================================\n",
      "Dep. Variable:              num_bikes   R-squared:                       0.055\n",
      "Model:                            OLS   Adj. R-squared:                  0.045\n",
      "Method:                 Least Squares   F-statistic:                     5.684\n",
      "Date:                Sun, 26 Mar 2023   Prob (F-statistic):            0.00399\n",
      "Time:                        10:14:42   Log-Likelihood:                -610.18\n",
      "No. Observations:                 198   AIC:                             1226.\n",
      "Df Residuals:                     195   BIC:                             1236.\n",
      "Df Model:                           2                                         \n",
      "Covariance Type:            nonrobust                                         \n",
      "==============================================================================\n",
      "                 coef    std err          t      P>|t|      [0.025      0.975]\n",
      "------------------------------------------------------------------------------\n",
      "const          3.4181      5.231      0.653      0.514      -6.899      13.735\n",
      "c_pop          4.3061      6.106      0.705      0.482      -7.737      16.349\n",
      "num_cafes      0.0847      0.026      3.314      0.001       0.034       0.135\n",
      "==============================================================================\n",
      "Omnibus:                       28.603   Durbin-Watson:                   1.770\n",
      "Prob(Omnibus):                  0.000   Jarque-Bera (JB):               36.541\n",
      "Skew:                           0.945   Prob(JB):                     1.16e-08\n",
      "Kurtosis:                       3.925   Cond. No.                         532.\n",
      "==============================================================================\n",
      "\n",
      "Notes:\n",
      "[1] Standard Errors assume that the covariance matrix of the errors is correctly specified.\n"
     ]
    }
   ],
   "source": [
    "model = sm.OLS(y, X) \n",
    "results = model.fit() \n",
    "print(results.summary())"
   ]
  },
  {
   "cell_type": "code",
   "execution_count": 14,
   "id": "58fd155b-69d7-481f-ac6e-ebb7d6be789c",
   "metadata": {},
   "outputs": [],
   "source": [
    "y = df['num_bikes']\n",
    "X = df.drop(columns = ['station_id', 'num_bikes', 'num_bars','b_pop','b_rating','c_rating','c_pop'])\n",
    "## Add constant to our X so our model will have an intercept\n",
    "X = sm.add_constant(X) "
   ]
  },
  {
   "cell_type": "code",
   "execution_count": 15,
   "id": "8feb91b3-fc24-41d5-ba38-4630f067bb3d",
   "metadata": {},
   "outputs": [
    {
     "name": "stdout",
     "output_type": "stream",
     "text": [
      "                            OLS Regression Results                            \n",
      "==============================================================================\n",
      "Dep. Variable:              num_bikes   R-squared:                       0.053\n",
      "Model:                            OLS   Adj. R-squared:                  0.048\n",
      "Method:                 Least Squares   F-statistic:                     10.90\n",
      "Date:                Sun, 26 Mar 2023   Prob (F-statistic):            0.00114\n",
      "Time:                        10:15:03   Log-Likelihood:                -610.43\n",
      "No. Observations:                 198   AIC:                             1225.\n",
      "Df Residuals:                     196   BIC:                             1231.\n",
      "Df Model:                           1                                         \n",
      "Covariance Type:            nonrobust                                         \n",
      "==============================================================================\n",
      "                 coef    std err          t      P>|t|      [0.025      0.975]\n",
      "------------------------------------------------------------------------------\n",
      "const          7.0796      0.638     11.099      0.000       5.822       8.338\n",
      "num_cafes      0.0843      0.026      3.301      0.001       0.034       0.135\n",
      "==============================================================================\n",
      "Omnibus:                       28.487   Durbin-Watson:                   1.769\n",
      "Prob(Omnibus):                  0.000   Jarque-Bera (JB):               36.317\n",
      "Skew:                           0.944   Prob(JB):                     1.30e-08\n",
      "Kurtosis:                       3.916   Cond. No.                         42.3\n",
      "==============================================================================\n",
      "\n",
      "Notes:\n",
      "[1] Standard Errors assume that the covariance matrix of the errors is correctly specified.\n"
     ]
    }
   ],
   "source": [
    "model = sm.OLS(y, X) \n",
    "results = model.fit() \n",
    "print(results.summary())"
   ]
  },
  {
   "cell_type": "code",
   "execution_count": 18,
   "id": "4f9f4a68-4c34-43f8-b152-4e7d4ee3f0d3",
   "metadata": {},
   "outputs": [],
   "source": [
    "y = df['num_bikes']\n",
    "X = df.drop(columns = ['station_id', 'num_bikes','b_pop','b_rating','c_rating','c_pop'])\n",
    "## Add constant to our X so our model will have an intercept\n",
    "X = sm.add_constant(X) "
   ]
  },
  {
   "cell_type": "code",
   "execution_count": 19,
   "id": "6396b9f0-ff82-4bbb-b2de-232983859567",
   "metadata": {},
   "outputs": [
    {
     "name": "stdout",
     "output_type": "stream",
     "text": [
      "                            OLS Regression Results                            \n",
      "==============================================================================\n",
      "Dep. Variable:              num_bikes   R-squared:                       0.053\n",
      "Model:                            OLS   Adj. R-squared:                  0.043\n",
      "Method:                 Least Squares   F-statistic:                     5.445\n",
      "Date:                Sun, 26 Mar 2023   Prob (F-statistic):            0.00500\n",
      "Time:                        10:16:29   Log-Likelihood:                -610.41\n",
      "No. Observations:                 198   AIC:                             1227.\n",
      "Df Residuals:                     195   BIC:                             1237.\n",
      "Df Model:                           2                                         \n",
      "Covariance Type:            nonrobust                                         \n",
      "==============================================================================\n",
      "                 coef    std err          t      P>|t|      [0.025      0.975]\n",
      "------------------------------------------------------------------------------\n",
      "const          7.1039      0.650     10.932      0.000       5.822       8.385\n",
      "num_bars       0.0104      0.049      0.211      0.833      -0.087       0.108\n",
      "num_cafes      0.0751      0.050      1.491      0.137      -0.024       0.174\n",
      "==============================================================================\n",
      "Omnibus:                       27.891   Durbin-Watson:                   1.774\n",
      "Prob(Omnibus):                  0.000   Jarque-Bera (JB):               35.247\n",
      "Skew:                           0.935   Prob(JB):                     2.22e-08\n",
      "Kurtosis:                       3.883   Cond. No.                         55.9\n",
      "==============================================================================\n",
      "\n",
      "Notes:\n",
      "[1] Standard Errors assume that the covariance matrix of the errors is correctly specified.\n"
     ]
    }
   ],
   "source": [
    "model = sm.OLS(y, X) \n",
    "results = model.fit() \n",
    "print(results.summary())"
   ]
  },
  {
   "cell_type": "code",
   "execution_count": null,
   "id": "2edc7202-592f-4c97-a3fa-0a48b293921f",
   "metadata": {},
   "outputs": [],
   "source": []
  }
 ],
 "metadata": {
  "kernelspec": {
   "display_name": "Python 3 (ipykernel)",
   "language": "python",
   "name": "python3"
  },
  "language_info": {
   "codemirror_mode": {
    "name": "ipython",
    "version": 3
   },
   "file_extension": ".py",
   "mimetype": "text/x-python",
   "name": "python",
   "nbconvert_exporter": "python",
   "pygments_lexer": "ipython3",
   "version": "3.9.13"
  }
 },
 "nbformat": 4,
 "nbformat_minor": 5
}
