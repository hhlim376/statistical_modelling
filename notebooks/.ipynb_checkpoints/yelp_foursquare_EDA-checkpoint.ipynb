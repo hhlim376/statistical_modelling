{
 "cells": [
  {
   "cell_type": "code",
   "execution_count": 3,
   "metadata": {},
   "outputs": [],
   "source": [
    "# imports\n",
    "import requests\n",
    "import pandas as pd\n",
    "from IPython.display import JSON\n",
    "stations_clean = pd.read_csv('stations.csv')\n",
    "## Add a new column 'll' containing the combined lat and long, this will probably be helpful when working with Foursquare and Yelp API \n",
    "stations_clean['ll'] = stations_clean['lat'].astype(str) + ',' + stations_clean['long'].astype(str)\n"
   ]
  },
  {
   "cell_type": "markdown",
   "metadata": {},
   "source": [
    "# Foursquare"
   ]
  },
  {
   "cell_type": "markdown",
   "metadata": {},
   "source": [
    "Send a request to Foursquare with a small radius (1000m) for all the bike stations in your city of choice. "
   ]
  },
  {
   "cell_type": "code",
   "execution_count": 8,
   "metadata": {},
   "outputs": [],
   "source": [
    "## we want to create a list of fsq ids\n",
    "bar_id_list = []\n",
    "def get_bar_ids(coords):\n",
    "    url = \"https://api.foursquare.com/v3/places/search\"\n",
    "\n",
    "    params = {\n",
    "        \"categories\": \"13003\",\n",
    "        \"ll\": str(coords),\n",
    "        'radius': \"1000\",\n",
    "        \"sort\":\"DISTANCE\",\n",
    "        \"limit\":\"50\"\n",
    "    }\n",
    "\n",
    "    headers = {\n",
    "        \"Accept\": \"application/json\",\n",
    "        \"Authorization\": key\n",
    "    }\n",
    "## Get the request\n",
    "    response = requests.request(\"GET\", url, params=params, headers=headers)\n",
    "## Convert to python object with .json()\n",
    "    res = response.json()\n",
    "    ## Create loop to pull out fsq_ids\n",
    "    \n",
    "    for i in range(len(res['results'])):\n",
    "        bar_id_list.append(res['results'][i]['fsq_id'])\n",
    "        "
   ]
  },
  {
   "cell_type": "code",
   "execution_count": 16,
   "metadata": {},
   "outputs": [
    {
     "data": {
      "text/plain": [
       "0      None\n",
       "1      None\n",
       "2      None\n",
       "3      None\n",
       "4      None\n",
       "       ... \n",
       "236    None\n",
       "237    None\n",
       "238    None\n",
       "239    None\n",
       "240    None\n",
       "Name: ll, Length: 241, dtype: object"
      ]
     },
     "execution_count": 16,
     "metadata": {},
     "output_type": "execute_result"
    }
   ],
   "source": [
    "## Apply the function to our column of coord, the 'll' column from stations_clean dataframe\n",
    "stations_clean['ll'].apply(get_bar_ids)"
   ]
  },
  {
   "cell_type": "code",
   "execution_count": 17,
   "metadata": {},
   "outputs": [
    {
     "data": {
      "text/plain": [
       "6545"
      ]
     },
     "execution_count": 17,
     "metadata": {},
     "output_type": "execute_result"
    }
   ],
   "source": [
    "len(bar_id_list)"
   ]
  },
  {
   "cell_type": "code",
   "execution_count": 18,
   "metadata": {},
   "outputs": [
    {
     "data": {
      "text/plain": [
       "373"
      ]
     },
     "execution_count": 18,
     "metadata": {},
     "output_type": "execute_result"
    }
   ],
   "source": [
    "## Remove duplicates from the list\n",
    "bar_id_list_clean = list(set(bar_id_list))\n",
    "len(bar_id_list_clean)"
   ]
  },
  {
   "cell_type": "code",
   "execution_count": null,
   "metadata": {},
   "outputs": [],
   "source": []
  },
  {
   "cell_type": "markdown",
   "metadata": {},
   "source": [
    "Parse through the response to get the POI (such as restaurants, bars, etc) details you want (ratings, name, location, etc)"
   ]
  },
  {
   "cell_type": "code",
   "execution_count": null,
   "metadata": {},
   "outputs": [],
   "source": [
    "## Run a loop to call for specific information about the bars\n",
    "bar_info_list = []\n",
    "for f_id in bar_id_list_clean:\n",
    "    url = \"https://api.foursquare.com/v3/places/\" + f_id\n",
    "\n",
    "    params = {\n",
    "        \"session_token\": \"YOUR USER GENERATED SESSION TOKEN HERE\",\n",
    "        \"fields\": \"fsq_id,name,rating,stats,popularity,price\"\n",
    "    }\n",
    "\n",
    "    headers = {\n",
    "        \"Accept\": \"application/json\",\n",
    "        \"Authorization\": key\n",
    "    }\n",
    "\n",
    "    response = requests.request(\"GET\", url, params=params, headers=headers)\n",
    "    res = response.json()\n",
    "    bar_info_list.append(res)"
   ]
  },
  {
   "cell_type": "markdown",
   "metadata": {},
   "source": [
    "Put your parsed results into a DataFrame"
   ]
  },
  {
   "cell_type": "code",
   "execution_count": null,
   "metadata": {},
   "outputs": [],
   "source": [
    "## Create dataframe\n",
    "df_bar_foursquare = pd.json_normalize(bar_info_list)"
   ]
  },
  {
   "cell_type": "code",
   "execution_count": 23,
   "metadata": {},
   "outputs": [
    {
     "data": {
      "text/html": [
       "<div>\n",
       "<style scoped>\n",
       "    .dataframe tbody tr th:only-of-type {\n",
       "        vertical-align: middle;\n",
       "    }\n",
       "\n",
       "    .dataframe tbody tr th {\n",
       "        vertical-align: top;\n",
       "    }\n",
       "\n",
       "    .dataframe thead th {\n",
       "        text-align: right;\n",
       "    }\n",
       "</style>\n",
       "<table border=\"1\" class=\"dataframe\">\n",
       "  <thead>\n",
       "    <tr style=\"text-align: right;\">\n",
       "      <th></th>\n",
       "      <th>fsq_id</th>\n",
       "      <th>name</th>\n",
       "      <th>popularity</th>\n",
       "      <th>price</th>\n",
       "      <th>rating</th>\n",
       "      <th>stats.total_photos</th>\n",
       "      <th>stats.total_ratings</th>\n",
       "      <th>stats.total_tips</th>\n",
       "    </tr>\n",
       "  </thead>\n",
       "  <tbody>\n",
       "    <tr>\n",
       "      <th>0</th>\n",
       "      <td>5cbba694aa6c9500396a888d</td>\n",
       "      <td>Finfolk</td>\n",
       "      <td>0.035142</td>\n",
       "      <td>NaN</td>\n",
       "      <td>NaN</td>\n",
       "      <td>NaN</td>\n",
       "      <td>NaN</td>\n",
       "      <td>NaN</td>\n",
       "    </tr>\n",
       "    <tr>\n",
       "      <th>1</th>\n",
       "      <td>4ccbaf08c0378cfa0aed8048</td>\n",
       "      <td>London Pub</td>\n",
       "      <td>0.960836</td>\n",
       "      <td>1.0</td>\n",
       "      <td>5.7</td>\n",
       "      <td>110.0</td>\n",
       "      <td>79.0</td>\n",
       "      <td>34.0</td>\n",
       "    </tr>\n",
       "    <tr>\n",
       "      <th>2</th>\n",
       "      <td>5ce14232914845534bd3da0e</td>\n",
       "      <td>Tavern Enterprises Ltd</td>\n",
       "      <td>NaN</td>\n",
       "      <td>NaN</td>\n",
       "      <td>NaN</td>\n",
       "      <td>NaN</td>\n",
       "      <td>NaN</td>\n",
       "      <td>NaN</td>\n",
       "    </tr>\n",
       "    <tr>\n",
       "      <th>3</th>\n",
       "      <td>4b722eb3f964a520f1722de3</td>\n",
       "      <td>The Bimini Public House</td>\n",
       "      <td>0.935625</td>\n",
       "      <td>1.0</td>\n",
       "      <td>6.7</td>\n",
       "      <td>85.0</td>\n",
       "      <td>71.0</td>\n",
       "      <td>14.0</td>\n",
       "    </tr>\n",
       "    <tr>\n",
       "      <th>4</th>\n",
       "      <td>8148382d92f84a49142ceabf</td>\n",
       "      <td>Fivesixty</td>\n",
       "      <td>NaN</td>\n",
       "      <td>NaN</td>\n",
       "      <td>NaN</td>\n",
       "      <td>NaN</td>\n",
       "      <td>NaN</td>\n",
       "      <td>NaN</td>\n",
       "    </tr>\n",
       "    <tr>\n",
       "      <th>...</th>\n",
       "      <td>...</td>\n",
       "      <td>...</td>\n",
       "      <td>...</td>\n",
       "      <td>...</td>\n",
       "      <td>...</td>\n",
       "      <td>...</td>\n",
       "      <td>...</td>\n",
       "      <td>...</td>\n",
       "    </tr>\n",
       "    <tr>\n",
       "      <th>368</th>\n",
       "      <td>4abea310f964a520ff8e20e3</td>\n",
       "      <td>Pourhouse Restaurant</td>\n",
       "      <td>0.959123</td>\n",
       "      <td>2.0</td>\n",
       "      <td>8.8</td>\n",
       "      <td>339.0</td>\n",
       "      <td>378.0</td>\n",
       "      <td>117.0</td>\n",
       "    </tr>\n",
       "    <tr>\n",
       "      <th>369</th>\n",
       "      <td>5488ce65498ec20cb7c81a56</td>\n",
       "      <td>Bar One</td>\n",
       "      <td>0.857701</td>\n",
       "      <td>2.0</td>\n",
       "      <td>6.1</td>\n",
       "      <td>16.0</td>\n",
       "      <td>10.0</td>\n",
       "      <td>2.0</td>\n",
       "    </tr>\n",
       "    <tr>\n",
       "      <th>370</th>\n",
       "      <td>62aba59049bfe6193d4feb3a</td>\n",
       "      <td>The Hart</td>\n",
       "      <td>0.875099</td>\n",
       "      <td>2.0</td>\n",
       "      <td>NaN</td>\n",
       "      <td>NaN</td>\n",
       "      <td>NaN</td>\n",
       "      <td>NaN</td>\n",
       "    </tr>\n",
       "    <tr>\n",
       "      <th>371</th>\n",
       "      <td>9d791a97a7b2481154aad915</td>\n",
       "      <td>Club Mumbai Vancouver</td>\n",
       "      <td>NaN</td>\n",
       "      <td>NaN</td>\n",
       "      <td>NaN</td>\n",
       "      <td>NaN</td>\n",
       "      <td>NaN</td>\n",
       "      <td>NaN</td>\n",
       "    </tr>\n",
       "    <tr>\n",
       "      <th>372</th>\n",
       "      <td>5a40908832b61d131d556e90</td>\n",
       "      <td>BC Kitchen</td>\n",
       "      <td>0.970054</td>\n",
       "      <td>3.0</td>\n",
       "      <td>NaN</td>\n",
       "      <td>NaN</td>\n",
       "      <td>NaN</td>\n",
       "      <td>NaN</td>\n",
       "    </tr>\n",
       "  </tbody>\n",
       "</table>\n",
       "<p>373 rows × 8 columns</p>\n",
       "</div>"
      ],
      "text/plain": [
       "                       fsq_id                     name  popularity  price  \\\n",
       "0    5cbba694aa6c9500396a888d                  Finfolk    0.035142    NaN   \n",
       "1    4ccbaf08c0378cfa0aed8048               London Pub    0.960836    1.0   \n",
       "2    5ce14232914845534bd3da0e   Tavern Enterprises Ltd         NaN    NaN   \n",
       "3    4b722eb3f964a520f1722de3  The Bimini Public House    0.935625    1.0   \n",
       "4    8148382d92f84a49142ceabf                Fivesixty         NaN    NaN   \n",
       "..                        ...                      ...         ...    ...   \n",
       "368  4abea310f964a520ff8e20e3     Pourhouse Restaurant    0.959123    2.0   \n",
       "369  5488ce65498ec20cb7c81a56                  Bar One    0.857701    2.0   \n",
       "370  62aba59049bfe6193d4feb3a                 The Hart    0.875099    2.0   \n",
       "371  9d791a97a7b2481154aad915    Club Mumbai Vancouver         NaN    NaN   \n",
       "372  5a40908832b61d131d556e90               BC Kitchen    0.970054    3.0   \n",
       "\n",
       "     rating  stats.total_photos  stats.total_ratings  stats.total_tips  \n",
       "0       NaN                 NaN                  NaN               NaN  \n",
       "1       5.7               110.0                 79.0              34.0  \n",
       "2       NaN                 NaN                  NaN               NaN  \n",
       "3       6.7                85.0                 71.0              14.0  \n",
       "4       NaN                 NaN                  NaN               NaN  \n",
       "..      ...                 ...                  ...               ...  \n",
       "368     8.8               339.0                378.0             117.0  \n",
       "369     6.1                16.0                 10.0               2.0  \n",
       "370     NaN                 NaN                  NaN               NaN  \n",
       "371     NaN                 NaN                  NaN               NaN  \n",
       "372     NaN                 NaN                  NaN               NaN  \n",
       "\n",
       "[373 rows x 8 columns]"
      ]
     },
     "execution_count": 23,
     "metadata": {},
     "output_type": "execute_result"
    }
   ],
   "source": [
    "## Going to keep rows with Null values for now, will clean them up later on when necessary\n",
    "df_bar_foursquare"
   ]
  },
  {
   "cell_type": "markdown",
   "metadata": {},
   "source": [
    "# Yelp"
   ]
  },
  {
   "cell_type": "markdown",
   "metadata": {},
   "source": [
    "Send a request to Yelp with a small radius (1000m) for all the bike stations in your city of choice. "
   ]
  },
  {
   "cell_type": "code",
   "execution_count": 24,
   "metadata": {},
   "outputs": [],
   "source": [
    "##Create list of latitudes and longitudes\n",
    "lat_list = stations_clean['lat'].values.tolist()\n",
    "long_list = stations_clean['long'].values.tolist()"
   ]
  },
  {
   "cell_type": "code",
   "execution_count": 34,
   "metadata": {},
   "outputs": [],
   "source": [
    "## Loop a Yelp API call, Create a list of bar ids\n",
    "yelp_list = []\n",
    "for lat,long in zip(lat_list,long_list):\n",
    "    url = \"https://api.yelp.com/v3/businesses/search?latitude=\" + str(lat) + \"&longitude=\" + str(long) + \"&radius=1000&categories=bars&sort_by=best_match&limit=50\"\n",
    "\n",
    "    headers = {\n",
    "        \"accept\": \"application/json\",\n",
    "        \"Authorization\": ykey\n",
    "    }\n",
    "\n",
    "    response = requests.get(url, headers=headers)\n",
    "\n",
    "    res = response.json()\n",
    "    for i in range(len(res['businesses'])):\n",
    "        yelp_list.append(res['businesses'][i]['id'])"
   ]
  },
  {
   "cell_type": "code",
   "execution_count": 35,
   "metadata": {},
   "outputs": [
    {
     "data": {
      "text/plain": [
       "6902"
      ]
     },
     "execution_count": 35,
     "metadata": {},
     "output_type": "execute_result"
    }
   ],
   "source": [
    "len(yelp_list)"
   ]
  },
  {
   "cell_type": "code",
   "execution_count": 36,
   "metadata": {},
   "outputs": [
    {
     "data": {
      "text/plain": [
       "318"
      ]
     },
     "execution_count": 36,
     "metadata": {},
     "output_type": "execute_result"
    }
   ],
   "source": [
    "## Create new list without duplicates\n",
    "yelp_list_clean = list(set(yelp_list))\n",
    "len(yelp_list_clean)"
   ]
  },
  {
   "cell_type": "markdown",
   "metadata": {},
   "source": [
    "Parse through the response to get the POI (such as restaurants, bars, etc) details you want (ratings, name, location, etc)"
   ]
  },
  {
   "cell_type": "code",
   "execution_count": 37,
   "metadata": {},
   "outputs": [],
   "source": [
    "## Use list of bar ids to make another call for general information from our bars\n",
    "yelp_info_list = []\n",
    "\n",
    "for y_id in yelp_list_clean:\n",
    "    url = \"https://api.yelp.com/v3/businesses/\" + str(y_id) + \"?locale=en_CA\"\n",
    "\n",
    "    headers = {\n",
    "        \"accept\": \"application/json\",\n",
    "        \"Authorization\": ykey\n",
    "    }\n",
    "\n",
    "    response = requests.get(url, headers=headers)\n",
    "    res = response.json()\n",
    "    yelp_info_list.append(res)\n"
   ]
  },
  {
   "cell_type": "code",
   "execution_count": null,
   "metadata": {},
   "outputs": [],
   "source": [
    "JSON(yelp_info_list)"
   ]
  },
  {
   "cell_type": "code",
   "execution_count": 38,
   "metadata": {},
   "outputs": [],
   "source": [
    "df_bar_yelp = pd.json_normalize(yelp_info_list)"
   ]
  },
  {
   "cell_type": "markdown",
   "metadata": {},
   "source": [
    "Put your parsed results into a DataFrame"
   ]
  },
  {
   "cell_type": "code",
   "execution_count": 40,
   "metadata": {},
   "outputs": [],
   "source": [
    "## Only keep columns we need\n",
    "df_yelp = df_bar_yelp[['name','review_count', 'rating', 'price']]"
   ]
  },
  {
   "cell_type": "code",
   "execution_count": 42,
   "metadata": {},
   "outputs": [
    {
     "data": {
      "text/html": [
       "<div>\n",
       "<style scoped>\n",
       "    .dataframe tbody tr th:only-of-type {\n",
       "        vertical-align: middle;\n",
       "    }\n",
       "\n",
       "    .dataframe tbody tr th {\n",
       "        vertical-align: top;\n",
       "    }\n",
       "\n",
       "    .dataframe thead th {\n",
       "        text-align: right;\n",
       "    }\n",
       "</style>\n",
       "<table border=\"1\" class=\"dataframe\">\n",
       "  <thead>\n",
       "    <tr style=\"text-align: right;\">\n",
       "      <th></th>\n",
       "      <th>name</th>\n",
       "      <th>review_count</th>\n",
       "      <th>rating</th>\n",
       "      <th>price</th>\n",
       "    </tr>\n",
       "  </thead>\n",
       "  <tbody>\n",
       "    <tr>\n",
       "      <th>0</th>\n",
       "      <td>The Dime Granville</td>\n",
       "      <td>22</td>\n",
       "      <td>3.5</td>\n",
       "      <td>$</td>\n",
       "    </tr>\n",
       "    <tr>\n",
       "      <th>1</th>\n",
       "      <td>The Pawn Shop YVR</td>\n",
       "      <td>152</td>\n",
       "      <td>4.0</td>\n",
       "      <td>$$</td>\n",
       "    </tr>\n",
       "    <tr>\n",
       "      <th>2</th>\n",
       "      <td>Numbers Cabaret</td>\n",
       "      <td>36</td>\n",
       "      <td>3.0</td>\n",
       "      <td>$$</td>\n",
       "    </tr>\n",
       "    <tr>\n",
       "      <th>3</th>\n",
       "      <td>Ivanhoe Pub</td>\n",
       "      <td>34</td>\n",
       "      <td>3.5</td>\n",
       "      <td>$</td>\n",
       "    </tr>\n",
       "    <tr>\n",
       "      <th>4</th>\n",
       "      <td>King’s Head Public House</td>\n",
       "      <td>8</td>\n",
       "      <td>3.0</td>\n",
       "      <td>NaN</td>\n",
       "    </tr>\n",
       "    <tr>\n",
       "      <th>...</th>\n",
       "      <td>...</td>\n",
       "      <td>...</td>\n",
       "      <td>...</td>\n",
       "      <td>...</td>\n",
       "    </tr>\n",
       "    <tr>\n",
       "      <th>313</th>\n",
       "      <td>Hello Goodbye</td>\n",
       "      <td>34</td>\n",
       "      <td>3.5</td>\n",
       "      <td>$$</td>\n",
       "    </tr>\n",
       "    <tr>\n",
       "      <th>314</th>\n",
       "      <td>Waldorf Hotel</td>\n",
       "      <td>3</td>\n",
       "      <td>2.5</td>\n",
       "      <td>NaN</td>\n",
       "    </tr>\n",
       "    <tr>\n",
       "      <th>315</th>\n",
       "      <td>The Shameful Tiki Room</td>\n",
       "      <td>359</td>\n",
       "      <td>4.5</td>\n",
       "      <td>$$</td>\n",
       "    </tr>\n",
       "    <tr>\n",
       "      <th>316</th>\n",
       "      <td>The Farmhouse</td>\n",
       "      <td>5</td>\n",
       "      <td>3.5</td>\n",
       "      <td>NaN</td>\n",
       "    </tr>\n",
       "    <tr>\n",
       "      <th>317</th>\n",
       "      <td>La Boqueria</td>\n",
       "      <td>26</td>\n",
       "      <td>4.0</td>\n",
       "      <td>NaN</td>\n",
       "    </tr>\n",
       "  </tbody>\n",
       "</table>\n",
       "<p>318 rows × 4 columns</p>\n",
       "</div>"
      ],
      "text/plain": [
       "                         name  review_count  rating price\n",
       "0          The Dime Granville            22     3.5     $\n",
       "1           The Pawn Shop YVR           152     4.0    $$\n",
       "2             Numbers Cabaret            36     3.0    $$\n",
       "3                 Ivanhoe Pub            34     3.5     $\n",
       "4    King’s Head Public House             8     3.0   NaN\n",
       "..                        ...           ...     ...   ...\n",
       "313             Hello Goodbye            34     3.5    $$\n",
       "314             Waldorf Hotel             3     2.5   NaN\n",
       "315    The Shameful Tiki Room           359     4.5    $$\n",
       "316             The Farmhouse             5     3.5   NaN\n",
       "317               La Boqueria            26     4.0   NaN\n",
       "\n",
       "[318 rows x 4 columns]"
      ]
     },
     "execution_count": 42,
     "metadata": {},
     "output_type": "execute_result"
    }
   ],
   "source": [
    "## Again, will keep columns with NaNs for now\n",
    "df_yelp"
   ]
  },
  {
   "cell_type": "markdown",
   "metadata": {},
   "source": [
    "# Comparing Results"
   ]
  },
  {
   "cell_type": "markdown",
   "metadata": {},
   "source": [
    "Which API provided you with more complete data? Provide an explanation. "
   ]
  },
  {
   "cell_type": "markdown",
   "metadata": {},
   "source": [
    "Foursquare. Foursquare returned a higher number of results. Furthermore I felt foursquare returned more useful attributes. I also prefer Foursquares scaling on their rating and pricing system as they used a continous scale as opposed to Yelps categorical scale."
   ]
  },
  {
   "cell_type": "markdown",
   "metadata": {},
   "source": [
    "Get the top 10 restaurants according to their rating"
   ]
  },
  {
   "cell_type": "code",
   "execution_count": 47,
   "metadata": {},
   "outputs": [
    {
     "data": {
      "text/html": [
       "<div>\n",
       "<style scoped>\n",
       "    .dataframe tbody tr th:only-of-type {\n",
       "        vertical-align: middle;\n",
       "    }\n",
       "\n",
       "    .dataframe tbody tr th {\n",
       "        vertical-align: top;\n",
       "    }\n",
       "\n",
       "    .dataframe thead th {\n",
       "        text-align: right;\n",
       "    }\n",
       "</style>\n",
       "<table border=\"1\" class=\"dataframe\">\n",
       "  <thead>\n",
       "    <tr style=\"text-align: right;\">\n",
       "      <th></th>\n",
       "      <th>name</th>\n",
       "      <th>rating</th>\n",
       "    </tr>\n",
       "  </thead>\n",
       "  <tbody>\n",
       "    <tr>\n",
       "      <th>362</th>\n",
       "      <td>33 Acres Brewing Co</td>\n",
       "      <td>9.2</td>\n",
       "    </tr>\n",
       "    <tr>\n",
       "      <th>168</th>\n",
       "      <td>Keefer Bar</td>\n",
       "      <td>9.0</td>\n",
       "    </tr>\n",
       "    <tr>\n",
       "      <th>118</th>\n",
       "      <td>The Boxcar</td>\n",
       "      <td>8.9</td>\n",
       "    </tr>\n",
       "    <tr>\n",
       "      <th>368</th>\n",
       "      <td>Pourhouse Restaurant</td>\n",
       "      <td>8.8</td>\n",
       "    </tr>\n",
       "    <tr>\n",
       "      <th>212</th>\n",
       "      <td>Anh and Chi</td>\n",
       "      <td>8.7</td>\n",
       "    </tr>\n",
       "    <tr>\n",
       "      <th>249</th>\n",
       "      <td>Tap &amp; Barrel</td>\n",
       "      <td>8.7</td>\n",
       "    </tr>\n",
       "    <tr>\n",
       "      <th>283</th>\n",
       "      <td>Strange Fellows Brewing</td>\n",
       "      <td>8.6</td>\n",
       "    </tr>\n",
       "    <tr>\n",
       "      <th>337</th>\n",
       "      <td>Cardero's Restaurant &amp; Marine Pub</td>\n",
       "      <td>8.6</td>\n",
       "    </tr>\n",
       "    <tr>\n",
       "      <th>207</th>\n",
       "      <td>Callister Brewing Co</td>\n",
       "      <td>8.6</td>\n",
       "    </tr>\n",
       "    <tr>\n",
       "      <th>88</th>\n",
       "      <td>Brassneck Brewery</td>\n",
       "      <td>8.5</td>\n",
       "    </tr>\n",
       "  </tbody>\n",
       "</table>\n",
       "</div>"
      ],
      "text/plain": [
       "                                  name  rating\n",
       "362                33 Acres Brewing Co     9.2\n",
       "168                         Keefer Bar     9.0\n",
       "118                         The Boxcar     8.9\n",
       "368               Pourhouse Restaurant     8.8\n",
       "212                        Anh and Chi     8.7\n",
       "249                       Tap & Barrel     8.7\n",
       "283            Strange Fellows Brewing     8.6\n",
       "337  Cardero's Restaurant & Marine Pub     8.6\n",
       "207               Callister Brewing Co     8.6\n",
       "88                   Brassneck Brewery     8.5"
      ]
     },
     "execution_count": 47,
     "metadata": {},
     "output_type": "execute_result"
    }
   ],
   "source": [
    "## According to foursquare\n",
    "df_bar_foursquare[['name', 'rating']].sort_values('rating', ascending = False).head(10)"
   ]
  },
  {
   "cell_type": "code",
   "execution_count": 48,
   "metadata": {},
   "outputs": [
    {
     "data": {
      "text/html": [
       "<div>\n",
       "<style scoped>\n",
       "    .dataframe tbody tr th:only-of-type {\n",
       "        vertical-align: middle;\n",
       "    }\n",
       "\n",
       "    .dataframe tbody tr th {\n",
       "        vertical-align: top;\n",
       "    }\n",
       "\n",
       "    .dataframe thead th {\n",
       "        text-align: right;\n",
       "    }\n",
       "</style>\n",
       "<table border=\"1\" class=\"dataframe\">\n",
       "  <thead>\n",
       "    <tr style=\"text-align: right;\">\n",
       "      <th></th>\n",
       "      <th>name</th>\n",
       "      <th>rating</th>\n",
       "    </tr>\n",
       "  </thead>\n",
       "  <tbody>\n",
       "    <tr>\n",
       "      <th>37</th>\n",
       "      <td>Sooda Korean BBQ</td>\n",
       "      <td>5.0</td>\n",
       "    </tr>\n",
       "    <tr>\n",
       "      <th>132</th>\n",
       "      <td>West Hotel &amp; Bar</td>\n",
       "      <td>5.0</td>\n",
       "    </tr>\n",
       "    <tr>\n",
       "      <th>48</th>\n",
       "      <td>The Magnet</td>\n",
       "      <td>5.0</td>\n",
       "    </tr>\n",
       "    <tr>\n",
       "      <th>285</th>\n",
       "      <td>Brewing August</td>\n",
       "      <td>5.0</td>\n",
       "    </tr>\n",
       "    <tr>\n",
       "      <th>106</th>\n",
       "      <td>Arike Restaurant</td>\n",
       "      <td>5.0</td>\n",
       "    </tr>\n",
       "    <tr>\n",
       "      <th>275</th>\n",
       "      <td>The Chickadee Room</td>\n",
       "      <td>5.0</td>\n",
       "    </tr>\n",
       "    <tr>\n",
       "      <th>57</th>\n",
       "      <td>Courtside</td>\n",
       "      <td>5.0</td>\n",
       "    </tr>\n",
       "    <tr>\n",
       "      <th>27</th>\n",
       "      <td>Alley 16</td>\n",
       "      <td>5.0</td>\n",
       "    </tr>\n",
       "    <tr>\n",
       "      <th>94</th>\n",
       "      <td>Bar Gobo</td>\n",
       "      <td>5.0</td>\n",
       "    </tr>\n",
       "    <tr>\n",
       "      <th>283</th>\n",
       "      <td>Novella Coffee Bar</td>\n",
       "      <td>5.0</td>\n",
       "    </tr>\n",
       "  </tbody>\n",
       "</table>\n",
       "</div>"
      ],
      "text/plain": [
       "                   name  rating\n",
       "37     Sooda Korean BBQ     5.0\n",
       "132    West Hotel & Bar     5.0\n",
       "48           The Magnet     5.0\n",
       "285      Brewing August     5.0\n",
       "106    Arike Restaurant     5.0\n",
       "275  The Chickadee Room     5.0\n",
       "57            Courtside     5.0\n",
       "27             Alley 16     5.0\n",
       "94             Bar Gobo     5.0\n",
       "283  Novella Coffee Bar     5.0"
      ]
     },
     "execution_count": 48,
     "metadata": {},
     "output_type": "execute_result"
    }
   ],
   "source": [
    "## According to Yelp --> yelp rating only out of 5\n",
    "df_yelp[['name', 'rating']].sort_values('rating', ascending = False).head(10)"
   ]
  },
  {
   "cell_type": "markdown",
   "metadata": {},
   "source": [
    "\n",
    "### After Looking through and analyzing the results from the above dataframes, I decided to create new ones with the information that I wanted to work with for the model building section of this project"
   ]
  },
  {
   "cell_type": "code",
   "execution_count": 4,
   "metadata": {},
   "outputs": [],
   "source": [
    "## Create list of bike id and coords\n",
    "bike_id_list = stations_clean['id'].values.tolist()\n",
    "coords_list = stations_clean['ll'].values.tolist()\n"
   ]
  },
  {
   "cell_type": "code",
   "execution_count": 32,
   "metadata": {},
   "outputs": [],
   "source": [
    "## Get bar info into a dataframe\n",
    "df_bar = pd.DataFrame()\n",
    "## for each of the bike station coordinates, get info about bars in a 500m radius\n",
    "for b_id, coord in zip(bike_id_list,coords_list):\n",
    "    url = \"https://api.foursquare.com/v3/places/search\"\n",
    "\n",
    "    params = {\n",
    "        \"categories\": \"13003\",\n",
    "        \"ll\": str(coord),\n",
    "        'radius': \"500\",\n",
    "        \"fields\": \"fsq_id,name,rating,popularity,price\",\n",
    "        \"sort\":\"DISTANCE\",\n",
    "        \"limit\":\"50\"\n",
    "    }\n",
    "\n",
    "    headers = {\n",
    "        \"Accept\": \"application/json\",\n",
    "        \"Authorization\": key\n",
    "    }\n",
    "    ## Get the request\n",
    "    response = requests.request(\"GET\", url, params=params, headers=headers)\n",
    "    \n",
    "    ## Convert to python object with .json()\n",
    "    res = response.json()\n",
    "    \n",
    "    ## Create temp dataframe of info we want\n",
    "    df_temp = pd.json_normalize(res['results'])\n",
    "    \n",
    "    ## Add new columns to dataframe \n",
    "    df_temp['station_id'] = b_id\n",
    "    df_temp['num_bars'] = len(df_temp.index)\n",
    "    \n",
    "    ## concat temp dataframe to our final dataframe\n",
    "    df_bar = pd.concat([df_bar,df_temp])"
   ]
  },
  {
   "cell_type": "code",
   "execution_count": 55,
   "metadata": {},
   "outputs": [],
   "source": [
    "## Get cafe info into a dataframe\n",
    "df_cafe = pd.DataFrame()\n",
    "## for each of the bike station coordinates, get info about cafes in a 500m radius\n",
    "for b_id, coord in zip(bike_id_list,coords_list):\n",
    "    url = \"https://api.foursquare.com/v3/places/search\"\n",
    "\n",
    "    params = {\n",
    "        \"categories\": \"13032\",\n",
    "        \"ll\": str(coord),\n",
    "        'radius': \"500\",\n",
    "        \"fields\": \"fsq_id,name,rating,popularity,price\",\n",
    "        \"sort\":\"DISTANCE\",\n",
    "        \"limit\":\"50\"\n",
    "    }\n",
    "\n",
    "    headers = {\n",
    "        \"Accept\": \"application/json\",\n",
    "        \"Authorization\": key\n",
    "    }\n",
    "    ## Get the request\n",
    "    response = requests.request(\"GET\", url, params=params, headers=headers)\n",
    "    \n",
    "    ## Convert to python object with .json()\n",
    "    res = response.json()\n",
    "    \n",
    "    ## Create temp dataframe of info we want\n",
    "    df_temp = pd.json_normalize(res['results'])\n",
    "    \n",
    "    ## Add new columns to dataframe\n",
    "    df_temp['station_id'] = b_id\n",
    "    df_temp['num_cafes'] = len(df_temp.index)\n",
    "    \n",
    "    \n",
    "    ## concat temp dataframe to our final dataframe\n",
    "    df_cafe = pd.concat([df_cafe,df_temp])"
   ]
  },
  {
   "cell_type": "code",
   "execution_count": 60,
   "metadata": {},
   "outputs": [],
   "source": [
    "## group by station_id, get the mean\n",
    "df_c = df_cafe.groupby('station_id', as_index=False).mean()\n",
    "df_b = df_bar.groupby('station_id', as_index=False).mean()"
   ]
  },
  {
   "cell_type": "code",
   "execution_count": 61,
   "metadata": {},
   "outputs": [],
   "source": [
    "## Rename columns\n",
    "df_b = df_b.rename(columns = {'popularity':'b_pop', 'price':'b_price', 'rating':'b_rating'})\n",
    "df_c = df_c.rename(columns = {'popularity':'c_pop', 'price':'c_price', 'rating':'c_rating'})"
   ]
  },
  {
   "cell_type": "code",
   "execution_count": 67,
   "metadata": {},
   "outputs": [],
   "source": [
    "#Merge into a single dataframe, merging on bike station id\n",
    "df_final = pd.merge(df_b, df_c, on = 'station_id')"
   ]
  },
  {
   "cell_type": "code",
   "execution_count": 70,
   "metadata": {},
   "outputs": [],
   "source": [
    "df_final.to_csv('info.csv', index=False)\n"
   ]
  },
  {
   "cell_type": "code",
   "execution_count": 71,
   "metadata": {},
   "outputs": [
    {
     "data": {
      "text/html": [
       "<div>\n",
       "<style scoped>\n",
       "    .dataframe tbody tr th:only-of-type {\n",
       "        vertical-align: middle;\n",
       "    }\n",
       "\n",
       "    .dataframe tbody tr th {\n",
       "        vertical-align: top;\n",
       "    }\n",
       "\n",
       "    .dataframe thead th {\n",
       "        text-align: right;\n",
       "    }\n",
       "</style>\n",
       "<table border=\"1\" class=\"dataframe\">\n",
       "  <thead>\n",
       "    <tr style=\"text-align: right;\">\n",
       "      <th></th>\n",
       "      <th>station_id</th>\n",
       "      <th>b_pop</th>\n",
       "      <th>b_price</th>\n",
       "      <th>b_rating</th>\n",
       "      <th>num_bars</th>\n",
       "      <th>c_pop</th>\n",
       "      <th>c_price</th>\n",
       "      <th>c_rating</th>\n",
       "      <th>num_cafes</th>\n",
       "    </tr>\n",
       "  </thead>\n",
       "  <tbody>\n",
       "    <tr>\n",
       "      <th>0</th>\n",
       "      <td>00fa94ad698dc4a9e4d708d6fd32f294</td>\n",
       "      <td>0.615994</td>\n",
       "      <td>2.333333</td>\n",
       "      <td>7.000000</td>\n",
       "      <td>4.0</td>\n",
       "      <td>0.852829</td>\n",
       "      <td>1.363636</td>\n",
       "      <td>6.850000</td>\n",
       "      <td>14.0</td>\n",
       "    </tr>\n",
       "    <tr>\n",
       "      <th>1</th>\n",
       "      <td>012d3e06901cc222b1c2cf0a2ace3a29</td>\n",
       "      <td>0.755921</td>\n",
       "      <td>1.714286</td>\n",
       "      <td>7.166667</td>\n",
       "      <td>9.0</td>\n",
       "      <td>0.942287</td>\n",
       "      <td>1.000000</td>\n",
       "      <td>5.550000</td>\n",
       "      <td>5.0</td>\n",
       "    </tr>\n",
       "    <tr>\n",
       "      <th>2</th>\n",
       "      <td>029a505bd4422a1afd127987757f71a6</td>\n",
       "      <td>0.956910</td>\n",
       "      <td>2.000000</td>\n",
       "      <td>7.200000</td>\n",
       "      <td>5.0</td>\n",
       "      <td>0.824118</td>\n",
       "      <td>1.307692</td>\n",
       "      <td>7.557143</td>\n",
       "      <td>15.0</td>\n",
       "    </tr>\n",
       "    <tr>\n",
       "      <th>3</th>\n",
       "      <td>0438114d2e6b96118de69bc9775bb21e</td>\n",
       "      <td>0.786189</td>\n",
       "      <td>2.000000</td>\n",
       "      <td>7.100000</td>\n",
       "      <td>12.0</td>\n",
       "      <td>0.871889</td>\n",
       "      <td>1.272727</td>\n",
       "      <td>7.260000</td>\n",
       "      <td>13.0</td>\n",
       "    </tr>\n",
       "    <tr>\n",
       "      <th>4</th>\n",
       "      <td>0459b7e93703980b853cd65a9dc60596</td>\n",
       "      <td>0.234849</td>\n",
       "      <td>1.000000</td>\n",
       "      <td>NaN</td>\n",
       "      <td>3.0</td>\n",
       "      <td>0.917332</td>\n",
       "      <td>1.000000</td>\n",
       "      <td>5.400000</td>\n",
       "      <td>6.0</td>\n",
       "    </tr>\n",
       "    <tr>\n",
       "      <th>...</th>\n",
       "      <td>...</td>\n",
       "      <td>...</td>\n",
       "      <td>...</td>\n",
       "      <td>...</td>\n",
       "      <td>...</td>\n",
       "      <td>...</td>\n",
       "      <td>...</td>\n",
       "      <td>...</td>\n",
       "      <td>...</td>\n",
       "    </tr>\n",
       "    <tr>\n",
       "      <th>209</th>\n",
       "      <td>fbb4c06b719596c21f91fd51ef6d4710</td>\n",
       "      <td>0.793671</td>\n",
       "      <td>1.500000</td>\n",
       "      <td>7.225000</td>\n",
       "      <td>7.0</td>\n",
       "      <td>0.803475</td>\n",
       "      <td>1.166667</td>\n",
       "      <td>6.936364</td>\n",
       "      <td>23.0</td>\n",
       "    </tr>\n",
       "    <tr>\n",
       "      <th>210</th>\n",
       "      <td>fe0c57d04d6e682d284d501446095fc9</td>\n",
       "      <td>0.864246</td>\n",
       "      <td>1.928571</td>\n",
       "      <td>7.260000</td>\n",
       "      <td>17.0</td>\n",
       "      <td>0.739874</td>\n",
       "      <td>1.222222</td>\n",
       "      <td>7.354545</td>\n",
       "      <td>22.0</td>\n",
       "    </tr>\n",
       "    <tr>\n",
       "      <th>211</th>\n",
       "      <td>fedff7a263c182df94bda7307059cc52</td>\n",
       "      <td>0.781839</td>\n",
       "      <td>2.322581</td>\n",
       "      <td>7.033333</td>\n",
       "      <td>50.0</td>\n",
       "      <td>0.821499</td>\n",
       "      <td>1.162162</td>\n",
       "      <td>6.889286</td>\n",
       "      <td>49.0</td>\n",
       "    </tr>\n",
       "    <tr>\n",
       "      <th>212</th>\n",
       "      <td>fef69fb400210d861107a61db954d037</td>\n",
       "      <td>0.780483</td>\n",
       "      <td>2.090909</td>\n",
       "      <td>7.221739</td>\n",
       "      <td>50.0</td>\n",
       "      <td>0.872809</td>\n",
       "      <td>1.264706</td>\n",
       "      <td>7.386957</td>\n",
       "      <td>46.0</td>\n",
       "    </tr>\n",
       "    <tr>\n",
       "      <th>213</th>\n",
       "      <td>fffd87607aaae16fbb1f71615cbe7d17</td>\n",
       "      <td>0.850048</td>\n",
       "      <td>2.076923</td>\n",
       "      <td>7.650000</td>\n",
       "      <td>18.0</td>\n",
       "      <td>0.795285</td>\n",
       "      <td>1.250000</td>\n",
       "      <td>7.137500</td>\n",
       "      <td>15.0</td>\n",
       "    </tr>\n",
       "  </tbody>\n",
       "</table>\n",
       "<p>214 rows × 9 columns</p>\n",
       "</div>"
      ],
      "text/plain": [
       "                           station_id     b_pop   b_price  b_rating  num_bars  \\\n",
       "0    00fa94ad698dc4a9e4d708d6fd32f294  0.615994  2.333333  7.000000       4.0   \n",
       "1    012d3e06901cc222b1c2cf0a2ace3a29  0.755921  1.714286  7.166667       9.0   \n",
       "2    029a505bd4422a1afd127987757f71a6  0.956910  2.000000  7.200000       5.0   \n",
       "3    0438114d2e6b96118de69bc9775bb21e  0.786189  2.000000  7.100000      12.0   \n",
       "4    0459b7e93703980b853cd65a9dc60596  0.234849  1.000000       NaN       3.0   \n",
       "..                                ...       ...       ...       ...       ...   \n",
       "209  fbb4c06b719596c21f91fd51ef6d4710  0.793671  1.500000  7.225000       7.0   \n",
       "210  fe0c57d04d6e682d284d501446095fc9  0.864246  1.928571  7.260000      17.0   \n",
       "211  fedff7a263c182df94bda7307059cc52  0.781839  2.322581  7.033333      50.0   \n",
       "212  fef69fb400210d861107a61db954d037  0.780483  2.090909  7.221739      50.0   \n",
       "213  fffd87607aaae16fbb1f71615cbe7d17  0.850048  2.076923  7.650000      18.0   \n",
       "\n",
       "        c_pop   c_price  c_rating  num_cafes  \n",
       "0    0.852829  1.363636  6.850000       14.0  \n",
       "1    0.942287  1.000000  5.550000        5.0  \n",
       "2    0.824118  1.307692  7.557143       15.0  \n",
       "3    0.871889  1.272727  7.260000       13.0  \n",
       "4    0.917332  1.000000  5.400000        6.0  \n",
       "..        ...       ...       ...        ...  \n",
       "209  0.803475  1.166667  6.936364       23.0  \n",
       "210  0.739874  1.222222  7.354545       22.0  \n",
       "211  0.821499  1.162162  6.889286       49.0  \n",
       "212  0.872809  1.264706  7.386957       46.0  \n",
       "213  0.795285  1.250000  7.137500       15.0  \n",
       "\n",
       "[214 rows x 9 columns]"
      ]
     },
     "execution_count": 71,
     "metadata": {},
     "output_type": "execute_result"
    }
   ],
   "source": [
    "## This is the dataframe I will be using to merge with the citybikes dataframe from part 1\n",
    "df_final"
   ]
  }
 ],
 "metadata": {
  "kernelspec": {
   "display_name": "Python 3 (ipykernel)",
   "language": "python",
   "name": "python3"
  },
  "language_info": {
   "codemirror_mode": {
    "name": "ipython",
    "version": 3
   },
   "file_extension": ".py",
   "mimetype": "text/x-python",
   "name": "python",
   "nbconvert_exporter": "python",
   "pygments_lexer": "ipython3",
   "version": "3.9.13"
  }
 },
 "nbformat": 4,
 "nbformat_minor": 4
}
