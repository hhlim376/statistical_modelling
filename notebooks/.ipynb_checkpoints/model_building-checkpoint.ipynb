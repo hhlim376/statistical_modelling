{
 "cells": [
  {
   "cell_type": "code",
   "execution_count": 1,
   "metadata": {},
   "outputs": [],
   "source": [
    "##Import our stuff\n",
    "import pandas as pd\n",
    "import matplotlib.pyplot as plt\n",
    "import seaborn as sns\n",
    "import statsmodels.api as sm\n"
   ]
  },
  {
   "cell_type": "code",
   "execution_count": 2,
   "metadata": {},
   "outputs": [],
   "source": [
    "df=pd.read_csv('df_final.csv')"
   ]
  },
  {
   "cell_type": "markdown",
   "metadata": {},
   "source": [
    "Build a regression model."
   ]
  },
  {
   "cell_type": "code",
   "execution_count": 8,
   "metadata": {},
   "outputs": [
    {
     "data": {
      "text/html": [
       "<div>\n",
       "<style scoped>\n",
       "    .dataframe tbody tr th:only-of-type {\n",
       "        vertical-align: middle;\n",
       "    }\n",
       "\n",
       "    .dataframe tbody tr th {\n",
       "        vertical-align: top;\n",
       "    }\n",
       "\n",
       "    .dataframe thead th {\n",
       "        text-align: right;\n",
       "    }\n",
       "</style>\n",
       "<table border=\"1\" class=\"dataframe\">\n",
       "  <thead>\n",
       "    <tr style=\"text-align: right;\">\n",
       "      <th></th>\n",
       "      <th>station_id</th>\n",
       "      <th>num_bikes</th>\n",
       "      <th>b_pop</th>\n",
       "      <th>b_rating</th>\n",
       "      <th>num_bars</th>\n",
       "      <th>c_pop</th>\n",
       "      <th>c_rating</th>\n",
       "      <th>num_cafes</th>\n",
       "    </tr>\n",
       "  </thead>\n",
       "  <tbody>\n",
       "    <tr>\n",
       "      <th>0</th>\n",
       "      <td>7a19c49f486d7c0c02b3685d7b240448</td>\n",
       "      <td>21</td>\n",
       "      <td>0.578193</td>\n",
       "      <td>7.350000</td>\n",
       "      <td>5.0</td>\n",
       "      <td>0.810487</td>\n",
       "      <td>7.560000</td>\n",
       "      <td>25.0</td>\n",
       "    </tr>\n",
       "    <tr>\n",
       "      <th>1</th>\n",
       "      <td>32603a87cfca71d0f7dfa3513bad69d5</td>\n",
       "      <td>9</td>\n",
       "      <td>0.790734</td>\n",
       "      <td>6.914286</td>\n",
       "      <td>50.0</td>\n",
       "      <td>0.793092</td>\n",
       "      <td>7.081818</td>\n",
       "      <td>24.0</td>\n",
       "    </tr>\n",
       "    <tr>\n",
       "      <th>2</th>\n",
       "      <td>6d42fa40360f9a6b2bf641c7b8bb2862</td>\n",
       "      <td>13</td>\n",
       "      <td>0.790377</td>\n",
       "      <td>6.705882</td>\n",
       "      <td>39.0</td>\n",
       "      <td>0.891790</td>\n",
       "      <td>7.244828</td>\n",
       "      <td>50.0</td>\n",
       "    </tr>\n",
       "    <tr>\n",
       "      <th>3</th>\n",
       "      <td>66f873d641d448bd1572ab086665a458</td>\n",
       "      <td>2</td>\n",
       "      <td>0.578193</td>\n",
       "      <td>7.350000</td>\n",
       "      <td>4.0</td>\n",
       "      <td>0.807795</td>\n",
       "      <td>7.712500</td>\n",
       "      <td>18.0</td>\n",
       "    </tr>\n",
       "    <tr>\n",
       "      <th>4</th>\n",
       "      <td>485d4d24c803cfde829ab89699fed833</td>\n",
       "      <td>9</td>\n",
       "      <td>0.744556</td>\n",
       "      <td>7.366667</td>\n",
       "      <td>7.0</td>\n",
       "      <td>0.788617</td>\n",
       "      <td>6.836364</td>\n",
       "      <td>26.0</td>\n",
       "    </tr>\n",
       "  </tbody>\n",
       "</table>\n",
       "</div>"
      ],
      "text/plain": [
       "                         station_id  num_bikes     b_pop  b_rating  num_bars  \\\n",
       "0  7a19c49f486d7c0c02b3685d7b240448         21  0.578193  7.350000       5.0   \n",
       "1  32603a87cfca71d0f7dfa3513bad69d5          9  0.790734  6.914286      50.0   \n",
       "2  6d42fa40360f9a6b2bf641c7b8bb2862         13  0.790377  6.705882      39.0   \n",
       "3  66f873d641d448bd1572ab086665a458          2  0.578193  7.350000       4.0   \n",
       "4  485d4d24c803cfde829ab89699fed833          9  0.744556  7.366667       7.0   \n",
       "\n",
       "      c_pop  c_rating  num_cafes  \n",
       "0  0.810487  7.560000       25.0  \n",
       "1  0.793092  7.081818       24.0  \n",
       "2  0.891790  7.244828       50.0  \n",
       "3  0.807795  7.712500       18.0  \n",
       "4  0.788617  6.836364       26.0  "
      ]
     },
     "execution_count": 8,
     "metadata": {},
     "output_type": "execute_result"
    }
   ],
   "source": [
    "df.head()"
   ]
  },
  {
   "cell_type": "code",
   "execution_count": 3,
   "metadata": {},
   "outputs": [],
   "source": [
    "## First we set our dependent and independant variables\n",
    "y = df['num_bikes']\n",
    "X = df.drop(columns = ['station_id', 'num_bikes', 'num_bars','b_pop','b_rating','c_rating','c_pop'])\n",
    "## Add constant to our X so our model will have an intercept\n",
    "X = sm.add_constant(X) "
   ]
  },
  {
   "cell_type": "code",
   "execution_count": 4,
   "metadata": {},
   "outputs": [
    {
     "name": "stdout",
     "output_type": "stream",
     "text": [
      "                            OLS Regression Results                            \n",
      "==============================================================================\n",
      "Dep. Variable:              num_bikes   R-squared:                       0.053\n",
      "Model:                            OLS   Adj. R-squared:                  0.048\n",
      "Method:                 Least Squares   F-statistic:                     10.90\n",
      "Date:                Sun, 26 Mar 2023   Prob (F-statistic):            0.00114\n",
      "Time:                        10:17:21   Log-Likelihood:                -610.43\n",
      "No. Observations:                 198   AIC:                             1225.\n",
      "Df Residuals:                     196   BIC:                             1231.\n",
      "Df Model:                           1                                         \n",
      "Covariance Type:            nonrobust                                         \n",
      "==============================================================================\n",
      "                 coef    std err          t      P>|t|      [0.025      0.975]\n",
      "------------------------------------------------------------------------------\n",
      "const          7.0796      0.638     11.099      0.000       5.822       8.338\n",
      "num_cafes      0.0843      0.026      3.301      0.001       0.034       0.135\n",
      "==============================================================================\n",
      "Omnibus:                       28.487   Durbin-Watson:                   1.769\n",
      "Prob(Omnibus):                  0.000   Jarque-Bera (JB):               36.317\n",
      "Skew:                           0.944   Prob(JB):                     1.30e-08\n",
      "Kurtosis:                       3.916   Cond. No.                         42.3\n",
      "==============================================================================\n",
      "\n",
      "Notes:\n",
      "[1] Standard Errors assume that the covariance matrix of the errors is correctly specified.\n"
     ]
    }
   ],
   "source": [
    "## Instantiate and fit the model\n",
    "model = sm.OLS(y, X) \n",
    "results = model.fit() \n",
    "print(results.summary())"
   ]
  },
  {
   "cell_type": "markdown",
   "metadata": {
    "tags": []
   },
   "source": [
    "####\n",
    "Note: I arrived at this model by using the backward selection processes, removing independant variables based on p-value until I arrived at a model with the highest adjusted r-squared value. This process was done in a seperate notebook so as not to clutter up this one. The second best model according to adj r-squared values would be a model with with two independant variables, num_cafes and num_bars. \n"
   ]
  },
  {
   "cell_type": "markdown",
   "metadata": {},
   "source": [
    "Provide model output and an interpretation of the results. "
   ]
  },
  {
   "cell_type": "code",
   "execution_count": 5,
   "metadata": {},
   "outputs": [
    {
     "name": "stdout",
     "output_type": "stream",
     "text": [
      "                            OLS Regression Results                            \n",
      "==============================================================================\n",
      "Dep. Variable:              num_bikes   R-squared:                       0.053\n",
      "Model:                            OLS   Adj. R-squared:                  0.048\n",
      "Method:                 Least Squares   F-statistic:                     10.90\n",
      "Date:                Sun, 26 Mar 2023   Prob (F-statistic):            0.00114\n",
      "Time:                        10:19:52   Log-Likelihood:                -610.43\n",
      "No. Observations:                 198   AIC:                             1225.\n",
      "Df Residuals:                     196   BIC:                             1231.\n",
      "Df Model:                           1                                         \n",
      "Covariance Type:            nonrobust                                         \n",
      "==============================================================================\n",
      "                 coef    std err          t      P>|t|      [0.025      0.975]\n",
      "------------------------------------------------------------------------------\n",
      "const          7.0796      0.638     11.099      0.000       5.822       8.338\n",
      "num_cafes      0.0843      0.026      3.301      0.001       0.034       0.135\n",
      "==============================================================================\n",
      "Omnibus:                       28.487   Durbin-Watson:                   1.769\n",
      "Prob(Omnibus):                  0.000   Jarque-Bera (JB):               36.317\n",
      "Skew:                           0.944   Prob(JB):                     1.30e-08\n",
      "Kurtosis:                       3.916   Cond. No.                         42.3\n",
      "==============================================================================\n",
      "\n",
      "Notes:\n",
      "[1] Standard Errors assume that the covariance matrix of the errors is correctly specified.\n"
     ]
    }
   ],
   "source": [
    "print(results.summary())"
   ]
  },
  {
   "cell_type": "markdown",
   "metadata": {},
   "source": [
    "Right of the bat let me just say that even though this is the best model we can get based on the data I have chosen to work with, the adjusted R-squared value of 0.048 is still pitifully low. We can think of the R-squared value as a measure of how nuch the dependant variable is explained by our independant variables(s). Realistically speaking, this probably means this model will be pretty terrible for actually making predictions of our dependant variable. Perhaps the only real insight we can get is that none of our independant variables (number, avg_rating, avg_popularity, of bars and cafes in a 500m radius from a bike station) is a good predictor for how many bikes will be available at a particular bike station.\n",
    "\n",
    "That being said, for the sake of arguement, if this model had a higher R-squared value (for example, a value 0f 0.7), we could say that the number of bikes available at a specific coordinate can be predicted by the number of cafes in a 500m radius from said coordinate. We have a positive coefficient for num_cafes (albeit a very small value again) and that means the higher the number of cafes in a given area, the more likely it is that that area would contain a higher number of bikes. "
   ]
  },
  {
   "cell_type": "markdown",
   "metadata": {},
   "source": [
    "# Stretch"
   ]
  },
  {
   "cell_type": "markdown",
   "metadata": {},
   "source": [
    "How can you turn the regression model into a classification model?"
   ]
  },
  {
   "cell_type": "markdown",
   "metadata": {},
   "source": [
    "For this project, we have a regression model because our dependant variable (number of bikes at a bike station) is a continuous variable. To turn our model into a classification model, our dependant variable would have to be discrete. So instead of using a count of the number of bikes for our dependant variable, we could categorise number of bikes into categories. For example we could categorise the number of bikes into \"Low\", \"Medium\" and \"High\" based on percentile. From there we can build a classification model such as a multinomial regression model."
   ]
  },
  {
   "cell_type": "code",
   "execution_count": null,
   "metadata": {},
   "outputs": [],
   "source": []
  }
 ],
 "metadata": {
  "kernelspec": {
   "display_name": "Python 3 (ipykernel)",
   "language": "python",
   "name": "python3"
  },
  "language_info": {
   "codemirror_mode": {
    "name": "ipython",
    "version": 3
   },
   "file_extension": ".py",
   "mimetype": "text/x-python",
   "name": "python",
   "nbconvert_exporter": "python",
   "pygments_lexer": "ipython3",
   "version": "3.9.13"
  }
 },
 "nbformat": 4,
 "nbformat_minor": 4
}
